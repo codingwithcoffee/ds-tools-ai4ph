{
 "cells": [
  {
   "cell_type": "markdown",
   "id": "664d165a",
   "metadata": {},
   "source": [
    "# AI in Production: Data Science Tools"
   ]
  },
  {
   "cell_type": "markdown",
   "id": "130a8c83",
   "metadata": {},
   "source": [
    "This notebook is meant to accompany [these slides](https://docs.google.com/presentation/d/1EKb5MmgU8O3Lm_1YSeC7Cq2nRcy5fYKfVSZVGvpMKJk/edit?usp=sharing). Intended audience is graduate public health students. "
   ]
  },
  {
   "cell_type": "markdown",
   "id": "5f6e8f4a",
   "metadata": {},
   "source": [
    "<img src=\"https://miro.medium.com/max/1838/1*YPsZO50dIiEKpW9RqzqsTw.jpeg\" alt=\"Data Science\" style=\"height: 300px;\"/>"
   ]
  },
  {
   "cell_type": "markdown",
   "id": "3f1d9b36",
   "metadata": {},
   "source": [
    "![The Case](thecase.png)"
   ]
  },
  {
   "cell_type": "markdown",
   "id": "b568ecaa",
   "metadata": {
    "heading_collapsed": true
   },
   "source": [
    "## Environment Set Up"
   ]
  },
  {
   "cell_type": "markdown",
   "id": "82c5226f",
   "metadata": {
    "hidden": true
   },
   "source": [
    "<div style=\"padding: 10px; border: 2px black solid;\">\n",
    "\n",
    "## <font color='green'>New Tool Alert:</font> Anaconda\n",
    "    \n",
    "<img src=\"https://upload.wikimedia.org/wikipedia/en/thumb/c/cd/Anaconda_Logo.png/440px-Anaconda_Logo.png\" alt=\"Anaconda Logo\" style=\"height: 100px;\"/>\n",
    "\n",
    "**What is it**: Anaconda is a distribution of the Python and R programming languages for scientific computing, that aims to simplify package management and deployment. The distribution includes data-science packages suitable for Windows, Linux, and macOS.\n",
    "\n",
    "**Why use it**: Anaconda lets you easily create and manage various environment with isolated dependencies.\n",
    " \n",
    "**Download**: Download from [here](https://www.anaconda.com/products/individual)\n",
    "    \n",
    "**Resources**: Conda cheat sheet [here](https://docs.conda.io/projects/conda/en/4.6.0/_downloads/52a95608c49671267e40c689e0bc00ca/conda-cheatsheet.pdf)\n",
    "    \n",
    "</div>"
   ]
  },
  {
   "cell_type": "markdown",
   "id": "222a0da9",
   "metadata": {
    "hidden": true
   },
   "source": [
    "### Setting Up Anaconda Environment and Installing Jupyter Notebooks"
   ]
  },
  {
   "cell_type": "markdown",
   "id": "df9184cb",
   "metadata": {
    "hidden": true
   },
   "source": [
    "After installing anaconda, open up your command prompt or terminal window"
   ]
  },
  {
   "cell_type": "markdown",
   "id": "c1fd2785",
   "metadata": {
    "hidden": true
   },
   "source": [
    "Create a new environment\n",
    "```\n",
    "conda create --name dstools\n",
    "\n",
    "```"
   ]
  },
  {
   "cell_type": "markdown",
   "id": "3ed8fc25",
   "metadata": {
    "hidden": true
   },
   "source": [
    "To see if the command worked and list all your environments run\n",
    "```\n",
    "conda env list\n",
    "```"
   ]
  },
  {
   "cell_type": "markdown",
   "id": "d43116b3",
   "metadata": {
    "hidden": true
   },
   "source": [
    "<img src=\"./list.png\" alt=\"Image Info\" style=\"height: 300px;\"/>"
   ]
  },
  {
   "cell_type": "markdown",
   "id": "faf18ac3",
   "metadata": {
    "hidden": true
   },
   "source": [
    "Now activate the environment by running\n",
    "```\n",
    "conda activate dstools\n",
    "```"
   ]
  },
  {
   "cell_type": "markdown",
   "id": "6b5f6e29",
   "metadata": {
    "hidden": true
   },
   "source": [
    "Finally install jupyter notebooks\n",
    "```\n",
    "conda install jupyter notebook\n",
    "```"
   ]
  },
  {
   "cell_type": "markdown",
   "id": "361aeaf5",
   "metadata": {
    "hidden": true
   },
   "source": [
    "Now lunch jupyter notebook by typing\n",
    "```\n",
    "jupyter notebook\n",
    "```"
   ]
  },
  {
   "cell_type": "markdown",
   "id": "dd33e43e",
   "metadata": {
    "hidden": true
   },
   "source": [
    "<div style=\"padding: 10px; border: 2px black solid;\">\n",
    "\n",
    "## <font color='green'>New Tool Alert:</font> Jupyter Notebook\n",
    "    \n",
    "<img src=\"https://www.dataquest.io/wp-content/uploads/2019/01/1-LPnY8nOLg4S6_TG0DEXwsg-1.png\" alt=\"Jupyter Logo\" style=\"height: 300px;\"/>\n",
    "\n",
    "**What is it**: A Jupyter notebook is a document that supports mixing executable code, equations, visualizations, and narrative text. Specifically, Jupyter notebooks allow the user to bring together data, code, and prose, to tell an interactive, computational story. Jupyter notebook is free and open source and supports over 100 programming languages including Python, Java, R, Julia, Matlab, Octave, Scheme, Processing, Scala, and many more\n",
    "\n",
    "**Why use it**: Jupyter is an interactive environment that can be shared with anyone. They can run through the code, collaborate and understand the story by mixing formatted text with the code.\n",
    "\n",
    "**Download**: Install from [here](https://jupyter.org/install)\n",
    "\n",
    "**Resources**: Cheat sheet [here](https://www.edureka.co/blog/wp-content/uploads/2018/10/Jupyter_Notebook_CheatSheet_Edureka.pdf)\n",
    "\n",
    "</div>"
   ]
  },
  {
   "cell_type": "markdown",
   "id": "ffb3487b",
   "metadata": {
    "hidden": true
   },
   "source": [
    "This will open a new tab in your default web browser that should look something like the following screenshot."
   ]
  },
  {
   "cell_type": "markdown",
   "id": "3e7b396f",
   "metadata": {
    "hidden": true
   },
   "source": [
    "![Jupyter](Jupyter.png)"
   ]
  },
  {
   "cell_type": "markdown",
   "id": "69d9ac00",
   "metadata": {
    "hidden": true
   },
   "source": [
    "This is the Notebook Dashboard, specifically designed for managing your Jupyter Notebooks. Think of it as the launchpad for exploring, editing and creating your notebooks."
   ]
  },
  {
   "cell_type": "markdown",
   "id": "b3750e67",
   "metadata": {
    "hidden": true
   },
   "source": [
    "You can create a new notebook by clicking New in the top right hand corner"
   ]
  },
  {
   "cell_type": "markdown",
   "id": "a129c826",
   "metadata": {
    "hidden": true
   },
   "source": [
    "![Markdown](New.png)"
   ]
  },
  {
   "cell_type": "markdown",
   "id": "08c7c3f9",
   "metadata": {
    "hidden": true
   },
   "source": [
    "This lets you create a new notebook. Currently the only option is Python. However if you have other kernels installed (such as R) you would see them here."
   ]
  },
  {
   "cell_type": "markdown",
   "id": "f90e0f97",
   "metadata": {
    "hidden": true
   },
   "source": [
    "![Notebook](https://www.dataquest.io/wp-content/uploads/2019/01/new-notebook.jpg)"
   ]
  },
  {
   "cell_type": "markdown",
   "id": "9f5be2de",
   "metadata": {
    "hidden": true
   },
   "source": [
    "Once you have opened the notebook, the interface shouldn't be too hard to figure out. There are two new terms you have to learn\n",
    "\n",
    "* Kernels: the engine that executes the code. Could be python, R, or other.\n",
    "* Cells: container for text to be displayed in the notebook or code to be executed by the notebook’s kernel.\n",
    "\n",
    "In each cell, you can either write code to execute or write markdown (text formatting system similiar to HTML). \n",
    "\n",
    "To execute code, you can use the run button in the toolbar, or use the shortcut of `shift + enter` Go ahead and execute the following code block which should print out `Hello CHL5408` by using either the run button or the shortcut keys"
   ]
  },
  {
   "cell_type": "code",
   "execution_count": 1,
   "id": "2481d345",
   "metadata": {
    "hidden": true
   },
   "outputs": [
    {
     "name": "stdout",
     "output_type": "stream",
     "text": [
      "Hello CHL5408\n"
     ]
    }
   ],
   "source": [
    "print(\"Hello CHL5408\")"
   ]
  },
  {
   "cell_type": "markdown",
   "id": "6a0325da",
   "metadata": {
    "hidden": true
   },
   "source": [
    "When we run the cell, its output is displayed below and the label to its left will have changed from In [ ] to In [1]. Representing the first code cell being run"
   ]
  },
  {
   "cell_type": "markdown",
   "id": "b8212877",
   "metadata": {
    "hidden": true
   },
   "source": [
    "Run the cell again and the label will change to In [2] because now the cell was the second to be run on the kernel. This numbering system makes it clear the order in which your code was run. While it's good practice to clean up your code and make sure it should be run from the top of the page to the bottom, this requirements is not enforced. Which is why this number system is so cruicial. "
   ]
  },
  {
   "cell_type": "code",
   "execution_count": 64,
   "id": "34700ec4",
   "metadata": {
    "hidden": true,
    "scrolled": true
   },
   "outputs": [
    {
     "name": "stdout",
     "output_type": "stream",
     "text": [
      "Requirement already satisfied: bs4 in /Users/farbodabolhassani/opt/anaconda3/envs/dstools/lib/python3.9/site-packages (0.0.1)\n",
      "Requirement already satisfied: beautifulsoup4 in /Users/farbodabolhassani/opt/anaconda3/envs/dstools/lib/python3.9/site-packages (from bs4) (4.9.3)\n",
      "Requirement already satisfied: soupsieve>1.2 in /Users/farbodabolhassani/opt/anaconda3/envs/dstools/lib/python3.9/site-packages (from beautifulsoup4->bs4) (2.2.1)\n",
      "Requirement already satisfied: selenium in /Users/farbodabolhassani/opt/anaconda3/envs/dstools/lib/python3.9/site-packages (3.141.0)\n",
      "Requirement already satisfied: urllib3 in /Users/farbodabolhassani/opt/anaconda3/envs/dstools/lib/python3.9/site-packages (from selenium) (1.26.6)\n",
      "Requirement already satisfied: pandas in /Users/farbodabolhassani/opt/anaconda3/envs/dstools/lib/python3.9/site-packages (1.3.0)\n",
      "Requirement already satisfied: python-dateutil>=2.7.3 in /Users/farbodabolhassani/opt/anaconda3/envs/dstools/lib/python3.9/site-packages (from pandas) (2.8.2)\n",
      "Requirement already satisfied: numpy>=1.17.3 in /Users/farbodabolhassani/opt/anaconda3/envs/dstools/lib/python3.9/site-packages (from pandas) (1.21.1)\n",
      "Requirement already satisfied: pytz>=2017.3 in /Users/farbodabolhassani/opt/anaconda3/envs/dstools/lib/python3.9/site-packages (from pandas) (2021.1)\n",
      "Requirement already satisfied: six>=1.5 in /Users/farbodabolhassani/opt/anaconda3/envs/dstools/lib/python3.9/site-packages (from python-dateutil>=2.7.3->pandas) (1.16.0)\n",
      "Requirement already satisfied: html5lib in /Users/farbodabolhassani/opt/anaconda3/envs/dstools/lib/python3.9/site-packages (1.1)\n",
      "Requirement already satisfied: six>=1.9 in /Users/farbodabolhassani/opt/anaconda3/envs/dstools/lib/python3.9/site-packages (from html5lib) (1.16.0)\n",
      "Requirement already satisfied: webencodings in /Users/farbodabolhassani/opt/anaconda3/envs/dstools/lib/python3.9/site-packages (from html5lib) (0.5.1)\n",
      "Requirement already satisfied: matplotlib in /Users/farbodabolhassani/opt/anaconda3/envs/dstools/lib/python3.9/site-packages (3.4.2)\n",
      "Requirement already satisfied: pillow>=6.2.0 in /Users/farbodabolhassani/opt/anaconda3/envs/dstools/lib/python3.9/site-packages (from matplotlib) (8.3.1)\n",
      "Requirement already satisfied: cycler>=0.10 in /Users/farbodabolhassani/opt/anaconda3/envs/dstools/lib/python3.9/site-packages (from matplotlib) (0.10.0)\n",
      "Requirement already satisfied: numpy>=1.16 in /Users/farbodabolhassani/opt/anaconda3/envs/dstools/lib/python3.9/site-packages (from matplotlib) (1.21.1)\n",
      "Requirement already satisfied: pyparsing>=2.2.1 in /Users/farbodabolhassani/opt/anaconda3/envs/dstools/lib/python3.9/site-packages (from matplotlib) (2.4.7)\n",
      "Requirement already satisfied: kiwisolver>=1.0.1 in /Users/farbodabolhassani/opt/anaconda3/envs/dstools/lib/python3.9/site-packages (from matplotlib) (1.3.1)\n",
      "Requirement already satisfied: python-dateutil>=2.7 in /Users/farbodabolhassani/opt/anaconda3/envs/dstools/lib/python3.9/site-packages (from matplotlib) (2.8.2)\n",
      "Requirement already satisfied: six in /Users/farbodabolhassani/opt/anaconda3/envs/dstools/lib/python3.9/site-packages (from cycler>=0.10->matplotlib) (1.16.0)\n",
      "Collecting sklearn\n",
      "  Downloading sklearn-0.0.tar.gz (1.1 kB)\n",
      "Collecting scikit-learn\n",
      "  Downloading scikit_learn-0.24.2-cp39-cp39-macosx_10_13_x86_64.whl (7.3 MB)\n",
      "\u001b[K     |████████████████████████████████| 7.3 MB 619 kB/s eta 0:00:01\n",
      "\u001b[?25hCollecting scipy>=0.19.1\n",
      "  Downloading scipy-1.7.0-cp39-cp39-macosx_10_9_x86_64.whl (32.1 MB)\n",
      "\u001b[K     |████████████████████████████████| 32.1 MB 5.3 MB/s eta 0:00:011\n",
      "\u001b[?25hRequirement already satisfied: numpy>=1.13.3 in /Users/farbodabolhassani/opt/anaconda3/envs/dstools/lib/python3.9/site-packages (from scikit-learn->sklearn) (1.21.1)\n",
      "Collecting threadpoolctl>=2.0.0\n",
      "  Downloading threadpoolctl-2.2.0-py3-none-any.whl (12 kB)\n",
      "Collecting joblib>=0.11\n",
      "  Downloading joblib-1.0.1-py3-none-any.whl (303 kB)\n",
      "\u001b[K     |████████████████████████████████| 303 kB 8.8 MB/s eta 0:00:01\n",
      "\u001b[?25hBuilding wheels for collected packages: sklearn\n",
      "  Building wheel for sklearn (setup.py) ... \u001b[?25ldone\n",
      "\u001b[?25h  Created wheel for sklearn: filename=sklearn-0.0-py2.py3-none-any.whl size=1316 sha256=6f7637d3fb3a7c46dda8efcb008186b02d5ffbf29223c940141414cf76697e35\n",
      "  Stored in directory: /Users/farbodabolhassani/Library/Caches/pip/wheels/e4/7b/98/b6466d71b8d738a0c547008b9eb39bf8676d1ff6ca4b22af1c\n",
      "Successfully built sklearn\n",
      "Installing collected packages: threadpoolctl, scipy, joblib, scikit-learn, sklearn\n",
      "Successfully installed joblib-1.0.1 scikit-learn-0.24.2 scipy-1.7.0 sklearn-0.0 threadpoolctl-2.2.0\n"
     ]
    }
   ],
   "source": [
    "!pip3 install bs4\n",
    "!pip3 install selenium\n",
    "!pip3 install pandas\n",
    "!pip3 install html5lib\n",
    "!pip3 install matplotlib\n",
    "!pip3 install sklearn"
   ]
  },
  {
   "cell_type": "code",
   "execution_count": 4,
   "id": "d0943b99",
   "metadata": {
    "hidden": true
   },
   "outputs": [],
   "source": [
    "import pandas as pd"
   ]
  },
  {
   "cell_type": "markdown",
   "id": "19c78b76",
   "metadata": {
    "hidden": true
   },
   "source": [
    "If you have git installed on your local computer, you can get the code by cloning from github by running ```git clone https://github.com/farbodab/ds-tools-ai4ph.git```"
   ]
  },
  {
   "cell_type": "markdown",
   "id": "4bbd8601",
   "metadata": {
    "hidden": true
   },
   "source": [
    "<div style=\"padding: 10px; border: 2px black solid;\">\n",
    "\n",
    "## <font color='green'>New Tool Alert:</font> Git\n",
    "    \n",
    "<img src=\"https://miro.medium.com/max/910/1*Wjxx83j-qyiNvFBy1yOA1w.jpeg\" alt=\"Git Logo\" style=\"height: 300px;\"/>\n",
    "\n",
    "**What is it**: Git is a software that helps you keep track of changes to files in a folder on your PC. After making some changes to files in this folder, you can “commit” the changes to Git for safe-keeping. These changes could be creating, renaming, deleting a file or subfolder; or editing the content of a file.\n",
    "\n",
    "**Why use it**: Git lets you keep track of changes over time and revert back when needed.\n",
    "\n",
    "**Download**: Install from [here](https://git-scm.com/downloads)\n",
    "\n",
    "**Resources**: Cheat sheet [here](https://i.redd.it/8341g68g1v7y.png)\n",
    "\n",
    "</div>"
   ]
  },
  {
   "cell_type": "markdown",
   "id": "ae58c7fd",
   "metadata": {
    "hidden": true
   },
   "source": [
    "<div style=\"padding: 10px; border: 2px black solid;\">\n",
    "\n",
    "## <font color='green'>New Tool Alert:</font> Github\n",
    "    \n",
    "<img src=\"https://github.githubassets.com/images/modules/logos_page/GitHub-Mark.png\" alt=\"Github Logo\" style=\"height: 300px;\"/>\n",
    "\n",
    "**What is it**: Github lets you keep a copy of your local git repositories in the cloud\n",
    "\n",
    "**Why use it**: It lets you share and collaborate with others via Git's version control.\n",
    "\n",
    "**Download**: Create an account [here](https://github.com/)\n",
    "\n",
    "</div>"
   ]
  },
  {
   "cell_type": "markdown",
   "id": "aa4c1f58",
   "metadata": {
    "heading_collapsed": true
   },
   "source": [
    "## Business Understanding"
   ]
  },
  {
   "cell_type": "markdown",
   "id": "a5221c71",
   "metadata": {
    "hidden": true
   },
   "source": [
    "After a number of back and forths meetings with our bosses, we have a fairly good understanding of what they are trying to do.\n",
    "\n",
    "**Problem**: \n",
    "\n",
    "**Business Requirement**: \n",
    "* The health system is looking to use data to plan for capacity and for response planning\n",
    "* Stakeholders are looking for a weekly email to be delivered to them which has the 7 day prediction of COVID-19 cases."
   ]
  },
  {
   "cell_type": "markdown",
   "id": "e2413843",
   "metadata": {
    "heading_collapsed": true
   },
   "source": [
    "## Analytics Approach"
   ]
  },
  {
   "cell_type": "markdown",
   "id": "f0490264",
   "metadata": {
    "hidden": true
   },
   "source": [
    "The nature of the problem is a predictive one. Since the goal is to predict number of cases, then the task at hand is to building, testing and implementing a regression model."
   ]
  },
  {
   "cell_type": "markdown",
   "id": "64aefd22",
   "metadata": {
    "heading_collapsed": true
   },
   "source": [
    "## Data Requirements"
   ]
  },
  {
   "cell_type": "markdown",
   "id": "1353a4f7",
   "metadata": {
    "hidden": true
   },
   "source": [
    "As a starting point, we need data on daily covid cases. We already have a number of different data elements that may improve the predictive power of the proposed model (location of cases, socioeconomic factors tied to geography, age of cases, etc). The process is entirely iterative. "
   ]
  },
  {
   "cell_type": "markdown",
   "id": "66175fe0",
   "metadata": {
    "heading_collapsed": true
   },
   "source": [
    "## Data Collection"
   ]
  },
  {
   "cell_type": "markdown",
   "id": "7c0f28f4",
   "metadata": {
    "heading_collapsed": true,
    "hidden": true
   },
   "source": [
    "### Web Scraping"
   ]
  },
  {
   "cell_type": "markdown",
   "id": "e09c2ead",
   "metadata": {
    "hidden": true
   },
   "source": [
    "In the beggining of the pandemic, availability of COVID-19 data was sparse. The only source of such data could be found on Ontario Government's website below.\n",
    "![status](./status.png)"
   ]
  },
  {
   "cell_type": "markdown",
   "id": "a11f591e",
   "metadata": {
    "hidden": true
   },
   "source": [
    "To extract data from the website we need to scrape the webpage and extract it from the underlying code that renders the website. While data sources have matured over time, web scrapping is a fairly unique and extremely useful skilset to have in your toolbelt when doing public health on the go. Make sure to download chromedriver that matches your operating system and the version of chrome you are on from [here](https://chromedriver.chromium.org/downloads)"
   ]
  },
  {
   "cell_type": "code",
   "execution_count": 22,
   "id": "22ff830b",
   "metadata": {
    "hidden": true
   },
   "outputs": [],
   "source": [
    "from selenium import webdriver\n",
    "from selenium.webdriver.common.keys import Keys\n",
    "\n",
    "driver = webdriver.Chrome(executable_path='./chromedriver')\n",
    "driver.get(\"http://www.python.org\")\n",
    "elem = driver.find_element_by_name(\"q\")\n",
    "elem.clear()\n",
    "elem.send_keys(\"pycon\")\n",
    "elem.send_keys(Keys.RETURN)\n",
    "driver.close()"
   ]
  },
  {
   "cell_type": "markdown",
   "id": "94b0d678",
   "metadata": {
    "hidden": true
   },
   "source": [
    "<div style=\"padding: 10px; border: 2px black solid;\">\n",
    "\n",
    "## <font color='green'>New Tool Alert:</font> Selenium\n",
    "<img src=\"https://camo.githubusercontent.com/74ed64243ba05754329bc527cd4240ebd1c087a1/68747470733a2f2f73656c656e69756d2e6465762f696d616765732f73656c656e69756d5f6c6f676f5f7371756172655f677265656e2e706e67\" alt=\"Selenium\" style=\"width: 200px;\"/> \n",
    "    \n",
    "**What is it**: It's a tool used to scrape data from the web which lets you automate the operations of your browser\n",
    "\n",
    "**Why use it**: A lot of information remains locked in websites and is only updated there without being available in a easy to use format. Selenium lets us get access to that info and turn it into usable data.\n",
    "\n",
    "**Download**: Follow instructions [here](https://selenium-python.readthedocs.io/) to set it up.\n",
    "\n",
    "**Resources**: Cheat sheet [here](https://ivantay2003.medium.com/selenium-cheat-sheet-in-python-87221ee06c83)\n",
    "    \n",
    "**Notes**: Users on MacOS will need to do to an additional step to be able to use the driver downloaded from above, which is to mark the file as safe by using the command ```xattr -d com.apple.quarantine name-of-file ```\n",
    "    \n",
    "</div>"
   ]
  },
  {
   "cell_type": "markdown",
   "id": "554a4a40",
   "metadata": {
    "hidden": true
   },
   "source": [
    "If selenium is set up, this should launch your browser to python's website, and search for the words pycon."
   ]
  },
  {
   "cell_type": "markdown",
   "id": "1eddce9d",
   "metadata": {
    "hidden": true
   },
   "source": [
    "Now that we know things are working, let's go to our real example."
   ]
  },
  {
   "cell_type": "code",
   "execution_count": 23,
   "id": "bbc8a8d0",
   "metadata": {
    "hidden": true
   },
   "outputs": [],
   "source": [
    "url = \"https://www.ontario.ca/page/how-ontario-is-responding-covid-19\"\n",
    "driver = webdriver.Chrome(executable_path='./chromedriver')\n",
    "driver.get(url)"
   ]
  },
  {
   "cell_type": "markdown",
   "id": "1ebb099a",
   "metadata": {
    "hidden": true
   },
   "source": [
    "This should open a new chromium page and navigate it to our data source. Now we use the xpath of the table of interest to get the specific element on the page and we save its html content to a variable"
   ]
  },
  {
   "cell_type": "code",
   "execution_count": 24,
   "id": "53078d3f",
   "metadata": {
    "hidden": true
   },
   "outputs": [],
   "source": [
    "element = driver.find_element_by_xpath('//*[@id=\"pagebody\"]/table[1]')\n",
    "element_html = element.get_attribute('outerHTML')\n",
    "driver.close()"
   ]
  },
  {
   "cell_type": "markdown",
   "id": "f10b9def",
   "metadata": {
    "hidden": true
   },
   "source": [
    "The next library we will be using today is called pandas. Pandas is the go to data manipulation and wrangling library for python"
   ]
  },
  {
   "cell_type": "code",
   "execution_count": 17,
   "id": "22bcada4",
   "metadata": {
    "hidden": true
   },
   "outputs": [
    {
     "data": {
      "text/html": [
       "<div>\n",
       "<style scoped>\n",
       "    .dataframe tbody tr th:only-of-type {\n",
       "        vertical-align: middle;\n",
       "    }\n",
       "\n",
       "    .dataframe tbody tr th {\n",
       "        vertical-align: top;\n",
       "    }\n",
       "\n",
       "    .dataframe thead th {\n",
       "        text-align: right;\n",
       "    }\n",
       "</style>\n",
       "<table border=\"1\" class=\"dataframe\">\n",
       "  <thead>\n",
       "    <tr style=\"text-align: right;\">\n",
       "      <th></th>\n",
       "      <th>Severity</th>\n",
       "      <th>Number</th>\n",
       "      <th>Percentage</th>\n",
       "    </tr>\n",
       "  </thead>\n",
       "  <tbody>\n",
       "    <tr>\n",
       "      <th>0</th>\n",
       "      <td>Number of cases  footnote 1  [1]</td>\n",
       "      <td>548217</td>\n",
       "      <td>NaN</td>\n",
       "    </tr>\n",
       "    <tr>\n",
       "      <th>1</th>\n",
       "      <td>Change from previous report (new cases)</td>\n",
       "      <td>177</td>\n",
       "      <td>&lt; 0.1% increase</td>\n",
       "    </tr>\n",
       "    <tr>\n",
       "      <th>2</th>\n",
       "      <td>Resolved  footnote 2  [2]</td>\n",
       "      <td>537545</td>\n",
       "      <td>98.1</td>\n",
       "    </tr>\n",
       "    <tr>\n",
       "      <th>3</th>\n",
       "      <td>Change from previous report</td>\n",
       "      <td>166</td>\n",
       "      <td>&lt; 0.1% increase</td>\n",
       "    </tr>\n",
       "    <tr>\n",
       "      <th>4</th>\n",
       "      <td>Subset of all cases that are reported to be lo...</td>\n",
       "      <td>15449</td>\n",
       "      <td>2.8</td>\n",
       "    </tr>\n",
       "  </tbody>\n",
       "</table>\n",
       "</div>"
      ],
      "text/plain": [
       "                                            Severity  Number       Percentage\n",
       "0                   Number of cases  footnote 1  [1]  548217              NaN\n",
       "1            Change from previous report (new cases)     177  < 0.1% increase\n",
       "2                          Resolved  footnote 2  [2]  537545             98.1\n",
       "3                        Change from previous report     166  < 0.1% increase\n",
       "4  Subset of all cases that are reported to be lo...   15449              2.8"
      ]
     },
     "execution_count": 17,
     "metadata": {},
     "output_type": "execute_result"
    }
   ],
   "source": [
    "import pandas as pd\n",
    "\n",
    "df = pd.read_html(element_html)[0]\n",
    "df.head()"
   ]
  },
  {
   "cell_type": "markdown",
   "id": "433eca89",
   "metadata": {
    "hidden": true
   },
   "source": [
    "<div style=\"padding: 10px; border: 2px black solid;\">\n",
    "\n",
    "## <font color='green'>New Tool Alert:</font> Pandas\n",
    "\n",
    "<img src=\"https://upload.wikimedia.org/wikipedia/commons/thumb/e/ed/Pandas_logo.svg/1200px-Pandas_logo.svg.png\" alt=\"Selenium\" style=\"height: 200px;\"/>\n",
    "\n",
    "**What is it**: Pandas is a python library for data manipulation and analysis. It is the de facto library for data manipulation in python.\n",
    "\n",
    "**Why use it**: It's extremely powerful. It lets you read in a variety of dataformats and data sources, aggregate, transform, and combine data. \n",
    "\n",
    "**Download**: Install it by using pip ```pip install pandas```\n",
    "\n",
    "**Resources**: Cheat sheet [here](https://ainfographics.files.wordpress.com/2017/10/python-pandas-cheat-sheet.png)\n",
    "    \n",
    "</div>"
   ]
  },
  {
   "cell_type": "markdown",
   "id": "250b98a2",
   "metadata": {
    "hidden": true
   },
   "source": [
    "Now that we have our table of interest we can just save it to file, so we can start to keep track of cases daily. "
   ]
  },
  {
   "cell_type": "code",
   "execution_count": 19,
   "id": "af8dd16c",
   "metadata": {
    "hidden": true
   },
   "outputs": [],
   "source": [
    "df.to_csv('cases-march-28-2022.csv',index=False)"
   ]
  },
  {
   "cell_type": "markdown",
   "id": "492c12b9",
   "metadata": {
    "heading_collapsed": true,
    "hidden": true
   },
   "source": [
    "### Official Data Source"
   ]
  },
  {
   "cell_type": "markdown",
   "id": "02d62a1a",
   "metadata": {
    "hidden": true
   },
   "source": [
    "The main dataset we will be using is from [here](https://data.ontario.ca/en/dataset/confirmed-positive-cases-of-covid-19-in-ontario)."
   ]
  },
  {
   "cell_type": "code",
   "execution_count": 5,
   "id": "42ee5e1e",
   "metadata": {
    "hidden": true
   },
   "outputs": [],
   "source": [
    "url = \"https://data.ontario.ca/dataset/f4112442-bdc8-45d2-be3c-12efae72fb27/resource/455fd63b-603d-4608-8216-7d8647f43350/download/conposcovidloc.csv\"\n",
    "all_cases = pd.read_csv(url)"
   ]
  },
  {
   "cell_type": "code",
   "execution_count": 6,
   "id": "ae286b49",
   "metadata": {
    "hidden": true
   },
   "outputs": [
    {
     "data": {
      "text/html": [
       "<div>\n",
       "<style scoped>\n",
       "    .dataframe tbody tr th:only-of-type {\n",
       "        vertical-align: middle;\n",
       "    }\n",
       "\n",
       "    .dataframe tbody tr th {\n",
       "        vertical-align: top;\n",
       "    }\n",
       "\n",
       "    .dataframe thead th {\n",
       "        text-align: right;\n",
       "    }\n",
       "</style>\n",
       "<table border=\"1\" class=\"dataframe\">\n",
       "  <thead>\n",
       "    <tr style=\"text-align: right;\">\n",
       "      <th></th>\n",
       "      <th>Row_ID</th>\n",
       "      <th>Accurate_Episode_Date</th>\n",
       "      <th>Case_Reported_Date</th>\n",
       "      <th>Test_Reported_Date</th>\n",
       "      <th>Specimen_Date</th>\n",
       "      <th>Age_Group</th>\n",
       "      <th>Client_Gender</th>\n",
       "      <th>Case_AcquisitionInfo</th>\n",
       "      <th>Outcome1</th>\n",
       "      <th>Outbreak_Related</th>\n",
       "      <th>Reporting_PHU_ID</th>\n",
       "      <th>Reporting_PHU</th>\n",
       "      <th>Reporting_PHU_Address</th>\n",
       "      <th>Reporting_PHU_City</th>\n",
       "      <th>Reporting_PHU_Postal_Code</th>\n",
       "      <th>Reporting_PHU_Website</th>\n",
       "      <th>Reporting_PHU_Latitude</th>\n",
       "      <th>Reporting_PHU_Longitude</th>\n",
       "    </tr>\n",
       "  </thead>\n",
       "  <tbody>\n",
       "    <tr>\n",
       "      <th>0</th>\n",
       "      <td>1</td>\n",
       "      <td>2019-05-30</td>\n",
       "      <td>2020-05-05</td>\n",
       "      <td>2020-05-05</td>\n",
       "      <td>2020-05-03</td>\n",
       "      <td>50s</td>\n",
       "      <td>FEMALE</td>\n",
       "      <td>CC</td>\n",
       "      <td>Resolved</td>\n",
       "      <td>NaN</td>\n",
       "      <td>2260</td>\n",
       "      <td>Simcoe Muskoka District Health Unit</td>\n",
       "      <td>15 Sperling Drive</td>\n",
       "      <td>Barrie</td>\n",
       "      <td>L4M 6K9</td>\n",
       "      <td>www.simcoemuskokahealth.org</td>\n",
       "      <td>44.410713</td>\n",
       "      <td>-79.686306</td>\n",
       "    </tr>\n",
       "    <tr>\n",
       "      <th>1</th>\n",
       "      <td>2</td>\n",
       "      <td>2019-11-20</td>\n",
       "      <td>2020-10-21</td>\n",
       "      <td>2020-11-21</td>\n",
       "      <td>2019-11-20</td>\n",
       "      <td>20s</td>\n",
       "      <td>FEMALE</td>\n",
       "      <td>NO KNOWN EPI LINK</td>\n",
       "      <td>Resolved</td>\n",
       "      <td>NaN</td>\n",
       "      <td>4913</td>\n",
       "      <td>Southwestern Public Health</td>\n",
       "      <td>1230 Talbot Street</td>\n",
       "      <td>St. Thomas</td>\n",
       "      <td>N5P 1G9</td>\n",
       "      <td>www.swpublichealth.ca</td>\n",
       "      <td>42.777804</td>\n",
       "      <td>-81.151156</td>\n",
       "    </tr>\n",
       "    <tr>\n",
       "      <th>2</th>\n",
       "      <td>3</td>\n",
       "      <td>2020-01-01</td>\n",
       "      <td>2020-04-24</td>\n",
       "      <td>2020-04-24</td>\n",
       "      <td>2020-04-23</td>\n",
       "      <td>80s</td>\n",
       "      <td>MALE</td>\n",
       "      <td>NO KNOWN EPI LINK</td>\n",
       "      <td>Resolved</td>\n",
       "      <td>NaN</td>\n",
       "      <td>2234</td>\n",
       "      <td>Haldimand-Norfolk Health Unit</td>\n",
       "      <td>12 Gilbertson Drive</td>\n",
       "      <td>Simcoe</td>\n",
       "      <td>N3Y 4N5</td>\n",
       "      <td>www.hnhu.org</td>\n",
       "      <td>42.847825</td>\n",
       "      <td>-80.303815</td>\n",
       "    </tr>\n",
       "    <tr>\n",
       "      <th>3</th>\n",
       "      <td>4</td>\n",
       "      <td>2020-01-01</td>\n",
       "      <td>2020-05-17</td>\n",
       "      <td>2020-05-17</td>\n",
       "      <td>2020-05-15</td>\n",
       "      <td>50s</td>\n",
       "      <td>MALE</td>\n",
       "      <td>CC</td>\n",
       "      <td>Resolved</td>\n",
       "      <td>NaN</td>\n",
       "      <td>2265</td>\n",
       "      <td>Region of Waterloo, Public Health</td>\n",
       "      <td>99 Regina Street South</td>\n",
       "      <td>Waterloo</td>\n",
       "      <td>N2J 4V3</td>\n",
       "      <td>www.regionofwaterloo.ca</td>\n",
       "      <td>43.462876</td>\n",
       "      <td>-80.520913</td>\n",
       "    </tr>\n",
       "    <tr>\n",
       "      <th>4</th>\n",
       "      <td>5</td>\n",
       "      <td>2020-01-01</td>\n",
       "      <td>2021-01-09</td>\n",
       "      <td>2021-01-09</td>\n",
       "      <td>2021-01-07</td>\n",
       "      <td>50s</td>\n",
       "      <td>MALE</td>\n",
       "      <td>CC</td>\n",
       "      <td>Resolved</td>\n",
       "      <td>NaN</td>\n",
       "      <td>2268</td>\n",
       "      <td>Windsor-Essex County Health Unit</td>\n",
       "      <td>1005 Ouellette Avenue</td>\n",
       "      <td>Windsor</td>\n",
       "      <td>N9A 4J8</td>\n",
       "      <td>www.wechu.org</td>\n",
       "      <td>42.308796</td>\n",
       "      <td>-83.033670</td>\n",
       "    </tr>\n",
       "  </tbody>\n",
       "</table>\n",
       "</div>"
      ],
      "text/plain": [
       "   Row_ID Accurate_Episode_Date Case_Reported_Date Test_Reported_Date  \\\n",
       "0       1            2019-05-30         2020-05-05         2020-05-05   \n",
       "1       2            2019-11-20         2020-10-21         2020-11-21   \n",
       "2       3            2020-01-01         2020-04-24         2020-04-24   \n",
       "3       4            2020-01-01         2020-05-17         2020-05-17   \n",
       "4       5            2020-01-01         2021-01-09         2021-01-09   \n",
       "\n",
       "  Specimen_Date Age_Group Client_Gender Case_AcquisitionInfo  Outcome1  \\\n",
       "0    2020-05-03       50s        FEMALE                   CC  Resolved   \n",
       "1    2019-11-20       20s        FEMALE    NO KNOWN EPI LINK  Resolved   \n",
       "2    2020-04-23       80s          MALE    NO KNOWN EPI LINK  Resolved   \n",
       "3    2020-05-15       50s          MALE                   CC  Resolved   \n",
       "4    2021-01-07       50s          MALE                   CC  Resolved   \n",
       "\n",
       "  Outbreak_Related  Reporting_PHU_ID                        Reporting_PHU  \\\n",
       "0              NaN              2260  Simcoe Muskoka District Health Unit   \n",
       "1              NaN              4913           Southwestern Public Health   \n",
       "2              NaN              2234        Haldimand-Norfolk Health Unit   \n",
       "3              NaN              2265    Region of Waterloo, Public Health   \n",
       "4              NaN              2268     Windsor-Essex County Health Unit   \n",
       "\n",
       "    Reporting_PHU_Address Reporting_PHU_City Reporting_PHU_Postal_Code  \\\n",
       "0       15 Sperling Drive             Barrie                   L4M 6K9   \n",
       "1      1230 Talbot Street         St. Thomas                   N5P 1G9   \n",
       "2     12 Gilbertson Drive             Simcoe                   N3Y 4N5   \n",
       "3  99 Regina Street South           Waterloo                   N2J 4V3   \n",
       "4   1005 Ouellette Avenue            Windsor                   N9A 4J8   \n",
       "\n",
       "         Reporting_PHU_Website  Reporting_PHU_Latitude  \\\n",
       "0  www.simcoemuskokahealth.org               44.410713   \n",
       "1        www.swpublichealth.ca               42.777804   \n",
       "2                 www.hnhu.org               42.847825   \n",
       "3      www.regionofwaterloo.ca               43.462876   \n",
       "4                www.wechu.org               42.308796   \n",
       "\n",
       "   Reporting_PHU_Longitude  \n",
       "0               -79.686306  \n",
       "1               -81.151156  \n",
       "2               -80.303815  \n",
       "3               -80.520913  \n",
       "4               -83.033670  "
      ]
     },
     "execution_count": 6,
     "metadata": {},
     "output_type": "execute_result"
    }
   ],
   "source": [
    "all_cases.head()"
   ]
  },
  {
   "cell_type": "markdown",
   "id": "9a24aa4b",
   "metadata": {
    "heading_collapsed": true
   },
   "source": [
    "## Data Understanding"
   ]
  },
  {
   "cell_type": "code",
   "execution_count": 26,
   "id": "8217979e",
   "metadata": {
    "hidden": true
   },
   "outputs": [
    {
     "data": {
      "text/html": [
       "<div>\n",
       "<style scoped>\n",
       "    .dataframe tbody tr th:only-of-type {\n",
       "        vertical-align: middle;\n",
       "    }\n",
       "\n",
       "    .dataframe tbody tr th {\n",
       "        vertical-align: top;\n",
       "    }\n",
       "\n",
       "    .dataframe thead th {\n",
       "        text-align: right;\n",
       "    }\n",
       "</style>\n",
       "<table border=\"1\" class=\"dataframe\">\n",
       "  <thead>\n",
       "    <tr style=\"text-align: right;\">\n",
       "      <th></th>\n",
       "      <th>Row_ID</th>\n",
       "      <th>Accurate_Episode_Date</th>\n",
       "      <th>Case_Reported_Date</th>\n",
       "      <th>Test_Reported_Date</th>\n",
       "      <th>Specimen_Date</th>\n",
       "      <th>Age_Group</th>\n",
       "      <th>Client_Gender</th>\n",
       "      <th>Case_AcquisitionInfo</th>\n",
       "      <th>Outcome1</th>\n",
       "      <th>Outbreak_Related</th>\n",
       "      <th>Reporting_PHU_ID</th>\n",
       "      <th>Reporting_PHU</th>\n",
       "      <th>Reporting_PHU_Address</th>\n",
       "      <th>Reporting_PHU_City</th>\n",
       "      <th>Reporting_PHU_Postal_Code</th>\n",
       "      <th>Reporting_PHU_Website</th>\n",
       "      <th>Reporting_PHU_Latitude</th>\n",
       "      <th>Reporting_PHU_Longitude</th>\n",
       "    </tr>\n",
       "  </thead>\n",
       "  <tbody>\n",
       "    <tr>\n",
       "      <th>0</th>\n",
       "      <td>1</td>\n",
       "      <td>2019-05-30</td>\n",
       "      <td>2020-05-05</td>\n",
       "      <td>2020-05-05</td>\n",
       "      <td>2020-05-03</td>\n",
       "      <td>50s</td>\n",
       "      <td>FEMALE</td>\n",
       "      <td>CC</td>\n",
       "      <td>Resolved</td>\n",
       "      <td>NaN</td>\n",
       "      <td>2260</td>\n",
       "      <td>Simcoe Muskoka District Health Unit</td>\n",
       "      <td>15 Sperling Drive</td>\n",
       "      <td>Barrie</td>\n",
       "      <td>L4M 6K9</td>\n",
       "      <td>www.simcoemuskokahealth.org</td>\n",
       "      <td>44.410713</td>\n",
       "      <td>-79.686306</td>\n",
       "    </tr>\n",
       "    <tr>\n",
       "      <th>1</th>\n",
       "      <td>2</td>\n",
       "      <td>2019-11-20</td>\n",
       "      <td>2020-10-21</td>\n",
       "      <td>2020-11-21</td>\n",
       "      <td>2019-11-20</td>\n",
       "      <td>20s</td>\n",
       "      <td>FEMALE</td>\n",
       "      <td>NO KNOWN EPI LINK</td>\n",
       "      <td>Resolved</td>\n",
       "      <td>NaN</td>\n",
       "      <td>4913</td>\n",
       "      <td>Southwestern Public Health</td>\n",
       "      <td>1230 Talbot Street</td>\n",
       "      <td>St. Thomas</td>\n",
       "      <td>N5P 1G9</td>\n",
       "      <td>www.swpublichealth.ca</td>\n",
       "      <td>42.777804</td>\n",
       "      <td>-81.151156</td>\n",
       "    </tr>\n",
       "    <tr>\n",
       "      <th>2</th>\n",
       "      <td>3</td>\n",
       "      <td>2020-01-01</td>\n",
       "      <td>2020-04-24</td>\n",
       "      <td>2020-04-24</td>\n",
       "      <td>2020-04-23</td>\n",
       "      <td>80s</td>\n",
       "      <td>MALE</td>\n",
       "      <td>NO KNOWN EPI LINK</td>\n",
       "      <td>Resolved</td>\n",
       "      <td>NaN</td>\n",
       "      <td>2234</td>\n",
       "      <td>Haldimand-Norfolk Health Unit</td>\n",
       "      <td>12 Gilbertson Drive</td>\n",
       "      <td>Simcoe</td>\n",
       "      <td>N3Y 4N5</td>\n",
       "      <td>www.hnhu.org</td>\n",
       "      <td>42.847825</td>\n",
       "      <td>-80.303815</td>\n",
       "    </tr>\n",
       "    <tr>\n",
       "      <th>3</th>\n",
       "      <td>4</td>\n",
       "      <td>2020-01-01</td>\n",
       "      <td>2020-05-17</td>\n",
       "      <td>2020-05-17</td>\n",
       "      <td>2020-05-15</td>\n",
       "      <td>50s</td>\n",
       "      <td>MALE</td>\n",
       "      <td>CC</td>\n",
       "      <td>Resolved</td>\n",
       "      <td>NaN</td>\n",
       "      <td>2265</td>\n",
       "      <td>Region of Waterloo, Public Health</td>\n",
       "      <td>99 Regina Street South</td>\n",
       "      <td>Waterloo</td>\n",
       "      <td>N2J 4V3</td>\n",
       "      <td>www.regionofwaterloo.ca</td>\n",
       "      <td>43.462876</td>\n",
       "      <td>-80.520913</td>\n",
       "    </tr>\n",
       "    <tr>\n",
       "      <th>4</th>\n",
       "      <td>5</td>\n",
       "      <td>2020-01-01</td>\n",
       "      <td>2021-01-09</td>\n",
       "      <td>2021-01-09</td>\n",
       "      <td>2021-01-07</td>\n",
       "      <td>50s</td>\n",
       "      <td>MALE</td>\n",
       "      <td>CC</td>\n",
       "      <td>Resolved</td>\n",
       "      <td>NaN</td>\n",
       "      <td>2268</td>\n",
       "      <td>Windsor-Essex County Health Unit</td>\n",
       "      <td>1005 Ouellette Avenue</td>\n",
       "      <td>Windsor</td>\n",
       "      <td>N9A 4J8</td>\n",
       "      <td>www.wechu.org</td>\n",
       "      <td>42.308796</td>\n",
       "      <td>-83.033670</td>\n",
       "    </tr>\n",
       "  </tbody>\n",
       "</table>\n",
       "</div>"
      ],
      "text/plain": [
       "   Row_ID Accurate_Episode_Date Case_Reported_Date Test_Reported_Date  \\\n",
       "0       1            2019-05-30         2020-05-05         2020-05-05   \n",
       "1       2            2019-11-20         2020-10-21         2020-11-21   \n",
       "2       3            2020-01-01         2020-04-24         2020-04-24   \n",
       "3       4            2020-01-01         2020-05-17         2020-05-17   \n",
       "4       5            2020-01-01         2021-01-09         2021-01-09   \n",
       "\n",
       "  Specimen_Date Age_Group Client_Gender Case_AcquisitionInfo  Outcome1  \\\n",
       "0    2020-05-03       50s        FEMALE                   CC  Resolved   \n",
       "1    2019-11-20       20s        FEMALE    NO KNOWN EPI LINK  Resolved   \n",
       "2    2020-04-23       80s          MALE    NO KNOWN EPI LINK  Resolved   \n",
       "3    2020-05-15       50s          MALE                   CC  Resolved   \n",
       "4    2021-01-07       50s          MALE                   CC  Resolved   \n",
       "\n",
       "  Outbreak_Related  Reporting_PHU_ID                        Reporting_PHU  \\\n",
       "0              NaN              2260  Simcoe Muskoka District Health Unit   \n",
       "1              NaN              4913           Southwestern Public Health   \n",
       "2              NaN              2234        Haldimand-Norfolk Health Unit   \n",
       "3              NaN              2265    Region of Waterloo, Public Health   \n",
       "4              NaN              2268     Windsor-Essex County Health Unit   \n",
       "\n",
       "    Reporting_PHU_Address Reporting_PHU_City Reporting_PHU_Postal_Code  \\\n",
       "0       15 Sperling Drive             Barrie                   L4M 6K9   \n",
       "1      1230 Talbot Street         St. Thomas                   N5P 1G9   \n",
       "2     12 Gilbertson Drive             Simcoe                   N3Y 4N5   \n",
       "3  99 Regina Street South           Waterloo                   N2J 4V3   \n",
       "4   1005 Ouellette Avenue            Windsor                   N9A 4J8   \n",
       "\n",
       "         Reporting_PHU_Website  Reporting_PHU_Latitude  \\\n",
       "0  www.simcoemuskokahealth.org               44.410713   \n",
       "1        www.swpublichealth.ca               42.777804   \n",
       "2                 www.hnhu.org               42.847825   \n",
       "3      www.regionofwaterloo.ca               43.462876   \n",
       "4                www.wechu.org               42.308796   \n",
       "\n",
       "   Reporting_PHU_Longitude  \n",
       "0               -79.686306  \n",
       "1               -81.151156  \n",
       "2               -80.303815  \n",
       "3               -80.520913  \n",
       "4               -83.033670  "
      ]
     },
     "execution_count": 26,
     "metadata": {},
     "output_type": "execute_result"
    }
   ],
   "source": [
    "all_cases.head()"
   ]
  },
  {
   "cell_type": "code",
   "execution_count": 43,
   "id": "71a35575",
   "metadata": {
    "hidden": true
   },
   "outputs": [
    {
     "name": "stdout",
     "output_type": "stream",
     "text": [
      "<class 'pandas.core.frame.DataFrame'>\n",
      "RangeIndex: 548347 entries, 0 to 548346\n",
      "Data columns (total 18 columns):\n",
      " #   Column                     Non-Null Count   Dtype  \n",
      "---  ------                     --------------   -----  \n",
      " 0   Row_ID                     548347 non-null  int64  \n",
      " 1   Accurate_Episode_Date      548347 non-null  object \n",
      " 2   Case_Reported_Date         548347 non-null  object \n",
      " 3   Test_Reported_Date         535843 non-null  object \n",
      " 4   Specimen_Date              546050 non-null  object \n",
      " 5   Age_Group                  548347 non-null  object \n",
      " 6   Client_Gender              548347 non-null  object \n",
      " 7   Case_AcquisitionInfo       548347 non-null  object \n",
      " 8   Outcome1                   548347 non-null  object \n",
      " 9   Outbreak_Related           94018 non-null   object \n",
      " 10  Reporting_PHU_ID           548347 non-null  int64  \n",
      " 11  Reporting_PHU              548347 non-null  object \n",
      " 12  Reporting_PHU_Address      548347 non-null  object \n",
      " 13  Reporting_PHU_City         548347 non-null  object \n",
      " 14  Reporting_PHU_Postal_Code  548347 non-null  object \n",
      " 15  Reporting_PHU_Website      548347 non-null  object \n",
      " 16  Reporting_PHU_Latitude     548347 non-null  float64\n",
      " 17  Reporting_PHU_Longitude    548347 non-null  float64\n",
      "dtypes: float64(2), int64(2), object(14)\n",
      "memory usage: 75.3+ MB\n"
     ]
    }
   ],
   "source": [
    "all_cases.info()"
   ]
  },
  {
   "cell_type": "code",
   "execution_count": 8,
   "id": "f521b625",
   "metadata": {
    "hidden": true
   },
   "outputs": [
    {
     "data": {
      "text/plain": [
       "20s        116050\n",
       "30s         89324\n",
       "<20         88529\n",
       "40s         78656\n",
       "50s         77695\n",
       "60s         48586\n",
       "70s         24235\n",
       "80s         16552\n",
       "90+          8626\n",
       "UNKNOWN        94\n",
       "Name: Age_Group, dtype: int64"
      ]
     },
     "execution_count": 8,
     "metadata": {},
     "output_type": "execute_result"
    }
   ],
   "source": [
    "all_cases['Age_Group'].value_counts()"
   ]
  },
  {
   "cell_type": "code",
   "execution_count": 9,
   "id": "70cb310b",
   "metadata": {
    "hidden": true
   },
   "outputs": [
    {
     "data": {
      "text/plain": [
       "MALE              273282\n",
       "FEMALE            271345\n",
       "UNSPECIFIED         3687\n",
       "GENDER DIVERSE        33\n",
       "Name: Client_Gender, dtype: int64"
      ]
     },
     "execution_count": 9,
     "metadata": {},
     "output_type": "execute_result"
    }
   ],
   "source": [
    "all_cases['Client_Gender'].value_counts()"
   ]
  },
  {
   "cell_type": "code",
   "execution_count": 10,
   "id": "748233f2",
   "metadata": {
    "hidden": true
   },
   "outputs": [
    {
     "data": {
      "text/plain": [
       "Resolved        537698\n",
       "Fatal             9294\n",
       "Not Resolved      1355\n",
       "Name: Outcome1, dtype: int64"
      ]
     },
     "execution_count": 10,
     "metadata": {},
     "output_type": "execute_result"
    }
   ],
   "source": [
    "all_cases['Outcome1'].value_counts()"
   ]
  },
  {
   "cell_type": "code",
   "execution_count": 11,
   "id": "f94e5dfd",
   "metadata": {
    "hidden": true
   },
   "outputs": [
    {
     "data": {
      "text/plain": [
       "Yes    94018\n",
       "Name: Outbreak_Related, dtype: int64"
      ]
     },
     "execution_count": 11,
     "metadata": {},
     "output_type": "execute_result"
    }
   ],
   "source": [
    "all_cases['Outbreak_Related'].value_counts()"
   ]
  },
  {
   "cell_type": "markdown",
   "id": "2a987558",
   "metadata": {
    "heading_collapsed": true
   },
   "source": [
    "## Data Preparation"
   ]
  },
  {
   "cell_type": "code",
   "execution_count": 28,
   "id": "3c9b7f72",
   "metadata": {
    "hidden": true
   },
   "outputs": [
    {
     "data": {
      "text/html": [
       "<div>\n",
       "<style scoped>\n",
       "    .dataframe tbody tr th:only-of-type {\n",
       "        vertical-align: middle;\n",
       "    }\n",
       "\n",
       "    .dataframe tbody tr th {\n",
       "        vertical-align: top;\n",
       "    }\n",
       "\n",
       "    .dataframe thead th {\n",
       "        text-align: right;\n",
       "    }\n",
       "</style>\n",
       "<table border=\"1\" class=\"dataframe\">\n",
       "  <thead>\n",
       "    <tr style=\"text-align: right;\">\n",
       "      <th></th>\n",
       "      <th>Accurate_Episode_Date</th>\n",
       "      <th>Row_ID</th>\n",
       "    </tr>\n",
       "  </thead>\n",
       "  <tbody>\n",
       "    <tr>\n",
       "      <th>531</th>\n",
       "      <td>2021-07-14</td>\n",
       "      <td>119</td>\n",
       "    </tr>\n",
       "    <tr>\n",
       "      <th>532</th>\n",
       "      <td>2021-07-15</td>\n",
       "      <td>93</td>\n",
       "    </tr>\n",
       "    <tr>\n",
       "      <th>533</th>\n",
       "      <td>2021-07-16</td>\n",
       "      <td>83</td>\n",
       "    </tr>\n",
       "    <tr>\n",
       "      <th>534</th>\n",
       "      <td>2021-07-17</td>\n",
       "      <td>44</td>\n",
       "    </tr>\n",
       "    <tr>\n",
       "      <th>535</th>\n",
       "      <td>2021-07-18</td>\n",
       "      <td>3</td>\n",
       "    </tr>\n",
       "  </tbody>\n",
       "</table>\n",
       "</div>"
      ],
      "text/plain": [
       "    Accurate_Episode_Date  Row_ID\n",
       "531            2021-07-14     119\n",
       "532            2021-07-15      93\n",
       "533            2021-07-16      83\n",
       "534            2021-07-17      44\n",
       "535            2021-07-18       3"
      ]
     },
     "execution_count": 28,
     "metadata": {},
     "output_type": "execute_result"
    }
   ],
   "source": [
    "agg = all_cases.groupby(['Accurate_Episode_Date'])['Row_ID'].count().to_frame().reset_index()\n",
    "agg['Accurate_Episode_Date'] = pd.to_datetime(agg['Accurate_Episode_Date'])\n",
    "agg = agg.loc[agg['Accurate_Episode_Date'] > '2019-06-01']\n",
    "agg.tail()"
   ]
  },
  {
   "cell_type": "markdown",
   "id": "5f7b192e",
   "metadata": {
    "hidden": true
   },
   "source": [
    "Next. Let's visualize the data to make sure our aggregation worked as expected"
   ]
  },
  {
   "cell_type": "code",
   "execution_count": 38,
   "id": "be2c455a",
   "metadata": {
    "hidden": true
   },
   "outputs": [
    {
     "data": {
      "text/plain": [
       "Text(0.5, 1.0, 'Number of cases over time')"
      ]
     },
     "execution_count": 38,
     "metadata": {},
     "output_type": "execute_result"
    },
    {
     "data": {
      "image/png": "[encoded data removed]",
      "text/plain": [
       "<Figure size 432x288 with 1 Axes>"
      ]
     },
     "metadata": {
      "needs_background": "light"
     },
     "output_type": "display_data"
    }
   ],
   "source": [
    "import matplotlib.pyplot as plt\n",
    "import matplotlib.dates as mdates\n",
    "import matplotlib.cbook as cbook\n",
    "\n",
    "fig = plt.figure()\n",
    "ax = plt.axes()\n",
    "\n",
    "x = agg['Accurate_Episode_Date']\n",
    "y = agg['Row_ID']\n",
    "ax.plot(x, y)\n",
    "\n",
    "# Major ticks every 6 months.\n",
    "fmt_half_year = mdates.MonthLocator(interval=6)\n",
    "ax.xaxis.set_major_locator(fmt_half_year)\n",
    "\n",
    "# Minor ticks every month.\n",
    "fmt_month = mdates.MonthLocator()\n",
    "ax.xaxis.set_minor_locator(fmt_month)\n",
    "\n",
    "# Text in the x axis will be displayed in 'YYYY-mm' format.\n",
    "ax.xaxis.set_major_formatter(mdates.DateFormatter('%Y-%m'))\n",
    "\n",
    "plt.title(\"Number of cases over time\")"
   ]
  },
  {
   "cell_type": "markdown",
   "id": "9ca9260d",
   "metadata": {
    "hidden": true
   },
   "source": [
    "<div style=\"padding: 10px; border: 2px black solid;\">\n",
    "\n",
    "## <font color='green'>New Tool Alert:</font> Matplotlib\n",
    "\n",
    "<img src=\"https://matplotlib.org/_static/logo2_compressed.svg\" alt=\"Matplotlib\" style=\"height: 200px;\"/>\n",
    "\n",
    "**What is it**: Matplotlib is a python library for plotting and data visualization. \n",
    "\n",
    "**Why use it**: It's free and open source and extremely customizable. \n",
    "\n",
    "**Download**: Install it by using pip ```pip install matplotlib```\n",
    "\n",
    "**Resources**: Cheat sheet [here](https://raw.githubusercontent.com/matplotlib/cheatsheets/master/cheatsheets-1.png)\n",
    "    \n",
    "</div>"
   ]
  },
  {
   "cell_type": "markdown",
   "id": "2c4738dd",
   "metadata": {
    "hidden": true
   },
   "source": [
    "We have a timeseries problem. Let's get the data in shape for it. Let's drop any data in 2019 as the tail is not going to be as relevant for predicting the most recent data. "
   ]
  },
  {
   "cell_type": "code",
   "execution_count": 29,
   "id": "d373a374",
   "metadata": {
    "hidden": true
   },
   "outputs": [
    {
     "data": {
      "text/html": [
       "<div>\n",
       "<style scoped>\n",
       "    .dataframe tbody tr th:only-of-type {\n",
       "        vertical-align: middle;\n",
       "    }\n",
       "\n",
       "    .dataframe tbody tr th {\n",
       "        vertical-align: top;\n",
       "    }\n",
       "\n",
       "    .dataframe thead th {\n",
       "        text-align: right;\n",
       "    }\n",
       "</style>\n",
       "<table border=\"1\" class=\"dataframe\">\n",
       "  <thead>\n",
       "    <tr style=\"text-align: right;\">\n",
       "      <th></th>\n",
       "      <th>Accurate_Episode_Date</th>\n",
       "      <th>Row_ID</th>\n",
       "    </tr>\n",
       "  </thead>\n",
       "  <tbody>\n",
       "    <tr>\n",
       "      <th>0</th>\n",
       "      <td>2019-05-30</td>\n",
       "      <td>1</td>\n",
       "    </tr>\n",
       "    <tr>\n",
       "      <th>1</th>\n",
       "      <td>2019-11-20</td>\n",
       "      <td>1</td>\n",
       "    </tr>\n",
       "    <tr>\n",
       "      <th>2</th>\n",
       "      <td>2020-01-01</td>\n",
       "      <td>4</td>\n",
       "    </tr>\n",
       "    <tr>\n",
       "      <th>3</th>\n",
       "      <td>2020-01-10</td>\n",
       "      <td>1</td>\n",
       "    </tr>\n",
       "    <tr>\n",
       "      <th>4</th>\n",
       "      <td>2020-01-13</td>\n",
       "      <td>1</td>\n",
       "    </tr>\n",
       "  </tbody>\n",
       "</table>\n",
       "</div>"
      ],
      "text/plain": [
       "  Accurate_Episode_Date  Row_ID\n",
       "0            2019-05-30       1\n",
       "1            2019-11-20       1\n",
       "2            2020-01-01       4\n",
       "3            2020-01-10       1\n",
       "4            2020-01-13       1"
      ]
     },
     "execution_count": 29,
     "metadata": {},
     "output_type": "execute_result"
    }
   ],
   "source": [
    "agg.head()"
   ]
  },
  {
   "cell_type": "code",
   "execution_count": 30,
   "id": "87be8c98",
   "metadata": {
    "hidden": true
   },
   "outputs": [
    {
     "data": {
      "text/html": [
       "<div>\n",
       "<style scoped>\n",
       "    .dataframe tbody tr th:only-of-type {\n",
       "        vertical-align: middle;\n",
       "    }\n",
       "\n",
       "    .dataframe tbody tr th {\n",
       "        vertical-align: top;\n",
       "    }\n",
       "\n",
       "    .dataframe thead th {\n",
       "        text-align: right;\n",
       "    }\n",
       "</style>\n",
       "<table border=\"1\" class=\"dataframe\">\n",
       "  <thead>\n",
       "    <tr style=\"text-align: right;\">\n",
       "      <th></th>\n",
       "      <th>Accurate_Episode_Date</th>\n",
       "      <th>Row_ID</th>\n",
       "    </tr>\n",
       "  </thead>\n",
       "  <tbody>\n",
       "    <tr>\n",
       "      <th>531</th>\n",
       "      <td>2021-07-14</td>\n",
       "      <td>119</td>\n",
       "    </tr>\n",
       "    <tr>\n",
       "      <th>532</th>\n",
       "      <td>2021-07-15</td>\n",
       "      <td>93</td>\n",
       "    </tr>\n",
       "    <tr>\n",
       "      <th>533</th>\n",
       "      <td>2021-07-16</td>\n",
       "      <td>83</td>\n",
       "    </tr>\n",
       "    <tr>\n",
       "      <th>534</th>\n",
       "      <td>2021-07-17</td>\n",
       "      <td>44</td>\n",
       "    </tr>\n",
       "    <tr>\n",
       "      <th>535</th>\n",
       "      <td>2021-07-18</td>\n",
       "      <td>3</td>\n",
       "    </tr>\n",
       "  </tbody>\n",
       "</table>\n",
       "</div>"
      ],
      "text/plain": [
       "    Accurate_Episode_Date  Row_ID\n",
       "531            2021-07-14     119\n",
       "532            2021-07-15      93\n",
       "533            2021-07-16      83\n",
       "534            2021-07-17      44\n",
       "535            2021-07-18       3"
      ]
     },
     "execution_count": 30,
     "metadata": {},
     "output_type": "execute_result"
    }
   ],
   "source": [
    "agg.tail()"
   ]
  },
  {
   "cell_type": "code",
   "execution_count": 31,
   "id": "51ebce5f",
   "metadata": {
    "hidden": true
   },
   "outputs": [],
   "source": [
    "agg = agg.drop(agg.loc[agg.Accurate_Episode_Date < '2020-01-01'].index)"
   ]
  },
  {
   "cell_type": "code",
   "execution_count": 32,
   "id": "f7661762",
   "metadata": {
    "hidden": true
   },
   "outputs": [
    {
     "data": {
      "text/html": [
       "<div>\n",
       "<style scoped>\n",
       "    .dataframe tbody tr th:only-of-type {\n",
       "        vertical-align: middle;\n",
       "    }\n",
       "\n",
       "    .dataframe tbody tr th {\n",
       "        vertical-align: top;\n",
       "    }\n",
       "\n",
       "    .dataframe thead th {\n",
       "        text-align: right;\n",
       "    }\n",
       "</style>\n",
       "<table border=\"1\" class=\"dataframe\">\n",
       "  <thead>\n",
       "    <tr style=\"text-align: right;\">\n",
       "      <th></th>\n",
       "      <th>Accurate_Episode_Date</th>\n",
       "      <th>Row_ID</th>\n",
       "    </tr>\n",
       "  </thead>\n",
       "  <tbody>\n",
       "    <tr>\n",
       "      <th>2</th>\n",
       "      <td>2020-01-01</td>\n",
       "      <td>4</td>\n",
       "    </tr>\n",
       "    <tr>\n",
       "      <th>3</th>\n",
       "      <td>2020-01-10</td>\n",
       "      <td>1</td>\n",
       "    </tr>\n",
       "    <tr>\n",
       "      <th>4</th>\n",
       "      <td>2020-01-13</td>\n",
       "      <td>1</td>\n",
       "    </tr>\n",
       "    <tr>\n",
       "      <th>5</th>\n",
       "      <td>2020-01-16</td>\n",
       "      <td>1</td>\n",
       "    </tr>\n",
       "    <tr>\n",
       "      <th>6</th>\n",
       "      <td>2020-01-21</td>\n",
       "      <td>1</td>\n",
       "    </tr>\n",
       "  </tbody>\n",
       "</table>\n",
       "</div>"
      ],
      "text/plain": [
       "  Accurate_Episode_Date  Row_ID\n",
       "2            2020-01-01       4\n",
       "3            2020-01-10       1\n",
       "4            2020-01-13       1\n",
       "5            2020-01-16       1\n",
       "6            2020-01-21       1"
      ]
     },
     "execution_count": 32,
     "metadata": {},
     "output_type": "execute_result"
    }
   ],
   "source": [
    "agg.head()"
   ]
  },
  {
   "cell_type": "code",
   "execution_count": 33,
   "id": "018bc5d3",
   "metadata": {
    "hidden": true
   },
   "outputs": [],
   "source": [
    "agg['t-1'] = agg['Row_ID'].shift(1)\n",
    "agg['t-2'] = agg['Row_ID'].shift(2)\n",
    "agg['t-3'] = agg['Row_ID'].shift(3)\n",
    "agg['t-4'] = agg['Row_ID'].shift(4)\n",
    "agg['t-5'] = agg['Row_ID'].shift(5)\n",
    "agg['t-6'] = agg['Row_ID'].shift(6)\n",
    "agg['t-7'] = agg['Row_ID'].shift(7)\n",
    "agg['t'] = agg['Row_ID']"
   ]
  },
  {
   "cell_type": "code",
   "execution_count": 35,
   "id": "a9e25e54",
   "metadata": {
    "hidden": true
   },
   "outputs": [
    {
     "data": {
      "text/html": [
       "<div>\n",
       "<style scoped>\n",
       "    .dataframe tbody tr th:only-of-type {\n",
       "        vertical-align: middle;\n",
       "    }\n",
       "\n",
       "    .dataframe tbody tr th {\n",
       "        vertical-align: top;\n",
       "    }\n",
       "\n",
       "    .dataframe thead th {\n",
       "        text-align: right;\n",
       "    }\n",
       "</style>\n",
       "<table border=\"1\" class=\"dataframe\">\n",
       "  <thead>\n",
       "    <tr style=\"text-align: right;\">\n",
       "      <th></th>\n",
       "      <th>Accurate_Episode_Date</th>\n",
       "      <th>Row_ID</th>\n",
       "      <th>t-1</th>\n",
       "      <th>t-2</th>\n",
       "      <th>t-3</th>\n",
       "      <th>t-4</th>\n",
       "      <th>t-5</th>\n",
       "      <th>t-6</th>\n",
       "      <th>t-7</th>\n",
       "      <th>t</th>\n",
       "    </tr>\n",
       "  </thead>\n",
       "  <tbody>\n",
       "    <tr>\n",
       "      <th>2</th>\n",
       "      <td>2020-01-01</td>\n",
       "      <td>4</td>\n",
       "      <td>NaN</td>\n",
       "      <td>NaN</td>\n",
       "      <td>NaN</td>\n",
       "      <td>NaN</td>\n",
       "      <td>NaN</td>\n",
       "      <td>NaN</td>\n",
       "      <td>NaN</td>\n",
       "      <td>4</td>\n",
       "    </tr>\n",
       "    <tr>\n",
       "      <th>3</th>\n",
       "      <td>2020-01-10</td>\n",
       "      <td>1</td>\n",
       "      <td>4.0</td>\n",
       "      <td>NaN</td>\n",
       "      <td>NaN</td>\n",
       "      <td>NaN</td>\n",
       "      <td>NaN</td>\n",
       "      <td>NaN</td>\n",
       "      <td>NaN</td>\n",
       "      <td>1</td>\n",
       "    </tr>\n",
       "    <tr>\n",
       "      <th>4</th>\n",
       "      <td>2020-01-13</td>\n",
       "      <td>1</td>\n",
       "      <td>1.0</td>\n",
       "      <td>4.0</td>\n",
       "      <td>NaN</td>\n",
       "      <td>NaN</td>\n",
       "      <td>NaN</td>\n",
       "      <td>NaN</td>\n",
       "      <td>NaN</td>\n",
       "      <td>1</td>\n",
       "    </tr>\n",
       "    <tr>\n",
       "      <th>5</th>\n",
       "      <td>2020-01-16</td>\n",
       "      <td>1</td>\n",
       "      <td>1.0</td>\n",
       "      <td>1.0</td>\n",
       "      <td>4.0</td>\n",
       "      <td>NaN</td>\n",
       "      <td>NaN</td>\n",
       "      <td>NaN</td>\n",
       "      <td>NaN</td>\n",
       "      <td>1</td>\n",
       "    </tr>\n",
       "    <tr>\n",
       "      <th>6</th>\n",
       "      <td>2020-01-21</td>\n",
       "      <td>1</td>\n",
       "      <td>1.0</td>\n",
       "      <td>1.0</td>\n",
       "      <td>1.0</td>\n",
       "      <td>4.0</td>\n",
       "      <td>NaN</td>\n",
       "      <td>NaN</td>\n",
       "      <td>NaN</td>\n",
       "      <td>1</td>\n",
       "    </tr>\n",
       "    <tr>\n",
       "      <th>7</th>\n",
       "      <td>2020-01-22</td>\n",
       "      <td>2</td>\n",
       "      <td>1.0</td>\n",
       "      <td>1.0</td>\n",
       "      <td>1.0</td>\n",
       "      <td>1.0</td>\n",
       "      <td>4.0</td>\n",
       "      <td>NaN</td>\n",
       "      <td>NaN</td>\n",
       "      <td>2</td>\n",
       "    </tr>\n",
       "    <tr>\n",
       "      <th>8</th>\n",
       "      <td>2020-01-24</td>\n",
       "      <td>1</td>\n",
       "      <td>2.0</td>\n",
       "      <td>1.0</td>\n",
       "      <td>1.0</td>\n",
       "      <td>1.0</td>\n",
       "      <td>1.0</td>\n",
       "      <td>4.0</td>\n",
       "      <td>NaN</td>\n",
       "      <td>1</td>\n",
       "    </tr>\n",
       "    <tr>\n",
       "      <th>9</th>\n",
       "      <td>2020-01-25</td>\n",
       "      <td>1</td>\n",
       "      <td>1.0</td>\n",
       "      <td>2.0</td>\n",
       "      <td>1.0</td>\n",
       "      <td>1.0</td>\n",
       "      <td>1.0</td>\n",
       "      <td>1.0</td>\n",
       "      <td>4.0</td>\n",
       "      <td>1</td>\n",
       "    </tr>\n",
       "    <tr>\n",
       "      <th>10</th>\n",
       "      <td>2020-01-27</td>\n",
       "      <td>1</td>\n",
       "      <td>1.0</td>\n",
       "      <td>1.0</td>\n",
       "      <td>2.0</td>\n",
       "      <td>1.0</td>\n",
       "      <td>1.0</td>\n",
       "      <td>1.0</td>\n",
       "      <td>1.0</td>\n",
       "      <td>1</td>\n",
       "    </tr>\n",
       "    <tr>\n",
       "      <th>11</th>\n",
       "      <td>2020-01-31</td>\n",
       "      <td>1</td>\n",
       "      <td>1.0</td>\n",
       "      <td>1.0</td>\n",
       "      <td>1.0</td>\n",
       "      <td>2.0</td>\n",
       "      <td>1.0</td>\n",
       "      <td>1.0</td>\n",
       "      <td>1.0</td>\n",
       "      <td>1</td>\n",
       "    </tr>\n",
       "    <tr>\n",
       "      <th>12</th>\n",
       "      <td>2020-02-01</td>\n",
       "      <td>1</td>\n",
       "      <td>1.0</td>\n",
       "      <td>1.0</td>\n",
       "      <td>1.0</td>\n",
       "      <td>1.0</td>\n",
       "      <td>2.0</td>\n",
       "      <td>1.0</td>\n",
       "      <td>1.0</td>\n",
       "      <td>1</td>\n",
       "    </tr>\n",
       "    <tr>\n",
       "      <th>13</th>\n",
       "      <td>2020-02-02</td>\n",
       "      <td>1</td>\n",
       "      <td>1.0</td>\n",
       "      <td>1.0</td>\n",
       "      <td>1.0</td>\n",
       "      <td>1.0</td>\n",
       "      <td>1.0</td>\n",
       "      <td>2.0</td>\n",
       "      <td>1.0</td>\n",
       "      <td>1</td>\n",
       "    </tr>\n",
       "    <tr>\n",
       "      <th>14</th>\n",
       "      <td>2020-02-05</td>\n",
       "      <td>1</td>\n",
       "      <td>1.0</td>\n",
       "      <td>1.0</td>\n",
       "      <td>1.0</td>\n",
       "      <td>1.0</td>\n",
       "      <td>1.0</td>\n",
       "      <td>1.0</td>\n",
       "      <td>2.0</td>\n",
       "      <td>1</td>\n",
       "    </tr>\n",
       "    <tr>\n",
       "      <th>15</th>\n",
       "      <td>2020-02-10</td>\n",
       "      <td>2</td>\n",
       "      <td>1.0</td>\n",
       "      <td>1.0</td>\n",
       "      <td>1.0</td>\n",
       "      <td>1.0</td>\n",
       "      <td>1.0</td>\n",
       "      <td>1.0</td>\n",
       "      <td>1.0</td>\n",
       "      <td>2</td>\n",
       "    </tr>\n",
       "  </tbody>\n",
       "</table>\n",
       "</div>"
      ],
      "text/plain": [
       "   Accurate_Episode_Date  Row_ID  t-1  t-2  t-3  t-4  t-5  t-6  t-7  t\n",
       "2             2020-01-01       4  NaN  NaN  NaN  NaN  NaN  NaN  NaN  4\n",
       "3             2020-01-10       1  4.0  NaN  NaN  NaN  NaN  NaN  NaN  1\n",
       "4             2020-01-13       1  1.0  4.0  NaN  NaN  NaN  NaN  NaN  1\n",
       "5             2020-01-16       1  1.0  1.0  4.0  NaN  NaN  NaN  NaN  1\n",
       "6             2020-01-21       1  1.0  1.0  1.0  4.0  NaN  NaN  NaN  1\n",
       "7             2020-01-22       2  1.0  1.0  1.0  1.0  4.0  NaN  NaN  2\n",
       "8             2020-01-24       1  2.0  1.0  1.0  1.0  1.0  4.0  NaN  1\n",
       "9             2020-01-25       1  1.0  2.0  1.0  1.0  1.0  1.0  4.0  1\n",
       "10            2020-01-27       1  1.0  1.0  2.0  1.0  1.0  1.0  1.0  1\n",
       "11            2020-01-31       1  1.0  1.0  1.0  2.0  1.0  1.0  1.0  1\n",
       "12            2020-02-01       1  1.0  1.0  1.0  1.0  2.0  1.0  1.0  1\n",
       "13            2020-02-02       1  1.0  1.0  1.0  1.0  1.0  2.0  1.0  1\n",
       "14            2020-02-05       1  1.0  1.0  1.0  1.0  1.0  1.0  2.0  1\n",
       "15            2020-02-10       2  1.0  1.0  1.0  1.0  1.0  1.0  1.0  2"
      ]
     },
     "execution_count": 35,
     "metadata": {},
     "output_type": "execute_result"
    }
   ],
   "source": [
    "agg.head(14)"
   ]
  },
  {
   "cell_type": "code",
   "execution_count": 36,
   "id": "24ddc7c8",
   "metadata": {
    "hidden": true
   },
   "outputs": [],
   "source": [
    "agg.dropna(how='any',inplace=True)"
   ]
  },
  {
   "cell_type": "code",
   "execution_count": 37,
   "id": "fa915e8e",
   "metadata": {
    "hidden": true
   },
   "outputs": [
    {
     "data": {
      "text/html": [
       "<div>\n",
       "<style scoped>\n",
       "    .dataframe tbody tr th:only-of-type {\n",
       "        vertical-align: middle;\n",
       "    }\n",
       "\n",
       "    .dataframe tbody tr th {\n",
       "        vertical-align: top;\n",
       "    }\n",
       "\n",
       "    .dataframe thead th {\n",
       "        text-align: right;\n",
       "    }\n",
       "</style>\n",
       "<table border=\"1\" class=\"dataframe\">\n",
       "  <thead>\n",
       "    <tr style=\"text-align: right;\">\n",
       "      <th></th>\n",
       "      <th>Accurate_Episode_Date</th>\n",
       "      <th>Row_ID</th>\n",
       "      <th>t-1</th>\n",
       "      <th>t-2</th>\n",
       "      <th>t-3</th>\n",
       "      <th>t-4</th>\n",
       "      <th>t-5</th>\n",
       "      <th>t-6</th>\n",
       "      <th>t-7</th>\n",
       "      <th>t</th>\n",
       "    </tr>\n",
       "  </thead>\n",
       "  <tbody>\n",
       "    <tr>\n",
       "      <th>9</th>\n",
       "      <td>2020-01-25</td>\n",
       "      <td>1</td>\n",
       "      <td>1.0</td>\n",
       "      <td>2.0</td>\n",
       "      <td>1.0</td>\n",
       "      <td>1.0</td>\n",
       "      <td>1.0</td>\n",
       "      <td>1.0</td>\n",
       "      <td>4.0</td>\n",
       "      <td>1</td>\n",
       "    </tr>\n",
       "    <tr>\n",
       "      <th>10</th>\n",
       "      <td>2020-01-27</td>\n",
       "      <td>1</td>\n",
       "      <td>1.0</td>\n",
       "      <td>1.0</td>\n",
       "      <td>2.0</td>\n",
       "      <td>1.0</td>\n",
       "      <td>1.0</td>\n",
       "      <td>1.0</td>\n",
       "      <td>1.0</td>\n",
       "      <td>1</td>\n",
       "    </tr>\n",
       "    <tr>\n",
       "      <th>11</th>\n",
       "      <td>2020-01-31</td>\n",
       "      <td>1</td>\n",
       "      <td>1.0</td>\n",
       "      <td>1.0</td>\n",
       "      <td>1.0</td>\n",
       "      <td>2.0</td>\n",
       "      <td>1.0</td>\n",
       "      <td>1.0</td>\n",
       "      <td>1.0</td>\n",
       "      <td>1</td>\n",
       "    </tr>\n",
       "    <tr>\n",
       "      <th>12</th>\n",
       "      <td>2020-02-01</td>\n",
       "      <td>1</td>\n",
       "      <td>1.0</td>\n",
       "      <td>1.0</td>\n",
       "      <td>1.0</td>\n",
       "      <td>1.0</td>\n",
       "      <td>2.0</td>\n",
       "      <td>1.0</td>\n",
       "      <td>1.0</td>\n",
       "      <td>1</td>\n",
       "    </tr>\n",
       "    <tr>\n",
       "      <th>13</th>\n",
       "      <td>2020-02-02</td>\n",
       "      <td>1</td>\n",
       "      <td>1.0</td>\n",
       "      <td>1.0</td>\n",
       "      <td>1.0</td>\n",
       "      <td>1.0</td>\n",
       "      <td>1.0</td>\n",
       "      <td>2.0</td>\n",
       "      <td>1.0</td>\n",
       "      <td>1</td>\n",
       "    </tr>\n",
       "  </tbody>\n",
       "</table>\n",
       "</div>"
      ],
      "text/plain": [
       "   Accurate_Episode_Date  Row_ID  t-1  t-2  t-3  t-4  t-5  t-6  t-7  t\n",
       "9             2020-01-25       1  1.0  2.0  1.0  1.0  1.0  1.0  4.0  1\n",
       "10            2020-01-27       1  1.0  1.0  2.0  1.0  1.0  1.0  1.0  1\n",
       "11            2020-01-31       1  1.0  1.0  1.0  2.0  1.0  1.0  1.0  1\n",
       "12            2020-02-01       1  1.0  1.0  1.0  1.0  2.0  1.0  1.0  1\n",
       "13            2020-02-02       1  1.0  1.0  1.0  1.0  1.0  2.0  1.0  1"
      ]
     },
     "execution_count": 37,
     "metadata": {},
     "output_type": "execute_result"
    }
   ],
   "source": [
    "agg.head()"
   ]
  },
  {
   "cell_type": "code",
   "execution_count": 38,
   "id": "6a14caf2",
   "metadata": {
    "hidden": true
   },
   "outputs": [
    {
     "data": {
      "text/html": [
       "<div>\n",
       "<style scoped>\n",
       "    .dataframe tbody tr th:only-of-type {\n",
       "        vertical-align: middle;\n",
       "    }\n",
       "\n",
       "    .dataframe tbody tr th {\n",
       "        vertical-align: top;\n",
       "    }\n",
       "\n",
       "    .dataframe thead th {\n",
       "        text-align: right;\n",
       "    }\n",
       "</style>\n",
       "<table border=\"1\" class=\"dataframe\">\n",
       "  <thead>\n",
       "    <tr style=\"text-align: right;\">\n",
       "      <th></th>\n",
       "      <th>Accurate_Episode_Date</th>\n",
       "      <th>Row_ID</th>\n",
       "      <th>t-1</th>\n",
       "      <th>t-2</th>\n",
       "      <th>t-3</th>\n",
       "      <th>t-4</th>\n",
       "      <th>t-5</th>\n",
       "      <th>t-6</th>\n",
       "      <th>t-7</th>\n",
       "      <th>t</th>\n",
       "    </tr>\n",
       "  </thead>\n",
       "  <tbody>\n",
       "    <tr>\n",
       "      <th>531</th>\n",
       "      <td>2021-07-14</td>\n",
       "      <td>119</td>\n",
       "      <td>124.0</td>\n",
       "      <td>153.0</td>\n",
       "      <td>112.0</td>\n",
       "      <td>121.0</td>\n",
       "      <td>151.0</td>\n",
       "      <td>120.0</td>\n",
       "      <td>160.0</td>\n",
       "      <td>119</td>\n",
       "    </tr>\n",
       "    <tr>\n",
       "      <th>532</th>\n",
       "      <td>2021-07-15</td>\n",
       "      <td>93</td>\n",
       "      <td>119.0</td>\n",
       "      <td>124.0</td>\n",
       "      <td>153.0</td>\n",
       "      <td>112.0</td>\n",
       "      <td>121.0</td>\n",
       "      <td>151.0</td>\n",
       "      <td>120.0</td>\n",
       "      <td>93</td>\n",
       "    </tr>\n",
       "    <tr>\n",
       "      <th>533</th>\n",
       "      <td>2021-07-16</td>\n",
       "      <td>83</td>\n",
       "      <td>93.0</td>\n",
       "      <td>119.0</td>\n",
       "      <td>124.0</td>\n",
       "      <td>153.0</td>\n",
       "      <td>112.0</td>\n",
       "      <td>121.0</td>\n",
       "      <td>151.0</td>\n",
       "      <td>83</td>\n",
       "    </tr>\n",
       "    <tr>\n",
       "      <th>534</th>\n",
       "      <td>2021-07-17</td>\n",
       "      <td>44</td>\n",
       "      <td>83.0</td>\n",
       "      <td>93.0</td>\n",
       "      <td>119.0</td>\n",
       "      <td>124.0</td>\n",
       "      <td>153.0</td>\n",
       "      <td>112.0</td>\n",
       "      <td>121.0</td>\n",
       "      <td>44</td>\n",
       "    </tr>\n",
       "    <tr>\n",
       "      <th>535</th>\n",
       "      <td>2021-07-18</td>\n",
       "      <td>3</td>\n",
       "      <td>44.0</td>\n",
       "      <td>83.0</td>\n",
       "      <td>93.0</td>\n",
       "      <td>119.0</td>\n",
       "      <td>124.0</td>\n",
       "      <td>153.0</td>\n",
       "      <td>112.0</td>\n",
       "      <td>3</td>\n",
       "    </tr>\n",
       "  </tbody>\n",
       "</table>\n",
       "</div>"
      ],
      "text/plain": [
       "    Accurate_Episode_Date  Row_ID    t-1    t-2    t-3    t-4    t-5    t-6  \\\n",
       "531            2021-07-14     119  124.0  153.0  112.0  121.0  151.0  120.0   \n",
       "532            2021-07-15      93  119.0  124.0  153.0  112.0  121.0  151.0   \n",
       "533            2021-07-16      83   93.0  119.0  124.0  153.0  112.0  121.0   \n",
       "534            2021-07-17      44   83.0   93.0  119.0  124.0  153.0  112.0   \n",
       "535            2021-07-18       3   44.0   83.0   93.0  119.0  124.0  153.0   \n",
       "\n",
       "       t-7    t  \n",
       "531  160.0  119  \n",
       "532  120.0   93  \n",
       "533  151.0   83  \n",
       "534  121.0   44  \n",
       "535  112.0    3  "
      ]
     },
     "execution_count": 38,
     "metadata": {},
     "output_type": "execute_result"
    }
   ],
   "source": [
    "agg.tail()"
   ]
  },
  {
   "cell_type": "code",
   "execution_count": 39,
   "id": "7b81cbd1",
   "metadata": {
    "hidden": true
   },
   "outputs": [],
   "source": [
    "x = agg[['t-1','t-2','t-3','t-4','t-5','t-6','t-7']]\n",
    "y = agg['t']\n",
    "\n",
    "test_size = 0.3\n",
    "dataset_size = len(agg)\n",
    "test_index = int(test_size * dataset_size)\n",
    "\n",
    "\n",
    "x_train, x_test, y_train, y_test = x[:test_index], x[test_index:], y[:test_index], y[test_index:]"
   ]
  },
  {
   "cell_type": "code",
   "execution_count": 40,
   "id": "b44e6582",
   "metadata": {
    "hidden": true
   },
   "outputs": [
    {
     "data": {
      "text/plain": [
       "(527, 7)"
      ]
     },
     "execution_count": 40,
     "metadata": {},
     "output_type": "execute_result"
    }
   ],
   "source": [
    "x.shape"
   ]
  },
  {
   "cell_type": "code",
   "execution_count": 41,
   "id": "937069d7",
   "metadata": {
    "hidden": true
   },
   "outputs": [
    {
     "data": {
      "text/plain": [
       "(527,)"
      ]
     },
     "execution_count": 41,
     "metadata": {},
     "output_type": "execute_result"
    }
   ],
   "source": [
    "y.shape"
   ]
  },
  {
   "cell_type": "code",
   "execution_count": 42,
   "id": "43c772e6",
   "metadata": {
    "hidden": true
   },
   "outputs": [
    {
     "data": {
      "text/html": [
       "<div>\n",
       "<style scoped>\n",
       "    .dataframe tbody tr th:only-of-type {\n",
       "        vertical-align: middle;\n",
       "    }\n",
       "\n",
       "    .dataframe tbody tr th {\n",
       "        vertical-align: top;\n",
       "    }\n",
       "\n",
       "    .dataframe thead th {\n",
       "        text-align: right;\n",
       "    }\n",
       "</style>\n",
       "<table border=\"1\" class=\"dataframe\">\n",
       "  <thead>\n",
       "    <tr style=\"text-align: right;\">\n",
       "      <th></th>\n",
       "      <th>t-1</th>\n",
       "      <th>t-2</th>\n",
       "      <th>t-3</th>\n",
       "      <th>t-4</th>\n",
       "      <th>t-5</th>\n",
       "      <th>t-6</th>\n",
       "      <th>t-7</th>\n",
       "    </tr>\n",
       "  </thead>\n",
       "  <tbody>\n",
       "    <tr>\n",
       "      <th>9</th>\n",
       "      <td>1.0</td>\n",
       "      <td>2.0</td>\n",
       "      <td>1.0</td>\n",
       "      <td>1.0</td>\n",
       "      <td>1.0</td>\n",
       "      <td>1.0</td>\n",
       "      <td>4.0</td>\n",
       "    </tr>\n",
       "    <tr>\n",
       "      <th>10</th>\n",
       "      <td>1.0</td>\n",
       "      <td>1.0</td>\n",
       "      <td>2.0</td>\n",
       "      <td>1.0</td>\n",
       "      <td>1.0</td>\n",
       "      <td>1.0</td>\n",
       "      <td>1.0</td>\n",
       "    </tr>\n",
       "    <tr>\n",
       "      <th>11</th>\n",
       "      <td>1.0</td>\n",
       "      <td>1.0</td>\n",
       "      <td>1.0</td>\n",
       "      <td>2.0</td>\n",
       "      <td>1.0</td>\n",
       "      <td>1.0</td>\n",
       "      <td>1.0</td>\n",
       "    </tr>\n",
       "    <tr>\n",
       "      <th>12</th>\n",
       "      <td>1.0</td>\n",
       "      <td>1.0</td>\n",
       "      <td>1.0</td>\n",
       "      <td>1.0</td>\n",
       "      <td>2.0</td>\n",
       "      <td>1.0</td>\n",
       "      <td>1.0</td>\n",
       "    </tr>\n",
       "    <tr>\n",
       "      <th>13</th>\n",
       "      <td>1.0</td>\n",
       "      <td>1.0</td>\n",
       "      <td>1.0</td>\n",
       "      <td>1.0</td>\n",
       "      <td>1.0</td>\n",
       "      <td>2.0</td>\n",
       "      <td>1.0</td>\n",
       "    </tr>\n",
       "  </tbody>\n",
       "</table>\n",
       "</div>"
      ],
      "text/plain": [
       "    t-1  t-2  t-3  t-4  t-5  t-6  t-7\n",
       "9   1.0  2.0  1.0  1.0  1.0  1.0  4.0\n",
       "10  1.0  1.0  2.0  1.0  1.0  1.0  1.0\n",
       "11  1.0  1.0  1.0  2.0  1.0  1.0  1.0\n",
       "12  1.0  1.0  1.0  1.0  2.0  1.0  1.0\n",
       "13  1.0  1.0  1.0  1.0  1.0  2.0  1.0"
      ]
     },
     "execution_count": 42,
     "metadata": {},
     "output_type": "execute_result"
    }
   ],
   "source": [
    "x_train.head()"
   ]
  },
  {
   "cell_type": "code",
   "execution_count": 43,
   "id": "7c794d2e",
   "metadata": {
    "hidden": true
   },
   "outputs": [
    {
     "data": {
      "text/plain": [
       "9     1\n",
       "10    1\n",
       "11    1\n",
       "12    1\n",
       "13    1\n",
       "Name: t, dtype: int64"
      ]
     },
     "execution_count": 43,
     "metadata": {},
     "output_type": "execute_result"
    }
   ],
   "source": [
    "y_train.head()"
   ]
  },
  {
   "cell_type": "markdown",
   "id": "042e874e",
   "metadata": {
    "heading_collapsed": true
   },
   "source": [
    "## Modelling and Evaluation"
   ]
  },
  {
   "cell_type": "code",
   "execution_count": 152,
   "id": "1528cf3b",
   "metadata": {
    "hidden": true
   },
   "outputs": [
    {
     "data": {
      "text/plain": [
       "928.0243631436314"
      ]
     },
     "execution_count": 152,
     "metadata": {},
     "output_type": "execute_result"
    }
   ],
   "source": [
    "from sklearn.ensemble import RandomForestRegressor\n",
    "from sklearn.metrics import mean_absolute_error\n",
    "\n",
    "\n",
    "regr = RandomForestRegressor()\n",
    "regr.fit(x_train,y_train)\n",
    "y_pred = regr.predict(x_test)\n",
    "mean_absolute_error(y_test,y_pred)"
   ]
  },
  {
   "cell_type": "code",
   "execution_count": 153,
   "id": "b8782128",
   "metadata": {
    "hidden": true
   },
   "outputs": [
    {
     "data": {
      "text/plain": [
       "128.64323043312737"
      ]
     },
     "execution_count": 153,
     "metadata": {},
     "output_type": "execute_result"
    }
   ],
   "source": [
    "from sklearn.linear_model import LinearRegression\n",
    "\n",
    "regr = LinearRegression()\n",
    "regr.fit(x_train,y_train)\n",
    "y_pred = regr.predict(x_test)\n",
    "mean_absolute_error(y_test,y_pred)"
   ]
  },
  {
   "cell_type": "code",
   "execution_count": 155,
   "id": "7698d237",
   "metadata": {
    "hidden": true
   },
   "outputs": [
    {
     "data": {
      "text/plain": [
       "128.68258682634612"
      ]
     },
     "execution_count": 155,
     "metadata": {},
     "output_type": "execute_result"
    }
   ],
   "source": [
    "from sklearn.linear_model import Lasso\n",
    "\n",
    "regr = Lasso()\n",
    "regr.fit(x_train,y_train)\n",
    "y_pred = regr.predict(x_test)\n",
    "mean_absolute_error(y_test,y_pred)"
   ]
  },
  {
   "cell_type": "code",
   "execution_count": 156,
   "id": "1f0a8144",
   "metadata": {
    "hidden": true
   },
   "outputs": [
    {
     "data": {
      "text/plain": [
       "128.64323845010708"
      ]
     },
     "execution_count": 156,
     "metadata": {},
     "output_type": "execute_result"
    }
   ],
   "source": [
    "from sklearn.linear_model import Ridge\n",
    "\n",
    "regr = Ridge()\n",
    "regr.fit(x_train,y_train)\n",
    "y_pred = regr.predict(x_test)\n",
    "mean_absolute_error(y_test,y_pred)"
   ]
  },
  {
   "cell_type": "code",
   "execution_count": 158,
   "id": "99b26423",
   "metadata": {
    "hidden": true
   },
   "outputs": [
    {
     "data": {
      "text/plain": [
       "1187.0961775535782"
      ]
     },
     "execution_count": 158,
     "metadata": {},
     "output_type": "execute_result"
    }
   ],
   "source": [
    "from sklearn.svm import SVR\n",
    "\n",
    "regr = SVR(kernel='rbf')\n",
    "regr.fit(x_train,y_train)\n",
    "y_pred = regr.predict(x_test)\n",
    "mean_absolute_error(y_test,y_pred)"
   ]
  },
  {
   "cell_type": "markdown",
   "id": "3eb13c52",
   "metadata": {
    "hidden": true
   },
   "source": [
    "<div style=\"padding: 10px; border: 2px black solid;\">\n",
    "\n",
    "## <font color='green'>New Tool Alert:</font> Scikit-Learn\n",
    "\n",
    "<img src=\"https://upload.wikimedia.org/wikipedia/commons/thumb/0/05/Scikit_learn_logo_small.svg/1200px-Scikit_learn_logo_small.svg.png\" alt=\"Sklearn\" style=\"height: 200px;\"/>\n",
    "\n",
    "**What is it**: Scikit-Learn is a python library for machine learning. \n",
    "\n",
    "**Why use it**:  It has various classification, regression and clustering algorithms and is designed to run efficiently. \n",
    "\n",
    "**Download**: Install it by using pip ```pip install sklearn```\n",
    "\n",
    "**Resources**: Library cheat sheet [here](https://d1jnx9ba8s6j9r.cloudfront.net/blog/wp-content/uploads/2018/09/Python-Cheat-Sheet-for-Scikit-learn-Edureka.pdf?utm_source=blog&utm_medium=cheat-sheet&utm_campaign=Scikit-Cheat-Sheet-28-09-2018-AH). Model selection cheat sheet [here](https://scikit-learn.org/stable/_static/ml_map.png)\n",
    "    \n",
    "</div>"
   ]
  },
  {
   "cell_type": "markdown",
   "id": "bc936b6c",
   "metadata": {
    "heading_collapsed": true
   },
   "source": [
    "## Deployment"
   ]
  },
  {
   "cell_type": "markdown",
   "id": "ba05f64a",
   "metadata": {
    "hidden": true
   },
   "source": [
    "Now that you have a model you have to figure out how you want to present the results and deploy it into production. This could be in the form of a visualization in tableau or powerbi, it could be in the form of an email to your boss that gets sent every day, the numbers itself could be displayed live on a site or so much more. "
   ]
  },
  {
   "cell_type": "markdown",
   "id": "0f91ea58",
   "metadata": {
    "hidden": true
   },
   "source": [
    "Depending on the use case, it may make sense to deploy the model into the cloud and let it run there automatically. Below I will introduce a few more tools for you to be aware of"
   ]
  },
  {
   "cell_type": "markdown",
   "id": "2a079547",
   "metadata": {
    "hidden": true
   },
   "source": [
    "<div style=\"padding: 10px; border: 2px black solid;\">\n",
    "\n",
    "## <font color='green'>New Tool Alert:</font> Docker\n",
    "\n",
    "<img src=\"https://logos-world.net/wp-content/uploads/2021/02/Docker-Symbol.png\" alt=\"Sklearn\" style=\"height: 200px;\"/>\n",
    "\n",
    "**What is it**: Containerization tool mainly used for shipping and running applications quickly across different platforms\n",
    "\n",
    "**Why use it**:  Four main advantages:\n",
    "* Isolation: It helps us create an environment agnostic system. Your application runs smoothly on different platforms. This is essentially achieved using containers. \n",
    "* Portability: Since all of your dependencies are in the same container, it’s easy to carry from one place to another giving Docker its portability.\n",
    "* Lightweight: Runs as another application on your system instead of consuming whole lot resources of your system.\n",
    "* Robustness: Less demanding in terms of hardware and needs very little memory as compared to VMs, hence providing efficient isolation levels which help save not only the cost but also time.\n",
    "\n",
    "**Download**: Download it from [here](https://docs.docker.com/get-docker/)\n",
    "\n",
    "**Resources**: Cheat sheet [here](https://www.docker.com/sites/default/files/d8/2019-09/docker-cheat-sheet.pdf)\n",
    "    \n",
    "</div>"
   ]
  },
  {
   "cell_type": "markdown",
   "id": "5256e711",
   "metadata": {
    "hidden": true
   },
   "source": [
    "You can see that there in the deploy folder, key aspects of the code have been moved over to a ```deploy.py``` foldere. Furthermore there is a new file called a ```Dockerfile``` that specifies the instructions for running the deploy file. If you have docker installed locally, you can try to build the image using the ```docker build -t dstools:1.0 .``` command and then run it using ```docker run dstools:1.0``` "
   ]
  },
  {
   "cell_type": "markdown",
   "id": "a943fd6e",
   "metadata": {
    "hidden": true
   },
   "source": [
    "This docker folder can now be run on the cloud, someone else's computer or anywhere that has docker installed. If you want to deploy your own model, you can use a cloud infrastructure provider such as AWS, GCP, or Azure or use a platform as a service provider such as Heroku."
   ]
  }
 ],
 "metadata": {
  "kernelspec": {
   "display_name": "Python 3",
   "language": "python",
   "name": "python3"
  },
  "language_info": {
   "codemirror_mode": {
    "name": "ipython",
    "version": 3
   },
   "file_extension": ".py",
   "mimetype": "text/x-python",
   "name": "python",
   "nbconvert_exporter": "python",
   "pygments_lexer": "ipython3",
   "version": "3.9.5"
  }
 },
 "nbformat": 4,
 "nbformat_minor": 5
}
