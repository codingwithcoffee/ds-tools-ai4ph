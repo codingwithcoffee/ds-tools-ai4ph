{
 "cells": [
  {
   "cell_type": "markdown",
   "id": "664d165a",
   "metadata": {},
   "source": [
    "# AI in Production: Data Science Tools"
   ]
  },
  {
   "cell_type": "markdown",
   "id": "130a8c83",
   "metadata": {},
   "source": [
    "This notebook is meant to accompany [these slides](https://docs.google.com/presentation/d/1nVuLd79JPxDpQ4wKsGPNIZJcw6Ocm-gAjJaxtNWAcpk/edit#slide=id.p). Prepared for Artificial Intelligence for Public Health (AI4PH) Summer Institute. "
   ]
  },
  {
   "cell_type": "markdown",
   "id": "82c5226f",
   "metadata": {},
   "source": [
    "## <font color='green'>New Tool Alert:</font> Anaconda"
   ]
  },
  {
   "cell_type": "markdown",
   "id": "54f18f06",
   "metadata": {},
   "source": [
    "<img src=\"https://upload.wikimedia.org/wikipedia/en/thumb/c/cd/Anaconda_Logo.png/440px-Anaconda_Logo.png\" alt=\"Anaconda Logo\" style=\"height: 100px;\"/>"
   ]
  },
  {
   "cell_type": "markdown",
   "id": "12da6c03",
   "metadata": {},
   "source": [
    "**What is it**: Anaconda is a distribution of the Python and R programming languages for scientific computing, that aims to simplify package management and deployment. The distribution includes data-science packages suitable for Windows, Linux, and macOS."
   ]
  },
  {
   "cell_type": "markdown",
   "id": "1fa77fd8",
   "metadata": {},
   "source": [
    "**Why use it**: Anaconda lets you easily create and manage various environment with isolated dependencies."
   ]
  },
  {
   "cell_type": "markdown",
   "id": "07f3037e",
   "metadata": {},
   "source": [
    "**Download**: Download from [here](https://www.anaconda.com/products/individual)"
   ]
  },
  {
   "cell_type": "markdown",
   "id": "df0ecc27",
   "metadata": {},
   "source": [
    "**Resources**: Conda cheat sheet [here](https://docs.conda.io/projects/conda/en/4.6.0/_downloads/52a95608c49671267e40c689e0bc00ca/conda-cheatsheet.pdf)"
   ]
  },
  {
   "cell_type": "markdown",
   "id": "222a0da9",
   "metadata": {},
   "source": [
    "### Setting Up Anaconda Environment and Installing Jupyter Notebooks"
   ]
  },
  {
   "cell_type": "markdown",
   "id": "df9184cb",
   "metadata": {},
   "source": [
    "After installing anaconda, open up your command prompt or terminal window"
   ]
  },
  {
   "cell_type": "markdown",
   "id": "c1fd2785",
   "metadata": {},
   "source": [
    "Create a new environment\n",
    "```\n",
    "conda create --name dstools\n",
    "\n",
    "```"
   ]
  },
  {
   "cell_type": "markdown",
   "id": "3ed8fc25",
   "metadata": {},
   "source": [
    "To see if the command worked and list all your environments run\n",
    "```\n",
    "conda env list\n",
    "```"
   ]
  },
  {
   "cell_type": "markdown",
   "id": "d43116b3",
   "metadata": {},
   "source": [
    "<img src=\"./list.png\" alt=\"Image Info\" style=\"height: 300px;\"/>"
   ]
  },
  {
   "cell_type": "markdown",
   "id": "faf18ac3",
   "metadata": {},
   "source": [
    "Now activate the environment by running\n",
    "```\n",
    "conda activate dstools\n",
    "```"
   ]
  },
  {
   "cell_type": "markdown",
   "id": "6b5f6e29",
   "metadata": {},
   "source": [
    "Finally install jupyter notebooks\n",
    "```\n",
    "conda install jupyter notebook\n",
    "```"
   ]
  },
  {
   "cell_type": "markdown",
   "id": "361aeaf5",
   "metadata": {},
   "source": [
    "Now lunch jupyter notebook by typing\n",
    "```\n",
    "jupyter notebook\n",
    "```"
   ]
  },
  {
   "cell_type": "markdown",
   "id": "dd33e43e",
   "metadata": {},
   "source": [
    "## <font color='green'>New Tool Alert:</font> Jupyter Notebook"
   ]
  },
  {
   "cell_type": "markdown",
   "id": "afed3fd3",
   "metadata": {},
   "source": [
    "<img src=\"https://www.dataquest.io/wp-content/uploads/2019/01/1-LPnY8nOLg4S6_TG0DEXwsg-1.png\" alt=\"Jupyter Logo\" style=\"height: 300px;\"/>"
   ]
  },
  {
   "cell_type": "markdown",
   "id": "f44562b4",
   "metadata": {},
   "source": [
    "**What is it**: A Jupyter notebook is a document that supports mixing executable code, equations, visualizations, and narrative text. Specifically, Jupyter notebooks allow the user to bring together data, code, and prose, to tell an interactive, computational story. Jupyter notebook is free and open source and supports over 100 programming languages including Python, Java, R, Julia, Matlab, Octave, Scheme, Processing, Scala, and many more\n",
    "\n",
    "**Why use it**: Jupyter is an interactive environment that can be shared with anyone. They can run through the code, collaborate and understand the story by mixing formatted text with the code.\n",
    "\n",
    "**Download**: Install from [here](https://jupyter.org/install)\n",
    "\n",
    "**Resources**: Cheat sheet [here](https://www.edureka.co/blog/wp-content/uploads/2018/10/Jupyter_Notebook_CheatSheet_Edureka.pdf)"
   ]
  },
  {
   "cell_type": "markdown",
   "id": "ffb3487b",
   "metadata": {},
   "source": [
    "This will open a new tab in your default web browser that should look something like the following screenshot."
   ]
  },
  {
   "cell_type": "markdown",
   "id": "3e7b396f",
   "metadata": {},
   "source": [
    "![Jupyter](Jupyter.png)"
   ]
  },
  {
   "cell_type": "markdown",
   "id": "69d9ac00",
   "metadata": {},
   "source": [
    "This is the Notebook Dashboard, specifically designed for managing your Jupyter Notebooks. Think of it as the launchpad for exploring, editing and creating your notebooks."
   ]
  },
  {
   "cell_type": "markdown",
   "id": "b3750e67",
   "metadata": {},
   "source": [
    "You can create a new notebook by clicking New in the top right hand corner"
   ]
  },
  {
   "cell_type": "markdown",
   "id": "a129c826",
   "metadata": {},
   "source": [
    "![Markdown](New.png)"
   ]
  },
  {
   "cell_type": "markdown",
   "id": "08c7c3f9",
   "metadata": {},
   "source": [
    "This lets you create a new notebook. Currently the only option is Python. However if you have other kernels installed (such as R) you would see them here."
   ]
  },
  {
   "cell_type": "markdown",
   "id": "f90e0f97",
   "metadata": {},
   "source": [
    "![Notebook](https://www.dataquest.io/wp-content/uploads/2019/01/new-notebook.jpg)"
   ]
  },
  {
   "cell_type": "markdown",
   "id": "9f5be2de",
   "metadata": {},
   "source": [
    "Once you have opened the notebook, the interface shouldn't be too hard to figure out. There are two new terms you have to learn\n",
    "\n",
    "* Kernels: the engine that executes the code. Could be python, R, or other.\n",
    "* Cells: container for text to be displayed in the notebook or code to be executed by the notebook’s kernel.\n",
    "\n",
    "In each cell, you can either write code to execute or write markdown (text formatting system similiar to HTML). \n",
    "\n",
    "To execute code, you can use the run button in the toolbar, or use the shortcut of `shift + enter` Go ahead and execute the following code block which should print out `Hello AI4PH` by using either the run button or the shortcut keys"
   ]
  },
  {
   "cell_type": "code",
   "execution_count": 2,
   "id": "2481d345",
   "metadata": {},
   "outputs": [
    {
     "name": "stdout",
     "output_type": "stream",
     "text": [
      "Hello AI4PH\n"
     ]
    }
   ],
   "source": [
    "print(\"Hello AI4PH\")"
   ]
  },
  {
   "cell_type": "markdown",
   "id": "6a0325da",
   "metadata": {},
   "source": [
    "When we run the cell, its output is displayed below and the label to its left will have changed from In [ ] to In [1]. Representing the first code cell being run"
   ]
  },
  {
   "cell_type": "markdown",
   "id": "b8212877",
   "metadata": {},
   "source": [
    "Run the cell again and the label will change to In [2] because now the cell was the second to be run on the kernel. This numbering system makes it clear the order in which your code was run. While it's good practice to clean up your code and make sure it should be run from the top of the page to the bottom, this requirements is not enforced. Which is why this number system is so cruicial. "
   ]
  },
  {
   "cell_type": "markdown",
   "id": "aa4c1f58",
   "metadata": {},
   "source": [
    "## Let's Get To The Example"
   ]
  },
  {
   "cell_type": "markdown",
   "id": "86f3bedf",
   "metadata": {},
   "source": [
    "We are going to first try to scrape some data from Ontario's Covid Website. This website was the only source of information we had in the beggining. While data sources have matured over time, web scrapping is a fairly unique and extremely useful skilset to have in your toolbelt when doing public health on the go.\n",
    "\n",
    "To do this we will be using selenium which is a python based library most commonly that is used to automated browser operations. Since Ontario's website uses some code to dynamically load, we have to use selenium to properly have access to all the data elements."
   ]
  },
  {
   "cell_type": "markdown",
   "id": "2c6935b1",
   "metadata": {},
   "source": [
    "First let's install our dependencies below"
   ]
  },
  {
   "cell_type": "code",
   "execution_count": 29,
   "id": "34700ec4",
   "metadata": {
    "scrolled": true
   },
   "outputs": [
    {
     "name": "stdout",
     "output_type": "stream",
     "text": [
      "Requirement already satisfied: bs4 in /Users/farbodabolhassani/opt/anaconda3/envs/dstools/lib/python3.9/site-packages (0.0.1)\n",
      "Requirement already satisfied: beautifulsoup4 in /Users/farbodabolhassani/opt/anaconda3/envs/dstools/lib/python3.9/site-packages (from bs4) (4.9.3)\n",
      "Requirement already satisfied: soupsieve>1.2 in /Users/farbodabolhassani/opt/anaconda3/envs/dstools/lib/python3.9/site-packages (from beautifulsoup4->bs4) (2.2.1)\n",
      "Requirement already satisfied: selenium in /Users/farbodabolhassani/opt/anaconda3/envs/dstools/lib/python3.9/site-packages (3.141.0)\n",
      "Requirement already satisfied: urllib3 in /Users/farbodabolhassani/opt/anaconda3/envs/dstools/lib/python3.9/site-packages (from selenium) (1.26.6)\n",
      "Requirement already satisfied: pandas in /Users/farbodabolhassani/opt/anaconda3/envs/dstools/lib/python3.9/site-packages (1.3.0)\n",
      "Requirement already satisfied: pytz>=2017.3 in /Users/farbodabolhassani/opt/anaconda3/envs/dstools/lib/python3.9/site-packages (from pandas) (2021.1)\n",
      "Requirement already satisfied: python-dateutil>=2.7.3 in /Users/farbodabolhassani/opt/anaconda3/envs/dstools/lib/python3.9/site-packages (from pandas) (2.8.2)\n",
      "Requirement already satisfied: numpy>=1.17.3 in /Users/farbodabolhassani/opt/anaconda3/envs/dstools/lib/python3.9/site-packages (from pandas) (1.21.1)\n",
      "Requirement already satisfied: six>=1.5 in /Users/farbodabolhassani/opt/anaconda3/envs/dstools/lib/python3.9/site-packages (from python-dateutil>=2.7.3->pandas) (1.16.0)\n",
      "Requirement already satisfied: html5lib in /Users/farbodabolhassani/opt/anaconda3/envs/dstools/lib/python3.9/site-packages (1.1)\n",
      "Requirement already satisfied: six>=1.9 in /Users/farbodabolhassani/opt/anaconda3/envs/dstools/lib/python3.9/site-packages (from html5lib) (1.16.0)\n",
      "Requirement already satisfied: webencodings in /Users/farbodabolhassani/opt/anaconda3/envs/dstools/lib/python3.9/site-packages (from html5lib) (0.5.1)\n",
      "Collecting matplotlib\n",
      "  Downloading matplotlib-3.4.2-cp39-cp39-macosx_10_9_x86_64.whl (7.2 MB)\n",
      "\u001b[K     |████████████████████████████████| 7.2 MB 576 kB/s eta 0:00:01\n",
      "\u001b[?25hRequirement already satisfied: pyparsing>=2.2.1 in /Users/farbodabolhassani/opt/anaconda3/envs/dstools/lib/python3.9/site-packages (from matplotlib) (2.4.7)\n",
      "Collecting pillow>=6.2.0\n",
      "  Downloading Pillow-8.3.1-cp39-cp39-macosx_10_10_x86_64.whl (2.9 MB)\n",
      "\u001b[K     |████████████████████████████████| 2.9 MB 13.0 MB/s eta 0:00:01\n",
      "\u001b[?25hCollecting cycler>=0.10\n",
      "  Downloading cycler-0.10.0-py2.py3-none-any.whl (6.5 kB)\n",
      "Requirement already satisfied: numpy>=1.16 in /Users/farbodabolhassani/opt/anaconda3/envs/dstools/lib/python3.9/site-packages (from matplotlib) (1.21.1)\n",
      "Collecting kiwisolver>=1.0.1\n",
      "  Downloading kiwisolver-1.3.1-cp39-cp39-macosx_10_9_x86_64.whl (61 kB)\n",
      "\u001b[K     |████████████████████████████████| 61 kB 461 kB/s  eta 0:00:01\n",
      "\u001b[?25hRequirement already satisfied: python-dateutil>=2.7 in /Users/farbodabolhassani/opt/anaconda3/envs/dstools/lib/python3.9/site-packages (from matplotlib) (2.8.2)\n",
      "Requirement already satisfied: six in /Users/farbodabolhassani/opt/anaconda3/envs/dstools/lib/python3.9/site-packages (from cycler>=0.10->matplotlib) (1.16.0)\n",
      "Installing collected packages: pillow, kiwisolver, cycler, matplotlib\n",
      "Successfully installed cycler-0.10.0 kiwisolver-1.3.1 matplotlib-3.4.2 pillow-8.3.1\n"
     ]
    }
   ],
   "source": [
    "!pip3 install bs4\n",
    "!pip3 install selenium\n",
    "!pip3 install pandas\n",
    "!pip3 install html5lib\n",
    "!pip3 install matplotlib"
   ]
  },
  {
   "cell_type": "markdown",
   "id": "84cb6621",
   "metadata": {},
   "source": [
    "## <font color='green'>New Tool Alert:</font> Selenium"
   ]
  },
  {
   "cell_type": "markdown",
   "id": "ee35e217",
   "metadata": {},
   "source": [
    "<img src=\"https://camo.githubusercontent.com/74ed64243ba05754329bc527cd4240ebd1c087a1/68747470733a2f2f73656c656e69756d2e6465762f696d616765732f73656c656e69756d5f6c6f676f5f7371756172655f677265656e2e706e67\" alt=\"Selenium\" style=\"width: 200px;\"/>"
   ]
  },
  {
   "cell_type": "markdown",
   "id": "5f1cbe13",
   "metadata": {},
   "source": [
    "**What is it**: It's a tool used to scrape data from the web which lets you automate the operations of your browser\n",
    "\n",
    "**Why use it**: A lot of information remains locked in websites and is only updated there without being available in a easy to use format. Selenium lets us get access to that info and turn it into usable data.\n",
    "\n",
    "**Download**: Download from [here](https://selenium-python.readthedocs.io/)\n",
    "\n",
    "**Resources**: Cheat sheet [here](https://ivantay2003.medium.com/selenium-cheat-sheet-in-python-87221ee06c83)"
   ]
  },
  {
   "cell_type": "markdown",
   "id": "e733c4e0",
   "metadata": {},
   "source": [
    "For this example, we need to set up selenium. Follow instructions [here](https://selenium-python.readthedocs.io/installation.html#installing-python-bindings-for-selenium) on how to set up selenium. I've downloaded the zipfile for the most popular platforms. Unzipping it here should work. "
   ]
  },
  {
   "cell_type": "markdown",
   "id": "bf6be9b4",
   "metadata": {},
   "source": [
    "Users on MacOS will need to do to an additional step to be able to use the driver, which is to mark the file as safe by using the command ```xattr -d com.apple.quarantine <name-of-executable>```"
   ]
  },
  {
   "cell_type": "code",
   "execution_count": 4,
   "id": "22ff830b",
   "metadata": {},
   "outputs": [],
   "source": [
    "from selenium import webdriver\n",
    "from selenium.webdriver.common.keys import Keys\n",
    "\n",
    "driver = webdriver.Chrome(executable_path='./chromedriver')\n",
    "driver.get(\"http://www.python.org\")\n",
    "elem = driver.find_element_by_name(\"q\")\n",
    "elem.clear()\n",
    "elem.send_keys(\"pycon\")\n",
    "elem.send_keys(Keys.RETURN)\n",
    "driver.close()"
   ]
  },
  {
   "cell_type": "markdown",
   "id": "5729b3ec",
   "metadata": {},
   "source": [
    "If selenium is set up, this should launch your browser to python's website, and search for the words pycon."
   ]
  },
  {
   "cell_type": "markdown",
   "id": "f4aa3ebf",
   "metadata": {},
   "source": [
    "Now that we know things are working, let's go to our real example."
   ]
  },
  {
   "cell_type": "code",
   "execution_count": 6,
   "id": "4df33d56",
   "metadata": {},
   "outputs": [],
   "source": [
    "url = \"https://www.ontario.ca/page/how-ontario-is-responding-covid-19\"\n",
    "driver = webdriver.Chrome(executable_path='./chromedriver')\n",
    "driver.get(url)"
   ]
  },
  {
   "cell_type": "markdown",
   "id": "9559c480",
   "metadata": {},
   "source": [
    "This should open a new chromium page and navigate it to our data source. Now we use the xpath of the table of interest to get the specific element on the page and we save its html content to a variable"
   ]
  },
  {
   "cell_type": "code",
   "execution_count": 18,
   "id": "60cf1364",
   "metadata": {},
   "outputs": [],
   "source": [
    "element = driver.find_element_by_xpath('//*[@id=\"pagebody\"]/table[1]')\n",
    "element_html = element.get_attribute('outerHTML')\n",
    "driver.close()"
   ]
  },
  {
   "cell_type": "markdown",
   "id": "be435b2d",
   "metadata": {},
   "source": [
    "The next library we will be using today is called pandas. Pandas is the go to data manipulation and wrangling library for python"
   ]
  },
  {
   "cell_type": "code",
   "execution_count": 17,
   "id": "2e255e28",
   "metadata": {},
   "outputs": [
    {
     "data": {
      "text/html": [
       "<div>\n",
       "<style scoped>\n",
       "    .dataframe tbody tr th:only-of-type {\n",
       "        vertical-align: middle;\n",
       "    }\n",
       "\n",
       "    .dataframe tbody tr th {\n",
       "        vertical-align: top;\n",
       "    }\n",
       "\n",
       "    .dataframe thead th {\n",
       "        text-align: right;\n",
       "    }\n",
       "</style>\n",
       "<table border=\"1\" class=\"dataframe\">\n",
       "  <thead>\n",
       "    <tr style=\"text-align: right;\">\n",
       "      <th></th>\n",
       "      <th>Severity</th>\n",
       "      <th>Number</th>\n",
       "      <th>Percentage</th>\n",
       "    </tr>\n",
       "  </thead>\n",
       "  <tbody>\n",
       "    <tr>\n",
       "      <th>0</th>\n",
       "      <td>Number of cases  footnote 1  [1]</td>\n",
       "      <td>548217</td>\n",
       "      <td>NaN</td>\n",
       "    </tr>\n",
       "    <tr>\n",
       "      <th>1</th>\n",
       "      <td>Change from previous report (new cases)</td>\n",
       "      <td>177</td>\n",
       "      <td>&lt; 0.1% increase</td>\n",
       "    </tr>\n",
       "    <tr>\n",
       "      <th>2</th>\n",
       "      <td>Resolved  footnote 2  [2]</td>\n",
       "      <td>537545</td>\n",
       "      <td>98.1</td>\n",
       "    </tr>\n",
       "    <tr>\n",
       "      <th>3</th>\n",
       "      <td>Change from previous report</td>\n",
       "      <td>166</td>\n",
       "      <td>&lt; 0.1% increase</td>\n",
       "    </tr>\n",
       "    <tr>\n",
       "      <th>4</th>\n",
       "      <td>Subset of all cases that are reported to be lo...</td>\n",
       "      <td>15449</td>\n",
       "      <td>2.8</td>\n",
       "    </tr>\n",
       "  </tbody>\n",
       "</table>\n",
       "</div>"
      ],
      "text/plain": [
       "                                            Severity  Number       Percentage\n",
       "0                   Number of cases  footnote 1  [1]  548217              NaN\n",
       "1            Change from previous report (new cases)     177  < 0.1% increase\n",
       "2                          Resolved  footnote 2  [2]  537545             98.1\n",
       "3                        Change from previous report     166  < 0.1% increase\n",
       "4  Subset of all cases that are reported to be lo...   15449              2.8"
      ]
     },
     "execution_count": 17,
     "metadata": {},
     "output_type": "execute_result"
    }
   ],
   "source": [
    "import pandas as pd\n",
    "\n",
    "df = pd.read_html(element_html)[0]\n",
    "df.head()"
   ]
  },
  {
   "cell_type": "markdown",
   "id": "c8a5679e",
   "metadata": {},
   "source": [
    "Now that we have our table of interest we can just save it to file, so we can start to keep track of cases daily. "
   ]
  },
  {
   "cell_type": "code",
   "execution_count": 19,
   "id": "72663824",
   "metadata": {},
   "outputs": [],
   "source": [
    "df.to_csv('cases-july-17-2021.csv',index=False)"
   ]
  },
  {
   "cell_type": "markdown",
   "id": "0aac6765",
   "metadata": {},
   "source": [
    "### Let's Get More Data"
   ]
  },
  {
   "cell_type": "markdown",
   "id": "cddc49c2",
   "metadata": {},
   "source": [
    "The main dataset we will be using is from [here](https://data.ontario.ca/en/dataset/confirmed-positive-cases-of-covid-19-in-ontario)."
   ]
  },
  {
   "cell_type": "code",
   "execution_count": 20,
   "id": "1bad07c9",
   "metadata": {},
   "outputs": [],
   "source": [
    "url = \"https://data.ontario.ca/dataset/f4112442-bdc8-45d2-be3c-12efae72fb27/resource/455fd63b-603d-4608-8216-7d8647f43350/download/conposcovidloc.csv\"\n",
    "all_cases = pd.read_csv(url)"
   ]
  },
  {
   "cell_type": "code",
   "execution_count": 21,
   "id": "b78bdcbd",
   "metadata": {},
   "outputs": [
    {
     "data": {
      "text/html": [
       "<div>\n",
       "<style scoped>\n",
       "    .dataframe tbody tr th:only-of-type {\n",
       "        vertical-align: middle;\n",
       "    }\n",
       "\n",
       "    .dataframe tbody tr th {\n",
       "        vertical-align: top;\n",
       "    }\n",
       "\n",
       "    .dataframe thead th {\n",
       "        text-align: right;\n",
       "    }\n",
       "</style>\n",
       "<table border=\"1\" class=\"dataframe\">\n",
       "  <thead>\n",
       "    <tr style=\"text-align: right;\">\n",
       "      <th></th>\n",
       "      <th>Row_ID</th>\n",
       "      <th>Accurate_Episode_Date</th>\n",
       "      <th>Case_Reported_Date</th>\n",
       "      <th>Test_Reported_Date</th>\n",
       "      <th>Specimen_Date</th>\n",
       "      <th>Age_Group</th>\n",
       "      <th>Client_Gender</th>\n",
       "      <th>Case_AcquisitionInfo</th>\n",
       "      <th>Outcome1</th>\n",
       "      <th>Outbreak_Related</th>\n",
       "      <th>Reporting_PHU_ID</th>\n",
       "      <th>Reporting_PHU</th>\n",
       "      <th>Reporting_PHU_Address</th>\n",
       "      <th>Reporting_PHU_City</th>\n",
       "      <th>Reporting_PHU_Postal_Code</th>\n",
       "      <th>Reporting_PHU_Website</th>\n",
       "      <th>Reporting_PHU_Latitude</th>\n",
       "      <th>Reporting_PHU_Longitude</th>\n",
       "    </tr>\n",
       "  </thead>\n",
       "  <tbody>\n",
       "    <tr>\n",
       "      <th>0</th>\n",
       "      <td>1</td>\n",
       "      <td>2019-05-30</td>\n",
       "      <td>2020-05-05</td>\n",
       "      <td>2020-05-05</td>\n",
       "      <td>2020-05-03</td>\n",
       "      <td>50s</td>\n",
       "      <td>FEMALE</td>\n",
       "      <td>CC</td>\n",
       "      <td>Resolved</td>\n",
       "      <td>NaN</td>\n",
       "      <td>2260</td>\n",
       "      <td>Simcoe Muskoka District Health Unit</td>\n",
       "      <td>15 Sperling Drive</td>\n",
       "      <td>Barrie</td>\n",
       "      <td>L4M 6K9</td>\n",
       "      <td>www.simcoemuskokahealth.org</td>\n",
       "      <td>44.410713</td>\n",
       "      <td>-79.686306</td>\n",
       "    </tr>\n",
       "    <tr>\n",
       "      <th>1</th>\n",
       "      <td>2</td>\n",
       "      <td>2019-11-20</td>\n",
       "      <td>2020-10-21</td>\n",
       "      <td>2020-11-21</td>\n",
       "      <td>2019-11-20</td>\n",
       "      <td>20s</td>\n",
       "      <td>FEMALE</td>\n",
       "      <td>NO KNOWN EPI LINK</td>\n",
       "      <td>Resolved</td>\n",
       "      <td>NaN</td>\n",
       "      <td>4913</td>\n",
       "      <td>Southwestern Public Health</td>\n",
       "      <td>1230 Talbot Street</td>\n",
       "      <td>St. Thomas</td>\n",
       "      <td>N5P 1G9</td>\n",
       "      <td>www.swpublichealth.ca</td>\n",
       "      <td>42.777804</td>\n",
       "      <td>-81.151156</td>\n",
       "    </tr>\n",
       "    <tr>\n",
       "      <th>2</th>\n",
       "      <td>3</td>\n",
       "      <td>2020-01-01</td>\n",
       "      <td>2020-04-24</td>\n",
       "      <td>2020-04-24</td>\n",
       "      <td>2020-04-23</td>\n",
       "      <td>80s</td>\n",
       "      <td>MALE</td>\n",
       "      <td>NO KNOWN EPI LINK</td>\n",
       "      <td>Resolved</td>\n",
       "      <td>NaN</td>\n",
       "      <td>2234</td>\n",
       "      <td>Haldimand-Norfolk Health Unit</td>\n",
       "      <td>12 Gilbertson Drive</td>\n",
       "      <td>Simcoe</td>\n",
       "      <td>N3Y 4N5</td>\n",
       "      <td>www.hnhu.org</td>\n",
       "      <td>42.847825</td>\n",
       "      <td>-80.303815</td>\n",
       "    </tr>\n",
       "    <tr>\n",
       "      <th>3</th>\n",
       "      <td>4</td>\n",
       "      <td>2020-01-01</td>\n",
       "      <td>2020-05-17</td>\n",
       "      <td>2020-05-17</td>\n",
       "      <td>2020-05-15</td>\n",
       "      <td>50s</td>\n",
       "      <td>MALE</td>\n",
       "      <td>CC</td>\n",
       "      <td>Resolved</td>\n",
       "      <td>NaN</td>\n",
       "      <td>2265</td>\n",
       "      <td>Region of Waterloo, Public Health</td>\n",
       "      <td>99 Regina Street South</td>\n",
       "      <td>Waterloo</td>\n",
       "      <td>N2J 4V3</td>\n",
       "      <td>www.regionofwaterloo.ca</td>\n",
       "      <td>43.462876</td>\n",
       "      <td>-80.520913</td>\n",
       "    </tr>\n",
       "    <tr>\n",
       "      <th>4</th>\n",
       "      <td>5</td>\n",
       "      <td>2020-01-01</td>\n",
       "      <td>2021-01-09</td>\n",
       "      <td>2021-01-09</td>\n",
       "      <td>2021-01-07</td>\n",
       "      <td>50s</td>\n",
       "      <td>MALE</td>\n",
       "      <td>CC</td>\n",
       "      <td>Resolved</td>\n",
       "      <td>NaN</td>\n",
       "      <td>2268</td>\n",
       "      <td>Windsor-Essex County Health Unit</td>\n",
       "      <td>1005 Ouellette Avenue</td>\n",
       "      <td>Windsor</td>\n",
       "      <td>N9A 4J8</td>\n",
       "      <td>www.wechu.org</td>\n",
       "      <td>42.308796</td>\n",
       "      <td>-83.033670</td>\n",
       "    </tr>\n",
       "  </tbody>\n",
       "</table>\n",
       "</div>"
      ],
      "text/plain": [
       "   Row_ID Accurate_Episode_Date Case_Reported_Date Test_Reported_Date  \\\n",
       "0       1            2019-05-30         2020-05-05         2020-05-05   \n",
       "1       2            2019-11-20         2020-10-21         2020-11-21   \n",
       "2       3            2020-01-01         2020-04-24         2020-04-24   \n",
       "3       4            2020-01-01         2020-05-17         2020-05-17   \n",
       "4       5            2020-01-01         2021-01-09         2021-01-09   \n",
       "\n",
       "  Specimen_Date Age_Group Client_Gender Case_AcquisitionInfo  Outcome1  \\\n",
       "0    2020-05-03       50s        FEMALE                   CC  Resolved   \n",
       "1    2019-11-20       20s        FEMALE    NO KNOWN EPI LINK  Resolved   \n",
       "2    2020-04-23       80s          MALE    NO KNOWN EPI LINK  Resolved   \n",
       "3    2020-05-15       50s          MALE                   CC  Resolved   \n",
       "4    2021-01-07       50s          MALE                   CC  Resolved   \n",
       "\n",
       "  Outbreak_Related  Reporting_PHU_ID                        Reporting_PHU  \\\n",
       "0              NaN              2260  Simcoe Muskoka District Health Unit   \n",
       "1              NaN              4913           Southwestern Public Health   \n",
       "2              NaN              2234        Haldimand-Norfolk Health Unit   \n",
       "3              NaN              2265    Region of Waterloo, Public Health   \n",
       "4              NaN              2268     Windsor-Essex County Health Unit   \n",
       "\n",
       "    Reporting_PHU_Address Reporting_PHU_City Reporting_PHU_Postal_Code  \\\n",
       "0       15 Sperling Drive             Barrie                   L4M 6K9   \n",
       "1      1230 Talbot Street         St. Thomas                   N5P 1G9   \n",
       "2     12 Gilbertson Drive             Simcoe                   N3Y 4N5   \n",
       "3  99 Regina Street South           Waterloo                   N2J 4V3   \n",
       "4   1005 Ouellette Avenue            Windsor                   N9A 4J8   \n",
       "\n",
       "         Reporting_PHU_Website  Reporting_PHU_Latitude  \\\n",
       "0  www.simcoemuskokahealth.org               44.410713   \n",
       "1        www.swpublichealth.ca               42.777804   \n",
       "2                 www.hnhu.org               42.847825   \n",
       "3      www.regionofwaterloo.ca               43.462876   \n",
       "4                www.wechu.org               42.308796   \n",
       "\n",
       "   Reporting_PHU_Longitude  \n",
       "0               -79.686306  \n",
       "1               -81.151156  \n",
       "2               -80.303815  \n",
       "3               -80.520913  \n",
       "4               -83.033670  "
      ]
     },
     "execution_count": 21,
     "metadata": {},
     "output_type": "execute_result"
    }
   ],
   "source": [
    "all_cases.head()"
   ]
  },
  {
   "cell_type": "code",
   "execution_count": 35,
   "id": "9bde63ef",
   "metadata": {},
   "outputs": [
    {
     "data": {
      "text/html": [
       "<div>\n",
       "<style scoped>\n",
       "    .dataframe tbody tr th:only-of-type {\n",
       "        vertical-align: middle;\n",
       "    }\n",
       "\n",
       "    .dataframe tbody tr th {\n",
       "        vertical-align: top;\n",
       "    }\n",
       "\n",
       "    .dataframe thead th {\n",
       "        text-align: right;\n",
       "    }\n",
       "</style>\n",
       "<table border=\"1\" class=\"dataframe\">\n",
       "  <thead>\n",
       "    <tr style=\"text-align: right;\">\n",
       "      <th></th>\n",
       "      <th>Accurate_Episode_Date</th>\n",
       "      <th>Row_ID</th>\n",
       "    </tr>\n",
       "  </thead>\n",
       "  <tbody>\n",
       "    <tr>\n",
       "      <th>531</th>\n",
       "      <td>2021-07-14</td>\n",
       "      <td>119</td>\n",
       "    </tr>\n",
       "    <tr>\n",
       "      <th>532</th>\n",
       "      <td>2021-07-15</td>\n",
       "      <td>93</td>\n",
       "    </tr>\n",
       "    <tr>\n",
       "      <th>533</th>\n",
       "      <td>2021-07-16</td>\n",
       "      <td>83</td>\n",
       "    </tr>\n",
       "    <tr>\n",
       "      <th>534</th>\n",
       "      <td>2021-07-17</td>\n",
       "      <td>44</td>\n",
       "    </tr>\n",
       "    <tr>\n",
       "      <th>535</th>\n",
       "      <td>2021-07-18</td>\n",
       "      <td>3</td>\n",
       "    </tr>\n",
       "  </tbody>\n",
       "</table>\n",
       "</div>"
      ],
      "text/plain": [
       "    Accurate_Episode_Date  Row_ID\n",
       "531            2021-07-14     119\n",
       "532            2021-07-15      93\n",
       "533            2021-07-16      83\n",
       "534            2021-07-17      44\n",
       "535            2021-07-18       3"
      ]
     },
     "execution_count": 35,
     "metadata": {},
     "output_type": "execute_result"
    }
   ],
   "source": [
    "agg = all_cases.groupby(['Accurate_Episode_Date'])['Row_ID'].count().to_frame().reset_index()\n",
    "agg['Accurate_Episode_Date'] = pd.to_datetime(agg['Accurate_Episode_Date'])\n",
    "agg.tail()"
   ]
  },
  {
   "cell_type": "code",
   "execution_count": 38,
   "id": "995a10e5",
   "metadata": {},
   "outputs": [
    {
     "data": {
      "text/plain": [
       "Text(0.5, 1.0, 'Number of cases over time')"
      ]
     },
     "execution_count": 38,
     "metadata": {},
     "output_type": "execute_result"
    },
    {
     "data": {
      "image/png": "[encoded data removed]",
      "text/plain": [
       "<Figure size 432x288 with 1 Axes>"
      ]
     },
     "metadata": {
      "needs_background": "light"
     },
     "output_type": "display_data"
    }
   ],
   "source": [
    "import matplotlib.pyplot as plt\n",
    "import matplotlib.dates as mdates\n",
    "import matplotlib.cbook as cbook\n",
    "\n",
    "fig = plt.figure()\n",
    "ax = plt.axes()\n",
    "\n",
    "x = agg['Accurate_Episode_Date']\n",
    "y = agg['Row_ID']\n",
    "ax.plot(x, y)\n",
    "\n",
    "# Major ticks every 6 months.\n",
    "fmt_half_year = mdates.MonthLocator(interval=6)\n",
    "ax.xaxis.set_major_locator(fmt_half_year)\n",
    "\n",
    "# Minor ticks every month.\n",
    "fmt_month = mdates.MonthLocator()\n",
    "ax.xaxis.set_minor_locator(fmt_month)\n",
    "\n",
    "# Text in the x axis will be displayed in 'YYYY-mm' format.\n",
    "ax.xaxis.set_major_formatter(mdates.DateFormatter('%Y-%m'))\n",
    "\n",
    "plt.title(\"Number of cases over time\")"
   ]
  },
  {
   "cell_type": "code",
   "execution_count": null,
   "id": "351e7fee",
   "metadata": {},
   "outputs": [],
   "source": []
  }
 ],
 "metadata": {
  "kernelspec": {
   "display_name": "Python 3",
   "language": "python",
   "name": "python3"
  },
  "language_info": {
   "codemirror_mode": {
    "name": "ipython",
    "version": 3
   },
   "file_extension": ".py",
   "mimetype": "text/x-python",
   "name": "python",
   "nbconvert_exporter": "python",
   "pygments_lexer": "ipython3",
   "version": "3.9.5"
  }
 },
 "nbformat": 4,
 "nbformat_minor": 5
}
