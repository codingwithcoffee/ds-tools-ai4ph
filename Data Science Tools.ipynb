{
 "cells": [
  {
   "cell_type": "markdown",
   "id": "664d165a",
   "metadata": {},
   "source": [
    "# The Tools for Data Science: Notebooks and Versioning"
   ]
  },
  {
   "cell_type": "markdown",
   "id": "93b33b29",
   "metadata": {
    "jp-MarkdownHeadingCollapsed": true
   },
   "source": [
    "## AI4PH"
   ]
  },
  {
   "cell_type": "markdown",
   "id": "130a8c83",
   "metadata": {},
   "source": [
    "This notebook is meant to accompany [these slides](https://docs.google.com/presentation/d/1_yGq02oKCgF3oP41a_aQtSqHXNEA1D9KAB7wV7DfoWo/edit?usp=sharing). "
   ]
  },
  {
   "cell_type": "markdown",
   "id": "f0e4afa3",
   "metadata": {},
   "source": [
    "![The Case](./images/thecase.png)"
   ]
  },
  {
   "cell_type": "markdown",
   "id": "b34f6649",
   "metadata": {
    "jp-MarkdownHeadingCollapsed": true
   },
   "source": [
    "## Data Science Methodology"
   ]
  },
  {
   "cell_type": "markdown",
   "id": "1519f157",
   "metadata": {},
   "source": [
    "<img src=\"https://i.ibb.co/SKJDYGQ/Screenshot-2023-03-26-at-9-47-57-AM.png\" alt=\"Jupyter Logo\" style=\"height: 300px;\"/>"
   ]
  },
  {
   "cell_type": "markdown",
   "id": "2ab33280",
   "metadata": {},
   "source": [
    "We want to walk through today's case in a structured & systematic manner. As Data Science itself is fairly nascent industry, there are not that many well established methodologies for conducting it. The diagram shared above, is coming from IBM who is a leader in this field. You can learn more about it [here](https://developer.ibm.com/blogs/following-the-data-science-methodology/)"
   ]
  },
  {
   "cell_type": "markdown",
   "id": "32ad91fb",
   "metadata": {},
   "source": [
    "It's a structured way to think about, plan, and organize your work. You will notice that it's inspired from agile methodologies. Instead of betting everything on a \"big bang\" launch, an agile team delivers work in small, but consumable, increments. Requirements, plans, and results are evaluated continuously so teams have a natural mechanism for responding to change quickly. "
   ]
  },
  {
   "cell_type": "markdown",
   "id": "d74e5485",
   "metadata": {},
   "source": [
    "It's comprised of five iterative steps, and within those steps you have sub-categories that assist data scientists."
   ]
  },
  {
   "cell_type": "markdown",
   "id": "e122e332",
   "metadata": {},
   "source": [
    "#### 1. Problem Understanding\n",
    "\n",
    "Every customer request starts with a problem, and the data scientist's job is first to understand it and approach this problem with statistical and machine learning techniques. The Business Understanding stage is crucial because it helps to clarify the goal of the customer. In this stage, we have to ask a lot of questions to the customer about every single aspect of the problem; in this manner, we are sure that we will study data related, and at the end of this stage, we will have a list of business requirements. The first step to that is understanding the business what is the business dealing with, what is their input, what is the final output given by the business, and what are the other factors that lead to the final output. \n",
    "\n",
    "The next step is the Analytic Approach, where, once the business problem has been clearly stated, the data scientist can define the analytic approach to solve the problem. This step entails expressing the problem in the context of statistical and machine-learning techniques, and it is essential because it helps identify what type of patterns will be needed to address the question most effectively. If the issue is to determine the probabilities of something, then a predictive model might be used; if the question is to show relationships, a descriptive approach may be required, and if our problem requires counts, then statistical analysis is the best way to solve it. For each type of approach, we can use different algorithms."
   ]
  },
  {
   "cell_type": "markdown",
   "id": "60417a49",
   "metadata": {},
   "source": [
    "#### 2. Data Requirements & Collection\n",
    "\n",
    "Data Requirements is the stage where we identify the necessary data content, formats, and sources for initial data collection, and we use this data inside the algorithm of the approach we chose.\n",
    "\n",
    "In the Data Collection Stage, data scientists identify the available data resources relevant to the problem domain. \n",
    "\n",
    "We have traditional data sources that that may be available to us from an institutions (i.e. ICES, hospital, local public health). There are also creative ways of getting access to data. Such as web scraping, or using APIs that we will tackle today."
   ]
  },
  {
   "cell_type": "markdown",
   "id": "5c3edc22",
   "metadata": {},
   "source": [
    "#### 3. Data Understanding & Preparation\n",
    "In the Data Understanding stage, data scientists try to understand more about the data collected before. We have to check the type of each data and to learn more about the attributes and their names. Data dictionaries are amazing, but may not always be there. Data dictionaries also have limits. (What's supposed to be in a field vs. what is actually there)\n",
    "\n",
    "In the Data Preparation stage, data scientists prepare data for modeling, which is one of the most crucial steps because the model has to be clean and without errors.\n"
   ]
  },
  {
   "cell_type": "markdown",
   "id": "ea3538f0",
   "metadata": {},
   "source": [
    "#### 3. Modeling & Evaluation\n"
   ]
  },
  {
   "cell_type": "markdown",
   "id": "3011f5c3",
   "metadata": {},
   "source": [
    "Figuring out which model to use is, what assumptions each model makes, and what works for your data.\n",
    "\n",
    "Evaluating models is a whole domain in itself. Key readings:\n",
    "\n",
    "* [The medical algorithmic audit](https://www.thelancet.com/journals/landig/article/PIIS2589-7500(22)00003-6/fulltext)\n",
    "* [Do no harm: a roadmap for responsible machine learning for health care](https://www.nature.com/articles/s41591-019-0548-6)\n",
    "* [Model Cards for Model Reporting](https://arxiv.org/abs/1810.03993)"
   ]
  },
  {
   "cell_type": "markdown",
   "id": "e294f9eb",
   "metadata": {},
   "source": [
    "#### 4. Deployment, Monitoring, and Feedback\n"
   ]
  },
  {
   "cell_type": "markdown",
   "id": "30c7cad0",
   "metadata": {},
   "source": [
    "Once you have established confidence in the model, the next step is to move towards the deployment phase, where the model is released to a restricted group of people to obtain feedback on the predictions and assess its suitability for public use. Following deployment, feedback is collected from the users, enabling further refinement, evaluation, and subsequent deployment iterations until a final model is achieved. Upon finalization, the model can be deployed for use by a broader audience."
   ]
  },
  {
   "cell_type": "markdown",
   "id": "b568ecaa",
   "metadata": {
    "jp-MarkdownHeadingCollapsed": true
   },
   "source": [
    "## Environment Set Up"
   ]
  },
  {
   "cell_type": "markdown",
   "id": "c3959c09-e4c1-4ba8-aa3d-0ed3b939e6e5",
   "metadata": {},
   "source": [
    "### Version Control"
   ]
  },
  {
   "cell_type": "markdown",
   "id": "025d0523-d2a2-401e-9e94-3bca39f568d8",
   "metadata": {},
   "source": [
    "Version control is an essential skill for any data scientist. It allows us to track changes, collaborate with others, and manage our code and data effectively. Today, we'll focus on Git, the most popular version control system, and GitHub, a platform for hosting Git repositories"
   ]
  },
  {
   "cell_type": "markdown",
   "id": "4bbd8601",
   "metadata": {},
   "source": [
    "<div style=\"padding: 10px; border: 2px black solid;\">\n",
    "\n",
    "#### <font color='green'>New Tool Alert:</font> Git\n",
    "    \n",
    "<img src=\"https://miro.medium.com/max/910/1*Wjxx83j-qyiNvFBy1yOA1w.jpeg\" alt=\"Git Logo\" style=\"height: 300px;\"/>\n",
    "\n",
    "**What is it**: Git is a software that helps you keep track of changes to files in a folder on your PC. After making some changes to files in this folder, you can “commit” the changes to Git for safe-keeping. These changes could be creating, renaming, deleting a file or subfolder; or editing the content of a file.\n",
    "\n",
    "**Why use it**: Git lets you keep track of changes over time and revert back when needed.\n",
    "\n",
    "**Download**: Install from [here](https://git-scm.com/downloads)\n",
    "\n",
    "**Resources**: Cheat sheet [here](https://i.redd.it/8341g68g1v7y.png)\n",
    "\n",
    "</div>"
   ]
  },
  {
   "cell_type": "markdown",
   "id": "b37c0135-0460-4bb7-a03a-7e75f0f3184c",
   "metadata": {},
   "source": [
    "Let's install Git. "
   ]
  },
  {
   "cell_type": "markdown",
   "id": "067c7cf2-96eb-4a9c-b864-dd747fbe5988",
   "metadata": {},
   "source": [
    "Now, let’s all go to GitHub.com and create a new account if you haven’t got one already.\n",
    "\n",
    "Once you're logged in, click on the '+' sign in the top right corner and select 'New repository'. Name your repository 'ai4ph-data-science-tools' and make sure it's public. You can also add a README file right away."
   ]
  },
  {
   "cell_type": "markdown",
   "id": "ae58c7fd",
   "metadata": {},
   "source": [
    "<div style=\"padding: 10px; border: 2px black solid;\">\n",
    "\n",
    "#### <font color='green'>New Tool Alert:</font> Github\n",
    "    \n",
    "<img src=\"https://github.githubassets.com/images/modules/logos_page/GitHub-Mark.png\" alt=\"Github Logo\" style=\"height: 300px;\"/>\n",
    "\n",
    "**What is it**: Github lets you keep a copy of your local git repositories in the cloud\n",
    "\n",
    "**Why use it**: It lets you share and collaborate with others via Git's version control.\n",
    "\n",
    "**Download**: Create an account [here](https://github.com/)\n",
    "\n",
    "</div>"
   ]
  },
  {
   "cell_type": "markdown",
   "id": "e42c517f-a3be-429b-9017-3c5a76d2a5ff",
   "metadata": {},
   "source": [
    "Great, now that we have our repositories, let’s clone them to your local machines. Open your terminal or command prompt and type git clone [URL of your repository]. Now, you have a copy of your repository on your local machine."
   ]
  },
  {
   "cell_type": "markdown",
   "id": "4fcf4d70-201c-44d1-92ad-4e5d44911701",
   "metadata": {},
   "source": [
    "Let's create a simple Python script that prints 'Hello, Data Science World!'. Open your favorite text editor, write the script, and save it in the repository folder as hello.py. To push this change to GitHub, we need to use a few Git commands."
   ]
  },
  {
   "cell_type": "markdown",
   "id": "b2bf40e1-941c-4c7b-b254-8982b23013da",
   "metadata": {},
   "source": [
    "First, we'll add the new file to our Git staging area with ```git add hello.py```. Next, we'll commit our changes with a message using ```git commit -m 'Add hello.py script'```. Finally, we'll push our changes to GitHub with git push. Now, if you refresh your GitHub repository page, you should see hello.py there."
   ]
  },
  {
   "cell_type": "markdown",
   "id": "54c263a9-7788-421f-bf6a-9ef1799ee492",
   "metadata": {},
   "source": [
    "Now, imagine you want to collaborate with a fellow data scientist. You can do this by forking their repository, which creates a copy under your GitHub account. Then you can clone it, make changes, and suggest those changes back to the original repository with a pull request."
   ]
  },
  {
   "cell_type": "markdown",
   "id": "222a0da9",
   "metadata": {},
   "source": [
    "### Setting Up Environment"
   ]
  },
  {
   "cell_type": "markdown",
   "id": "831153b1-a7dd-4923-9596-0b00d0865ee8",
   "metadata": {},
   "source": [
    "Python virtual environments are crucial for managing dependencies and ensuring that our projects are reproducible. They allow us to install packages in an isolated environment, which means we can avoid conflicts between project requirements."
   ]
  },
  {
   "cell_type": "markdown",
   "id": "82c5226f",
   "metadata": {},
   "source": [
    "<div style=\"padding: 10px; border: 2px black solid;\">\n",
    "\n",
    "#### <font color='green'>New Tool Alert:</font> VENV\n",
    "    \n",
    "<img src=\"https://miro.medium.com/v2/resize:fit:765/1*_-kpR6xh2U7kUZRVrflUCw.jpeg\" alt=\"Python Virtual Venv\" style=\"height: 400px;\"/>\n",
    "\n",
    "**What is it**: The venv module allows for creating lightweight “virtual environments”, each with their own independent set of Python packages installed in their site directories. \n",
    "\n",
    "**Why use it**: VENV lets you easily create and manage various environment with isolated dependencies.\n",
    "    \n",
    "**Key commands**: \n",
    "* Create an environment: ```python -m venv venv```\n",
    "* Activate environment\n",
    "    * Mac / Linux : ```source venv/bin/activate```\n",
    "    * Windows: ```venv\\Scripts\\activate```\n",
    "* Install dependencies: ```pip install pandas```\n",
    "* Freeze enviornment: ```pip freeze > requirements.txt```\n",
    "* Leave enviornment: ```deactivate```\n",
    "    \n",
    "</div>"
   ]
  },
  {
   "cell_type": "markdown",
   "id": "c1fd2785",
   "metadata": {},
   "source": [
    "Create a new environment\n",
    "```python -m venv ds-env```"
   ]
  },
  {
   "cell_type": "markdown",
   "id": "faf18ac3",
   "metadata": {},
   "source": [
    "Now activate the environment by running\n",
    "* Mac / Linux : ```source ds-venv/bin/activate```\n",
    "* Windows: ```ds-venv\\Scripts\\activate```"
   ]
  },
  {
   "cell_type": "markdown",
   "id": "57dca60f-9365-4971-9b70-5a458a54d974",
   "metadata": {},
   "source": [
    "Notice how your prompt changes to indicate that you're now working within the ds-env environment. This means any Python packages we install now will be local to this environment, keeping our global Python setup clean"
   ]
  },
  {
   "cell_type": "markdown",
   "id": "6b5f6e29",
   "metadata": {},
   "source": [
    "Finally install jupyter notebooks ```pip install notebook```"
   ]
  },
  {
   "cell_type": "markdown",
   "id": "d6f93156-c571-47d3-8b4f-0e68e03e23ed",
   "metadata": {},
   "source": [
    "Let's try exporting these to a requirements file using ```pip freeze > requirements.txt```"
   ]
  },
  {
   "cell_type": "markdown",
   "id": "56c14656-f10f-4388-a65e-35cad66dd1b0",
   "metadata": {},
   "source": [
    "Open the created requirements.txt file. Notice how it's showing a number of different dependencies and version numbers. If you send your code + the latest version of this file, the user on the other end should be able to run your work easily."
   ]
  },
  {
   "cell_type": "markdown",
   "id": "361aeaf5",
   "metadata": {},
   "source": [
    "Now lunch jupyter notebook by typing ```jupyter notebook```"
   ]
  },
  {
   "cell_type": "markdown",
   "id": "dd33e43e",
   "metadata": {},
   "source": [
    "<div style=\"padding: 10px; border: 2px black solid;\">\n",
    "\n",
    "#### <font color='green'>New Tool Alert:</font> Jupyter Notebook\n",
    "    \n",
    "<img src=\"https://www.dataquest.io/wp-content/uploads/2019/01/1-LPnY8nOLg4S6_TG0DEXwsg-1.png\" alt=\"Jupyter Logo\" style=\"height: 300px;\"/>\n",
    "\n",
    "**What is it**: A Jupyter notebook is a document that supports mixing executable code, equations, visualizations, and narrative text. Specifically, Jupyter notebooks allow the user to bring together data, code, and prose, to tell an interactive, computational story. Jupyter notebook is free and open source and supports over 100 programming languages including Python, Java, R, Julia, Matlab, Octave, Scheme, Processing, Scala, and many more\n",
    "\n",
    "**Why use it**: Jupyter is an interactive environment that can be shared with anyone. They can run through the code, collaborate and understand the story by mixing formatted text with the code.\n",
    "\n",
    "**Download**: Install from [here](https://jupyter.org/install)\n",
    "\n",
    "**Resources**: Cheat sheet [here](https://www.edureka.co/blog/wp-content/uploads/2018/10/Jupyter_Notebook_CheatSheet_Edureka.pdf)\n",
    "\n",
    "</div>"
   ]
  },
  {
   "cell_type": "markdown",
   "id": "ffb3487b",
   "metadata": {},
   "source": [
    "This will open a new tab in your default web browser that should look something like the following screenshot."
   ]
  },
  {
   "cell_type": "markdown",
   "id": "3e7b396f",
   "metadata": {},
   "source": [
    "![Jupyter](./images/Jupyter.png)"
   ]
  },
  {
   "cell_type": "markdown",
   "id": "69d9ac00",
   "metadata": {},
   "source": [
    "This is the Notebook Dashboard, specifically designed for managing your Jupyter Notebooks. Think of it as the launchpad for exploring, editing and creating your notebooks."
   ]
  },
  {
   "cell_type": "markdown",
   "id": "b3750e67",
   "metadata": {},
   "source": [
    "You can create a new notebook by clicking New in the top right hand corner"
   ]
  },
  {
   "cell_type": "markdown",
   "id": "a129c826",
   "metadata": {},
   "source": [
    "![Markdown](./images/New.png)"
   ]
  },
  {
   "cell_type": "markdown",
   "id": "08c7c3f9",
   "metadata": {},
   "source": [
    "This lets you create a new notebook. Currently the only option is Python. However if you have other kernels installed (such as R) you would see them here."
   ]
  },
  {
   "cell_type": "markdown",
   "id": "f90e0f97",
   "metadata": {},
   "source": [
    "![Notebook](https://www.dataquest.io/wp-content/uploads/2019/01/new-notebook.jpg)"
   ]
  },
  {
   "cell_type": "markdown",
   "id": "9f5be2de",
   "metadata": {},
   "source": [
    "Once you have opened the notebook, the interface shouldn't be too hard to figure out. There are two new terms you have to learn\n",
    "\n",
    "* Kernels: the engine that executes the code. Could be python, R, or other.\n",
    "* Cells: container for text to be displayed in the notebook or code to be executed by the notebook’s kernel.\n",
    "\n",
    "In each cell, you can either write code to execute or write markdown (text formatting system similiar to HTML). \n",
    "\n",
    "To execute code, you can use the run button in the toolbar, or use the shortcut of `shift + enter` Go ahead and execute the following code block which should print out `Hello AI4PH` by using either the run button or the shortcut keys"
   ]
  },
  {
   "cell_type": "code",
   "execution_count": 1,
   "id": "9874dac3",
   "metadata": {},
   "outputs": [
    {
     "name": "stdout",
     "output_type": "stream",
     "text": [
      "Hello AI4PH\n"
     ]
    }
   ],
   "source": [
    "print(\"Hello AI4PH\")"
   ]
  },
  {
   "cell_type": "markdown",
   "id": "6a0325da",
   "metadata": {},
   "source": [
    "When we run the cell, its output is displayed below and the label to its left will have changed from In [ ] to In [1]. Representing the first code cell being run"
   ]
  },
  {
   "cell_type": "markdown",
   "id": "b8212877",
   "metadata": {},
   "source": [
    "Run the cell again and the label will change to In [2] because now the cell was the second to be run on the kernel. This numbering system makes it clear the order in which your code was run. While it's good practice to clean up your code and make sure it should be run from the top of the page to the bottom, this requirements is not enforced. Which is why this number system is so cruicial. "
   ]
  },
  {
   "cell_type": "code",
   "execution_count": 10,
   "id": "34700ec4",
   "metadata": {
    "scrolled": true
   },
   "outputs": [
    {
     "name": "stdout",
     "output_type": "stream",
     "text": [
      "Requirement already satisfied: bs4 in ./venv/lib/python3.11/site-packages (0.0.1)\n",
      "Requirement already satisfied: beautifulsoup4 in ./venv/lib/python3.11/site-packages (from bs4) (4.12.2)\n",
      "Requirement already satisfied: soupsieve>1.2 in ./venv/lib/python3.11/site-packages (from beautifulsoup4->bs4) (2.5)\n",
      "\n",
      "\u001b[1m[\u001b[0m\u001b[34;49mnotice\u001b[0m\u001b[1;39;49m]\u001b[0m\u001b[39;49m A new release of pip is available: \u001b[0m\u001b[31;49m23.0.1\u001b[0m\u001b[39;49m -> \u001b[0m\u001b[32;49m23.3.1\u001b[0m\n",
      "\u001b[1m[\u001b[0m\u001b[34;49mnotice\u001b[0m\u001b[1;39;49m]\u001b[0m\u001b[39;49m To update, run: \u001b[0m\u001b[32;49mpip install --upgrade pip\u001b[0m\n",
      "Requirement already satisfied: selenium in ./venv/lib/python3.11/site-packages (4.15.2)\n",
      "Requirement already satisfied: urllib3[socks]<3,>=1.26 in ./venv/lib/python3.11/site-packages (from selenium) (2.0.7)\n",
      "Requirement already satisfied: trio~=0.17 in ./venv/lib/python3.11/site-packages (from selenium) (0.23.1)\n",
      "Requirement already satisfied: trio-websocket~=0.9 in ./venv/lib/python3.11/site-packages (from selenium) (0.11.1)\n",
      "Requirement already satisfied: certifi>=2021.10.8 in ./venv/lib/python3.11/site-packages (from selenium) (2023.7.22)\n",
      "Requirement already satisfied: attrs>=20.1.0 in ./venv/lib/python3.11/site-packages (from trio~=0.17->selenium) (23.1.0)\n",
      "Requirement already satisfied: sortedcontainers in ./venv/lib/python3.11/site-packages (from trio~=0.17->selenium) (2.4.0)\n",
      "Requirement already satisfied: idna in ./venv/lib/python3.11/site-packages (from trio~=0.17->selenium) (3.4)\n",
      "Requirement already satisfied: outcome in ./venv/lib/python3.11/site-packages (from trio~=0.17->selenium) (1.3.0.post0)\n",
      "Requirement already satisfied: sniffio>=1.3.0 in ./venv/lib/python3.11/site-packages (from trio~=0.17->selenium) (1.3.0)\n",
      "Requirement already satisfied: wsproto>=0.14 in ./venv/lib/python3.11/site-packages (from trio-websocket~=0.9->selenium) (1.2.0)\n",
      "Requirement already satisfied: pysocks!=1.5.7,<2.0,>=1.5.6 in ./venv/lib/python3.11/site-packages (from urllib3[socks]<3,>=1.26->selenium) (1.7.1)\n",
      "Requirement already satisfied: h11<1,>=0.9.0 in ./venv/lib/python3.11/site-packages (from wsproto>=0.14->trio-websocket~=0.9->selenium) (0.14.0)\n",
      "\n",
      "\u001b[1m[\u001b[0m\u001b[34;49mnotice\u001b[0m\u001b[1;39;49m]\u001b[0m\u001b[39;49m A new release of pip is available: \u001b[0m\u001b[31;49m23.0.1\u001b[0m\u001b[39;49m -> \u001b[0m\u001b[32;49m23.3.1\u001b[0m\n",
      "\u001b[1m[\u001b[0m\u001b[34;49mnotice\u001b[0m\u001b[1;39;49m]\u001b[0m\u001b[39;49m To update, run: \u001b[0m\u001b[32;49mpip install --upgrade pip\u001b[0m\n",
      "Requirement already satisfied: pandas in ./venv/lib/python3.11/site-packages (2.1.2)\n",
      "Requirement already satisfied: numpy<2,>=1.23.2 in ./venv/lib/python3.11/site-packages (from pandas) (1.26.1)\n",
      "Requirement already satisfied: python-dateutil>=2.8.2 in ./venv/lib/python3.11/site-packages (from pandas) (2.8.2)\n",
      "Requirement already satisfied: pytz>=2020.1 in ./venv/lib/python3.11/site-packages (from pandas) (2023.3.post1)\n",
      "Requirement already satisfied: tzdata>=2022.1 in ./venv/lib/python3.11/site-packages (from pandas) (2023.3)\n",
      "Requirement already satisfied: six>=1.5 in ./venv/lib/python3.11/site-packages (from python-dateutil>=2.8.2->pandas) (1.16.0)\n",
      "\n",
      "\u001b[1m[\u001b[0m\u001b[34;49mnotice\u001b[0m\u001b[1;39;49m]\u001b[0m\u001b[39;49m A new release of pip is available: \u001b[0m\u001b[31;49m23.0.1\u001b[0m\u001b[39;49m -> \u001b[0m\u001b[32;49m23.3.1\u001b[0m\n",
      "\u001b[1m[\u001b[0m\u001b[34;49mnotice\u001b[0m\u001b[1;39;49m]\u001b[0m\u001b[39;49m To update, run: \u001b[0m\u001b[32;49mpip install --upgrade pip\u001b[0m\n",
      "Requirement already satisfied: html5lib in ./venv/lib/python3.11/site-packages (1.1)\n",
      "Requirement already satisfied: six>=1.9 in ./venv/lib/python3.11/site-packages (from html5lib) (1.16.0)\n",
      "Requirement already satisfied: webencodings in ./venv/lib/python3.11/site-packages (from html5lib) (0.5.1)\n",
      "\n",
      "\u001b[1m[\u001b[0m\u001b[34;49mnotice\u001b[0m\u001b[1;39;49m]\u001b[0m\u001b[39;49m A new release of pip is available: \u001b[0m\u001b[31;49m23.0.1\u001b[0m\u001b[39;49m -> \u001b[0m\u001b[32;49m23.3.1\u001b[0m\n",
      "\u001b[1m[\u001b[0m\u001b[34;49mnotice\u001b[0m\u001b[1;39;49m]\u001b[0m\u001b[39;49m To update, run: \u001b[0m\u001b[32;49mpip install --upgrade pip\u001b[0m\n",
      "Requirement already satisfied: matplotlib in ./venv/lib/python3.11/site-packages (3.8.1)\n",
      "Requirement already satisfied: contourpy>=1.0.1 in ./venv/lib/python3.11/site-packages (from matplotlib) (1.2.0)\n",
      "Requirement already satisfied: cycler>=0.10 in ./venv/lib/python3.11/site-packages (from matplotlib) (0.12.1)\n",
      "Requirement already satisfied: fonttools>=4.22.0 in ./venv/lib/python3.11/site-packages (from matplotlib) (4.44.0)\n",
      "Requirement already satisfied: kiwisolver>=1.3.1 in ./venv/lib/python3.11/site-packages (from matplotlib) (1.4.5)\n",
      "Requirement already satisfied: numpy<2,>=1.21 in ./venv/lib/python3.11/site-packages (from matplotlib) (1.26.1)\n",
      "Requirement already satisfied: packaging>=20.0 in ./venv/lib/python3.11/site-packages (from matplotlib) (23.2)\n",
      "Requirement already satisfied: pillow>=8 in ./venv/lib/python3.11/site-packages (from matplotlib) (10.1.0)\n",
      "Requirement already satisfied: pyparsing>=2.3.1 in ./venv/lib/python3.11/site-packages (from matplotlib) (3.1.1)\n",
      "Requirement already satisfied: python-dateutil>=2.7 in ./venv/lib/python3.11/site-packages (from matplotlib) (2.8.2)\n",
      "Requirement already satisfied: six>=1.5 in ./venv/lib/python3.11/site-packages (from python-dateutil>=2.7->matplotlib) (1.16.0)\n",
      "\n",
      "\u001b[1m[\u001b[0m\u001b[34;49mnotice\u001b[0m\u001b[1;39;49m]\u001b[0m\u001b[39;49m A new release of pip is available: \u001b[0m\u001b[31;49m23.0.1\u001b[0m\u001b[39;49m -> \u001b[0m\u001b[32;49m23.3.1\u001b[0m\n",
      "\u001b[1m[\u001b[0m\u001b[34;49mnotice\u001b[0m\u001b[1;39;49m]\u001b[0m\u001b[39;49m To update, run: \u001b[0m\u001b[32;49mpip install --upgrade pip\u001b[0m\n",
      "Requirement already satisfied: scikit-learn in ./venv/lib/python3.11/site-packages (1.3.2)\n",
      "Requirement already satisfied: numpy<2.0,>=1.17.3 in ./venv/lib/python3.11/site-packages (from scikit-learn) (1.26.1)\n",
      "Requirement already satisfied: scipy>=1.5.0 in ./venv/lib/python3.11/site-packages (from scikit-learn) (1.11.3)\n",
      "Requirement already satisfied: joblib>=1.1.1 in ./venv/lib/python3.11/site-packages (from scikit-learn) (1.3.2)\n",
      "Requirement already satisfied: threadpoolctl>=2.0.0 in ./venv/lib/python3.11/site-packages (from scikit-learn) (3.2.0)\n",
      "\n",
      "\u001b[1m[\u001b[0m\u001b[34;49mnotice\u001b[0m\u001b[1;39;49m]\u001b[0m\u001b[39;49m A new release of pip is available: \u001b[0m\u001b[31;49m23.0.1\u001b[0m\u001b[39;49m -> \u001b[0m\u001b[32;49m23.3.1\u001b[0m\n",
      "\u001b[1m[\u001b[0m\u001b[34;49mnotice\u001b[0m\u001b[1;39;49m]\u001b[0m\u001b[39;49m To update, run: \u001b[0m\u001b[32;49mpip install --upgrade pip\u001b[0m\n",
      "Collecting lxml\n",
      "  Downloading lxml-4.9.3-cp311-cp311-macosx_11_0_universal2.whl (8.6 MB)\n",
      "\u001b[2K     \u001b[38;2;114;156;31m━━━━━━━━━━━━━━━━━━━━━━━━━━━━━━━━━━━━━━━━\u001b[0m \u001b[32m8.6/8.6 MB\u001b[0m \u001b[31m54.4 MB/s\u001b[0m eta \u001b[36m0:00:00\u001b[0mm eta \u001b[36m0:00:01\u001b[0m0:01\u001b[0m:01\u001b[0m\n",
      "\u001b[?25hInstalling collected packages: lxml\n",
      "Successfully installed lxml-4.9.3\n",
      "\n",
      "\u001b[1m[\u001b[0m\u001b[34;49mnotice\u001b[0m\u001b[1;39;49m]\u001b[0m\u001b[39;49m A new release of pip is available: \u001b[0m\u001b[31;49m23.0.1\u001b[0m\u001b[39;49m -> \u001b[0m\u001b[32;49m23.3.1\u001b[0m\n",
      "\u001b[1m[\u001b[0m\u001b[34;49mnotice\u001b[0m\u001b[1;39;49m]\u001b[0m\u001b[39;49m To update, run: \u001b[0m\u001b[32;49mpip install --upgrade pip\u001b[0m\n"
     ]
    }
   ],
   "source": [
    "!pip install bs4\n",
    "!pip install selenium\n",
    "!pip install pandas\n",
    "!pip install html5lib\n",
    "!pip install matplotlib\n",
    "!pip install scikit-learn\n",
    "!pip install lxml"
   ]
  },
  {
   "cell_type": "markdown",
   "id": "19c78b76",
   "metadata": {},
   "source": [
    "If you have git installed on your local computer, you can get the code by cloning from github by running ```git clone https://github.com/farbodab/ds-tools-ai4ph.git```"
   ]
  },
  {
   "cell_type": "markdown",
   "id": "aa4c1f58",
   "metadata": {
    "jp-MarkdownHeadingCollapsed": true
   },
   "source": [
    "## Business Understanding"
   ]
  },
  {
   "cell_type": "markdown",
   "id": "a5221c71",
   "metadata": {},
   "source": [
    "After a number of back and forths meetings with our bosses, we have a fairly good understanding of what they are trying to do.\n",
    "\n",
    "**Problem**: \n",
    "\n",
    "**Business Requirement**: \n",
    "* The health system is looking to use data to plan for capacity and for response planning\n",
    "* Stakeholders are looking for a weekly email to be delivered to them which has the 7 day prediction of COVID-19 cases."
   ]
  },
  {
   "cell_type": "markdown",
   "id": "e2413843",
   "metadata": {
    "jp-MarkdownHeadingCollapsed": true
   },
   "source": [
    "## Analytics Approach"
   ]
  },
  {
   "cell_type": "markdown",
   "id": "f0490264",
   "metadata": {},
   "source": [
    "The nature of the problem is a predictive one. Since the goal is to predict number of cases, then the task at hand is to building, testing and implementing a regression model."
   ]
  },
  {
   "cell_type": "markdown",
   "id": "64aefd22",
   "metadata": {
    "jp-MarkdownHeadingCollapsed": true
   },
   "source": [
    "## Data Requirements"
   ]
  },
  {
   "cell_type": "markdown",
   "id": "1353a4f7",
   "metadata": {},
   "source": [
    "As a starting point, we need data on daily covid cases. We already have a number of different data elements that may improve the predictive power of the proposed model (location of cases, socioeconomic factors tied to geography, age of cases, etc). The process is entirely iterative. "
   ]
  },
  {
   "cell_type": "markdown",
   "id": "66175fe0",
   "metadata": {
    "jp-MarkdownHeadingCollapsed": true
   },
   "source": [
    "## Data Collection"
   ]
  },
  {
   "cell_type": "markdown",
   "id": "7c0f28f4",
   "metadata": {
    "jp-MarkdownHeadingCollapsed": true
   },
   "source": [
    "### Web Scraping"
   ]
  },
  {
   "cell_type": "markdown",
   "id": "e09c2ead",
   "metadata": {},
   "source": [
    "In the beggining of the pandemic, availability of COVID-19 data was sparse. The only source of such data could be found on Ontario Government's website below.\n",
    "![status](./images/status.png)"
   ]
  },
  {
   "cell_type": "markdown",
   "id": "a11f591e",
   "metadata": {},
   "source": [
    "To extract data from the website we need to scrape the webpage and extract it from the underlying code that renders the website. While data sources have matured over time, web scrapping is a fairly unique and extremely useful skilset to have in your toolbelt when doing public health on the go. Make sure to download chromedriver that matches your operating system and the version of chrome you are on from [here](https://chromedriver.chromium.org/downloads)"
   ]
  },
  {
   "cell_type": "markdown",
   "id": "47f1aa48",
   "metadata": {},
   "source": [
    "Way back machine link for the page from May 1, 2020 [here](https://web.archive.org/web/20200501004732/https://www.ontario.ca/page/how-ontario-is-responding-covid-19)"
   ]
  },
  {
   "cell_type": "code",
   "execution_count": 5,
   "id": "22ff830b",
   "metadata": {},
   "outputs": [],
   "source": [
    "from selenium import webdriver\n",
    "from selenium.webdriver.common.keys import Keys\n",
    "\n",
    "driver = webdriver.Chrome()\n",
    "driver.get(\"http://www.python.org\")\n",
    "elem = driver.find_element(\"name\",\"q\")\n",
    "elem.clear()\n",
    "elem.send_keys(\"pycon\")\n",
    "elem.send_keys(Keys.RETURN)\n",
    "driver.close()"
   ]
  },
  {
   "cell_type": "markdown",
   "id": "94b0d678",
   "metadata": {},
   "source": [
    "<div style=\"padding: 10px; border: 2px black solid;\">\n",
    "\n",
    "#### <font color='green'>New Tool Alert:</font> Selenium\n",
    "<img src=\"https://camo.githubusercontent.com/74ed64243ba05754329bc527cd4240ebd1c087a1/68747470733a2f2f73656c656e69756d2e6465762f696d616765732f73656c656e69756d5f6c6f676f5f7371756172655f677265656e2e706e67\" alt=\"Selenium\" style=\"width: 200px;\"/> \n",
    "    \n",
    "**What is it**: It's a tool used to scrape data from the web which lets you automate the operations of your browser\n",
    "\n",
    "**Why use it**: A lot of information remains locked in websites and is only updated there without being available in a easy to use format. Selenium lets us get access to that info and turn it into usable data.\n",
    "\n",
    "**Download**: Follow instructions [here](https://selenium-python.readthedocs.io/) to set it up.\n",
    "\n",
    "**Resources**: Cheat sheet [here](https://ivantay2003.medium.com/selenium-cheat-sheet-in-python-87221ee06c83)\n",
    "    \n",
    "**Notes**: Users on MacOS will need to do to an additional step to be able to use the driver downloaded from above, which is to mark the file as safe by using the command ```xattr -d com.apple.quarantine name-of-file ```\n",
    "    \n",
    "</div>"
   ]
  },
  {
   "cell_type": "markdown",
   "id": "554a4a40",
   "metadata": {},
   "source": [
    "If selenium is set up, this should launch your browser to python's website, and search for the words pycon."
   ]
  },
  {
   "cell_type": "markdown",
   "id": "1eddce9d",
   "metadata": {},
   "source": [
    "Now that we know things are working, let's go to our real example."
   ]
  },
  {
   "cell_type": "code",
   "execution_count": 7,
   "id": "bbc8a8d0",
   "metadata": {},
   "outputs": [],
   "source": [
    "url = \"https://web.archive.org/web/20200501004732/https://www.ontario.ca/page/how-ontario-is-responding-covid-19\"\n",
    "driver = webdriver.Chrome()\n",
    "driver.get(url)"
   ]
  },
  {
   "cell_type": "markdown",
   "id": "1ebb099a",
   "metadata": {},
   "source": [
    "This should open a new chromium page and navigate it to our data source. Now we use the xpath of the table of interest to get the specific element on the page and we save its html content to a variable"
   ]
  },
  {
   "cell_type": "code",
   "execution_count": 8,
   "id": "53078d3f",
   "metadata": {},
   "outputs": [],
   "source": [
    "element = driver.find_element(\"xpath\",'//*[@id=\"pagebody\"]/table[1]')\n",
    "element_html = element.get_attribute('outerHTML')\n",
    "driver.close()"
   ]
  },
  {
   "cell_type": "markdown",
   "id": "f10b9def",
   "metadata": {},
   "source": [
    "The next library we will be using today is called pandas. Pandas is the go to data manipulation and wrangling library for python"
   ]
  },
  {
   "cell_type": "code",
   "execution_count": 11,
   "id": "22bcada4",
   "metadata": {},
   "outputs": [
    {
     "name": "stderr",
     "output_type": "stream",
     "text": [
      "/var/folders/50/ht8vk5sd2f51y9x7p1nt3qwh0000gn/T/ipykernel_45929/3818956970.py:3: FutureWarning: Passing literal html to 'read_html' is deprecated and will be removed in a future version. To read from a literal string, wrap it in a 'StringIO' object.\n",
      "  df = pd.read_html(element_html)[0]\n"
     ]
    },
    {
     "data": {
      "text/html": [
       "<div>\n",
       "<style scoped>\n",
       "    .dataframe tbody tr th:only-of-type {\n",
       "        vertical-align: middle;\n",
       "    }\n",
       "\n",
       "    .dataframe tbody tr th {\n",
       "        vertical-align: top;\n",
       "    }\n",
       "\n",
       "    .dataframe thead th {\n",
       "        text-align: right;\n",
       "    }\n",
       "</style>\n",
       "<table border=\"1\" class=\"dataframe\">\n",
       "  <thead>\n",
       "    <tr style=\"text-align: right;\">\n",
       "      <th></th>\n",
       "      <th>Unnamed: 0</th>\n",
       "      <th>Number</th>\n",
       "      <th>Percentage</th>\n",
       "    </tr>\n",
       "  </thead>\n",
       "  <tbody>\n",
       "    <tr>\n",
       "      <th>0</th>\n",
       "      <td>Number of cases1</td>\n",
       "      <td>16187.0</td>\n",
       "      <td>NaN</td>\n",
       "    </tr>\n",
       "    <tr>\n",
       "      <th>1</th>\n",
       "      <td>Change from previous report</td>\n",
       "      <td>459.0</td>\n",
       "      <td>2.9% increase</td>\n",
       "    </tr>\n",
       "    <tr>\n",
       "      <th>2</th>\n",
       "      <td>Resolved2</td>\n",
       "      <td>10205.0</td>\n",
       "      <td>63.0</td>\n",
       "    </tr>\n",
       "    <tr>\n",
       "      <th>3</th>\n",
       "      <td>Deceased3</td>\n",
       "      <td>1082.0</td>\n",
       "      <td>6.3</td>\n",
       "    </tr>\n",
       "    <tr>\n",
       "      <th>4</th>\n",
       "      <td>Demographics</td>\n",
       "      <td>NaN</td>\n",
       "      <td>NaN</td>\n",
       "    </tr>\n",
       "  </tbody>\n",
       "</table>\n",
       "</div>"
      ],
      "text/plain": [
       "                    Unnamed: 0   Number     Percentage\n",
       "0             Number of cases1  16187.0            NaN\n",
       "1  Change from previous report    459.0  2.9% increase\n",
       "2                    Resolved2  10205.0           63.0\n",
       "3                    Deceased3   1082.0            6.3\n",
       "4                 Demographics      NaN            NaN"
      ]
     },
     "execution_count": 11,
     "metadata": {},
     "output_type": "execute_result"
    }
   ],
   "source": [
    "import pandas as pd\n",
    "\n",
    "df = pd.read_html(element_html)[0]\n",
    "df.head()"
   ]
  },
  {
   "cell_type": "markdown",
   "id": "250b98a2",
   "metadata": {},
   "source": [
    "Now that we have our table of interest we can just save it to file, so we can start to keep track of cases daily. "
   ]
  },
  {
   "cell_type": "code",
   "execution_count": 12,
   "id": "af8dd16c",
   "metadata": {},
   "outputs": [],
   "source": [
    "df.to_csv('cases-may-1-2020.csv',index=False)"
   ]
  },
  {
   "cell_type": "markdown",
   "id": "492c12b9",
   "metadata": {
    "jp-MarkdownHeadingCollapsed": true
   },
   "source": [
    "### Official Data Source"
   ]
  },
  {
   "cell_type": "markdown",
   "id": "02d62a1a",
   "metadata": {},
   "source": [
    "The main dataset we will be using is from [here](https://data.ontario.ca/en/dataset/confirmed-positive-cases-of-covid-19-in-ontario)."
   ]
  },
  {
   "cell_type": "markdown",
   "id": "ef4b448f-396a-4f9f-815c-86952edecfb7",
   "metadata": {},
   "source": [
    "<div style=\"padding: 10px; border: 2px black solid;\">\n",
    "\n",
    "#### <font color='green'>New Tool Alert:</font> Requests\n",
    "\n",
    "<img src=\"https://upload.wikimedia.org/wikipedia/commons/thumb/a/aa/Requests_Python_Logo.png/800px-Requests_Python_Logo.png\" alt=\"Requests\" style=\"height: 200px;\"/>\n",
    "\n",
    "**What is it**: Requests is a library for making http requests using python. I.e. interact wit the web\n",
    "\n",
    "**Why use it**: Download files from websites + make api calls. \n",
    "\n",
    "**Download**: Install it by using pip ```pip install requests```\n",
    "\n",
    "**Resources**: Cheat sheet [here](https://realpython.com/python-requests/)\n",
    "    \n",
    "</div>"
   ]
  },
  {
   "cell_type": "code",
   "execution_count": 124,
   "id": "8ad4fcba-5578-47be-bcb2-f3532e3de656",
   "metadata": {},
   "outputs": [],
   "source": [
    "import requests"
   ]
  },
  {
   "cell_type": "code",
   "execution_count": 125,
   "id": "804b5c93-62b7-4af5-98fc-915b2fa01069",
   "metadata": {},
   "outputs": [],
   "source": [
    "url = \"https://data.ontario.ca/dataset/f4112442-bdc8-45d2-be3c-12efae72fb27/resource/455fd63b-603d-4608-8216-7d8647f43350/download/conposcovidloc.csv\"\n",
    "filename = 'conposcovidloc.csv'\n",
    "headers = {'User-Agent': 'Mozilla/5.0 (Macintosh; Intel Mac OS X 10_10_1) AppleWebKit/537.36 (KHTML, like Gecko) Chrome/39.0.2171.95 Safari/537.36'}\n",
    "response = requests.get(url, headers=headers)"
   ]
  },
  {
   "cell_type": "code",
   "execution_count": 126,
   "id": "6b49f699-162d-431c-b868-eb0acb9fea23",
   "metadata": {},
   "outputs": [],
   "source": [
    "with open(filename, mode=\"wb\") as file:\n",
    "    file.write(response.content)"
   ]
  },
  {
   "cell_type": "markdown",
   "id": "9a24aa4b",
   "metadata": {
    "jp-MarkdownHeadingCollapsed": true
   },
   "source": [
    "## Data Understanding"
   ]
  },
  {
   "cell_type": "markdown",
   "id": "433eca89",
   "metadata": {},
   "source": [
    "<div style=\"padding: 10px; border: 2px black solid;\">\n",
    "\n",
    "#### <font color='green'>New Tool Alert:</font> Pandas\n",
    "\n",
    "<img src=\"https://upload.wikimedia.org/wikipedia/commons/thumb/e/ed/Pandas_logo.svg/1200px-Pandas_logo.svg.png\" alt=\"Selenium\" style=\"height: 200px;\"/>\n",
    "\n",
    "**What is it**: Pandas is a python library for data manipulation and analysis. It is the de facto library for data manipulation in python.\n",
    "\n",
    "**Why use it**: It's extremely powerful. It lets you read in a variety of dataformats and data sources, aggregate, transform, and combine data. \n",
    "\n",
    "**Download**: Install it by using pip ```pip install pandas```\n",
    "\n",
    "**Resources**: Cheat sheet [here](https://ainfographics.files.wordpress.com/2017/10/python-pandas-cheat-sheet.png)\n",
    "    \n",
    "</div>"
   ]
  },
  {
   "cell_type": "markdown",
   "id": "9ca9260d",
   "metadata": {
    "hidden": true
   },
   "source": [
    "<div style=\"padding: 10px; border: 2px black solid;\">\n",
    "\n",
    "#### <font color='green'>New Tool Alert:</font> Matplotlib\n",
    "\n",
    "<img src=\"https://matplotlib.org/stable/_images/sphx_glr_logos2_003.png\" alt=\"Matplotlib\" style=\"height: 100px;\"/>\n",
    "\n",
    "**What is it**: Matplotlib is a python library for plotting and data visualization. \n",
    "\n",
    "**Why use it**: It's free and open source and extremely customizable. \n",
    "\n",
    "**Download**: Install it by using pip ```pip install matplotlib```\n",
    "\n",
    "**Resources**: Cheat sheet [here](https://raw.githubusercontent.com/matplotlib/cheatsheets/master/cheatsheets-1.png)\n",
    "    \n",
    "</div>"
   ]
  },
  {
   "cell_type": "markdown",
   "id": "623d140c-4a4a-47d8-a9f6-b03aad108e36",
   "metadata": {},
   "source": [
    "Pandas is a powerful library for data manipulation and analysis, providing data structures and functions that make working with structured data intuitive. In this case we will read a csv file, but notice how you can read a number of different file types"
   ]
  },
  {
   "cell_type": "code",
   "execution_count": 156,
   "id": "9aee32c1-12f1-49cb-a246-865bbbed9801",
   "metadata": {},
   "outputs": [],
   "source": [
    "import pandas as pd\n",
    "all_cases = pd.read_csv(filename)"
   ]
  },
  {
   "cell_type": "markdown",
   "id": "fbd4628a-747e-43bf-aa04-0a7cc76f4628",
   "metadata": {},
   "source": [
    "We will use the .head() command which will print the first few rows of the data so we can visually inspect it"
   ]
  },
  {
   "cell_type": "code",
   "execution_count": 129,
   "id": "8217979e",
   "metadata": {},
   "outputs": [
    {
     "data": {
      "text/html": [
       "<div>\n",
       "<style scoped>\n",
       "    .dataframe tbody tr th:only-of-type {\n",
       "        vertical-align: middle;\n",
       "    }\n",
       "\n",
       "    .dataframe tbody tr th {\n",
       "        vertical-align: top;\n",
       "    }\n",
       "\n",
       "    .dataframe thead th {\n",
       "        text-align: right;\n",
       "    }\n",
       "</style>\n",
       "<table border=\"1\" class=\"dataframe\">\n",
       "  <thead>\n",
       "    <tr style=\"text-align: right;\">\n",
       "      <th></th>\n",
       "      <th>Row_ID</th>\n",
       "      <th>Accurate_Episode_Date</th>\n",
       "      <th>Case_Reported_Date</th>\n",
       "      <th>Test_Reported_Date</th>\n",
       "      <th>Specimen_Date</th>\n",
       "      <th>Age_Group</th>\n",
       "      <th>Client_Gender</th>\n",
       "      <th>Outcome1</th>\n",
       "      <th>Reporting_PHU_ID</th>\n",
       "      <th>Reporting_PHU</th>\n",
       "      <th>Reporting_PHU_Address</th>\n",
       "      <th>Reporting_PHU_City</th>\n",
       "      <th>Reporting_PHU_Postal_Code</th>\n",
       "      <th>Reporting_PHU_Website</th>\n",
       "      <th>Reporting_PHU_Latitude</th>\n",
       "      <th>Reporting_PHU_Longitude</th>\n",
       "    </tr>\n",
       "  </thead>\n",
       "  <tbody>\n",
       "    <tr>\n",
       "      <th>0</th>\n",
       "      <td>1</td>\n",
       "      <td>1934-09-28</td>\n",
       "      <td>2022-09-29</td>\n",
       "      <td>2022-09-29</td>\n",
       "      <td>2022-09-27</td>\n",
       "      <td>&lt;20</td>\n",
       "      <td>FEMALE</td>\n",
       "      <td>NaN</td>\n",
       "      <td>2262</td>\n",
       "      <td>Thunder Bay District Health Unit</td>\n",
       "      <td>999 Balmoral Street</td>\n",
       "      <td>Thunder Bay</td>\n",
       "      <td>P7B 6E7</td>\n",
       "      <td>www.tbdhu.com</td>\n",
       "      <td>48.400572</td>\n",
       "      <td>-89.258851</td>\n",
       "    </tr>\n",
       "    <tr>\n",
       "      <th>1</th>\n",
       "      <td>2</td>\n",
       "      <td>1989-02-21</td>\n",
       "      <td>2022-11-08</td>\n",
       "      <td>2022-11-07</td>\n",
       "      <td>2022-11-06</td>\n",
       "      <td>&lt;20</td>\n",
       "      <td>FEMALE</td>\n",
       "      <td>NaN</td>\n",
       "      <td>2270</td>\n",
       "      <td>York Region Public Health Services</td>\n",
       "      <td>17250 Yonge Street</td>\n",
       "      <td>Newmarket</td>\n",
       "      <td>L3Y 6Z1</td>\n",
       "      <td>www.york.ca/wps/portal/yorkhome/health/</td>\n",
       "      <td>44.048023</td>\n",
       "      <td>-79.480239</td>\n",
       "    </tr>\n",
       "    <tr>\n",
       "      <th>2</th>\n",
       "      <td>3</td>\n",
       "      <td>2000-03-01</td>\n",
       "      <td>2022-01-30</td>\n",
       "      <td>NaN</td>\n",
       "      <td>2000-03-01</td>\n",
       "      <td>&lt;20</td>\n",
       "      <td>FEMALE</td>\n",
       "      <td>NaN</td>\n",
       "      <td>2243</td>\n",
       "      <td>Leeds, Grenville and Lanark District Health Unit</td>\n",
       "      <td>458 Laurier Boulevard</td>\n",
       "      <td>Brockville</td>\n",
       "      <td>K6V 7A3</td>\n",
       "      <td>www.healthunit.org</td>\n",
       "      <td>44.615843</td>\n",
       "      <td>-75.702833</td>\n",
       "    </tr>\n",
       "    <tr>\n",
       "      <th>3</th>\n",
       "      <td>4</td>\n",
       "      <td>2002-07-06</td>\n",
       "      <td>2022-07-06</td>\n",
       "      <td>2022-07-07</td>\n",
       "      <td>2002-07-06</td>\n",
       "      <td>20s</td>\n",
       "      <td>FEMALE</td>\n",
       "      <td>NaN</td>\n",
       "      <td>2270</td>\n",
       "      <td>York Region Public Health Services</td>\n",
       "      <td>17250 Yonge Street</td>\n",
       "      <td>Newmarket</td>\n",
       "      <td>L3Y 6Z1</td>\n",
       "      <td>www.york.ca/wps/portal/yorkhome/health/</td>\n",
       "      <td>44.048023</td>\n",
       "      <td>-79.480239</td>\n",
       "    </tr>\n",
       "    <tr>\n",
       "      <th>4</th>\n",
       "      <td>5</td>\n",
       "      <td>2002-08-08</td>\n",
       "      <td>2022-08-15</td>\n",
       "      <td>2022-08-15</td>\n",
       "      <td>2022-08-14</td>\n",
       "      <td>60s</td>\n",
       "      <td>MALE</td>\n",
       "      <td>NaN</td>\n",
       "      <td>2233</td>\n",
       "      <td>Grey Bruce Health Unit</td>\n",
       "      <td>101 17th Street East</td>\n",
       "      <td>Owen Sound</td>\n",
       "      <td>N4K 0A5</td>\n",
       "      <td>www.publichealthgreybruce.on.ca/</td>\n",
       "      <td>44.576196</td>\n",
       "      <td>-80.940980</td>\n",
       "    </tr>\n",
       "  </tbody>\n",
       "</table>\n",
       "</div>"
      ],
      "text/plain": [
       "   Row_ID Accurate_Episode_Date Case_Reported_Date Test_Reported_Date  \\\n",
       "0       1            1934-09-28         2022-09-29         2022-09-29   \n",
       "1       2            1989-02-21         2022-11-08         2022-11-07   \n",
       "2       3            2000-03-01         2022-01-30                NaN   \n",
       "3       4            2002-07-06         2022-07-06         2022-07-07   \n",
       "4       5            2002-08-08         2022-08-15         2022-08-15   \n",
       "\n",
       "  Specimen_Date Age_Group Client_Gender Outcome1  Reporting_PHU_ID  \\\n",
       "0    2022-09-27       <20        FEMALE      NaN              2262   \n",
       "1    2022-11-06       <20        FEMALE      NaN              2270   \n",
       "2    2000-03-01       <20        FEMALE      NaN              2243   \n",
       "3    2002-07-06       20s        FEMALE      NaN              2270   \n",
       "4    2022-08-14       60s          MALE      NaN              2233   \n",
       "\n",
       "                                      Reporting_PHU  Reporting_PHU_Address  \\\n",
       "0                  Thunder Bay District Health Unit    999 Balmoral Street   \n",
       "1                York Region Public Health Services     17250 Yonge Street   \n",
       "2  Leeds, Grenville and Lanark District Health Unit  458 Laurier Boulevard   \n",
       "3                York Region Public Health Services     17250 Yonge Street   \n",
       "4                            Grey Bruce Health Unit   101 17th Street East   \n",
       "\n",
       "  Reporting_PHU_City Reporting_PHU_Postal_Code  \\\n",
       "0        Thunder Bay                   P7B 6E7   \n",
       "1          Newmarket                   L3Y 6Z1   \n",
       "2         Brockville                   K6V 7A3   \n",
       "3          Newmarket                   L3Y 6Z1   \n",
       "4         Owen Sound                   N4K 0A5   \n",
       "\n",
       "                     Reporting_PHU_Website  Reporting_PHU_Latitude  \\\n",
       "0                            www.tbdhu.com               48.400572   \n",
       "1  www.york.ca/wps/portal/yorkhome/health/               44.048023   \n",
       "2                       www.healthunit.org               44.615843   \n",
       "3  www.york.ca/wps/portal/yorkhome/health/               44.048023   \n",
       "4         www.publichealthgreybruce.on.ca/               44.576196   \n",
       "\n",
       "   Reporting_PHU_Longitude  \n",
       "0               -89.258851  \n",
       "1               -79.480239  \n",
       "2               -75.702833  \n",
       "3               -79.480239  \n",
       "4               -80.940980  "
      ]
     },
     "execution_count": 129,
     "metadata": {},
     "output_type": "execute_result"
    }
   ],
   "source": [
    "all_cases.head()"
   ]
  },
  {
   "cell_type": "markdown",
   "id": "8c59dfa3-8f05-4a7a-860d-237e6f2b1775",
   "metadata": {},
   "source": [
    "What columns does this dataset include? What type are they? and how many null variables do they have? .info() can give us a good overview"
   ]
  },
  {
   "cell_type": "code",
   "execution_count": 130,
   "id": "71a35575",
   "metadata": {
    "scrolled": true
   },
   "outputs": [
    {
     "name": "stdout",
     "output_type": "stream",
     "text": [
      "<class 'pandas.core.frame.DataFrame'>\n",
      "RangeIndex: 1656855 entries, 0 to 1656854\n",
      "Data columns (total 16 columns):\n",
      " #   Column                     Non-Null Count    Dtype  \n",
      "---  ------                     --------------    -----  \n",
      " 0   Row_ID                     1656855 non-null  int64  \n",
      " 1   Accurate_Episode_Date      1656855 non-null  object \n",
      " 2   Case_Reported_Date         1656855 non-null  object \n",
      " 3   Test_Reported_Date         1606209 non-null  object \n",
      " 4   Specimen_Date              1645115 non-null  object \n",
      " 5   Age_Group                  1656855 non-null  object \n",
      " 6   Client_Gender              1656855 non-null  object \n",
      " 7   Outcome1                   17037 non-null    object \n",
      " 8   Reporting_PHU_ID           1656855 non-null  int64  \n",
      " 9   Reporting_PHU              1656855 non-null  object \n",
      " 10  Reporting_PHU_Address      1656855 non-null  object \n",
      " 11  Reporting_PHU_City         1656855 non-null  object \n",
      " 12  Reporting_PHU_Postal_Code  1656855 non-null  object \n",
      " 13  Reporting_PHU_Website      1656855 non-null  object \n",
      " 14  Reporting_PHU_Latitude     1656855 non-null  float64\n",
      " 15  Reporting_PHU_Longitude    1656855 non-null  float64\n",
      "dtypes: float64(2), int64(2), object(12)\n",
      "memory usage: 202.3+ MB\n"
     ]
    }
   ],
   "source": [
    "all_cases.info()"
   ]
  },
  {
   "cell_type": "markdown",
   "id": "b3eb7dde-3bfc-4a70-9333-6ceaf9b32ba0",
   "metadata": {},
   "source": [
    "How did the cases break down by age? .value_counts() will give us the count of the unique values"
   ]
  },
  {
   "cell_type": "code",
   "execution_count": 131,
   "id": "f521b625",
   "metadata": {},
   "outputs": [
    {
     "data": {
      "text/plain": [
       "Age_Group\n",
       "20s        302349\n",
       "30s        266063\n",
       "<20        239835\n",
       "40s        229869\n",
       "50s        217272\n",
       "60s        145108\n",
       "70s        102624\n",
       "80s         96994\n",
       "90+         56204\n",
       "UNKNOWN       537\n",
       "Name: count, dtype: int64"
      ]
     },
     "execution_count": 131,
     "metadata": {},
     "output_type": "execute_result"
    }
   ],
   "source": [
    "all_cases['Age_Group'].value_counts()"
   ]
  },
  {
   "cell_type": "markdown",
   "id": "3fc992d5-418a-4150-bcd7-8a0f1502e6b8",
   "metadata": {},
   "source": [
    "We can normalize it to get the proportions"
   ]
  },
  {
   "cell_type": "code",
   "execution_count": 161,
   "id": "47f50101-8b29-4a0c-b57a-a98596208a96",
   "metadata": {},
   "outputs": [
    {
     "data": {
      "text/plain": [
       "Age_Group\n",
       "20s        0.182484\n",
       "30s        0.160583\n",
       "<20        0.144753\n",
       "40s        0.138738\n",
       "50s        0.131135\n",
       "60s        0.087580\n",
       "70s        0.061939\n",
       "80s        0.058541\n",
       "90+        0.033922\n",
       "UNKNOWN    0.000324\n",
       "Name: proportion, dtype: float64"
      ]
     },
     "execution_count": 161,
     "metadata": {},
     "output_type": "execute_result"
    }
   ],
   "source": [
    "all_cases['Age_Group'].value_counts(normalize=True)"
   ]
  },
  {
   "cell_type": "markdown",
   "id": "2c28e57f-7ba3-4428-b473-e69f665165f4",
   "metadata": {},
   "source": [
    "We can graph it by adding .plot() to the end. We can specify different kinds of plots as well!"
   ]
  },
  {
   "cell_type": "code",
   "execution_count": 162,
   "id": "de3b421d-6885-4145-bd5e-1a7730af7c26",
   "metadata": {},
   "outputs": [
    {
     "data": {
      "text/plain": [
       "<Axes: xlabel='Age_Group'>"
      ]
     },
     "execution_count": 162,
     "metadata": {},
     "output_type": "execute_result"
    },
    {
     "data": {
      "image/png": "[encoded data removed]",
      "text/plain": [
       "<Figure size 640x480 with 1 Axes>"
      ]
     },
     "metadata": {},
     "output_type": "display_data"
    }
   ],
   "source": [
    "all_cases['Age_Group'].value_counts(normalize=True).plot(kind='bar')"
   ]
  },
  {
   "cell_type": "markdown",
   "id": "a151f075-fea8-43f6-9ee8-61883776fe4f",
   "metadata": {},
   "source": [
    "How did the cases break down by gender?"
   ]
  },
  {
   "cell_type": "code",
   "execution_count": 163,
   "id": "70cb310b",
   "metadata": {},
   "outputs": [
    {
     "data": {
      "text/plain": [
       "Client_Gender\n",
       "FEMALE            912453\n",
       "MALE              733147\n",
       "UNSPECIFIED        11245\n",
       "GENDER DIVERSE        10\n",
       "Name: count, dtype: int64"
      ]
     },
     "execution_count": 163,
     "metadata": {},
     "output_type": "execute_result"
    }
   ],
   "source": [
    "all_cases['Client_Gender'].value_counts()"
   ]
  },
  {
   "cell_type": "code",
   "execution_count": 164,
   "id": "ec5d6f9d-381a-4ea2-bff5-c0c7244c667b",
   "metadata": {},
   "outputs": [
    {
     "data": {
      "text/plain": [
       "Client_Gender\n",
       "FEMALE            0.550714\n",
       "MALE              0.442493\n",
       "UNSPECIFIED       0.006787\n",
       "GENDER DIVERSE    0.000006\n",
       "Name: proportion, dtype: float64"
      ]
     },
     "execution_count": 164,
     "metadata": {},
     "output_type": "execute_result"
    }
   ],
   "source": [
    "all_cases['Client_Gender'].value_counts(normalize=True)"
   ]
  },
  {
   "cell_type": "code",
   "execution_count": 165,
   "id": "a16f3f0b-791b-4dc8-9338-c72ad74de2c2",
   "metadata": {},
   "outputs": [
    {
     "data": {
      "text/plain": [
       "<Axes: xlabel='Client_Gender'>"
      ]
     },
     "execution_count": 165,
     "metadata": {},
     "output_type": "execute_result"
    },
    {
     "data": {
      "image/png": "[encoded data removed]",
      "text/plain": [
       "<Figure size 640x480 with 1 Axes>"
      ]
     },
     "metadata": {},
     "output_type": "display_data"
    }
   ],
   "source": [
    "all_cases['Client_Gender'].value_counts(normalize=True).plot(kind='bar')"
   ]
  },
  {
   "cell_type": "markdown",
   "id": "a50c02fa-9395-47df-ae07-edbda6c9e10c",
   "metadata": {},
   "source": [
    "What was the outcome of the cases?"
   ]
  },
  {
   "cell_type": "code",
   "execution_count": 167,
   "id": "748233f2",
   "metadata": {},
   "outputs": [
    {
     "data": {
      "text/plain": [
       "Outcome1\n",
       "FATAL    17037\n",
       "Name: count, dtype: int64"
      ]
     },
     "execution_count": 167,
     "metadata": {},
     "output_type": "execute_result"
    }
   ],
   "source": [
    "all_cases['Outcome1'].value_counts()"
   ]
  },
  {
   "cell_type": "markdown",
   "id": "4943723c-ef9b-4878-a4cb-6d0b0fa7c0ed",
   "metadata": {},
   "source": [
    "It seems only fatal is recorded as an outcome. Those who survived are left blank. Let's fix that"
   ]
  },
  {
   "cell_type": "code",
   "execution_count": 168,
   "id": "45647215-c213-4fa9-8fb5-d4a3e1beebef",
   "metadata": {},
   "outputs": [],
   "source": [
    "all_cases['Outcome1'].fillna('SURVIVED', inplace=True)"
   ]
  },
  {
   "cell_type": "code",
   "execution_count": 169,
   "id": "4bf800b0-b7fc-47d1-a45d-8b596296ed2f",
   "metadata": {},
   "outputs": [
    {
     "data": {
      "text/plain": [
       "Outcome1\n",
       "SURVIVED    0.989717\n",
       "FATAL       0.010283\n",
       "Name: proportion, dtype: float64"
      ]
     },
     "execution_count": 169,
     "metadata": {},
     "output_type": "execute_result"
    }
   ],
   "source": [
    "all_cases['Outcome1'].value_counts(normalize=True)"
   ]
  },
  {
   "cell_type": "markdown",
   "id": "e0de2c22-d59a-4f1f-8df7-8a17b116549e",
   "metadata": {},
   "source": [
    "Let's group by age and see how the outcome breaks down"
   ]
  },
  {
   "cell_type": "code",
   "execution_count": 171,
   "id": "dd90592a-39ad-4dba-8253-d194434d606c",
   "metadata": {},
   "outputs": [
    {
     "data": {
      "text/plain": [
       "Age_Group  Outcome1\n",
       "20s        SURVIVED    0.999848\n",
       "           FATAL       0.000152\n",
       "30s        SURVIVED    0.999553\n",
       "           FATAL       0.000447\n",
       "40s        SURVIVED    0.998852\n",
       "           FATAL       0.001148\n",
       "50s        SURVIVED    0.996364\n",
       "           FATAL       0.003636\n",
       "60s        SURVIVED    0.986865\n",
       "           FATAL       0.013135\n",
       "70s        SURVIVED    0.965262\n",
       "           FATAL       0.034738\n",
       "80s        SURVIVED    0.940512\n",
       "           FATAL       0.059488\n",
       "90+        SURVIVED    0.918992\n",
       "           FATAL       0.081008\n",
       "<20        SURVIVED    0.999900\n",
       "           FATAL       0.000100\n",
       "UNKNOWN    SURVIVED    1.000000\n",
       "Name: proportion, dtype: float64"
      ]
     },
     "execution_count": 171,
     "metadata": {},
     "output_type": "execute_result"
    }
   ],
   "source": [
    "all_cases.groupby(['Age_Group'])['Outcome1'].value_counts(normalize=True)"
   ]
  },
  {
   "cell_type": "markdown",
   "id": "93d9b980-4b49-426f-b5d8-d7ecb4676db9",
   "metadata": {},
   "source": [
    "For people where the outcome was fatal, how was the age broken down?"
   ]
  },
  {
   "cell_type": "code",
   "execution_count": 139,
   "id": "d9c527f5-e502-4b33-b244-f18062569298",
   "metadata": {},
   "outputs": [
    {
     "data": {
      "text/html": [
       "<div>\n",
       "<style scoped>\n",
       "    .dataframe tbody tr th:only-of-type {\n",
       "        vertical-align: middle;\n",
       "    }\n",
       "\n",
       "    .dataframe tbody tr th {\n",
       "        vertical-align: top;\n",
       "    }\n",
       "\n",
       "    .dataframe thead th {\n",
       "        text-align: right;\n",
       "    }\n",
       "</style>\n",
       "<table border=\"1\" class=\"dataframe\">\n",
       "  <thead>\n",
       "    <tr style=\"text-align: right;\">\n",
       "      <th></th>\n",
       "      <th>Row_ID</th>\n",
       "      <th>Accurate_Episode_Date</th>\n",
       "      <th>Case_Reported_Date</th>\n",
       "      <th>Test_Reported_Date</th>\n",
       "      <th>Specimen_Date</th>\n",
       "      <th>Age_Group</th>\n",
       "      <th>Client_Gender</th>\n",
       "      <th>Outcome1</th>\n",
       "      <th>Reporting_PHU_ID</th>\n",
       "      <th>Reporting_PHU</th>\n",
       "      <th>Reporting_PHU_Address</th>\n",
       "      <th>Reporting_PHU_City</th>\n",
       "      <th>Reporting_PHU_Postal_Code</th>\n",
       "      <th>Reporting_PHU_Website</th>\n",
       "      <th>Reporting_PHU_Latitude</th>\n",
       "      <th>Reporting_PHU_Longitude</th>\n",
       "    </tr>\n",
       "  </thead>\n",
       "  <tbody>\n",
       "    <tr>\n",
       "      <th>80</th>\n",
       "      <td>81</td>\n",
       "      <td>2020-03-01</td>\n",
       "      <td>2020-03-31</td>\n",
       "      <td>2020-03-31</td>\n",
       "      <td>2020-03-28</td>\n",
       "      <td>70s</td>\n",
       "      <td>FEMALE</td>\n",
       "      <td>FATAL</td>\n",
       "      <td>4913</td>\n",
       "      <td>Southwestern Public Health</td>\n",
       "      <td>1230 Talbot Street</td>\n",
       "      <td>St. Thomas</td>\n",
       "      <td>N5P 1G9</td>\n",
       "      <td>www.swpublichealth.ca</td>\n",
       "      <td>42.777804</td>\n",
       "      <td>-81.151156</td>\n",
       "    </tr>\n",
       "    <tr>\n",
       "      <th>87</th>\n",
       "      <td>88</td>\n",
       "      <td>2020-03-01</td>\n",
       "      <td>2020-04-19</td>\n",
       "      <td>2020-04-19</td>\n",
       "      <td>2020-04-16</td>\n",
       "      <td>90+</td>\n",
       "      <td>FEMALE</td>\n",
       "      <td>FATAL</td>\n",
       "      <td>2253</td>\n",
       "      <td>Peel Public Health</td>\n",
       "      <td>7120 Hurontario Street</td>\n",
       "      <td>Mississauga</td>\n",
       "      <td>L5W 1N4</td>\n",
       "      <td>www.peelregion.ca/health/</td>\n",
       "      <td>43.647471</td>\n",
       "      <td>-79.708893</td>\n",
       "    </tr>\n",
       "    <tr>\n",
       "      <th>131</th>\n",
       "      <td>132</td>\n",
       "      <td>2020-03-04</td>\n",
       "      <td>2020-03-18</td>\n",
       "      <td>2020-03-13</td>\n",
       "      <td>2020-03-13</td>\n",
       "      <td>50s</td>\n",
       "      <td>MALE</td>\n",
       "      <td>FATAL</td>\n",
       "      <td>2236</td>\n",
       "      <td>Halton Region Health Department</td>\n",
       "      <td>1151 Bronte Road</td>\n",
       "      <td>Oakville</td>\n",
       "      <td>L6M 3Ll</td>\n",
       "      <td>www.halton.ca/For-Residents/Public-Health/</td>\n",
       "      <td>43.413997</td>\n",
       "      <td>-79.744796</td>\n",
       "    </tr>\n",
       "    <tr>\n",
       "      <th>134</th>\n",
       "      <td>135</td>\n",
       "      <td>2020-03-04</td>\n",
       "      <td>2020-04-06</td>\n",
       "      <td>2020-04-07</td>\n",
       "      <td>2020-04-04</td>\n",
       "      <td>70s</td>\n",
       "      <td>FEMALE</td>\n",
       "      <td>FATAL</td>\n",
       "      <td>2265</td>\n",
       "      <td>Region of Waterloo, Public Health</td>\n",
       "      <td>99 Regina Street South</td>\n",
       "      <td>Waterloo</td>\n",
       "      <td>N2J 4V3</td>\n",
       "      <td>www.regionofwaterloo.ca</td>\n",
       "      <td>43.462876</td>\n",
       "      <td>-80.520913</td>\n",
       "    </tr>\n",
       "    <tr>\n",
       "      <th>153</th>\n",
       "      <td>154</td>\n",
       "      <td>2020-03-05</td>\n",
       "      <td>2020-03-21</td>\n",
       "      <td>2020-03-21</td>\n",
       "      <td>2020-03-19</td>\n",
       "      <td>80s</td>\n",
       "      <td>MALE</td>\n",
       "      <td>FATAL</td>\n",
       "      <td>2235</td>\n",
       "      <td>Haliburton, Kawartha, Pine Ridge District Heal...</td>\n",
       "      <td>200 Rose Glen Road</td>\n",
       "      <td>Port Hope</td>\n",
       "      <td>L1A 3V6</td>\n",
       "      <td>www.hkpr.on.ca/</td>\n",
       "      <td>43.968173</td>\n",
       "      <td>-78.285792</td>\n",
       "    </tr>\n",
       "  </tbody>\n",
       "</table>\n",
       "</div>"
      ],
      "text/plain": [
       "     Row_ID Accurate_Episode_Date Case_Reported_Date Test_Reported_Date  \\\n",
       "80       81            2020-03-01         2020-03-31         2020-03-31   \n",
       "87       88            2020-03-01         2020-04-19         2020-04-19   \n",
       "131     132            2020-03-04         2020-03-18         2020-03-13   \n",
       "134     135            2020-03-04         2020-04-06         2020-04-07   \n",
       "153     154            2020-03-05         2020-03-21         2020-03-21   \n",
       "\n",
       "    Specimen_Date Age_Group Client_Gender Outcome1  Reporting_PHU_ID  \\\n",
       "80     2020-03-28       70s        FEMALE    FATAL              4913   \n",
       "87     2020-04-16       90+        FEMALE    FATAL              2253   \n",
       "131    2020-03-13       50s          MALE    FATAL              2236   \n",
       "134    2020-04-04       70s        FEMALE    FATAL              2265   \n",
       "153    2020-03-19       80s          MALE    FATAL              2235   \n",
       "\n",
       "                                         Reporting_PHU  \\\n",
       "80                          Southwestern Public Health   \n",
       "87                                  Peel Public Health   \n",
       "131                    Halton Region Health Department   \n",
       "134                  Region of Waterloo, Public Health   \n",
       "153  Haliburton, Kawartha, Pine Ridge District Heal...   \n",
       "\n",
       "      Reporting_PHU_Address Reporting_PHU_City Reporting_PHU_Postal_Code  \\\n",
       "80       1230 Talbot Street         St. Thomas                   N5P 1G9   \n",
       "87   7120 Hurontario Street        Mississauga                   L5W 1N4   \n",
       "131        1151 Bronte Road           Oakville                   L6M 3Ll   \n",
       "134  99 Regina Street South           Waterloo                   N2J 4V3   \n",
       "153      200 Rose Glen Road          Port Hope                   L1A 3V6   \n",
       "\n",
       "                          Reporting_PHU_Website  Reporting_PHU_Latitude  \\\n",
       "80                        www.swpublichealth.ca               42.777804   \n",
       "87                    www.peelregion.ca/health/               43.647471   \n",
       "131  www.halton.ca/For-Residents/Public-Health/               43.413997   \n",
       "134                     www.regionofwaterloo.ca               43.462876   \n",
       "153                             www.hkpr.on.ca/               43.968173   \n",
       "\n",
       "     Reporting_PHU_Longitude  \n",
       "80                -81.151156  \n",
       "87                -79.708893  \n",
       "131               -79.744796  \n",
       "134               -80.520913  \n",
       "153               -78.285792  "
      ]
     },
     "execution_count": 139,
     "metadata": {},
     "output_type": "execute_result"
    }
   ],
   "source": [
    "all_cases.loc[all_cases.Outcome1 == 'FATAL'].head()"
   ]
  },
  {
   "cell_type": "code",
   "execution_count": 140,
   "id": "335b0776-7a4a-49b9-a239-b2911b5c1173",
   "metadata": {},
   "outputs": [
    {
     "data": {
      "text/plain": [
       "Age_Group\n",
       "80s    0.338675\n",
       "90+    0.267242\n",
       "70s    0.209250\n",
       "60s    0.111874\n",
       "50s    0.046370\n",
       "40s    0.015496\n",
       "30s    0.006985\n",
       "20s    0.002700\n",
       "<20    0.001409\n",
       "Name: proportion, dtype: float64"
      ]
     },
     "execution_count": 140,
     "metadata": {},
     "output_type": "execute_result"
    }
   ],
   "source": [
    "all_cases.loc[all_cases.Outcome1 == 'FATAL']['Age_Group'].value_counts(normalize=True)"
   ]
  },
  {
   "cell_type": "code",
   "execution_count": 175,
   "id": "bbf68967-62bb-4271-9ac0-4429234ad7d9",
   "metadata": {},
   "outputs": [
    {
     "data": {
      "text/plain": [
       "<Axes: ylabel='proportion'>"
      ]
     },
     "execution_count": 175,
     "metadata": {},
     "output_type": "execute_result"
    },
    {
     "data": {
      "image/png": "[encoded data removed]",
      "text/plain": [
       "<Figure size 640x480 with 1 Axes>"
      ]
     },
     "metadata": {},
     "output_type": "display_data"
    }
   ],
   "source": [
    "all_cases.loc[all_cases.Outcome1 == 'FATAL']['Age_Group'].value_counts(normalize=True).plot(kind='pie')"
   ]
  },
  {
   "cell_type": "markdown",
   "id": "097ad1ce-d51e-4036-bb99-7ca0079c7beb",
   "metadata": {},
   "source": [
    "Let's calculate the test turn around time next"
   ]
  },
  {
   "cell_type": "code",
   "execution_count": 177,
   "id": "dcfe07ba-a11a-4be0-84d3-f269ea75f2a3",
   "metadata": {},
   "outputs": [],
   "source": [
    "all_cases['Case_Reported_Date'] = pd.to_datetime(all_cases['Case_Reported_Date'])\n",
    "all_cases['Specimen_Date'] = pd.to_datetime(all_cases['Specimen_Date'])\n",
    "all_cases['Test_Reported_Date'] = pd.to_datetime(all_cases['Test_Reported_Date'])\n",
    "all_cases['Test_Turn_Around'] = all_cases['Test_Reported_Date'] - all_cases['Specimen_Date']\n",
    "all_cases['Test_Turn_Around'] = all_cases['Test_Turn_Around'].dt.days"
   ]
  },
  {
   "cell_type": "code",
   "execution_count": 178,
   "id": "61ab9ca8-ad1d-4bc7-bf91-daa52b973ca3",
   "metadata": {},
   "outputs": [
    {
     "data": {
      "text/plain": [
       "count    1.606043e+06\n",
       "mean     1.903090e+00\n",
       "std      2.481980e+01\n",
       "min     -2.104300e+04\n",
       "25%      1.000000e+00\n",
       "50%      1.000000e+00\n",
       "75%      2.000000e+00\n",
       "max      7.306000e+03\n",
       "Name: Test_Turn_Around, dtype: float64"
      ]
     },
     "execution_count": 178,
     "metadata": {},
     "output_type": "execute_result"
    }
   ],
   "source": [
    "all_cases['Test_Turn_Around'].describe()"
   ]
  },
  {
   "cell_type": "code",
   "execution_count": 179,
   "id": "baea6ace-274c-4362-851e-1ea79827eb7e",
   "metadata": {},
   "outputs": [
    {
     "data": {
      "text/plain": [
       "count    1.606043e+06\n",
       "mean     1.903090e+00\n",
       "std      2.481980e+01\n",
       "min     -2.104300e+04\n",
       "1%       0.000000e+00\n",
       "5%       0.000000e+00\n",
       "10%      0.000000e+00\n",
       "25%      1.000000e+00\n",
       "50%      1.000000e+00\n",
       "75%      2.000000e+00\n",
       "90%      3.000000e+00\n",
       "95%      5.000000e+00\n",
       "99%      1.400000e+01\n",
       "max      7.306000e+03\n",
       "Name: Test_Turn_Around, dtype: float64"
      ]
     },
     "execution_count": 179,
     "metadata": {},
     "output_type": "execute_result"
    }
   ],
   "source": [
    "all_cases['Test_Turn_Around'].describe(percentiles=[0.01,0.05, 0.1, 0.25, 0.5, 0.75, 0.9, 0.95, 0.99])"
   ]
  },
  {
   "cell_type": "markdown",
   "id": "8b8a3468-ebe6-45c1-adc0-af9f8fa2e69d",
   "metadata": {},
   "source": [
    "There seems to be negative test turn around! Let's look at those"
   ]
  },
  {
   "cell_type": "code",
   "execution_count": 180,
   "id": "a22fa560-dcc2-48ee-a53a-d85a825e2ca3",
   "metadata": {},
   "outputs": [
    {
     "data": {
      "text/html": [
       "<div>\n",
       "<style scoped>\n",
       "    .dataframe tbody tr th:only-of-type {\n",
       "        vertical-align: middle;\n",
       "    }\n",
       "\n",
       "    .dataframe tbody tr th {\n",
       "        vertical-align: top;\n",
       "    }\n",
       "\n",
       "    .dataframe thead th {\n",
       "        text-align: right;\n",
       "    }\n",
       "</style>\n",
       "<table border=\"1\" class=\"dataframe\">\n",
       "  <thead>\n",
       "    <tr style=\"text-align: right;\">\n",
       "      <th></th>\n",
       "      <th>Row_ID</th>\n",
       "      <th>Accurate_Episode_Date</th>\n",
       "      <th>Case_Reported_Date</th>\n",
       "      <th>Test_Reported_Date</th>\n",
       "      <th>Specimen_Date</th>\n",
       "      <th>Age_Group</th>\n",
       "      <th>Client_Gender</th>\n",
       "      <th>Outcome1</th>\n",
       "      <th>Reporting_PHU_ID</th>\n",
       "      <th>Reporting_PHU</th>\n",
       "      <th>Reporting_PHU_Address</th>\n",
       "      <th>Reporting_PHU_City</th>\n",
       "      <th>Reporting_PHU_Postal_Code</th>\n",
       "      <th>Reporting_PHU_Website</th>\n",
       "      <th>Reporting_PHU_Latitude</th>\n",
       "      <th>Reporting_PHU_Longitude</th>\n",
       "      <th>Test_Turn_Around</th>\n",
       "    </tr>\n",
       "  </thead>\n",
       "  <tbody>\n",
       "    <tr>\n",
       "      <th>4196</th>\n",
       "      <td>4197</td>\n",
       "      <td>2020-03-26</td>\n",
       "      <td>2020-04-01</td>\n",
       "      <td>2020-03-31</td>\n",
       "      <td>2020-04-01</td>\n",
       "      <td>80s</td>\n",
       "      <td>MALE</td>\n",
       "      <td>FATAL</td>\n",
       "      <td>2270</td>\n",
       "      <td>York Region Public Health Services</td>\n",
       "      <td>17250 Yonge Street</td>\n",
       "      <td>Newmarket</td>\n",
       "      <td>L3Y 6Z1</td>\n",
       "      <td>www.york.ca/wps/portal/yorkhome/health/</td>\n",
       "      <td>44.048023</td>\n",
       "      <td>-79.480239</td>\n",
       "      <td>-1.0</td>\n",
       "    </tr>\n",
       "    <tr>\n",
       "      <th>4928</th>\n",
       "      <td>4929</td>\n",
       "      <td>2020-03-28</td>\n",
       "      <td>2020-04-06</td>\n",
       "      <td>2020-04-03</td>\n",
       "      <td>2020-04-04</td>\n",
       "      <td>80s</td>\n",
       "      <td>MALE</td>\n",
       "      <td>SURVIVED</td>\n",
       "      <td>2234</td>\n",
       "      <td>Haldimand-Norfolk Health Unit</td>\n",
       "      <td>12 Gilbertson Drive</td>\n",
       "      <td>Simcoe</td>\n",
       "      <td>N3Y 4N5</td>\n",
       "      <td>www.hnhu.org</td>\n",
       "      <td>42.847825</td>\n",
       "      <td>-80.303815</td>\n",
       "      <td>-1.0</td>\n",
       "    </tr>\n",
       "    <tr>\n",
       "      <th>5340</th>\n",
       "      <td>5341</td>\n",
       "      <td>2020-03-30</td>\n",
       "      <td>2020-03-31</td>\n",
       "      <td>2020-03-01</td>\n",
       "      <td>2020-03-31</td>\n",
       "      <td>40s</td>\n",
       "      <td>FEMALE</td>\n",
       "      <td>SURVIVED</td>\n",
       "      <td>3895</td>\n",
       "      <td>Toronto Public Health</td>\n",
       "      <td>277 Victoria Street, 5th Floor</td>\n",
       "      <td>Toronto</td>\n",
       "      <td>M5B 1W2</td>\n",
       "      <td>www.toronto.ca/community-people/health-wellnes...</td>\n",
       "      <td>43.656591</td>\n",
       "      <td>-79.379358</td>\n",
       "      <td>-30.0</td>\n",
       "    </tr>\n",
       "    <tr>\n",
       "      <th>5431</th>\n",
       "      <td>5432</td>\n",
       "      <td>2020-03-30</td>\n",
       "      <td>2020-04-02</td>\n",
       "      <td>2020-04-02</td>\n",
       "      <td>2020-04-12</td>\n",
       "      <td>50s</td>\n",
       "      <td>MALE</td>\n",
       "      <td>SURVIVED</td>\n",
       "      <td>2242</td>\n",
       "      <td>Lambton Public Health</td>\n",
       "      <td>160 Exmouth Street</td>\n",
       "      <td>Point Edward</td>\n",
       "      <td>N7T 7Z6</td>\n",
       "      <td>www.lambtonhealth.on.ca</td>\n",
       "      <td>42.986416</td>\n",
       "      <td>-82.404808</td>\n",
       "      <td>-10.0</td>\n",
       "    </tr>\n",
       "    <tr>\n",
       "      <th>6888</th>\n",
       "      <td>6889</td>\n",
       "      <td>2020-04-02</td>\n",
       "      <td>2020-04-22</td>\n",
       "      <td>2020-04-22</td>\n",
       "      <td>2020-04-24</td>\n",
       "      <td>60s</td>\n",
       "      <td>FEMALE</td>\n",
       "      <td>SURVIVED</td>\n",
       "      <td>3895</td>\n",
       "      <td>Toronto Public Health</td>\n",
       "      <td>277 Victoria Street, 5th Floor</td>\n",
       "      <td>Toronto</td>\n",
       "      <td>M5B 1W2</td>\n",
       "      <td>www.toronto.ca/community-people/health-wellnes...</td>\n",
       "      <td>43.656591</td>\n",
       "      <td>-79.379358</td>\n",
       "      <td>-2.0</td>\n",
       "    </tr>\n",
       "  </tbody>\n",
       "</table>\n",
       "</div>"
      ],
      "text/plain": [
       "      Row_ID Accurate_Episode_Date Case_Reported_Date Test_Reported_Date  \\\n",
       "4196    4197            2020-03-26         2020-04-01         2020-03-31   \n",
       "4928    4929            2020-03-28         2020-04-06         2020-04-03   \n",
       "5340    5341            2020-03-30         2020-03-31         2020-03-01   \n",
       "5431    5432            2020-03-30         2020-04-02         2020-04-02   \n",
       "6888    6889            2020-04-02         2020-04-22         2020-04-22   \n",
       "\n",
       "     Specimen_Date Age_Group Client_Gender  Outcome1  Reporting_PHU_ID  \\\n",
       "4196    2020-04-01       80s          MALE     FATAL              2270   \n",
       "4928    2020-04-04       80s          MALE  SURVIVED              2234   \n",
       "5340    2020-03-31       40s        FEMALE  SURVIVED              3895   \n",
       "5431    2020-04-12       50s          MALE  SURVIVED              2242   \n",
       "6888    2020-04-24       60s        FEMALE  SURVIVED              3895   \n",
       "\n",
       "                           Reporting_PHU           Reporting_PHU_Address  \\\n",
       "4196  York Region Public Health Services              17250 Yonge Street   \n",
       "4928       Haldimand-Norfolk Health Unit             12 Gilbertson Drive   \n",
       "5340               Toronto Public Health  277 Victoria Street, 5th Floor   \n",
       "5431               Lambton Public Health              160 Exmouth Street   \n",
       "6888               Toronto Public Health  277 Victoria Street, 5th Floor   \n",
       "\n",
       "     Reporting_PHU_City Reporting_PHU_Postal_Code  \\\n",
       "4196          Newmarket                   L3Y 6Z1   \n",
       "4928             Simcoe                   N3Y 4N5   \n",
       "5340            Toronto                   M5B 1W2   \n",
       "5431       Point Edward                   N7T 7Z6   \n",
       "6888            Toronto                   M5B 1W2   \n",
       "\n",
       "                                  Reporting_PHU_Website  \\\n",
       "4196            www.york.ca/wps/portal/yorkhome/health/   \n",
       "4928                                       www.hnhu.org   \n",
       "5340  www.toronto.ca/community-people/health-wellnes...   \n",
       "5431                            www.lambtonhealth.on.ca   \n",
       "6888  www.toronto.ca/community-people/health-wellnes...   \n",
       "\n",
       "      Reporting_PHU_Latitude  Reporting_PHU_Longitude  Test_Turn_Around  \n",
       "4196               44.048023               -79.480239              -1.0  \n",
       "4928               42.847825               -80.303815              -1.0  \n",
       "5340               43.656591               -79.379358             -30.0  \n",
       "5431               42.986416               -82.404808             -10.0  \n",
       "6888               43.656591               -79.379358              -2.0  "
      ]
     },
     "execution_count": 180,
     "metadata": {},
     "output_type": "execute_result"
    }
   ],
   "source": [
    "all_cases.loc[all_cases['Test_Turn_Around'] < 0].head()"
   ]
  },
  {
   "cell_type": "markdown",
   "id": "70ac14b2-2b1d-4c1e-85bf-907af49e69d5",
   "metadata": {},
   "source": [
    "Let's drop those"
   ]
  },
  {
   "cell_type": "code",
   "execution_count": 181,
   "id": "15569c66-45f4-4885-a301-f57d6671ccbf",
   "metadata": {},
   "outputs": [],
   "source": [
    "all_cases.drop(all_cases.loc[all_cases['Test_Turn_Around'] < 0].index,inplace=True)"
   ]
  },
  {
   "cell_type": "code",
   "execution_count": 182,
   "id": "191e7bd3-4d92-49af-a4c9-452b34dd83d2",
   "metadata": {},
   "outputs": [
    {
     "data": {
      "text/plain": [
       "count    1.605459e+06\n",
       "mean     1.957669e+00\n",
       "std      1.103638e+01\n",
       "min      0.000000e+00\n",
       "25%      1.000000e+00\n",
       "50%      1.000000e+00\n",
       "75%      2.000000e+00\n",
       "max      7.306000e+03\n",
       "Name: Test_Turn_Around, dtype: float64"
      ]
     },
     "execution_count": 182,
     "metadata": {},
     "output_type": "execute_result"
    }
   ],
   "source": [
    "all_cases['Test_Turn_Around'].describe()"
   ]
  },
  {
   "cell_type": "markdown",
   "id": "77faca91-a3f4-48ed-972b-3af25a329587",
   "metadata": {},
   "source": [
    "The max is also really high. Chances are no one waited 7306 days for their test result. Let's identify and drop max outliers as well"
   ]
  },
  {
   "cell_type": "code",
   "execution_count": 183,
   "id": "20ad18bf-0512-49ba-b745-8b3101096e94",
   "metadata": {},
   "outputs": [],
   "source": [
    "all_cases.drop(all_cases.loc[all_cases['Test_Turn_Around'] > 14].index,inplace=True)"
   ]
  },
  {
   "cell_type": "code",
   "execution_count": 184,
   "id": "01ee996a-6235-492c-8e7b-cf41eec8b82b",
   "metadata": {},
   "outputs": [
    {
     "data": {
      "text/plain": [
       "count    1.589815e+06\n",
       "mean     1.498649e+00\n",
       "std      1.534913e+00\n",
       "min      0.000000e+00\n",
       "25%      1.000000e+00\n",
       "50%      1.000000e+00\n",
       "75%      2.000000e+00\n",
       "max      1.400000e+01\n",
       "Name: Test_Turn_Around, dtype: float64"
      ]
     },
     "execution_count": 184,
     "metadata": {},
     "output_type": "execute_result"
    }
   ],
   "source": [
    "all_cases['Test_Turn_Around'].describe()"
   ]
  },
  {
   "cell_type": "code",
   "execution_count": 188,
   "id": "a92dd0e2-dfc6-4bcb-b3da-5d410f8c44b0",
   "metadata": {},
   "outputs": [],
   "source": [
    "all_cases['Case_Reported_Year'] = all_cases['Case_Reported_Date'].dt.year\n",
    "all_cases['Case_Reported_Month'] = all_cases['Case_Reported_Date'].dt.month"
   ]
  },
  {
   "cell_type": "code",
   "execution_count": 189,
   "id": "70288229-0bf6-430b-a327-597ff54d6ce4",
   "metadata": {},
   "outputs": [
    {
     "data": {
      "text/html": [
       "<div>\n",
       "<style scoped>\n",
       "    .dataframe tbody tr th:only-of-type {\n",
       "        vertical-align: middle;\n",
       "    }\n",
       "\n",
       "    .dataframe tbody tr th {\n",
       "        vertical-align: top;\n",
       "    }\n",
       "\n",
       "    .dataframe thead th {\n",
       "        text-align: right;\n",
       "    }\n",
       "</style>\n",
       "<table border=\"1\" class=\"dataframe\">\n",
       "  <thead>\n",
       "    <tr style=\"text-align: right;\">\n",
       "      <th></th>\n",
       "      <th>Row_ID</th>\n",
       "      <th>Accurate_Episode_Date</th>\n",
       "      <th>Case_Reported_Date</th>\n",
       "      <th>Test_Reported_Date</th>\n",
       "      <th>Specimen_Date</th>\n",
       "      <th>Age_Group</th>\n",
       "      <th>Client_Gender</th>\n",
       "      <th>Outcome1</th>\n",
       "      <th>Reporting_PHU_ID</th>\n",
       "      <th>Reporting_PHU</th>\n",
       "      <th>Reporting_PHU_Address</th>\n",
       "      <th>Reporting_PHU_City</th>\n",
       "      <th>Reporting_PHU_Postal_Code</th>\n",
       "      <th>Reporting_PHU_Website</th>\n",
       "      <th>Reporting_PHU_Latitude</th>\n",
       "      <th>Reporting_PHU_Longitude</th>\n",
       "      <th>Test_Turn_Around</th>\n",
       "      <th>Month-Year</th>\n",
       "      <th>Case_Reported_Year</th>\n",
       "      <th>Case_Reported_Month</th>\n",
       "    </tr>\n",
       "  </thead>\n",
       "  <tbody>\n",
       "    <tr>\n",
       "      <th>0</th>\n",
       "      <td>1</td>\n",
       "      <td>1934-09-28</td>\n",
       "      <td>2022-09-29</td>\n",
       "      <td>2022-09-29</td>\n",
       "      <td>2022-09-27</td>\n",
       "      <td>&lt;20</td>\n",
       "      <td>FEMALE</td>\n",
       "      <td>SURVIVED</td>\n",
       "      <td>2262</td>\n",
       "      <td>Thunder Bay District Health Unit</td>\n",
       "      <td>999 Balmoral Street</td>\n",
       "      <td>Thunder Bay</td>\n",
       "      <td>P7B 6E7</td>\n",
       "      <td>www.tbdhu.com</td>\n",
       "      <td>48.400572</td>\n",
       "      <td>-89.258851</td>\n",
       "      <td>2.0</td>\n",
       "      <td>2022-9</td>\n",
       "      <td>2022</td>\n",
       "      <td>9</td>\n",
       "    </tr>\n",
       "    <tr>\n",
       "      <th>1</th>\n",
       "      <td>2</td>\n",
       "      <td>1989-02-21</td>\n",
       "      <td>2022-11-08</td>\n",
       "      <td>2022-11-07</td>\n",
       "      <td>2022-11-06</td>\n",
       "      <td>&lt;20</td>\n",
       "      <td>FEMALE</td>\n",
       "      <td>SURVIVED</td>\n",
       "      <td>2270</td>\n",
       "      <td>York Region Public Health Services</td>\n",
       "      <td>17250 Yonge Street</td>\n",
       "      <td>Newmarket</td>\n",
       "      <td>L3Y 6Z1</td>\n",
       "      <td>www.york.ca/wps/portal/yorkhome/health/</td>\n",
       "      <td>44.048023</td>\n",
       "      <td>-79.480239</td>\n",
       "      <td>1.0</td>\n",
       "      <td>2022-11</td>\n",
       "      <td>2022</td>\n",
       "      <td>11</td>\n",
       "    </tr>\n",
       "    <tr>\n",
       "      <th>2</th>\n",
       "      <td>3</td>\n",
       "      <td>2000-03-01</td>\n",
       "      <td>2022-01-30</td>\n",
       "      <td>NaT</td>\n",
       "      <td>2000-03-01</td>\n",
       "      <td>&lt;20</td>\n",
       "      <td>FEMALE</td>\n",
       "      <td>SURVIVED</td>\n",
       "      <td>2243</td>\n",
       "      <td>Leeds, Grenville and Lanark District Health Unit</td>\n",
       "      <td>458 Laurier Boulevard</td>\n",
       "      <td>Brockville</td>\n",
       "      <td>K6V 7A3</td>\n",
       "      <td>www.healthunit.org</td>\n",
       "      <td>44.615843</td>\n",
       "      <td>-75.702833</td>\n",
       "      <td>NaN</td>\n",
       "      <td>2022-1</td>\n",
       "      <td>2022</td>\n",
       "      <td>1</td>\n",
       "    </tr>\n",
       "    <tr>\n",
       "      <th>4</th>\n",
       "      <td>5</td>\n",
       "      <td>2002-08-08</td>\n",
       "      <td>2022-08-15</td>\n",
       "      <td>2022-08-15</td>\n",
       "      <td>2022-08-14</td>\n",
       "      <td>60s</td>\n",
       "      <td>MALE</td>\n",
       "      <td>SURVIVED</td>\n",
       "      <td>2233</td>\n",
       "      <td>Grey Bruce Health Unit</td>\n",
       "      <td>101 17th Street East</td>\n",
       "      <td>Owen Sound</td>\n",
       "      <td>N4K 0A5</td>\n",
       "      <td>www.publichealthgreybruce.on.ca/</td>\n",
       "      <td>44.576196</td>\n",
       "      <td>-80.940980</td>\n",
       "      <td>1.0</td>\n",
       "      <td>2022-8</td>\n",
       "      <td>2022</td>\n",
       "      <td>8</td>\n",
       "    </tr>\n",
       "    <tr>\n",
       "      <th>5</th>\n",
       "      <td>6</td>\n",
       "      <td>2008-08-27</td>\n",
       "      <td>2022-08-28</td>\n",
       "      <td>2022-08-28</td>\n",
       "      <td>2022-08-27</td>\n",
       "      <td>70s</td>\n",
       "      <td>FEMALE</td>\n",
       "      <td>SURVIVED</td>\n",
       "      <td>2233</td>\n",
       "      <td>Grey Bruce Health Unit</td>\n",
       "      <td>101 17th Street East</td>\n",
       "      <td>Owen Sound</td>\n",
       "      <td>N4K 0A5</td>\n",
       "      <td>www.publichealthgreybruce.on.ca/</td>\n",
       "      <td>44.576196</td>\n",
       "      <td>-80.940980</td>\n",
       "      <td>1.0</td>\n",
       "      <td>2022-8</td>\n",
       "      <td>2022</td>\n",
       "      <td>8</td>\n",
       "    </tr>\n",
       "  </tbody>\n",
       "</table>\n",
       "</div>"
      ],
      "text/plain": [
       "   Row_ID Accurate_Episode_Date Case_Reported_Date Test_Reported_Date  \\\n",
       "0       1            1934-09-28         2022-09-29         2022-09-29   \n",
       "1       2            1989-02-21         2022-11-08         2022-11-07   \n",
       "2       3            2000-03-01         2022-01-30                NaT   \n",
       "4       5            2002-08-08         2022-08-15         2022-08-15   \n",
       "5       6            2008-08-27         2022-08-28         2022-08-28   \n",
       "\n",
       "  Specimen_Date Age_Group Client_Gender  Outcome1  Reporting_PHU_ID  \\\n",
       "0    2022-09-27       <20        FEMALE  SURVIVED              2262   \n",
       "1    2022-11-06       <20        FEMALE  SURVIVED              2270   \n",
       "2    2000-03-01       <20        FEMALE  SURVIVED              2243   \n",
       "4    2022-08-14       60s          MALE  SURVIVED              2233   \n",
       "5    2022-08-27       70s        FEMALE  SURVIVED              2233   \n",
       "\n",
       "                                      Reporting_PHU  Reporting_PHU_Address  \\\n",
       "0                  Thunder Bay District Health Unit    999 Balmoral Street   \n",
       "1                York Region Public Health Services     17250 Yonge Street   \n",
       "2  Leeds, Grenville and Lanark District Health Unit  458 Laurier Boulevard   \n",
       "4                            Grey Bruce Health Unit   101 17th Street East   \n",
       "5                            Grey Bruce Health Unit   101 17th Street East   \n",
       "\n",
       "  Reporting_PHU_City Reporting_PHU_Postal_Code  \\\n",
       "0        Thunder Bay                   P7B 6E7   \n",
       "1          Newmarket                   L3Y 6Z1   \n",
       "2         Brockville                   K6V 7A3   \n",
       "4         Owen Sound                   N4K 0A5   \n",
       "5         Owen Sound                   N4K 0A5   \n",
       "\n",
       "                     Reporting_PHU_Website  Reporting_PHU_Latitude  \\\n",
       "0                            www.tbdhu.com               48.400572   \n",
       "1  www.york.ca/wps/portal/yorkhome/health/               44.048023   \n",
       "2                       www.healthunit.org               44.615843   \n",
       "4         www.publichealthgreybruce.on.ca/               44.576196   \n",
       "5         www.publichealthgreybruce.on.ca/               44.576196   \n",
       "\n",
       "   Reporting_PHU_Longitude  Test_Turn_Around Month-Year  Case_Reported_Year  \\\n",
       "0               -89.258851               2.0     2022-9                2022   \n",
       "1               -79.480239               1.0    2022-11                2022   \n",
       "2               -75.702833               NaN     2022-1                2022   \n",
       "4               -80.940980               1.0     2022-8                2022   \n",
       "5               -80.940980               1.0     2022-8                2022   \n",
       "\n",
       "   Case_Reported_Month  \n",
       "0                    9  \n",
       "1                   11  \n",
       "2                    1  \n",
       "4                    8  \n",
       "5                    8  "
      ]
     },
     "execution_count": 189,
     "metadata": {},
     "output_type": "execute_result"
    }
   ],
   "source": [
    "all_cases.head()"
   ]
  },
  {
   "cell_type": "code",
   "execution_count": 194,
   "id": "66a2c0f4-bfb2-4a54-b34a-d7c221d90186",
   "metadata": {
    "scrolled": true
   },
   "outputs": [
    {
     "data": {
      "text/plain": [
       "Case_Reported_Year  Case_Reported_Month\n",
       "2020                1                      5.333333\n",
       "                    2                      1.000000\n",
       "                    3                      3.355153\n",
       "                    4                      2.031989\n",
       "                    5                      2.098415\n",
       "                    6                      2.138291\n",
       "                    7                      1.890996\n",
       "                    8                      1.650635\n",
       "                    9                      2.416257\n",
       "                    10                     2.346661\n",
       "                    11                     1.797343\n",
       "                    12                     2.047088\n",
       "2021                1                      1.647950\n",
       "                    2                      1.265427\n",
       "                    3                      1.398196\n",
       "                    4                      1.311063\n",
       "                    5                      1.082550\n",
       "                    6                      1.027047\n",
       "                    7                      1.187429\n",
       "                    8                      1.087193\n",
       "                    9                      1.132551\n",
       "                    10                     1.070000\n",
       "                    11                     1.061371\n",
       "                    12                     1.701766\n",
       "2022                1                      2.282236\n",
       "                    2                      1.099494\n",
       "                    3                      0.936285\n",
       "                    4                      1.013019\n",
       "                    5                      0.938602\n",
       "                    6                      0.962038\n",
       "                    7                      1.065845\n",
       "                    8                      1.291290\n",
       "                    9                      1.051021\n",
       "                    10                     0.992990\n",
       "                    11                     1.065500\n",
       "                    12                     1.118593\n",
       "2023                1                      1.083830\n",
       "                    2                      1.007352\n",
       "                    3                      1.131325\n",
       "                    4                      1.024153\n",
       "                    5                      1.003267\n",
       "                    6                      1.071051\n",
       "                    7                      0.970687\n",
       "                    8                      1.033579\n",
       "                    9                      1.043009\n",
       "                    10                     1.086577\n",
       "Name: Test_Turn_Around, dtype: float64"
      ]
     },
     "execution_count": 194,
     "metadata": {},
     "output_type": "execute_result"
    }
   ],
   "source": [
    "all_cases.groupby([all_cases['Case_Reported_Year'], all_cases['Case_Reported_Month']])['Test_Turn_Around'].mean()"
   ]
  },
  {
   "cell_type": "code",
   "execution_count": 193,
   "id": "3f6fe7fc-06ab-49ca-8eef-13bbd3baabef",
   "metadata": {},
   "outputs": [
    {
     "data": {
      "text/plain": [
       "<Axes: xlabel='Case_Reported_Year,Case_Reported_Month'>"
      ]
     },
     "execution_count": 193,
     "metadata": {},
     "output_type": "execute_result"
    },
    {
     "data": {
      "image/png": "[encoded data removed]",
      "text/plain": [
       "<Figure size 640x480 with 1 Axes>"
      ]
     },
     "metadata": {},
     "output_type": "display_data"
    }
   ],
   "source": [
    "all_cases.groupby([all_cases['Case_Reported_Year'], all_cases['Case_Reported_Month']])['Test_Turn_Around'].mean().plot()"
   ]
  },
  {
   "cell_type": "markdown",
   "id": "c2d2ffd2-5a4f-4d70-a7a4-8066048f6952",
   "metadata": {},
   "source": [
    "How does this correlate with the number of cases?"
   ]
  },
  {
   "cell_type": "code",
   "execution_count": 197,
   "id": "d943c49a-05af-46dc-bfa5-3aa5402ce23c",
   "metadata": {},
   "outputs": [
    {
     "data": {
      "text/plain": [
       "<Axes: xlabel='Case_Reported_Date'>"
      ]
     },
     "execution_count": 197,
     "metadata": {},
     "output_type": "execute_result"
    },
    {
     "data": {
      "image/png": "[encoded data removed]",
      "text/plain": [
       "<Figure size 640x480 with 1 Axes>"
      ]
     },
     "metadata": {},
     "output_type": "display_data"
    }
   ],
   "source": [
    "all_cases.groupby(['Case_Reported_Date'])['Row_ID'].count().plot()"
   ]
  },
  {
   "cell_type": "markdown",
   "id": "2a987558",
   "metadata": {
    "heading_collapsed": true,
    "jp-MarkdownHeadingCollapsed": true
   },
   "source": [
    "## Data Preparation"
   ]
  },
  {
   "cell_type": "code",
   "execution_count": 44,
   "id": "3c9b7f72",
   "metadata": {
    "hidden": true
   },
   "outputs": [
    {
     "data": {
      "text/html": [
       "<div>\n",
       "<style scoped>\n",
       "    .dataframe tbody tr th:only-of-type {\n",
       "        vertical-align: middle;\n",
       "    }\n",
       "\n",
       "    .dataframe tbody tr th {\n",
       "        vertical-align: top;\n",
       "    }\n",
       "\n",
       "    .dataframe thead th {\n",
       "        text-align: right;\n",
       "    }\n",
       "</style>\n",
       "<table border=\"1\" class=\"dataframe\">\n",
       "  <thead>\n",
       "    <tr style=\"text-align: right;\">\n",
       "      <th></th>\n",
       "      <th>Accurate_Episode_Date</th>\n",
       "      <th>Row_ID</th>\n",
       "    </tr>\n",
       "  </thead>\n",
       "  <tbody>\n",
       "    <tr>\n",
       "      <th>1375</th>\n",
       "      <td>2023-10-27</td>\n",
       "      <td>424</td>\n",
       "    </tr>\n",
       "    <tr>\n",
       "      <th>1376</th>\n",
       "      <td>2023-10-28</td>\n",
       "      <td>286</td>\n",
       "    </tr>\n",
       "    <tr>\n",
       "      <th>1377</th>\n",
       "      <td>2023-10-29</td>\n",
       "      <td>217</td>\n",
       "    </tr>\n",
       "    <tr>\n",
       "      <th>1378</th>\n",
       "      <td>2023-10-30</td>\n",
       "      <td>245</td>\n",
       "    </tr>\n",
       "    <tr>\n",
       "      <th>1379</th>\n",
       "      <td>2023-10-31</td>\n",
       "      <td>35</td>\n",
       "    </tr>\n",
       "  </tbody>\n",
       "</table>\n",
       "</div>"
      ],
      "text/plain": [
       "     Accurate_Episode_Date  Row_ID\n",
       "1375            2023-10-27     424\n",
       "1376            2023-10-28     286\n",
       "1377            2023-10-29     217\n",
       "1378            2023-10-30     245\n",
       "1379            2023-10-31      35"
      ]
     },
     "execution_count": 44,
     "metadata": {},
     "output_type": "execute_result"
    }
   ],
   "source": [
    "agg = all_cases.groupby(['Accurate_Episode_Date'])['Row_ID'].count().to_frame().reset_index()\n",
    "agg['Accurate_Episode_Date'] = pd.to_datetime(agg['Accurate_Episode_Date'])\n",
    "agg = agg.loc[agg['Accurate_Episode_Date'] > '2019-06-01']\n",
    "agg.tail()"
   ]
  },
  {
   "cell_type": "markdown",
   "id": "5f7b192e",
   "metadata": {
    "hidden": true
   },
   "source": [
    "Next. Let's visualize the data to make sure our aggregation worked as expected"
   ]
  },
  {
   "cell_type": "code",
   "execution_count": 46,
   "id": "be2c455a",
   "metadata": {
    "hidden": true
   },
   "outputs": [
    {
     "data": {
      "text/plain": [
       "Text(0.5, 1.0, 'Number of cases over time')"
      ]
     },
     "execution_count": 46,
     "metadata": {},
     "output_type": "execute_result"
    },
    {
     "data": {
      "image/png": "[encoded data removed]",
      "text/plain": [
       "<Figure size 640x480 with 1 Axes>"
      ]
     },
     "metadata": {},
     "output_type": "display_data"
    }
   ],
   "source": [
    "import matplotlib.pyplot as plt\n",
    "import matplotlib.dates as mdates\n",
    "import matplotlib.cbook as cbook\n",
    "\n",
    "fig = plt.figure()\n",
    "ax = plt.axes()\n",
    "\n",
    "x = agg['Accurate_Episode_Date']\n",
    "y = agg['Row_ID']\n",
    "ax.plot(x, y)\n",
    "\n",
    "# Major ticks every 6 months.\n",
    "fmt_half_year = mdates.MonthLocator(interval=12)\n",
    "ax.xaxis.set_major_locator(fmt_half_year)\n",
    "\n",
    "# Minor ticks every month.\n",
    "fmt_month = mdates.MonthLocator()\n",
    "ax.xaxis.set_minor_locator(fmt_month)\n",
    "\n",
    "# Text in the x axis will be displayed in 'YYYY-mm' format.\n",
    "ax.xaxis.set_major_formatter(mdates.DateFormatter('%Y-%m'))\n",
    "\n",
    "plt.title(\"Number of cases over time\")"
   ]
  },
  {
   "cell_type": "markdown",
   "id": "2c4738dd",
   "metadata": {
    "hidden": true
   },
   "source": [
    "We have a timeseries problem. Let's get the data in shape for it. Let's drop any data in 2019 as the tail is not going to be as relevant for predicting the most recent data. "
   ]
  },
  {
   "cell_type": "code",
   "execution_count": 47,
   "id": "d373a374",
   "metadata": {
    "hidden": true
   },
   "outputs": [
    {
     "data": {
      "text/html": [
       "<div>\n",
       "<style scoped>\n",
       "    .dataframe tbody tr th:only-of-type {\n",
       "        vertical-align: middle;\n",
       "    }\n",
       "\n",
       "    .dataframe tbody tr th {\n",
       "        vertical-align: top;\n",
       "    }\n",
       "\n",
       "    .dataframe thead th {\n",
       "        text-align: right;\n",
       "    }\n",
       "</style>\n",
       "<table border=\"1\" class=\"dataframe\">\n",
       "  <thead>\n",
       "    <tr style=\"text-align: right;\">\n",
       "      <th></th>\n",
       "      <th>Accurate_Episode_Date</th>\n",
       "      <th>Row_ID</th>\n",
       "    </tr>\n",
       "  </thead>\n",
       "  <tbody>\n",
       "    <tr>\n",
       "      <th>9</th>\n",
       "      <td>2019-11-20</td>\n",
       "      <td>1</td>\n",
       "    </tr>\n",
       "    <tr>\n",
       "      <th>10</th>\n",
       "      <td>2019-12-18</td>\n",
       "      <td>1</td>\n",
       "    </tr>\n",
       "    <tr>\n",
       "      <th>11</th>\n",
       "      <td>2020-01-01</td>\n",
       "      <td>2</td>\n",
       "    </tr>\n",
       "    <tr>\n",
       "      <th>12</th>\n",
       "      <td>2020-01-10</td>\n",
       "      <td>1</td>\n",
       "    </tr>\n",
       "    <tr>\n",
       "      <th>13</th>\n",
       "      <td>2020-01-16</td>\n",
       "      <td>1</td>\n",
       "    </tr>\n",
       "  </tbody>\n",
       "</table>\n",
       "</div>"
      ],
      "text/plain": [
       "   Accurate_Episode_Date  Row_ID\n",
       "9             2019-11-20       1\n",
       "10            2019-12-18       1\n",
       "11            2020-01-01       2\n",
       "12            2020-01-10       1\n",
       "13            2020-01-16       1"
      ]
     },
     "execution_count": 47,
     "metadata": {},
     "output_type": "execute_result"
    }
   ],
   "source": [
    "agg.head()"
   ]
  },
  {
   "cell_type": "code",
   "execution_count": 48,
   "id": "87be8c98",
   "metadata": {
    "hidden": true
   },
   "outputs": [
    {
     "data": {
      "text/html": [
       "<div>\n",
       "<style scoped>\n",
       "    .dataframe tbody tr th:only-of-type {\n",
       "        vertical-align: middle;\n",
       "    }\n",
       "\n",
       "    .dataframe tbody tr th {\n",
       "        vertical-align: top;\n",
       "    }\n",
       "\n",
       "    .dataframe thead th {\n",
       "        text-align: right;\n",
       "    }\n",
       "</style>\n",
       "<table border=\"1\" class=\"dataframe\">\n",
       "  <thead>\n",
       "    <tr style=\"text-align: right;\">\n",
       "      <th></th>\n",
       "      <th>Accurate_Episode_Date</th>\n",
       "      <th>Row_ID</th>\n",
       "    </tr>\n",
       "  </thead>\n",
       "  <tbody>\n",
       "    <tr>\n",
       "      <th>1375</th>\n",
       "      <td>2023-10-27</td>\n",
       "      <td>424</td>\n",
       "    </tr>\n",
       "    <tr>\n",
       "      <th>1376</th>\n",
       "      <td>2023-10-28</td>\n",
       "      <td>286</td>\n",
       "    </tr>\n",
       "    <tr>\n",
       "      <th>1377</th>\n",
       "      <td>2023-10-29</td>\n",
       "      <td>217</td>\n",
       "    </tr>\n",
       "    <tr>\n",
       "      <th>1378</th>\n",
       "      <td>2023-10-30</td>\n",
       "      <td>245</td>\n",
       "    </tr>\n",
       "    <tr>\n",
       "      <th>1379</th>\n",
       "      <td>2023-10-31</td>\n",
       "      <td>35</td>\n",
       "    </tr>\n",
       "  </tbody>\n",
       "</table>\n",
       "</div>"
      ],
      "text/plain": [
       "     Accurate_Episode_Date  Row_ID\n",
       "1375            2023-10-27     424\n",
       "1376            2023-10-28     286\n",
       "1377            2023-10-29     217\n",
       "1378            2023-10-30     245\n",
       "1379            2023-10-31      35"
      ]
     },
     "execution_count": 48,
     "metadata": {},
     "output_type": "execute_result"
    }
   ],
   "source": [
    "agg.tail()"
   ]
  },
  {
   "cell_type": "code",
   "execution_count": 49,
   "id": "51ebce5f",
   "metadata": {
    "hidden": true
   },
   "outputs": [],
   "source": [
    "agg = agg.drop(agg.loc[agg.Accurate_Episode_Date < '2020-01-01'].index)"
   ]
  },
  {
   "cell_type": "code",
   "execution_count": 50,
   "id": "f7661762",
   "metadata": {
    "hidden": true
   },
   "outputs": [
    {
     "data": {
      "text/html": [
       "<div>\n",
       "<style scoped>\n",
       "    .dataframe tbody tr th:only-of-type {\n",
       "        vertical-align: middle;\n",
       "    }\n",
       "\n",
       "    .dataframe tbody tr th {\n",
       "        vertical-align: top;\n",
       "    }\n",
       "\n",
       "    .dataframe thead th {\n",
       "        text-align: right;\n",
       "    }\n",
       "</style>\n",
       "<table border=\"1\" class=\"dataframe\">\n",
       "  <thead>\n",
       "    <tr style=\"text-align: right;\">\n",
       "      <th></th>\n",
       "      <th>Accurate_Episode_Date</th>\n",
       "      <th>Row_ID</th>\n",
       "    </tr>\n",
       "  </thead>\n",
       "  <tbody>\n",
       "    <tr>\n",
       "      <th>11</th>\n",
       "      <td>2020-01-01</td>\n",
       "      <td>2</td>\n",
       "    </tr>\n",
       "    <tr>\n",
       "      <th>12</th>\n",
       "      <td>2020-01-10</td>\n",
       "      <td>1</td>\n",
       "    </tr>\n",
       "    <tr>\n",
       "      <th>13</th>\n",
       "      <td>2020-01-16</td>\n",
       "      <td>1</td>\n",
       "    </tr>\n",
       "    <tr>\n",
       "      <th>14</th>\n",
       "      <td>2020-01-21</td>\n",
       "      <td>1</td>\n",
       "    </tr>\n",
       "    <tr>\n",
       "      <th>15</th>\n",
       "      <td>2020-01-22</td>\n",
       "      <td>2</td>\n",
       "    </tr>\n",
       "  </tbody>\n",
       "</table>\n",
       "</div>"
      ],
      "text/plain": [
       "   Accurate_Episode_Date  Row_ID\n",
       "11            2020-01-01       2\n",
       "12            2020-01-10       1\n",
       "13            2020-01-16       1\n",
       "14            2020-01-21       1\n",
       "15            2020-01-22       2"
      ]
     },
     "execution_count": 50,
     "metadata": {},
     "output_type": "execute_result"
    }
   ],
   "source": [
    "agg.head()"
   ]
  },
  {
   "cell_type": "code",
   "execution_count": 51,
   "id": "018bc5d3",
   "metadata": {
    "hidden": true
   },
   "outputs": [],
   "source": [
    "agg['t-1'] = agg['Row_ID'].shift(1)\n",
    "agg['t-2'] = agg['Row_ID'].shift(2)\n",
    "agg['t-3'] = agg['Row_ID'].shift(3)\n",
    "agg['t-4'] = agg['Row_ID'].shift(4)\n",
    "agg['t-5'] = agg['Row_ID'].shift(5)\n",
    "agg['t-6'] = agg['Row_ID'].shift(6)\n",
    "agg['t-7'] = agg['Row_ID'].shift(7)\n",
    "agg['t'] = agg['Row_ID']"
   ]
  },
  {
   "cell_type": "code",
   "execution_count": 52,
   "id": "a9e25e54",
   "metadata": {
    "hidden": true
   },
   "outputs": [
    {
     "data": {
      "text/html": [
       "<div>\n",
       "<style scoped>\n",
       "    .dataframe tbody tr th:only-of-type {\n",
       "        vertical-align: middle;\n",
       "    }\n",
       "\n",
       "    .dataframe tbody tr th {\n",
       "        vertical-align: top;\n",
       "    }\n",
       "\n",
       "    .dataframe thead th {\n",
       "        text-align: right;\n",
       "    }\n",
       "</style>\n",
       "<table border=\"1\" class=\"dataframe\">\n",
       "  <thead>\n",
       "    <tr style=\"text-align: right;\">\n",
       "      <th></th>\n",
       "      <th>Accurate_Episode_Date</th>\n",
       "      <th>Row_ID</th>\n",
       "      <th>t-1</th>\n",
       "      <th>t-2</th>\n",
       "      <th>t-3</th>\n",
       "      <th>t-4</th>\n",
       "      <th>t-5</th>\n",
       "      <th>t-6</th>\n",
       "      <th>t-7</th>\n",
       "      <th>t</th>\n",
       "    </tr>\n",
       "  </thead>\n",
       "  <tbody>\n",
       "    <tr>\n",
       "      <th>11</th>\n",
       "      <td>2020-01-01</td>\n",
       "      <td>2</td>\n",
       "      <td>NaN</td>\n",
       "      <td>NaN</td>\n",
       "      <td>NaN</td>\n",
       "      <td>NaN</td>\n",
       "      <td>NaN</td>\n",
       "      <td>NaN</td>\n",
       "      <td>NaN</td>\n",
       "      <td>2</td>\n",
       "    </tr>\n",
       "    <tr>\n",
       "      <th>12</th>\n",
       "      <td>2020-01-10</td>\n",
       "      <td>1</td>\n",
       "      <td>2.0</td>\n",
       "      <td>NaN</td>\n",
       "      <td>NaN</td>\n",
       "      <td>NaN</td>\n",
       "      <td>NaN</td>\n",
       "      <td>NaN</td>\n",
       "      <td>NaN</td>\n",
       "      <td>1</td>\n",
       "    </tr>\n",
       "    <tr>\n",
       "      <th>13</th>\n",
       "      <td>2020-01-16</td>\n",
       "      <td>1</td>\n",
       "      <td>1.0</td>\n",
       "      <td>2.0</td>\n",
       "      <td>NaN</td>\n",
       "      <td>NaN</td>\n",
       "      <td>NaN</td>\n",
       "      <td>NaN</td>\n",
       "      <td>NaN</td>\n",
       "      <td>1</td>\n",
       "    </tr>\n",
       "    <tr>\n",
       "      <th>14</th>\n",
       "      <td>2020-01-21</td>\n",
       "      <td>1</td>\n",
       "      <td>1.0</td>\n",
       "      <td>1.0</td>\n",
       "      <td>2.0</td>\n",
       "      <td>NaN</td>\n",
       "      <td>NaN</td>\n",
       "      <td>NaN</td>\n",
       "      <td>NaN</td>\n",
       "      <td>1</td>\n",
       "    </tr>\n",
       "    <tr>\n",
       "      <th>15</th>\n",
       "      <td>2020-01-22</td>\n",
       "      <td>2</td>\n",
       "      <td>1.0</td>\n",
       "      <td>1.0</td>\n",
       "      <td>1.0</td>\n",
       "      <td>2.0</td>\n",
       "      <td>NaN</td>\n",
       "      <td>NaN</td>\n",
       "      <td>NaN</td>\n",
       "      <td>2</td>\n",
       "    </tr>\n",
       "    <tr>\n",
       "      <th>16</th>\n",
       "      <td>2020-01-24</td>\n",
       "      <td>1</td>\n",
       "      <td>2.0</td>\n",
       "      <td>1.0</td>\n",
       "      <td>1.0</td>\n",
       "      <td>1.0</td>\n",
       "      <td>2.0</td>\n",
       "      <td>NaN</td>\n",
       "      <td>NaN</td>\n",
       "      <td>1</td>\n",
       "    </tr>\n",
       "    <tr>\n",
       "      <th>17</th>\n",
       "      <td>2020-01-25</td>\n",
       "      <td>1</td>\n",
       "      <td>1.0</td>\n",
       "      <td>2.0</td>\n",
       "      <td>1.0</td>\n",
       "      <td>1.0</td>\n",
       "      <td>1.0</td>\n",
       "      <td>2.0</td>\n",
       "      <td>NaN</td>\n",
       "      <td>1</td>\n",
       "    </tr>\n",
       "    <tr>\n",
       "      <th>18</th>\n",
       "      <td>2020-01-27</td>\n",
       "      <td>1</td>\n",
       "      <td>1.0</td>\n",
       "      <td>1.0</td>\n",
       "      <td>2.0</td>\n",
       "      <td>1.0</td>\n",
       "      <td>1.0</td>\n",
       "      <td>1.0</td>\n",
       "      <td>2.0</td>\n",
       "      <td>1</td>\n",
       "    </tr>\n",
       "    <tr>\n",
       "      <th>19</th>\n",
       "      <td>2020-01-29</td>\n",
       "      <td>1</td>\n",
       "      <td>1.0</td>\n",
       "      <td>1.0</td>\n",
       "      <td>1.0</td>\n",
       "      <td>2.0</td>\n",
       "      <td>1.0</td>\n",
       "      <td>1.0</td>\n",
       "      <td>1.0</td>\n",
       "      <td>1</td>\n",
       "    </tr>\n",
       "    <tr>\n",
       "      <th>20</th>\n",
       "      <td>2020-01-31</td>\n",
       "      <td>1</td>\n",
       "      <td>1.0</td>\n",
       "      <td>1.0</td>\n",
       "      <td>1.0</td>\n",
       "      <td>1.0</td>\n",
       "      <td>2.0</td>\n",
       "      <td>1.0</td>\n",
       "      <td>1.0</td>\n",
       "      <td>1</td>\n",
       "    </tr>\n",
       "    <tr>\n",
       "      <th>21</th>\n",
       "      <td>2020-02-01</td>\n",
       "      <td>1</td>\n",
       "      <td>1.0</td>\n",
       "      <td>1.0</td>\n",
       "      <td>1.0</td>\n",
       "      <td>1.0</td>\n",
       "      <td>1.0</td>\n",
       "      <td>2.0</td>\n",
       "      <td>1.0</td>\n",
       "      <td>1</td>\n",
       "    </tr>\n",
       "    <tr>\n",
       "      <th>22</th>\n",
       "      <td>2020-02-02</td>\n",
       "      <td>1</td>\n",
       "      <td>1.0</td>\n",
       "      <td>1.0</td>\n",
       "      <td>1.0</td>\n",
       "      <td>1.0</td>\n",
       "      <td>1.0</td>\n",
       "      <td>1.0</td>\n",
       "      <td>2.0</td>\n",
       "      <td>1</td>\n",
       "    </tr>\n",
       "    <tr>\n",
       "      <th>23</th>\n",
       "      <td>2020-02-05</td>\n",
       "      <td>2</td>\n",
       "      <td>1.0</td>\n",
       "      <td>1.0</td>\n",
       "      <td>1.0</td>\n",
       "      <td>1.0</td>\n",
       "      <td>1.0</td>\n",
       "      <td>1.0</td>\n",
       "      <td>1.0</td>\n",
       "      <td>2</td>\n",
       "    </tr>\n",
       "    <tr>\n",
       "      <th>24</th>\n",
       "      <td>2020-02-10</td>\n",
       "      <td>2</td>\n",
       "      <td>2.0</td>\n",
       "      <td>1.0</td>\n",
       "      <td>1.0</td>\n",
       "      <td>1.0</td>\n",
       "      <td>1.0</td>\n",
       "      <td>1.0</td>\n",
       "      <td>1.0</td>\n",
       "      <td>2</td>\n",
       "    </tr>\n",
       "  </tbody>\n",
       "</table>\n",
       "</div>"
      ],
      "text/plain": [
       "   Accurate_Episode_Date  Row_ID  t-1  t-2  t-3  t-4  t-5  t-6  t-7  t\n",
       "11            2020-01-01       2  NaN  NaN  NaN  NaN  NaN  NaN  NaN  2\n",
       "12            2020-01-10       1  2.0  NaN  NaN  NaN  NaN  NaN  NaN  1\n",
       "13            2020-01-16       1  1.0  2.0  NaN  NaN  NaN  NaN  NaN  1\n",
       "14            2020-01-21       1  1.0  1.0  2.0  NaN  NaN  NaN  NaN  1\n",
       "15            2020-01-22       2  1.0  1.0  1.0  2.0  NaN  NaN  NaN  2\n",
       "16            2020-01-24       1  2.0  1.0  1.0  1.0  2.0  NaN  NaN  1\n",
       "17            2020-01-25       1  1.0  2.0  1.0  1.0  1.0  2.0  NaN  1\n",
       "18            2020-01-27       1  1.0  1.0  2.0  1.0  1.0  1.0  2.0  1\n",
       "19            2020-01-29       1  1.0  1.0  1.0  2.0  1.0  1.0  1.0  1\n",
       "20            2020-01-31       1  1.0  1.0  1.0  1.0  2.0  1.0  1.0  1\n",
       "21            2020-02-01       1  1.0  1.0  1.0  1.0  1.0  2.0  1.0  1\n",
       "22            2020-02-02       1  1.0  1.0  1.0  1.0  1.0  1.0  2.0  1\n",
       "23            2020-02-05       2  1.0  1.0  1.0  1.0  1.0  1.0  1.0  2\n",
       "24            2020-02-10       2  2.0  1.0  1.0  1.0  1.0  1.0  1.0  2"
      ]
     },
     "execution_count": 52,
     "metadata": {},
     "output_type": "execute_result"
    }
   ],
   "source": [
    "agg.head(14)"
   ]
  },
  {
   "cell_type": "code",
   "execution_count": 53,
   "id": "24ddc7c8",
   "metadata": {
    "hidden": true
   },
   "outputs": [],
   "source": [
    "agg.dropna(how='any',inplace=True)"
   ]
  },
  {
   "cell_type": "code",
   "execution_count": 54,
   "id": "fa915e8e",
   "metadata": {
    "hidden": true
   },
   "outputs": [
    {
     "data": {
      "text/html": [
       "<div>\n",
       "<style scoped>\n",
       "    .dataframe tbody tr th:only-of-type {\n",
       "        vertical-align: middle;\n",
       "    }\n",
       "\n",
       "    .dataframe tbody tr th {\n",
       "        vertical-align: top;\n",
       "    }\n",
       "\n",
       "    .dataframe thead th {\n",
       "        text-align: right;\n",
       "    }\n",
       "</style>\n",
       "<table border=\"1\" class=\"dataframe\">\n",
       "  <thead>\n",
       "    <tr style=\"text-align: right;\">\n",
       "      <th></th>\n",
       "      <th>Accurate_Episode_Date</th>\n",
       "      <th>Row_ID</th>\n",
       "      <th>t-1</th>\n",
       "      <th>t-2</th>\n",
       "      <th>t-3</th>\n",
       "      <th>t-4</th>\n",
       "      <th>t-5</th>\n",
       "      <th>t-6</th>\n",
       "      <th>t-7</th>\n",
       "      <th>t</th>\n",
       "    </tr>\n",
       "  </thead>\n",
       "  <tbody>\n",
       "    <tr>\n",
       "      <th>18</th>\n",
       "      <td>2020-01-27</td>\n",
       "      <td>1</td>\n",
       "      <td>1.0</td>\n",
       "      <td>1.0</td>\n",
       "      <td>2.0</td>\n",
       "      <td>1.0</td>\n",
       "      <td>1.0</td>\n",
       "      <td>1.0</td>\n",
       "      <td>2.0</td>\n",
       "      <td>1</td>\n",
       "    </tr>\n",
       "    <tr>\n",
       "      <th>19</th>\n",
       "      <td>2020-01-29</td>\n",
       "      <td>1</td>\n",
       "      <td>1.0</td>\n",
       "      <td>1.0</td>\n",
       "      <td>1.0</td>\n",
       "      <td>2.0</td>\n",
       "      <td>1.0</td>\n",
       "      <td>1.0</td>\n",
       "      <td>1.0</td>\n",
       "      <td>1</td>\n",
       "    </tr>\n",
       "    <tr>\n",
       "      <th>20</th>\n",
       "      <td>2020-01-31</td>\n",
       "      <td>1</td>\n",
       "      <td>1.0</td>\n",
       "      <td>1.0</td>\n",
       "      <td>1.0</td>\n",
       "      <td>1.0</td>\n",
       "      <td>2.0</td>\n",
       "      <td>1.0</td>\n",
       "      <td>1.0</td>\n",
       "      <td>1</td>\n",
       "    </tr>\n",
       "    <tr>\n",
       "      <th>21</th>\n",
       "      <td>2020-02-01</td>\n",
       "      <td>1</td>\n",
       "      <td>1.0</td>\n",
       "      <td>1.0</td>\n",
       "      <td>1.0</td>\n",
       "      <td>1.0</td>\n",
       "      <td>1.0</td>\n",
       "      <td>2.0</td>\n",
       "      <td>1.0</td>\n",
       "      <td>1</td>\n",
       "    </tr>\n",
       "    <tr>\n",
       "      <th>22</th>\n",
       "      <td>2020-02-02</td>\n",
       "      <td>1</td>\n",
       "      <td>1.0</td>\n",
       "      <td>1.0</td>\n",
       "      <td>1.0</td>\n",
       "      <td>1.0</td>\n",
       "      <td>1.0</td>\n",
       "      <td>1.0</td>\n",
       "      <td>2.0</td>\n",
       "      <td>1</td>\n",
       "    </tr>\n",
       "  </tbody>\n",
       "</table>\n",
       "</div>"
      ],
      "text/plain": [
       "   Accurate_Episode_Date  Row_ID  t-1  t-2  t-3  t-4  t-5  t-6  t-7  t\n",
       "18            2020-01-27       1  1.0  1.0  2.0  1.0  1.0  1.0  2.0  1\n",
       "19            2020-01-29       1  1.0  1.0  1.0  2.0  1.0  1.0  1.0  1\n",
       "20            2020-01-31       1  1.0  1.0  1.0  1.0  2.0  1.0  1.0  1\n",
       "21            2020-02-01       1  1.0  1.0  1.0  1.0  1.0  2.0  1.0  1\n",
       "22            2020-02-02       1  1.0  1.0  1.0  1.0  1.0  1.0  2.0  1"
      ]
     },
     "execution_count": 54,
     "metadata": {},
     "output_type": "execute_result"
    }
   ],
   "source": [
    "agg.head()"
   ]
  },
  {
   "cell_type": "code",
   "execution_count": 55,
   "id": "6a14caf2",
   "metadata": {
    "hidden": true
   },
   "outputs": [
    {
     "data": {
      "text/html": [
       "<div>\n",
       "<style scoped>\n",
       "    .dataframe tbody tr th:only-of-type {\n",
       "        vertical-align: middle;\n",
       "    }\n",
       "\n",
       "    .dataframe tbody tr th {\n",
       "        vertical-align: top;\n",
       "    }\n",
       "\n",
       "    .dataframe thead th {\n",
       "        text-align: right;\n",
       "    }\n",
       "</style>\n",
       "<table border=\"1\" class=\"dataframe\">\n",
       "  <thead>\n",
       "    <tr style=\"text-align: right;\">\n",
       "      <th></th>\n",
       "      <th>Accurate_Episode_Date</th>\n",
       "      <th>Row_ID</th>\n",
       "      <th>t-1</th>\n",
       "      <th>t-2</th>\n",
       "      <th>t-3</th>\n",
       "      <th>t-4</th>\n",
       "      <th>t-5</th>\n",
       "      <th>t-6</th>\n",
       "      <th>t-7</th>\n",
       "      <th>t</th>\n",
       "    </tr>\n",
       "  </thead>\n",
       "  <tbody>\n",
       "    <tr>\n",
       "      <th>1375</th>\n",
       "      <td>2023-10-27</td>\n",
       "      <td>424</td>\n",
       "      <td>482.0</td>\n",
       "      <td>531.0</td>\n",
       "      <td>503.0</td>\n",
       "      <td>607.0</td>\n",
       "      <td>361.0</td>\n",
       "      <td>348.0</td>\n",
       "      <td>429.0</td>\n",
       "      <td>424</td>\n",
       "    </tr>\n",
       "    <tr>\n",
       "      <th>1376</th>\n",
       "      <td>2023-10-28</td>\n",
       "      <td>286</td>\n",
       "      <td>424.0</td>\n",
       "      <td>482.0</td>\n",
       "      <td>531.0</td>\n",
       "      <td>503.0</td>\n",
       "      <td>607.0</td>\n",
       "      <td>361.0</td>\n",
       "      <td>348.0</td>\n",
       "      <td>286</td>\n",
       "    </tr>\n",
       "    <tr>\n",
       "      <th>1377</th>\n",
       "      <td>2023-10-29</td>\n",
       "      <td>217</td>\n",
       "      <td>286.0</td>\n",
       "      <td>424.0</td>\n",
       "      <td>482.0</td>\n",
       "      <td>531.0</td>\n",
       "      <td>503.0</td>\n",
       "      <td>607.0</td>\n",
       "      <td>361.0</td>\n",
       "      <td>217</td>\n",
       "    </tr>\n",
       "    <tr>\n",
       "      <th>1378</th>\n",
       "      <td>2023-10-30</td>\n",
       "      <td>245</td>\n",
       "      <td>217.0</td>\n",
       "      <td>286.0</td>\n",
       "      <td>424.0</td>\n",
       "      <td>482.0</td>\n",
       "      <td>531.0</td>\n",
       "      <td>503.0</td>\n",
       "      <td>607.0</td>\n",
       "      <td>245</td>\n",
       "    </tr>\n",
       "    <tr>\n",
       "      <th>1379</th>\n",
       "      <td>2023-10-31</td>\n",
       "      <td>35</td>\n",
       "      <td>245.0</td>\n",
       "      <td>217.0</td>\n",
       "      <td>286.0</td>\n",
       "      <td>424.0</td>\n",
       "      <td>482.0</td>\n",
       "      <td>531.0</td>\n",
       "      <td>503.0</td>\n",
       "      <td>35</td>\n",
       "    </tr>\n",
       "  </tbody>\n",
       "</table>\n",
       "</div>"
      ],
      "text/plain": [
       "     Accurate_Episode_Date  Row_ID    t-1    t-2    t-3    t-4    t-5    t-6  \\\n",
       "1375            2023-10-27     424  482.0  531.0  503.0  607.0  361.0  348.0   \n",
       "1376            2023-10-28     286  424.0  482.0  531.0  503.0  607.0  361.0   \n",
       "1377            2023-10-29     217  286.0  424.0  482.0  531.0  503.0  607.0   \n",
       "1378            2023-10-30     245  217.0  286.0  424.0  482.0  531.0  503.0   \n",
       "1379            2023-10-31      35  245.0  217.0  286.0  424.0  482.0  531.0   \n",
       "\n",
       "        t-7    t  \n",
       "1375  429.0  424  \n",
       "1376  348.0  286  \n",
       "1377  361.0  217  \n",
       "1378  607.0  245  \n",
       "1379  503.0   35  "
      ]
     },
     "execution_count": 55,
     "metadata": {},
     "output_type": "execute_result"
    }
   ],
   "source": [
    "agg.tail()"
   ]
  },
  {
   "cell_type": "code",
   "execution_count": 56,
   "id": "7b81cbd1",
   "metadata": {
    "hidden": true
   },
   "outputs": [],
   "source": [
    "x = agg[['t-1','t-2','t-3','t-4','t-5','t-6','t-7']]\n",
    "y = agg['t']\n",
    "\n",
    "test_size = 0.3\n",
    "dataset_size = len(agg)\n",
    "test_index = int(test_size * dataset_size)\n",
    "\n",
    "\n",
    "x_train, x_test, y_train, y_test = x[:test_index], x[test_index:], y[:test_index], y[test_index:]"
   ]
  },
  {
   "cell_type": "code",
   "execution_count": 57,
   "id": "b44e6582",
   "metadata": {
    "hidden": true
   },
   "outputs": [
    {
     "data": {
      "text/plain": [
       "(1362, 7)"
      ]
     },
     "execution_count": 57,
     "metadata": {},
     "output_type": "execute_result"
    }
   ],
   "source": [
    "x.shape"
   ]
  },
  {
   "cell_type": "code",
   "execution_count": 58,
   "id": "937069d7",
   "metadata": {
    "hidden": true
   },
   "outputs": [
    {
     "data": {
      "text/plain": [
       "(1362,)"
      ]
     },
     "execution_count": 58,
     "metadata": {},
     "output_type": "execute_result"
    }
   ],
   "source": [
    "y.shape"
   ]
  },
  {
   "cell_type": "code",
   "execution_count": 59,
   "id": "43c772e6",
   "metadata": {
    "hidden": true
   },
   "outputs": [
    {
     "data": {
      "text/html": [
       "<div>\n",
       "<style scoped>\n",
       "    .dataframe tbody tr th:only-of-type {\n",
       "        vertical-align: middle;\n",
       "    }\n",
       "\n",
       "    .dataframe tbody tr th {\n",
       "        vertical-align: top;\n",
       "    }\n",
       "\n",
       "    .dataframe thead th {\n",
       "        text-align: right;\n",
       "    }\n",
       "</style>\n",
       "<table border=\"1\" class=\"dataframe\">\n",
       "  <thead>\n",
       "    <tr style=\"text-align: right;\">\n",
       "      <th></th>\n",
       "      <th>t-1</th>\n",
       "      <th>t-2</th>\n",
       "      <th>t-3</th>\n",
       "      <th>t-4</th>\n",
       "      <th>t-5</th>\n",
       "      <th>t-6</th>\n",
       "      <th>t-7</th>\n",
       "    </tr>\n",
       "  </thead>\n",
       "  <tbody>\n",
       "    <tr>\n",
       "      <th>18</th>\n",
       "      <td>1.0</td>\n",
       "      <td>1.0</td>\n",
       "      <td>2.0</td>\n",
       "      <td>1.0</td>\n",
       "      <td>1.0</td>\n",
       "      <td>1.0</td>\n",
       "      <td>2.0</td>\n",
       "    </tr>\n",
       "    <tr>\n",
       "      <th>19</th>\n",
       "      <td>1.0</td>\n",
       "      <td>1.0</td>\n",
       "      <td>1.0</td>\n",
       "      <td>2.0</td>\n",
       "      <td>1.0</td>\n",
       "      <td>1.0</td>\n",
       "      <td>1.0</td>\n",
       "    </tr>\n",
       "    <tr>\n",
       "      <th>20</th>\n",
       "      <td>1.0</td>\n",
       "      <td>1.0</td>\n",
       "      <td>1.0</td>\n",
       "      <td>1.0</td>\n",
       "      <td>2.0</td>\n",
       "      <td>1.0</td>\n",
       "      <td>1.0</td>\n",
       "    </tr>\n",
       "    <tr>\n",
       "      <th>21</th>\n",
       "      <td>1.0</td>\n",
       "      <td>1.0</td>\n",
       "      <td>1.0</td>\n",
       "      <td>1.0</td>\n",
       "      <td>1.0</td>\n",
       "      <td>2.0</td>\n",
       "      <td>1.0</td>\n",
       "    </tr>\n",
       "    <tr>\n",
       "      <th>22</th>\n",
       "      <td>1.0</td>\n",
       "      <td>1.0</td>\n",
       "      <td>1.0</td>\n",
       "      <td>1.0</td>\n",
       "      <td>1.0</td>\n",
       "      <td>1.0</td>\n",
       "      <td>2.0</td>\n",
       "    </tr>\n",
       "  </tbody>\n",
       "</table>\n",
       "</div>"
      ],
      "text/plain": [
       "    t-1  t-2  t-3  t-4  t-5  t-6  t-7\n",
       "18  1.0  1.0  2.0  1.0  1.0  1.0  2.0\n",
       "19  1.0  1.0  1.0  2.0  1.0  1.0  1.0\n",
       "20  1.0  1.0  1.0  1.0  2.0  1.0  1.0\n",
       "21  1.0  1.0  1.0  1.0  1.0  2.0  1.0\n",
       "22  1.0  1.0  1.0  1.0  1.0  1.0  2.0"
      ]
     },
     "execution_count": 59,
     "metadata": {},
     "output_type": "execute_result"
    }
   ],
   "source": [
    "x_train.head()"
   ]
  },
  {
   "cell_type": "code",
   "execution_count": 60,
   "id": "7c794d2e",
   "metadata": {
    "hidden": true
   },
   "outputs": [
    {
     "data": {
      "text/plain": [
       "18    1\n",
       "19    1\n",
       "20    1\n",
       "21    1\n",
       "22    1\n",
       "Name: t, dtype: int64"
      ]
     },
     "execution_count": 60,
     "metadata": {},
     "output_type": "execute_result"
    }
   ],
   "source": [
    "y_train.head()"
   ]
  },
  {
   "cell_type": "markdown",
   "id": "042e874e",
   "metadata": {
    "heading_collapsed": true,
    "jp-MarkdownHeadingCollapsed": true
   },
   "source": [
    "## Modelling and Evaluation"
   ]
  },
  {
   "cell_type": "markdown",
   "id": "3eb13c52",
   "metadata": {
    "hidden": true
   },
   "source": [
    "<div style=\"padding: 10px; border: 2px black solid;\">\n",
    "\n",
    "#### <font color='green'>New Tool Alert:</font> Scikit-Learn\n",
    "\n",
    "<img src=\"https://upload.wikimedia.org/wikipedia/commons/thumb/0/05/Scikit_learn_logo_small.svg/1200px-Scikit_learn_logo_small.svg.png\" alt=\"Sklearn\" style=\"height: 200px;\"/>\n",
    "\n",
    "**What is it**: Scikit-Learn is a python library for machine learning. \n",
    "\n",
    "**Why use it**:  It has various classification, regression and clustering algorithms and is designed to run efficiently. \n",
    "\n",
    "**Download**: Install it by using pip ```pip install sklearn```\n",
    "\n",
    "**Resources**: Library cheat sheet [here](https://d1jnx9ba8s6j9r.cloudfront.net/blog/wp-content/uploads/2018/09/Python-Cheat-Sheet-for-Scikit-learn-Edureka.pdf?utm_source=blog&utm_medium=cheat-sheet&utm_campaign=Scikit-Cheat-Sheet-28-09-2018-AH). Model selection cheat sheet [here](https://scikit-learn.org/stable/_static/ml_map.png)\n",
    "    \n",
    "</div>"
   ]
  },
  {
   "cell_type": "markdown",
   "id": "ded1a674",
   "metadata": {},
   "source": [
    "Which model to choose [cheat sheet](https://scikit-learn.org/stable/_static/ml_map.png)\n",
    "<img src=\"https://scikit-learn.org/stable/_static/ml_map.png\" />"
   ]
  },
  {
   "cell_type": "code",
   "execution_count": 77,
   "id": "b8782128",
   "metadata": {
    "hidden": true
   },
   "outputs": [
    {
     "data": {
      "text/plain": [
       "231.13"
      ]
     },
     "execution_count": 77,
     "metadata": {},
     "output_type": "execute_result"
    }
   ],
   "source": [
    "from sklearn.linear_model import LinearRegression\n",
    "\n",
    "lin_regr = LinearRegression()\n",
    "lin_regr.fit(x_train,y_train)\n",
    "y_pred = lin_regr.predict(x_test)\n",
    "mean_absolute_error(y_test,y_pred)\n",
    "round(mean_absolute_error(y_test,y_pred),2)"
   ]
  },
  {
   "cell_type": "code",
   "execution_count": 76,
   "id": "1528cf3b",
   "metadata": {
    "hidden": true
   },
   "outputs": [
    {
     "data": {
      "text/plain": [
       "414.47"
      ]
     },
     "execution_count": 76,
     "metadata": {},
     "output_type": "execute_result"
    }
   ],
   "source": [
    "from sklearn.ensemble import RandomForestRegressor\n",
    "from sklearn.metrics import mean_absolute_error\n",
    "\n",
    "\n",
    "rfr_regr = RandomForestRegressor()\n",
    "rfr_regr.fit(x_train,y_train)\n",
    "y_pred = rfr_regr.predict(x_test)\n",
    "round(mean_absolute_error(y_test,y_pred),2)"
   ]
  },
  {
   "cell_type": "code",
   "execution_count": 78,
   "id": "7698d237",
   "metadata": {
    "hidden": true
   },
   "outputs": [
    {
     "data": {
      "text/plain": [
       "231.13"
      ]
     },
     "execution_count": 78,
     "metadata": {},
     "output_type": "execute_result"
    }
   ],
   "source": [
    "from sklearn.linear_model import Lasso\n",
    "\n",
    "las_regr = Lasso()\n",
    "las_regr.fit(x_train,y_train)\n",
    "y_pred = las_regr.predict(x_test)\n",
    "mean_absolute_error(y_test,y_pred)\n",
    "round(mean_absolute_error(y_test,y_pred),2)"
   ]
  },
  {
   "cell_type": "code",
   "execution_count": 79,
   "id": "1f0a8144",
   "metadata": {
    "hidden": true
   },
   "outputs": [
    {
     "data": {
      "text/plain": [
       "231.13"
      ]
     },
     "execution_count": 79,
     "metadata": {},
     "output_type": "execute_result"
    }
   ],
   "source": [
    "from sklearn.linear_model import Ridge\n",
    "\n",
    "rid_regr = Ridge()\n",
    "rid_regr.fit(x_train,y_train)\n",
    "y_pred = rid_regr.predict(x_test)\n",
    "mean_absolute_error(y_test,y_pred)\n",
    "round(mean_absolute_error(y_test,y_pred),2)"
   ]
  },
  {
   "cell_type": "code",
   "execution_count": 80,
   "id": "99b26423",
   "metadata": {
    "hidden": true
   },
   "outputs": [
    {
     "data": {
      "text/plain": [
       "985.07"
      ]
     },
     "execution_count": 80,
     "metadata": {},
     "output_type": "execute_result"
    }
   ],
   "source": [
    "from sklearn.svm import SVR\n",
    "\n",
    "svr_regr = SVR(kernel='rbf')\n",
    "svr_regr.fit(x_train,y_train)\n",
    "y_pred = svr_regr.predict(x_test)\n",
    "round(mean_absolute_error(y_test,y_pred),2)"
   ]
  },
  {
   "cell_type": "markdown",
   "id": "bc936b6c",
   "metadata": {
    "heading_collapsed": true,
    "jp-MarkdownHeadingCollapsed": true
   },
   "source": [
    "## Deployment"
   ]
  },
  {
   "cell_type": "markdown",
   "id": "9c1f26a8-8f32-4624-82cf-c3da869fe870",
   "metadata": {},
   "source": [
    "<div style=\"padding: 10px; border: 2px black solid;\">\n",
    "\n",
    "#### <font color='green'>New Tool Alert:</font> Pickle\n",
    "\n",
    "<img src=\"https://miro.medium.com/v2/resize:fit:1400/0*wa9Cv7MKzTWhf8go\" alt=\"Pickle\" style=\"height: 200px;\"/>\n",
    "\n",
    "**What is it**: A module that allows python objects to be saved and loaded from a file\n",
    "\n",
    "**Why use it**:  Save model weights, and be able to use it to deploy your model / inference\n",
    "\n",
    "**Resources**: Cheat sheet [here](https://www.docker.com/sites/default/files/d8/2019-09/docker-cheat-sheet.pdf)\n",
    "    \n",
    "</div>"
   ]
  },
  {
   "cell_type": "code",
   "execution_count": 104,
   "id": "ac23e75f-26dc-4cc8-ae31-1ebb9d4a3562",
   "metadata": {},
   "outputs": [],
   "source": [
    "import pickle\n",
    "\n",
    "with open('linear_regressor.pickle', \"wb\") as output_file:\n",
    "    pickle.dump(lin_regr, output_file)"
   ]
  },
  {
   "cell_type": "code",
   "execution_count": 86,
   "id": "fde3be28-4f95-469e-8ee3-8b7c6603b3a9",
   "metadata": {},
   "outputs": [],
   "source": [
    "history = {\n",
    "    \"t_1\": 245,\n",
    "    \"t_2\": 217,\n",
    "    \"t_3\": 286,\n",
    "    \"t_4\": 424,\n",
    "    \"t_5\": 482,\n",
    "    \"t_6\": 531,\n",
    "    \"t_7\": 503\n",
    "}"
   ]
  },
  {
   "cell_type": "code",
   "execution_count": 106,
   "id": "bf5352e8-4652-474d-9ab1-ffaa21707b4c",
   "metadata": {},
   "outputs": [
    {
     "data": {
      "text/plain": [
       "array([283.49158526])"
      ]
     },
     "execution_count": 106,
     "metadata": {},
     "output_type": "execute_result"
    }
   ],
   "source": [
    "import pandas as pd\n",
    "model = pickle.load(open(\"linear_regressor.pickle\", \"rb\"))\n",
    "history_df = pd.DataFrame({\n",
    "    \"t-1\": [history[\"t_1\"]],\n",
    "    \"t-2\": [history[\"t_2\"]],\n",
    "    \"t-3\": [history[\"t_3\"]],\n",
    "    \"t-4\": [history[\"t_4\"]],\n",
    "    \"t-5\": [history[\"t_5\"]],\n",
    "    \"t-6\": [history[\"t_6\"]],\n",
    "    \"t-7\": [history[\"t_7\"]],\n",
    "})\n",
    "prediction = model.predict(test_row)\n",
    "prediction"
   ]
  },
  {
   "cell_type": "code",
   "execution_count": 102,
   "id": "22ac5456-b7e6-4ea4-8f10-1a6ab501d51b",
   "metadata": {},
   "outputs": [
    {
     "data": {
      "text/plain": [
       "283"
      ]
     },
     "execution_count": 102,
     "metadata": {},
     "output_type": "execute_result"
    }
   ],
   "source": [
    "round(prediction[0])"
   ]
  },
  {
   "cell_type": "markdown",
   "id": "2a079547",
   "metadata": {
    "hidden": true
   },
   "source": [
    "<div style=\"padding: 10px; border: 2px black solid;\">\n",
    "\n",
    "#### <font color='green'>New Tool Alert:</font> Docker\n",
    "\n",
    "<img src=\"https://logos-world.net/wp-content/uploads/2021/02/Docker-Symbol.png\" alt=\"Sklearn\" style=\"height: 200px;\"/>\n",
    "\n",
    "**What is it**: Containerization tool mainly used for shipping and running applications quickly across different platforms\n",
    "\n",
    "**Why use it**:  Four main advantages:\n",
    "* Isolation: It helps us create an environment agnostic system. Your application runs smoothly on different platforms. This is essentially achieved using containers. \n",
    "* Portability: Since all of your dependencies are in the same container, it’s easy to carry from one place to another giving Docker its portability.\n",
    "* Lightweight: Runs as another application on your system instead of consuming whole lot resources of your system.\n",
    "* Robustness: Less demanding in terms of hardware and needs very little memory as compared to VMs, hence providing efficient isolation levels which help save not only the cost but also time.\n",
    "\n",
    "**Download**: Download it from [here](https://docs.docker.com/get-docker/)\n",
    "\n",
    "**Resources**: Cheat sheet [here](https://www.docker.com/sites/default/files/d8/2019-09/docker-cheat-sheet.pdf)\n",
    "    \n",
    "</div>"
   ]
  },
  {
   "cell_type": "markdown",
   "id": "ba05f64a",
   "metadata": {
    "hidden": true
   },
   "source": [
    "Now that you have a model you have to figure out how you want to present the results and deploy it into production. This could be in the form of a visualization in tableau or powerbi, it could be in the form of an email to your boss that gets sent every day, the numbers itself could be displayed live on a site or so much more. "
   ]
  },
  {
   "cell_type": "markdown",
   "id": "0f91ea58",
   "metadata": {
    "hidden": true
   },
   "source": [
    "Depending on the use case, it may make sense to deploy the model into the cloud and let it run there automatically. Below I will introduce a few more tools for you to be aware of"
   ]
  },
  {
   "cell_type": "markdown",
   "id": "5256e711",
   "metadata": {
    "hidden": true
   },
   "source": [
    "You can see that there in the deploy folder, key aspects of the code have been moved over to a ```deploy.py``` foldere. Furthermore there is a new file called a ```Dockerfile``` that specifies the instructions for running the deploy file. If you have docker installed locally, you can try to build the image using the ```docker build -t dstools:1.0 .``` command and then run it using ```docker run -p 80:80 dstools:1.0``` "
   ]
  },
  {
   "cell_type": "markdown",
   "id": "a943fd6e",
   "metadata": {
    "hidden": true
   },
   "source": [
    "This docker folder can now be run on the cloud, someone else's computer or anywhere that has docker installed. If you want to deploy your own model, you can use a cloud infrastructure provider such as AWS, GCP, or Azure or use a platform as a service provider such as [Back4app](https://www.back4app.com)."
   ]
  },
  {
   "cell_type": "code",
   "execution_count": 108,
   "id": "47f318e8-44a4-4b13-9622-a31a9262e0ec",
   "metadata": {},
   "outputs": [
    {
     "data": {
      "text/plain": [
       "'{\"prediction\":283}'"
      ]
     },
     "execution_count": 108,
     "metadata": {},
     "output_type": "execute_result"
    }
   ],
   "source": [
    "import requests\n",
    "\n",
    "# The URL to which the HTTP request is to be made\n",
    "url = \"https://dstoolsai4ph-2q8q5e4t.b4a.run/predict\"\n",
    "\n",
    "# Perform a GET request to the URL\n",
    "response = requests.post(url, json = history)\n",
    "\n",
    "# Output the response text (the content of the requested file):\n",
    "response.text"
   ]
  }
 ],
 "metadata": {
  "kernelspec": {
   "display_name": "Python 3 (ipykernel)",
   "language": "python",
   "name": "python3"
  },
  "language_info": {
   "codemirror_mode": {
    "name": "ipython",
    "version": 3
   },
   "file_extension": ".py",
   "mimetype": "text/x-python",
   "name": "python",
   "nbconvert_exporter": "python",
   "pygments_lexer": "ipython3",
   "version": "3.11.3"
  },
  "varInspector": {
   "cols": {
    "lenName": 16,
    "lenType": 16,
    "lenVar": 40
   },
   "kernels_config": {
    "python": {
     "delete_cmd_postfix": "",
     "delete_cmd_prefix": "del ",
     "library": "var_list.py",
     "varRefreshCmd": "print(var_dic_list())"
    },
    "r": {
     "delete_cmd_postfix": ") ",
     "delete_cmd_prefix": "rm(",
     "library": "var_list.r",
     "varRefreshCmd": "cat(var_dic_list()) "
    }
   },
   "types_to_exclude": [
    "module",
    "function",
    "builtin_function_or_method",
    "instance",
    "_Feature"
   ],
   "window_display": false
  }
 },
 "nbformat": 4,
 "nbformat_minor": 5
}
