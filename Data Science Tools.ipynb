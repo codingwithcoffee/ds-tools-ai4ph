{
 "cells": [
  {
   "cell_type": "markdown",
   "id": "586ae057",
   "metadata": {},
   "source": [
    "# AI in Production: Data Science Tools"
   ]
  },
  {
   "cell_type": "markdown",
   "id": "2d3fae65",
   "metadata": {},
   "source": [
    "This notebook is meant to accompany [these slides](https://docs.google.com/presentation/d/1nVuLd79JPxDpQ4wKsGPNIZJcw6Ocm-gAjJaxtNWAcpk/edit#slide=id.p). Prepared for Artificial Intelligence for Public Health (AI4PH) Summer Institute. "
   ]
  },
  {
   "cell_type": "markdown",
   "id": "4dacff2b",
   "metadata": {},
   "source": [
    "## Anaconda"
   ]
  },
  {
   "cell_type": "markdown",
   "id": "cdda7c0b",
   "metadata": {},
   "source": [
    "![Anaconda Logo](https://upload.wikimedia.org/wikipedia/en/thumb/c/cd/Anaconda_Logo.png/440px-Anaconda_Logo.png)"
   ]
  },
  {
   "cell_type": "markdown",
   "id": "d63e60a0",
   "metadata": {},
   "source": [
    "**What is it**: Anaconda is a distribution of the Python and R programming languages for scientific computing, that aims to simplify package management and deployment. The distribution includes data-science packages suitable for Windows, Linux, and macOS."
   ]
  },
  {
   "cell_type": "markdown",
   "id": "beeebc2b",
   "metadata": {},
   "source": [
    "**Why use it**: Anaconda lets you easily create and manage various environment with isolated dependencies."
   ]
  },
  {
   "cell_type": "markdown",
   "id": "3bab8b1b",
   "metadata": {},
   "source": [
    "**Download**: Download from [here](https://www.anaconda.com/products/individual)"
   ]
  },
  {
   "cell_type": "markdown",
   "id": "5193515d",
   "metadata": {},
   "source": [
    "**Resources**: Conda cheat sheet [here](https://docs.conda.io/projects/conda/en/4.6.0/_downloads/52a95608c49671267e40c689e0bc00ca/conda-cheatsheet.pdf)"
   ]
  },
  {
   "cell_type": "markdown",
   "id": "f0877eba",
   "metadata": {},
   "source": [
    "### Setting Up Anaconda Environment and Installing Jupyter Notebooks"
   ]
  },
  {
   "cell_type": "markdown",
   "id": "fd36d571",
   "metadata": {},
   "source": [
    "After installing anaconda, open up your command prompt or terminal window"
   ]
  },
  {
   "cell_type": "markdown",
   "id": "ea7c9d18",
   "metadata": {},
   "source": [
    "Create a new environment\n",
    "```\n",
    "conda create --name dstools\n",
    "\n",
    "```"
   ]
  },
  {
   "cell_type": "markdown",
   "id": "f37f75b6",
   "metadata": {},
   "source": [
    "To see if the command worked and list all your environments run\n",
    "```\n",
    "conda env list\n",
    "```"
   ]
  },
  {
   "cell_type": "markdown",
   "id": "901f8650",
   "metadata": {},
   "source": [
    "![image info](./list.png)"
   ]
  },
  {
   "cell_type": "markdown",
   "id": "84e7e33a",
   "metadata": {},
   "source": [
    "Now activate the environment by running\n",
    "```\n",
    "conda activate dstools\n",
    "```"
   ]
  },
  {
   "cell_type": "markdown",
   "id": "5f58df3d",
   "metadata": {},
   "source": [
    "Finally install jupyter notebooks\n",
    "```\n",
    "conda install jupyter notebook\n",
    "```"
   ]
  },
  {
   "cell_type": "markdown",
   "id": "01efbc79",
   "metadata": {},
   "source": [
    "Now lunch jupyter notebook by typing\n",
    "```\n",
    "jupyter notebook\n",
    "```"
   ]
  },
  {
   "cell_type": "code",
   "execution_count": null,
   "id": "1a44549b",
   "metadata": {},
   "outputs": [],
   "source": []
  }
 ],
 "metadata": {
  "kernelspec": {
   "display_name": "Python 3",
   "language": "python",
   "name": "python3"
  },
  "language_info": {
   "codemirror_mode": {
    "name": "ipython",
    "version": 3
   },
   "file_extension": ".py",
   "mimetype": "text/x-python",
   "name": "python",
   "nbconvert_exporter": "python",
   "pygments_lexer": "ipython3",
   "version": "3.9.5"
  }
 },
 "nbformat": 4,
 "nbformat_minor": 5
}
