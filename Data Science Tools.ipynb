{
 "cells": [
  {
   "cell_type": "markdown",
   "id": "664d165a",
   "metadata": {},
   "source": [
    "# AI in Production: Data Science Tools"
   ]
  },
  {
   "cell_type": "markdown",
   "id": "93b33b29",
   "metadata": {},
   "source": [
    "### Artificial Intelligence For Public Health (CHL5408)"
   ]
  },
  {
   "cell_type": "markdown",
   "id": "130a8c83",
   "metadata": {},
   "source": [
    "This notebook is meant to accompany [these slides](https://docs.google.com/presentation/d/1c6e9xpnUUDc6vHu-EkfCj8SucchdFckLiKCmzMnLbuc/edit?usp=sharing). Intended audience is graduate public health students. "
   ]
  },
  {
   "cell_type": "markdown",
   "id": "f0e4afa3",
   "metadata": {},
   "source": [
    "![The Case](thecase.png)"
   ]
  },
  {
   "cell_type": "markdown",
   "id": "b34f6649",
   "metadata": {},
   "source": [
    "## Data Science Methodology"
   ]
  },
  {
   "cell_type": "markdown",
   "id": "1519f157",
   "metadata": {},
   "source": [
    "<img src=\"https://i.ibb.co/SKJDYGQ/Screenshot-2023-03-26-at-9-47-57-AM.png\" alt=\"Jupyter Logo\" style=\"height: 300px;\"/>"
   ]
  },
  {
   "cell_type": "markdown",
   "id": "2ab33280",
   "metadata": {},
   "source": [
    "We want to walk through today's case in a structured & systematic manner. As Data Science itself is fairly nascent industry, there are not that many well established methodologies for conducting it. The diagram shared above, is coming from IBM who is a leader in this field. You can learn more about it [here](https://developer.ibm.com/blogs/following-the-data-science-methodology/)"
   ]
  },
  {
   "cell_type": "markdown",
   "id": "32ad91fb",
   "metadata": {},
   "source": [
    "It's a structured way to think about, plan, and organize your work. You will notice that it's inspired from agile methodologies. Instead of betting everything on a \"big bang\" launch, an agile team delivers work in small, but consumable, increments. Requirements, plans, and results are evaluated continuously so teams have a natural mechanism for responding to change quickly. "
   ]
  },
  {
   "cell_type": "markdown",
   "id": "d74e5485",
   "metadata": {},
   "source": [
    "It's comprised of five iterative steps, and within those steps you have sub-categories that assist data scientists."
   ]
  },
  {
   "cell_type": "markdown",
   "id": "e122e332",
   "metadata": {},
   "source": [
    "#### 1. Problem Understanding\n",
    "\n",
    "Every customer request starts with a problem, and the data scientist's job is first to understand it and approach this problem with statistical and machine learning techniques. The Business Understanding stage is crucial because it helps to clarify the goal of the customer. In this stage, we have to ask a lot of questions to the customer about every single aspect of the problem; in this manner, we are sure that we will study data related, and at the end of this stage, we will have a list of business requirements. The first step to that is understanding the business what is the business dealing with, what is their input, what is the final output given by the business, and what are the other factors that lead to the final output. \n",
    "\n",
    "The next step is the Analytic Approach, where, once the business problem has been clearly stated, the data scientist can define the analytic approach to solve the problem. This step entails expressing the problem in the context of statistical and machine-learning techniques, and it is essential because it helps identify what type of patterns will be needed to address the question most effectively. If the issue is to determine the probabilities of something, then a predictive model might be used; if the question is to show relationships, a descriptive approach may be required, and if our problem requires counts, then statistical analysis is the best way to solve it. For each type of approach, we can use different algorithms."
   ]
  },
  {
   "cell_type": "markdown",
   "id": "60417a49",
   "metadata": {},
   "source": [
    "#### 2. Data Requirements & Collection\n",
    "\n",
    "Data Requirements is the stage where we identify the necessary data content, formats, and sources for initial data collection, and we use this data inside the algorithm of the approach we chose.\n",
    "\n",
    "In the Data Collection Stage, data scientists identify the available data resources relevant to the problem domain. \n",
    "\n",
    "We have traditional data sources that that may be available to us from an institutions (i.e. ICES, hospital, local public health). There are also creative ways of getting access to data. Such as web scraping, or using APIs that we will tackle today."
   ]
  },
  {
   "cell_type": "markdown",
   "id": "5c3edc22",
   "metadata": {},
   "source": [
    "#### 3. Data Understanding & Preparation\n",
    "In the Data Understanding stage, data scientists try to understand more about the data collected before. We have to check the type of each data and to learn more about the attributes and their names. Data dictionaries are amazing, but may not always be there. Data dictionaries also have limits. (What's supposed to be in a field vs. what is actually there)\n",
    "\n",
    "In the Data Preparation stage, data scientists prepare data for modeling, which is one of the most crucial steps because the model has to be clean and without errors.\n"
   ]
  },
  {
   "cell_type": "markdown",
   "id": "ea3538f0",
   "metadata": {},
   "source": [
    "#### 3. Modeling & Evaluation\n"
   ]
  },
  {
   "cell_type": "markdown",
   "id": "3011f5c3",
   "metadata": {},
   "source": [
    "Figuring out which model to use is, what assumptions each model makes, and what works for your data.\n",
    "\n",
    "Evaluating models is a whole domain in itself. Key readings:\n",
    "\n",
    "* [The medical algorithmic audit](https://www.thelancet.com/journals/landig/article/PIIS2589-7500(22)00003-6/fulltext)\n",
    "* [Do no harm: a roadmap for responsible machine learning for health care](https://www.nature.com/articles/s41591-019-0548-6)\n",
    "* [Model Cards for Model Reporting](https://arxiv.org/abs/1810.03993)"
   ]
  },
  {
   "cell_type": "markdown",
   "id": "e294f9eb",
   "metadata": {},
   "source": [
    "#### 4. Deployment, Monitoring, and Feedback\n"
   ]
  },
  {
   "cell_type": "markdown",
   "id": "30c7cad0",
   "metadata": {},
   "source": [
    "Once you have established confidence in the model, the next step is to move towards the deployment phase, where the model is released to a restricted group of people to obtain feedback on the predictions and assess its suitability for public use. Following deployment, feedback is collected from the users, enabling further refinement, evaluation, and subsequent deployment iterations until a final model is achieved. Upon finalization, the model can be deployed for use by a broader audience."
   ]
  },
  {
   "cell_type": "markdown",
   "id": "4bbd8601",
   "metadata": {},
   "source": [
    "<div style=\"padding: 10px; border: 2px black solid;\">\n",
    "\n",
    "## <font color='green'>New Tool Alert:</font> Git\n",
    "    \n",
    "<img src=\"https://miro.medium.com/max/910/1*Wjxx83j-qyiNvFBy1yOA1w.jpeg\" alt=\"Git Logo\" style=\"height: 300px;\"/>\n",
    "\n",
    "**What is it**: Git is a software that helps you keep track of changes to files in a folder on your PC. After making some changes to files in this folder, you can “commit” the changes to Git for safe-keeping. These changes could be creating, renaming, deleting a file or subfolder; or editing the content of a file.\n",
    "\n",
    "**Why use it**: Git lets you keep track of changes over time and revert back when needed.\n",
    "\n",
    "**Download**: Install from [here](https://git-scm.com/downloads)\n",
    "\n",
    "**Resources**: Cheat sheet [here](https://i.redd.it/8341g68g1v7y.png)\n",
    "\n",
    "</div>"
   ]
  },
  {
   "cell_type": "markdown",
   "id": "ae58c7fd",
   "metadata": {},
   "source": [
    "<div style=\"padding: 10px; border: 2px black solid;\">\n",
    "\n",
    "## <font color='green'>New Tool Alert:</font> Github\n",
    "    \n",
    "<img src=\"https://github.githubassets.com/images/modules/logos_page/GitHub-Mark.png\" alt=\"Github Logo\" style=\"height: 300px;\"/>\n",
    "\n",
    "**What is it**: Github lets you keep a copy of your local git repositories in the cloud\n",
    "\n",
    "**Why use it**: It lets you share and collaborate with others via Git's version control.\n",
    "\n",
    "**Download**: Create an account [here](https://github.com/)\n",
    "\n",
    "</div>"
   ]
  },
  {
   "cell_type": "markdown",
   "id": "b568ecaa",
   "metadata": {},
   "source": [
    "## Environment Set Up"
   ]
  },
  {
   "cell_type": "markdown",
   "id": "82c5226f",
   "metadata": {},
   "source": [
    "<div style=\"padding: 10px; border: 2px black solid;\">\n",
    "\n",
    "## <font color='green'>New Tool Alert:</font> Anaconda\n",
    "    \n",
    "<img src=\"https://upload.wikimedia.org/wikipedia/en/thumb/c/cd/Anaconda_Logo.png/440px-Anaconda_Logo.png\" alt=\"Anaconda Logo\" style=\"height: 100px;\"/>\n",
    "\n",
    "**What is it**: Anaconda is a distribution of the Python and R programming languages for scientific computing, that aims to simplify package management and deployment. The distribution includes data-science packages suitable for Windows, Linux, and macOS.\n",
    "\n",
    "**Why use it**: Anaconda lets you easily create and manage various environment with isolated dependencies.\n",
    " \n",
    "**Download**: Download from [here](https://www.anaconda.com/products/individual)\n",
    "    \n",
    "**Resources**: Conda cheat sheet [here](https://docs.conda.io/projects/conda/en/4.6.0/_downloads/52a95608c49671267e40c689e0bc00ca/conda-cheatsheet.pdf)\n",
    "    \n",
    "</div>"
   ]
  },
  {
   "cell_type": "markdown",
   "id": "222a0da9",
   "metadata": {},
   "source": [
    "### Setting Up Anaconda Environment and Installing Jupyter Notebooks"
   ]
  },
  {
   "cell_type": "markdown",
   "id": "df9184cb",
   "metadata": {},
   "source": [
    "After installing anaconda, open up your command prompt or terminal window"
   ]
  },
  {
   "cell_type": "markdown",
   "id": "c1fd2785",
   "metadata": {},
   "source": [
    "Create a new environment\n",
    "```\n",
    "conda create --name dstools\n",
    "\n",
    "```"
   ]
  },
  {
   "cell_type": "markdown",
   "id": "3ed8fc25",
   "metadata": {},
   "source": [
    "To see if the command worked and list all your environments run\n",
    "```\n",
    "conda env list\n",
    "```"
   ]
  },
  {
   "cell_type": "markdown",
   "id": "d43116b3",
   "metadata": {},
   "source": [
    "<img src=\"./list.png\" alt=\"Image Info\" style=\"height: 300px;\"/>"
   ]
  },
  {
   "cell_type": "markdown",
   "id": "faf18ac3",
   "metadata": {},
   "source": [
    "Now activate the environment by running\n",
    "```\n",
    "conda activate dstools\n",
    "```"
   ]
  },
  {
   "cell_type": "markdown",
   "id": "6b5f6e29",
   "metadata": {},
   "source": [
    "Finally install jupyter notebooks\n",
    "```\n",
    "conda install jupyter notebook\n",
    "```"
   ]
  },
  {
   "cell_type": "markdown",
   "id": "361aeaf5",
   "metadata": {},
   "source": [
    "Now lunch jupyter notebook by typing\n",
    "```\n",
    "jupyter notebook\n",
    "```"
   ]
  },
  {
   "cell_type": "markdown",
   "id": "dd33e43e",
   "metadata": {},
   "source": [
    "<div style=\"padding: 10px; border: 2px black solid;\">\n",
    "\n",
    "## <font color='green'>New Tool Alert:</font> Jupyter Notebook\n",
    "    \n",
    "<img src=\"https://www.dataquest.io/wp-content/uploads/2019/01/1-LPnY8nOLg4S6_TG0DEXwsg-1.png\" alt=\"Jupyter Logo\" style=\"height: 300px;\"/>\n",
    "\n",
    "**What is it**: A Jupyter notebook is a document that supports mixing executable code, equations, visualizations, and narrative text. Specifically, Jupyter notebooks allow the user to bring together data, code, and prose, to tell an interactive, computational story. Jupyter notebook is free and open source and supports over 100 programming languages including Python, Java, R, Julia, Matlab, Octave, Scheme, Processing, Scala, and many more\n",
    "\n",
    "**Why use it**: Jupyter is an interactive environment that can be shared with anyone. They can run through the code, collaborate and understand the story by mixing formatted text with the code.\n",
    "\n",
    "**Download**: Install from [here](https://jupyter.org/install)\n",
    "\n",
    "**Resources**: Cheat sheet [here](https://www.edureka.co/blog/wp-content/uploads/2018/10/Jupyter_Notebook_CheatSheet_Edureka.pdf)\n",
    "\n",
    "</div>"
   ]
  },
  {
   "cell_type": "markdown",
   "id": "ffb3487b",
   "metadata": {},
   "source": [
    "This will open a new tab in your default web browser that should look something like the following screenshot."
   ]
  },
  {
   "cell_type": "markdown",
   "id": "3e7b396f",
   "metadata": {},
   "source": [
    "![Jupyter](Jupyter.png)"
   ]
  },
  {
   "cell_type": "markdown",
   "id": "69d9ac00",
   "metadata": {},
   "source": [
    "This is the Notebook Dashboard, specifically designed for managing your Jupyter Notebooks. Think of it as the launchpad for exploring, editing and creating your notebooks."
   ]
  },
  {
   "cell_type": "markdown",
   "id": "b3750e67",
   "metadata": {},
   "source": [
    "You can create a new notebook by clicking New in the top right hand corner"
   ]
  },
  {
   "cell_type": "markdown",
   "id": "a129c826",
   "metadata": {},
   "source": [
    "![Markdown](New.png)"
   ]
  },
  {
   "cell_type": "markdown",
   "id": "08c7c3f9",
   "metadata": {},
   "source": [
    "This lets you create a new notebook. Currently the only option is Python. However if you have other kernels installed (such as R) you would see them here."
   ]
  },
  {
   "cell_type": "markdown",
   "id": "f90e0f97",
   "metadata": {},
   "source": [
    "![Notebook](https://www.dataquest.io/wp-content/uploads/2019/01/new-notebook.jpg)"
   ]
  },
  {
   "cell_type": "markdown",
   "id": "9f5be2de",
   "metadata": {},
   "source": [
    "Once you have opened the notebook, the interface shouldn't be too hard to figure out. There are two new terms you have to learn\n",
    "\n",
    "* Kernels: the engine that executes the code. Could be python, R, or other.\n",
    "* Cells: container for text to be displayed in the notebook or code to be executed by the notebook’s kernel.\n",
    "\n",
    "In each cell, you can either write code to execute or write markdown (text formatting system similiar to HTML). \n",
    "\n",
    "To execute code, you can use the run button in the toolbar, or use the shortcut of `shift + enter` Go ahead and execute the following code block which should print out `Hello CHL5408` by using either the run button or the shortcut keys"
   ]
  },
  {
   "cell_type": "code",
   "execution_count": 6,
   "id": "9874dac3",
   "metadata": {},
   "outputs": [
    {
     "name": "stdout",
     "output_type": "stream",
     "text": [
      "Hello CHL5408\n"
     ]
    }
   ],
   "source": [
    "print(\"Hello CHL5408\")"
   ]
  },
  {
   "cell_type": "markdown",
   "id": "6a0325da",
   "metadata": {},
   "source": [
    "When we run the cell, its output is displayed below and the label to its left will have changed from In [ ] to In [1]. Representing the first code cell being run"
   ]
  },
  {
   "cell_type": "markdown",
   "id": "b8212877",
   "metadata": {},
   "source": [
    "Run the cell again and the label will change to In [2] because now the cell was the second to be run on the kernel. This numbering system makes it clear the order in which your code was run. While it's good practice to clean up your code and make sure it should be run from the top of the page to the bottom, this requirements is not enforced. Which is why this number system is so cruicial. "
   ]
  },
  {
   "cell_type": "code",
   "execution_count": 40,
   "id": "34700ec4",
   "metadata": {
    "scrolled": true
   },
   "outputs": [
    {
     "name": "stdout",
     "output_type": "stream",
     "text": [
      "Requirement already satisfied: bs4 in /Users/farbodabolhassani/anaconda3/envs/dstools/lib/python3.11/site-packages (0.0.1)\n",
      "Requirement already satisfied: beautifulsoup4 in /Users/farbodabolhassani/anaconda3/envs/dstools/lib/python3.11/site-packages (from bs4) (4.11.1)\n",
      "Requirement already satisfied: soupsieve>1.2 in /Users/farbodabolhassani/anaconda3/envs/dstools/lib/python3.11/site-packages (from beautifulsoup4->bs4) (2.3.2.post1)\n",
      "Requirement already satisfied: selenium in /Users/farbodabolhassani/anaconda3/envs/dstools/lib/python3.11/site-packages (4.8.3)\n",
      "Requirement already satisfied: urllib3[socks]~=1.26 in /Users/farbodabolhassani/anaconda3/envs/dstools/lib/python3.11/site-packages (from selenium) (1.26.14)\n",
      "Requirement already satisfied: trio~=0.17 in /Users/farbodabolhassani/anaconda3/envs/dstools/lib/python3.11/site-packages (from selenium) (0.22.0)\n",
      "Requirement already satisfied: trio-websocket~=0.9 in /Users/farbodabolhassani/anaconda3/envs/dstools/lib/python3.11/site-packages (from selenium) (0.10.2)\n",
      "Requirement already satisfied: certifi>=2021.10.8 in /Users/farbodabolhassani/anaconda3/envs/dstools/lib/python3.11/site-packages (from selenium) (2022.12.7)\n",
      "Requirement already satisfied: attrs>=19.2.0 in /Users/farbodabolhassani/anaconda3/envs/dstools/lib/python3.11/site-packages (from trio~=0.17->selenium) (22.1.0)\n",
      "Requirement already satisfied: sortedcontainers in /Users/farbodabolhassani/anaconda3/envs/dstools/lib/python3.11/site-packages (from trio~=0.17->selenium) (2.4.0)\n",
      "Requirement already satisfied: async-generator>=1.9 in /Users/farbodabolhassani/anaconda3/envs/dstools/lib/python3.11/site-packages (from trio~=0.17->selenium) (1.10)\n",
      "Requirement already satisfied: idna in /Users/farbodabolhassani/anaconda3/envs/dstools/lib/python3.11/site-packages (from trio~=0.17->selenium) (3.4)\n",
      "Requirement already satisfied: outcome in /Users/farbodabolhassani/anaconda3/envs/dstools/lib/python3.11/site-packages (from trio~=0.17->selenium) (1.2.0)\n",
      "Requirement already satisfied: sniffio in /Users/farbodabolhassani/anaconda3/envs/dstools/lib/python3.11/site-packages (from trio~=0.17->selenium) (1.2.0)\n",
      "Requirement already satisfied: exceptiongroup in /Users/farbodabolhassani/anaconda3/envs/dstools/lib/python3.11/site-packages (from trio-websocket~=0.9->selenium) (1.1.1)\n",
      "Requirement already satisfied: wsproto>=0.14 in /Users/farbodabolhassani/anaconda3/envs/dstools/lib/python3.11/site-packages (from trio-websocket~=0.9->selenium) (1.2.0)\n",
      "Requirement already satisfied: PySocks!=1.5.7,<2.0,>=1.5.6 in /Users/farbodabolhassani/anaconda3/envs/dstools/lib/python3.11/site-packages (from urllib3[socks]~=1.26->selenium) (1.7.1)\n",
      "Requirement already satisfied: h11<1,>=0.9.0 in /Users/farbodabolhassani/anaconda3/envs/dstools/lib/python3.11/site-packages (from wsproto>=0.14->trio-websocket~=0.9->selenium) (0.14.0)\n",
      "Requirement already satisfied: pandas in /Users/farbodabolhassani/anaconda3/envs/dstools/lib/python3.11/site-packages (1.5.3)\n",
      "Requirement already satisfied: python-dateutil>=2.8.1 in /Users/farbodabolhassani/anaconda3/envs/dstools/lib/python3.11/site-packages (from pandas) (2.8.2)\n",
      "Requirement already satisfied: pytz>=2020.1 in /Users/farbodabolhassani/anaconda3/envs/dstools/lib/python3.11/site-packages (from pandas) (2022.7)\n",
      "Requirement already satisfied: numpy>=1.21.0 in /Users/farbodabolhassani/anaconda3/envs/dstools/lib/python3.11/site-packages (from pandas) (1.24.2)\n",
      "Requirement already satisfied: six>=1.5 in /Users/farbodabolhassani/anaconda3/envs/dstools/lib/python3.11/site-packages (from python-dateutil>=2.8.1->pandas) (1.16.0)\n",
      "Requirement already satisfied: html5lib in /Users/farbodabolhassani/anaconda3/envs/dstools/lib/python3.11/site-packages (1.1)\n",
      "Requirement already satisfied: six>=1.9 in /Users/farbodabolhassani/anaconda3/envs/dstools/lib/python3.11/site-packages (from html5lib) (1.16.0)\n",
      "Requirement already satisfied: webencodings in /Users/farbodabolhassani/anaconda3/envs/dstools/lib/python3.11/site-packages (from html5lib) (0.5.1)\n",
      "Requirement already satisfied: matplotlib in /Users/farbodabolhassani/anaconda3/envs/dstools/lib/python3.11/site-packages (3.7.1)\n",
      "Requirement already satisfied: contourpy>=1.0.1 in /Users/farbodabolhassani/anaconda3/envs/dstools/lib/python3.11/site-packages (from matplotlib) (1.0.7)\n",
      "Requirement already satisfied: cycler>=0.10 in /Users/farbodabolhassani/anaconda3/envs/dstools/lib/python3.11/site-packages (from matplotlib) (0.11.0)\n",
      "Requirement already satisfied: fonttools>=4.22.0 in /Users/farbodabolhassani/anaconda3/envs/dstools/lib/python3.11/site-packages (from matplotlib) (4.39.2)\n",
      "Requirement already satisfied: kiwisolver>=1.0.1 in /Users/farbodabolhassani/anaconda3/envs/dstools/lib/python3.11/site-packages (from matplotlib) (1.4.4)\n",
      "Requirement already satisfied: numpy>=1.20 in /Users/farbodabolhassani/anaconda3/envs/dstools/lib/python3.11/site-packages (from matplotlib) (1.24.2)\n",
      "Requirement already satisfied: packaging>=20.0 in /Users/farbodabolhassani/anaconda3/envs/dstools/lib/python3.11/site-packages (from matplotlib) (23.0)\n",
      "Requirement already satisfied: pillow>=6.2.0 in /Users/farbodabolhassani/anaconda3/envs/dstools/lib/python3.11/site-packages (from matplotlib) (9.4.0)\n",
      "Requirement already satisfied: pyparsing>=2.3.1 in /Users/farbodabolhassani/anaconda3/envs/dstools/lib/python3.11/site-packages (from matplotlib) (3.0.9)\n",
      "Requirement already satisfied: python-dateutil>=2.7 in /Users/farbodabolhassani/anaconda3/envs/dstools/lib/python3.11/site-packages (from matplotlib) (2.8.2)\n",
      "Requirement already satisfied: six>=1.5 in /Users/farbodabolhassani/anaconda3/envs/dstools/lib/python3.11/site-packages (from python-dateutil>=2.7->matplotlib) (1.16.0)\n",
      "Requirement already satisfied: sklearn in /Users/farbodabolhassani/anaconda3/envs/dstools/lib/python3.11/site-packages (0.0.post1)\n"
     ]
    }
   ],
   "source": [
    "!pip install bs4\n",
    "!pip install selenium\n",
    "!pip install pandas\n",
    "!pip install html5lib\n",
    "!pip install matplotlib\n",
    "!pip install sklearn"
   ]
  },
  {
   "cell_type": "code",
   "execution_count": 3,
   "id": "d0943b99",
   "metadata": {},
   "outputs": [],
   "source": [
    "import pandas as pd"
   ]
  },
  {
   "cell_type": "markdown",
   "id": "19c78b76",
   "metadata": {},
   "source": [
    "If you have git installed on your local computer, you can get the code by cloning from github by running ```git clone https://github.com/farbodab/ds-tools-ai4ph.git```"
   ]
  },
  {
   "cell_type": "markdown",
   "id": "aa4c1f58",
   "metadata": {},
   "source": [
    "## Business Understanding"
   ]
  },
  {
   "cell_type": "markdown",
   "id": "a5221c71",
   "metadata": {},
   "source": [
    "After a number of back and forths meetings with our bosses, we have a fairly good understanding of what they are trying to do.\n",
    "\n",
    "**Problem**: \n",
    "\n",
    "**Business Requirement**: \n",
    "* The health system is looking to use data to plan for capacity and for response planning\n",
    "* Stakeholders are looking for a weekly email to be delivered to them which has the 7 day prediction of COVID-19 cases."
   ]
  },
  {
   "cell_type": "markdown",
   "id": "e2413843",
   "metadata": {},
   "source": [
    "## Analytics Approach"
   ]
  },
  {
   "cell_type": "markdown",
   "id": "f0490264",
   "metadata": {},
   "source": [
    "The nature of the problem is a predictive one. Since the goal is to predict number of cases, then the task at hand is to building, testing and implementing a regression model."
   ]
  },
  {
   "cell_type": "markdown",
   "id": "64aefd22",
   "metadata": {},
   "source": [
    "## Data Requirements"
   ]
  },
  {
   "cell_type": "markdown",
   "id": "1353a4f7",
   "metadata": {},
   "source": [
    "As a starting point, we need data on daily covid cases. We already have a number of different data elements that may improve the predictive power of the proposed model (location of cases, socioeconomic factors tied to geography, age of cases, etc). The process is entirely iterative. "
   ]
  },
  {
   "cell_type": "markdown",
   "id": "66175fe0",
   "metadata": {},
   "source": [
    "## Data Collection"
   ]
  },
  {
   "cell_type": "markdown",
   "id": "7c0f28f4",
   "metadata": {},
   "source": [
    "### Web Scraping"
   ]
  },
  {
   "cell_type": "markdown",
   "id": "e09c2ead",
   "metadata": {},
   "source": [
    "In the beggining of the pandemic, availability of COVID-19 data was sparse. The only source of such data could be found on Ontario Government's website below.\n",
    "![status](./status.png)"
   ]
  },
  {
   "cell_type": "markdown",
   "id": "a11f591e",
   "metadata": {},
   "source": [
    "To extract data from the website we need to scrape the webpage and extract it from the underlying code that renders the website. While data sources have matured over time, web scrapping is a fairly unique and extremely useful skilset to have in your toolbelt when doing public health on the go. Make sure to download chromedriver that matches your operating system and the version of chrome you are on from [here](https://chromedriver.chromium.org/downloads)"
   ]
  },
  {
   "cell_type": "markdown",
   "id": "47f1aa48",
   "metadata": {},
   "source": [
    "Way back machine link for the page from May 1, 2020 [here](https://web.archive.org/web/20200501004732/https://www.ontario.ca/page/how-ontario-is-responding-covid-19)"
   ]
  },
  {
   "cell_type": "code",
   "execution_count": 7,
   "id": "22ff830b",
   "metadata": {},
   "outputs": [
    {
     "name": "stderr",
     "output_type": "stream",
     "text": [
      "/var/folders/50/ht8vk5sd2f51y9x7p1nt3qwh0000gn/T/ipykernel_98978/1353976157.py:4: DeprecationWarning: executable_path has been deprecated, please pass in a Service object\n",
      "  driver = webdriver.Chrome(executable_path='./chromedriver')\n"
     ]
    }
   ],
   "source": [
    "from selenium import webdriver\n",
    "from selenium.webdriver.common.keys import Keys\n",
    "\n",
    "driver = webdriver.Chrome(executable_path='./chromedriver')\n",
    "driver.get(\"http://www.python.org\")\n",
    "elem = driver.find_element(\"name\",\"q\")\n",
    "elem.clear()\n",
    "elem.send_keys(\"pycon\")\n",
    "elem.send_keys(Keys.RETURN)\n",
    "driver.close()"
   ]
  },
  {
   "cell_type": "markdown",
   "id": "94b0d678",
   "metadata": {},
   "source": [
    "<div style=\"padding: 10px; border: 2px black solid;\">\n",
    "\n",
    "## <font color='green'>New Tool Alert:</font> Selenium\n",
    "<img src=\"https://camo.githubusercontent.com/74ed64243ba05754329bc527cd4240ebd1c087a1/68747470733a2f2f73656c656e69756d2e6465762f696d616765732f73656c656e69756d5f6c6f676f5f7371756172655f677265656e2e706e67\" alt=\"Selenium\" style=\"width: 200px;\"/> \n",
    "    \n",
    "**What is it**: It's a tool used to scrape data from the web which lets you automate the operations of your browser\n",
    "\n",
    "**Why use it**: A lot of information remains locked in websites and is only updated there without being available in a easy to use format. Selenium lets us get access to that info and turn it into usable data.\n",
    "\n",
    "**Download**: Follow instructions [here](https://selenium-python.readthedocs.io/) to set it up.\n",
    "\n",
    "**Resources**: Cheat sheet [here](https://ivantay2003.medium.com/selenium-cheat-sheet-in-python-87221ee06c83)\n",
    "    \n",
    "**Notes**: Users on MacOS will need to do to an additional step to be able to use the driver downloaded from above, which is to mark the file as safe by using the command ```xattr -d com.apple.quarantine name-of-file ```\n",
    "    \n",
    "</div>"
   ]
  },
  {
   "cell_type": "markdown",
   "id": "554a4a40",
   "metadata": {},
   "source": [
    "If selenium is set up, this should launch your browser to python's website, and search for the words pycon."
   ]
  },
  {
   "cell_type": "markdown",
   "id": "1eddce9d",
   "metadata": {},
   "source": [
    "Now that we know things are working, let's go to our real example."
   ]
  },
  {
   "cell_type": "code",
   "execution_count": 8,
   "id": "bbc8a8d0",
   "metadata": {},
   "outputs": [
    {
     "name": "stderr",
     "output_type": "stream",
     "text": [
      "/var/folders/50/ht8vk5sd2f51y9x7p1nt3qwh0000gn/T/ipykernel_98978/1541611170.py:2: DeprecationWarning: executable_path has been deprecated, please pass in a Service object\n",
      "  driver = webdriver.Chrome(executable_path='./chromedriver')\n"
     ]
    }
   ],
   "source": [
    "url = \"https://web.archive.org/web/20200501004732/https://www.ontario.ca/page/how-ontario-is-responding-covid-19\"\n",
    "driver = webdriver.Chrome(executable_path='./chromedriver')\n",
    "driver.get(url)"
   ]
  },
  {
   "cell_type": "markdown",
   "id": "1ebb099a",
   "metadata": {},
   "source": [
    "This should open a new chromium page and navigate it to our data source. Now we use the xpath of the table of interest to get the specific element on the page and we save its html content to a variable"
   ]
  },
  {
   "cell_type": "code",
   "execution_count": 10,
   "id": "53078d3f",
   "metadata": {},
   "outputs": [],
   "source": [
    "element = driver.find_element(\"xpath\",'//*[@id=\"pagebody\"]/table[1]')\n",
    "element_html = element.get_attribute('outerHTML')\n",
    "driver.close()"
   ]
  },
  {
   "cell_type": "markdown",
   "id": "f10b9def",
   "metadata": {},
   "source": [
    "The next library we will be using today is called pandas. Pandas is the go to data manipulation and wrangling library for python"
   ]
  },
  {
   "cell_type": "code",
   "execution_count": 11,
   "id": "22bcada4",
   "metadata": {},
   "outputs": [
    {
     "data": {
      "text/html": [
       "<div>\n",
       "<style scoped>\n",
       "    .dataframe tbody tr th:only-of-type {\n",
       "        vertical-align: middle;\n",
       "    }\n",
       "\n",
       "    .dataframe tbody tr th {\n",
       "        vertical-align: top;\n",
       "    }\n",
       "\n",
       "    .dataframe thead th {\n",
       "        text-align: right;\n",
       "    }\n",
       "</style>\n",
       "<table border=\"1\" class=\"dataframe\">\n",
       "  <thead>\n",
       "    <tr style=\"text-align: right;\">\n",
       "      <th></th>\n",
       "      <th>Unnamed: 0</th>\n",
       "      <th>Number</th>\n",
       "      <th>Percentage</th>\n",
       "    </tr>\n",
       "  </thead>\n",
       "  <tbody>\n",
       "    <tr>\n",
       "      <th>0</th>\n",
       "      <td>Number of cases1</td>\n",
       "      <td>16187.0</td>\n",
       "      <td>NaN</td>\n",
       "    </tr>\n",
       "    <tr>\n",
       "      <th>1</th>\n",
       "      <td>Change from previous report</td>\n",
       "      <td>459.0</td>\n",
       "      <td>2.9% increase</td>\n",
       "    </tr>\n",
       "    <tr>\n",
       "      <th>2</th>\n",
       "      <td>Resolved2</td>\n",
       "      <td>10205.0</td>\n",
       "      <td>63.0</td>\n",
       "    </tr>\n",
       "    <tr>\n",
       "      <th>3</th>\n",
       "      <td>Deceased3</td>\n",
       "      <td>1082.0</td>\n",
       "      <td>6.3</td>\n",
       "    </tr>\n",
       "    <tr>\n",
       "      <th>4</th>\n",
       "      <td>Demographics</td>\n",
       "      <td>NaN</td>\n",
       "      <td>NaN</td>\n",
       "    </tr>\n",
       "  </tbody>\n",
       "</table>\n",
       "</div>"
      ],
      "text/plain": [
       "                    Unnamed: 0   Number     Percentage\n",
       "0             Number of cases1  16187.0            NaN\n",
       "1  Change from previous report    459.0  2.9% increase\n",
       "2                    Resolved2  10205.0           63.0\n",
       "3                    Deceased3   1082.0            6.3\n",
       "4                 Demographics      NaN            NaN"
      ]
     },
     "execution_count": 11,
     "metadata": {},
     "output_type": "execute_result"
    }
   ],
   "source": [
    "import pandas as pd\n",
    "\n",
    "df = pd.read_html(element_html)[0]\n",
    "df.head()"
   ]
  },
  {
   "cell_type": "markdown",
   "id": "433eca89",
   "metadata": {},
   "source": [
    "<div style=\"padding: 10px; border: 2px black solid;\">\n",
    "\n",
    "## <font color='green'>New Tool Alert:</font> Pandas\n",
    "\n",
    "<img src=\"https://upload.wikimedia.org/wikipedia/commons/thumb/e/ed/Pandas_logo.svg/1200px-Pandas_logo.svg.png\" alt=\"Selenium\" style=\"height: 200px;\"/>\n",
    "\n",
    "**What is it**: Pandas is a python library for data manipulation and analysis. It is the de facto library for data manipulation in python.\n",
    "\n",
    "**Why use it**: It's extremely powerful. It lets you read in a variety of dataformats and data sources, aggregate, transform, and combine data. \n",
    "\n",
    "**Download**: Install it by using pip ```pip install pandas```\n",
    "\n",
    "**Resources**: Cheat sheet [here](https://ainfographics.files.wordpress.com/2017/10/python-pandas-cheat-sheet.png)\n",
    "    \n",
    "</div>"
   ]
  },
  {
   "cell_type": "markdown",
   "id": "250b98a2",
   "metadata": {},
   "source": [
    "Now that we have our table of interest we can just save it to file, so we can start to keep track of cases daily. "
   ]
  },
  {
   "cell_type": "code",
   "execution_count": 12,
   "id": "af8dd16c",
   "metadata": {},
   "outputs": [],
   "source": [
    "df.to_csv('cases-may-1-2020.csv',index=False)"
   ]
  },
  {
   "cell_type": "markdown",
   "id": "492c12b9",
   "metadata": {},
   "source": [
    "### Official Data Source"
   ]
  },
  {
   "cell_type": "markdown",
   "id": "02d62a1a",
   "metadata": {},
   "source": [
    "The main dataset we will be using is from [here](https://data.ontario.ca/en/dataset/confirmed-positive-cases-of-covid-19-in-ontario)."
   ]
  },
  {
   "cell_type": "code",
   "execution_count": 13,
   "id": "42ee5e1e",
   "metadata": {},
   "outputs": [],
   "source": [
    "url = \"https://data.ontario.ca/dataset/f4112442-bdc8-45d2-be3c-12efae72fb27/resource/455fd63b-603d-4608-8216-7d8647f43350/download/conposcovidloc.csv\"\n",
    "all_cases = pd.read_csv(url)"
   ]
  },
  {
   "cell_type": "code",
   "execution_count": 14,
   "id": "ae286b49",
   "metadata": {},
   "outputs": [
    {
     "data": {
      "text/html": [
       "<div>\n",
       "<style scoped>\n",
       "    .dataframe tbody tr th:only-of-type {\n",
       "        vertical-align: middle;\n",
       "    }\n",
       "\n",
       "    .dataframe tbody tr th {\n",
       "        vertical-align: top;\n",
       "    }\n",
       "\n",
       "    .dataframe thead th {\n",
       "        text-align: right;\n",
       "    }\n",
       "</style>\n",
       "<table border=\"1\" class=\"dataframe\">\n",
       "  <thead>\n",
       "    <tr style=\"text-align: right;\">\n",
       "      <th></th>\n",
       "      <th>Row_ID</th>\n",
       "      <th>Accurate_Episode_Date</th>\n",
       "      <th>Case_Reported_Date</th>\n",
       "      <th>Test_Reported_Date</th>\n",
       "      <th>Specimen_Date</th>\n",
       "      <th>Age_Group</th>\n",
       "      <th>Client_Gender</th>\n",
       "      <th>Case_AcquisitionInfo</th>\n",
       "      <th>Outcome1</th>\n",
       "      <th>Outbreak_Related</th>\n",
       "      <th>Reporting_PHU_ID</th>\n",
       "      <th>Reporting_PHU</th>\n",
       "      <th>Reporting_PHU_Address</th>\n",
       "      <th>Reporting_PHU_City</th>\n",
       "      <th>Reporting_PHU_Postal_Code</th>\n",
       "      <th>Reporting_PHU_Website</th>\n",
       "      <th>Reporting_PHU_Latitude</th>\n",
       "      <th>Reporting_PHU_Longitude</th>\n",
       "    </tr>\n",
       "  </thead>\n",
       "  <tbody>\n",
       "    <tr>\n",
       "      <th>0</th>\n",
       "      <td>1</td>\n",
       "      <td>1934-09-28</td>\n",
       "      <td>2022-09-29</td>\n",
       "      <td>2022-09-29</td>\n",
       "      <td>2022-09-27</td>\n",
       "      <td>&lt;20</td>\n",
       "      <td>FEMALE</td>\n",
       "      <td>OB</td>\n",
       "      <td>Resolved</td>\n",
       "      <td>Yes</td>\n",
       "      <td>2262</td>\n",
       "      <td>Thunder Bay District Health Unit</td>\n",
       "      <td>999 Balmoral Street</td>\n",
       "      <td>Thunder Bay</td>\n",
       "      <td>P7B 6E7</td>\n",
       "      <td>www.tbdhu.com</td>\n",
       "      <td>48.400572</td>\n",
       "      <td>-89.258851</td>\n",
       "    </tr>\n",
       "    <tr>\n",
       "      <th>1</th>\n",
       "      <td>2</td>\n",
       "      <td>1989-02-21</td>\n",
       "      <td>2022-11-08</td>\n",
       "      <td>2022-11-07</td>\n",
       "      <td>2022-11-06</td>\n",
       "      <td>&lt;20</td>\n",
       "      <td>FEMALE</td>\n",
       "      <td>MISSING INFORMATION</td>\n",
       "      <td>Resolved</td>\n",
       "      <td>NaN</td>\n",
       "      <td>2270</td>\n",
       "      <td>York Region Public Health Services</td>\n",
       "      <td>17250 Yonge Street</td>\n",
       "      <td>Newmarket</td>\n",
       "      <td>L3Y 6Z1</td>\n",
       "      <td>www.york.ca/wps/portal/yorkhome/health/</td>\n",
       "      <td>44.048023</td>\n",
       "      <td>-79.480239</td>\n",
       "    </tr>\n",
       "    <tr>\n",
       "      <th>2</th>\n",
       "      <td>3</td>\n",
       "      <td>2000-03-01</td>\n",
       "      <td>2022-01-30</td>\n",
       "      <td>NaN</td>\n",
       "      <td>2000-03-01</td>\n",
       "      <td>&lt;20</td>\n",
       "      <td>FEMALE</td>\n",
       "      <td>MISSING INFORMATION</td>\n",
       "      <td>Resolved</td>\n",
       "      <td>NaN</td>\n",
       "      <td>2243</td>\n",
       "      <td>Leeds, Grenville and Lanark District Health Unit</td>\n",
       "      <td>458 Laurier Boulevard</td>\n",
       "      <td>Brockville</td>\n",
       "      <td>K6V 7A3</td>\n",
       "      <td>www.healthunit.org</td>\n",
       "      <td>44.615843</td>\n",
       "      <td>-75.702833</td>\n",
       "    </tr>\n",
       "    <tr>\n",
       "      <th>3</th>\n",
       "      <td>4</td>\n",
       "      <td>2002-07-06</td>\n",
       "      <td>2022-07-06</td>\n",
       "      <td>2022-07-07</td>\n",
       "      <td>2002-07-06</td>\n",
       "      <td>20s</td>\n",
       "      <td>FEMALE</td>\n",
       "      <td>OB</td>\n",
       "      <td>Resolved</td>\n",
       "      <td>Yes</td>\n",
       "      <td>2270</td>\n",
       "      <td>York Region Public Health Services</td>\n",
       "      <td>17250 Yonge Street</td>\n",
       "      <td>Newmarket</td>\n",
       "      <td>L3Y 6Z1</td>\n",
       "      <td>www.york.ca/wps/portal/yorkhome/health/</td>\n",
       "      <td>44.048023</td>\n",
       "      <td>-79.480239</td>\n",
       "    </tr>\n",
       "    <tr>\n",
       "      <th>4</th>\n",
       "      <td>5</td>\n",
       "      <td>2002-12-15</td>\n",
       "      <td>2022-08-18</td>\n",
       "      <td>2022-08-18</td>\n",
       "      <td>2022-08-17</td>\n",
       "      <td>UNKNOWN</td>\n",
       "      <td>FEMALE</td>\n",
       "      <td>MISSING INFORMATION</td>\n",
       "      <td>Resolved</td>\n",
       "      <td>NaN</td>\n",
       "      <td>3895</td>\n",
       "      <td>Toronto Public Health</td>\n",
       "      <td>277 Victoria Street, 5th Floor</td>\n",
       "      <td>Toronto</td>\n",
       "      <td>M5B 1W2</td>\n",
       "      <td>www.toronto.ca/community-people/health-wellnes...</td>\n",
       "      <td>43.656591</td>\n",
       "      <td>-79.379358</td>\n",
       "    </tr>\n",
       "  </tbody>\n",
       "</table>\n",
       "</div>"
      ],
      "text/plain": [
       "   Row_ID Accurate_Episode_Date Case_Reported_Date Test_Reported_Date  \\\n",
       "0       1            1934-09-28         2022-09-29         2022-09-29   \n",
       "1       2            1989-02-21         2022-11-08         2022-11-07   \n",
       "2       3            2000-03-01         2022-01-30                NaN   \n",
       "3       4            2002-07-06         2022-07-06         2022-07-07   \n",
       "4       5            2002-12-15         2022-08-18         2022-08-18   \n",
       "\n",
       "  Specimen_Date Age_Group Client_Gender Case_AcquisitionInfo  Outcome1  \\\n",
       "0    2022-09-27       <20        FEMALE                   OB  Resolved   \n",
       "1    2022-11-06       <20        FEMALE  MISSING INFORMATION  Resolved   \n",
       "2    2000-03-01       <20        FEMALE  MISSING INFORMATION  Resolved   \n",
       "3    2002-07-06       20s        FEMALE                   OB  Resolved   \n",
       "4    2022-08-17   UNKNOWN        FEMALE  MISSING INFORMATION  Resolved   \n",
       "\n",
       "  Outbreak_Related  Reporting_PHU_ID  \\\n",
       "0              Yes              2262   \n",
       "1              NaN              2270   \n",
       "2              NaN              2243   \n",
       "3              Yes              2270   \n",
       "4              NaN              3895   \n",
       "\n",
       "                                      Reporting_PHU  \\\n",
       "0                  Thunder Bay District Health Unit   \n",
       "1                York Region Public Health Services   \n",
       "2  Leeds, Grenville and Lanark District Health Unit   \n",
       "3                York Region Public Health Services   \n",
       "4                             Toronto Public Health   \n",
       "\n",
       "            Reporting_PHU_Address Reporting_PHU_City  \\\n",
       "0             999 Balmoral Street        Thunder Bay   \n",
       "1              17250 Yonge Street          Newmarket   \n",
       "2           458 Laurier Boulevard         Brockville   \n",
       "3              17250 Yonge Street          Newmarket   \n",
       "4  277 Victoria Street, 5th Floor            Toronto   \n",
       "\n",
       "  Reporting_PHU_Postal_Code  \\\n",
       "0                   P7B 6E7   \n",
       "1                   L3Y 6Z1   \n",
       "2                   K6V 7A3   \n",
       "3                   L3Y 6Z1   \n",
       "4                   M5B 1W2   \n",
       "\n",
       "                               Reporting_PHU_Website  Reporting_PHU_Latitude  \\\n",
       "0                                      www.tbdhu.com               48.400572   \n",
       "1            www.york.ca/wps/portal/yorkhome/health/               44.048023   \n",
       "2                                 www.healthunit.org               44.615843   \n",
       "3            www.york.ca/wps/portal/yorkhome/health/               44.048023   \n",
       "4  www.toronto.ca/community-people/health-wellnes...               43.656591   \n",
       "\n",
       "   Reporting_PHU_Longitude  \n",
       "0               -89.258851  \n",
       "1               -79.480239  \n",
       "2               -75.702833  \n",
       "3               -79.480239  \n",
       "4               -79.379358  "
      ]
     },
     "execution_count": 14,
     "metadata": {},
     "output_type": "execute_result"
    }
   ],
   "source": [
    "all_cases.head()"
   ]
  },
  {
   "cell_type": "markdown",
   "id": "9a24aa4b",
   "metadata": {},
   "source": [
    "## Data Understanding"
   ]
  },
  {
   "cell_type": "code",
   "execution_count": 15,
   "id": "8217979e",
   "metadata": {},
   "outputs": [
    {
     "data": {
      "text/html": [
       "<div>\n",
       "<style scoped>\n",
       "    .dataframe tbody tr th:only-of-type {\n",
       "        vertical-align: middle;\n",
       "    }\n",
       "\n",
       "    .dataframe tbody tr th {\n",
       "        vertical-align: top;\n",
       "    }\n",
       "\n",
       "    .dataframe thead th {\n",
       "        text-align: right;\n",
       "    }\n",
       "</style>\n",
       "<table border=\"1\" class=\"dataframe\">\n",
       "  <thead>\n",
       "    <tr style=\"text-align: right;\">\n",
       "      <th></th>\n",
       "      <th>Row_ID</th>\n",
       "      <th>Accurate_Episode_Date</th>\n",
       "      <th>Case_Reported_Date</th>\n",
       "      <th>Test_Reported_Date</th>\n",
       "      <th>Specimen_Date</th>\n",
       "      <th>Age_Group</th>\n",
       "      <th>Client_Gender</th>\n",
       "      <th>Case_AcquisitionInfo</th>\n",
       "      <th>Outcome1</th>\n",
       "      <th>Outbreak_Related</th>\n",
       "      <th>Reporting_PHU_ID</th>\n",
       "      <th>Reporting_PHU</th>\n",
       "      <th>Reporting_PHU_Address</th>\n",
       "      <th>Reporting_PHU_City</th>\n",
       "      <th>Reporting_PHU_Postal_Code</th>\n",
       "      <th>Reporting_PHU_Website</th>\n",
       "      <th>Reporting_PHU_Latitude</th>\n",
       "      <th>Reporting_PHU_Longitude</th>\n",
       "    </tr>\n",
       "  </thead>\n",
       "  <tbody>\n",
       "    <tr>\n",
       "      <th>0</th>\n",
       "      <td>1</td>\n",
       "      <td>1934-09-28</td>\n",
       "      <td>2022-09-29</td>\n",
       "      <td>2022-09-29</td>\n",
       "      <td>2022-09-27</td>\n",
       "      <td>&lt;20</td>\n",
       "      <td>FEMALE</td>\n",
       "      <td>OB</td>\n",
       "      <td>Resolved</td>\n",
       "      <td>Yes</td>\n",
       "      <td>2262</td>\n",
       "      <td>Thunder Bay District Health Unit</td>\n",
       "      <td>999 Balmoral Street</td>\n",
       "      <td>Thunder Bay</td>\n",
       "      <td>P7B 6E7</td>\n",
       "      <td>www.tbdhu.com</td>\n",
       "      <td>48.400572</td>\n",
       "      <td>-89.258851</td>\n",
       "    </tr>\n",
       "    <tr>\n",
       "      <th>1</th>\n",
       "      <td>2</td>\n",
       "      <td>1989-02-21</td>\n",
       "      <td>2022-11-08</td>\n",
       "      <td>2022-11-07</td>\n",
       "      <td>2022-11-06</td>\n",
       "      <td>&lt;20</td>\n",
       "      <td>FEMALE</td>\n",
       "      <td>MISSING INFORMATION</td>\n",
       "      <td>Resolved</td>\n",
       "      <td>NaN</td>\n",
       "      <td>2270</td>\n",
       "      <td>York Region Public Health Services</td>\n",
       "      <td>17250 Yonge Street</td>\n",
       "      <td>Newmarket</td>\n",
       "      <td>L3Y 6Z1</td>\n",
       "      <td>www.york.ca/wps/portal/yorkhome/health/</td>\n",
       "      <td>44.048023</td>\n",
       "      <td>-79.480239</td>\n",
       "    </tr>\n",
       "    <tr>\n",
       "      <th>2</th>\n",
       "      <td>3</td>\n",
       "      <td>2000-03-01</td>\n",
       "      <td>2022-01-30</td>\n",
       "      <td>NaN</td>\n",
       "      <td>2000-03-01</td>\n",
       "      <td>&lt;20</td>\n",
       "      <td>FEMALE</td>\n",
       "      <td>MISSING INFORMATION</td>\n",
       "      <td>Resolved</td>\n",
       "      <td>NaN</td>\n",
       "      <td>2243</td>\n",
       "      <td>Leeds, Grenville and Lanark District Health Unit</td>\n",
       "      <td>458 Laurier Boulevard</td>\n",
       "      <td>Brockville</td>\n",
       "      <td>K6V 7A3</td>\n",
       "      <td>www.healthunit.org</td>\n",
       "      <td>44.615843</td>\n",
       "      <td>-75.702833</td>\n",
       "    </tr>\n",
       "    <tr>\n",
       "      <th>3</th>\n",
       "      <td>4</td>\n",
       "      <td>2002-07-06</td>\n",
       "      <td>2022-07-06</td>\n",
       "      <td>2022-07-07</td>\n",
       "      <td>2002-07-06</td>\n",
       "      <td>20s</td>\n",
       "      <td>FEMALE</td>\n",
       "      <td>OB</td>\n",
       "      <td>Resolved</td>\n",
       "      <td>Yes</td>\n",
       "      <td>2270</td>\n",
       "      <td>York Region Public Health Services</td>\n",
       "      <td>17250 Yonge Street</td>\n",
       "      <td>Newmarket</td>\n",
       "      <td>L3Y 6Z1</td>\n",
       "      <td>www.york.ca/wps/portal/yorkhome/health/</td>\n",
       "      <td>44.048023</td>\n",
       "      <td>-79.480239</td>\n",
       "    </tr>\n",
       "    <tr>\n",
       "      <th>4</th>\n",
       "      <td>5</td>\n",
       "      <td>2002-12-15</td>\n",
       "      <td>2022-08-18</td>\n",
       "      <td>2022-08-18</td>\n",
       "      <td>2022-08-17</td>\n",
       "      <td>UNKNOWN</td>\n",
       "      <td>FEMALE</td>\n",
       "      <td>MISSING INFORMATION</td>\n",
       "      <td>Resolved</td>\n",
       "      <td>NaN</td>\n",
       "      <td>3895</td>\n",
       "      <td>Toronto Public Health</td>\n",
       "      <td>277 Victoria Street, 5th Floor</td>\n",
       "      <td>Toronto</td>\n",
       "      <td>M5B 1W2</td>\n",
       "      <td>www.toronto.ca/community-people/health-wellnes...</td>\n",
       "      <td>43.656591</td>\n",
       "      <td>-79.379358</td>\n",
       "    </tr>\n",
       "  </tbody>\n",
       "</table>\n",
       "</div>"
      ],
      "text/plain": [
       "   Row_ID Accurate_Episode_Date Case_Reported_Date Test_Reported_Date  \\\n",
       "0       1            1934-09-28         2022-09-29         2022-09-29   \n",
       "1       2            1989-02-21         2022-11-08         2022-11-07   \n",
       "2       3            2000-03-01         2022-01-30                NaN   \n",
       "3       4            2002-07-06         2022-07-06         2022-07-07   \n",
       "4       5            2002-12-15         2022-08-18         2022-08-18   \n",
       "\n",
       "  Specimen_Date Age_Group Client_Gender Case_AcquisitionInfo  Outcome1  \\\n",
       "0    2022-09-27       <20        FEMALE                   OB  Resolved   \n",
       "1    2022-11-06       <20        FEMALE  MISSING INFORMATION  Resolved   \n",
       "2    2000-03-01       <20        FEMALE  MISSING INFORMATION  Resolved   \n",
       "3    2002-07-06       20s        FEMALE                   OB  Resolved   \n",
       "4    2022-08-17   UNKNOWN        FEMALE  MISSING INFORMATION  Resolved   \n",
       "\n",
       "  Outbreak_Related  Reporting_PHU_ID  \\\n",
       "0              Yes              2262   \n",
       "1              NaN              2270   \n",
       "2              NaN              2243   \n",
       "3              Yes              2270   \n",
       "4              NaN              3895   \n",
       "\n",
       "                                      Reporting_PHU  \\\n",
       "0                  Thunder Bay District Health Unit   \n",
       "1                York Region Public Health Services   \n",
       "2  Leeds, Grenville and Lanark District Health Unit   \n",
       "3                York Region Public Health Services   \n",
       "4                             Toronto Public Health   \n",
       "\n",
       "            Reporting_PHU_Address Reporting_PHU_City  \\\n",
       "0             999 Balmoral Street        Thunder Bay   \n",
       "1              17250 Yonge Street          Newmarket   \n",
       "2           458 Laurier Boulevard         Brockville   \n",
       "3              17250 Yonge Street          Newmarket   \n",
       "4  277 Victoria Street, 5th Floor            Toronto   \n",
       "\n",
       "  Reporting_PHU_Postal_Code  \\\n",
       "0                   P7B 6E7   \n",
       "1                   L3Y 6Z1   \n",
       "2                   K6V 7A3   \n",
       "3                   L3Y 6Z1   \n",
       "4                   M5B 1W2   \n",
       "\n",
       "                               Reporting_PHU_Website  Reporting_PHU_Latitude  \\\n",
       "0                                      www.tbdhu.com               48.400572   \n",
       "1            www.york.ca/wps/portal/yorkhome/health/               44.048023   \n",
       "2                                 www.healthunit.org               44.615843   \n",
       "3            www.york.ca/wps/portal/yorkhome/health/               44.048023   \n",
       "4  www.toronto.ca/community-people/health-wellnes...               43.656591   \n",
       "\n",
       "   Reporting_PHU_Longitude  \n",
       "0               -89.258851  \n",
       "1               -79.480239  \n",
       "2               -75.702833  \n",
       "3               -79.480239  \n",
       "4               -79.379358  "
      ]
     },
     "execution_count": 15,
     "metadata": {},
     "output_type": "execute_result"
    }
   ],
   "source": [
    "all_cases.head()"
   ]
  },
  {
   "cell_type": "code",
   "execution_count": 16,
   "id": "71a35575",
   "metadata": {
    "scrolled": true
   },
   "outputs": [
    {
     "name": "stdout",
     "output_type": "stream",
     "text": [
      "<class 'pandas.core.frame.DataFrame'>\n",
      "RangeIndex: 1604048 entries, 0 to 1604047\n",
      "Data columns (total 18 columns):\n",
      " #   Column                     Non-Null Count    Dtype  \n",
      "---  ------                     --------------    -----  \n",
      " 0   Row_ID                     1604048 non-null  int64  \n",
      " 1   Accurate_Episode_Date      1604048 non-null  object \n",
      " 2   Case_Reported_Date         1604048 non-null  object \n",
      " 3   Test_Reported_Date         1555803 non-null  object \n",
      " 4   Specimen_Date              1592565 non-null  object \n",
      " 5   Age_Group                  1604048 non-null  object \n",
      " 6   Client_Gender              1604048 non-null  object \n",
      " 7   Case_AcquisitionInfo       1604048 non-null  object \n",
      " 8   Outcome1                   1604048 non-null  object \n",
      " 9   Outbreak_Related           260423 non-null   object \n",
      " 10  Reporting_PHU_ID           1604048 non-null  int64  \n",
      " 11  Reporting_PHU              1604048 non-null  object \n",
      " 12  Reporting_PHU_Address      1604048 non-null  object \n",
      " 13  Reporting_PHU_City         1604048 non-null  object \n",
      " 14  Reporting_PHU_Postal_Code  1604048 non-null  object \n",
      " 15  Reporting_PHU_Website      1604048 non-null  object \n",
      " 16  Reporting_PHU_Latitude     1604048 non-null  float64\n",
      " 17  Reporting_PHU_Longitude    1604048 non-null  float64\n",
      "dtypes: float64(2), int64(2), object(14)\n",
      "memory usage: 220.3+ MB\n"
     ]
    }
   ],
   "source": [
    "all_cases.info()"
   ]
  },
  {
   "cell_type": "code",
   "execution_count": 17,
   "id": "f521b625",
   "metadata": {},
   "outputs": [
    {
     "data": {
      "text/plain": [
       "20s        299399\n",
       "30s        262477\n",
       "<20        237518\n",
       "40s        226475\n",
       "50s        212960\n",
       "60s        139148\n",
       "70s         93350\n",
       "80s         84002\n",
       "90+         48169\n",
       "UNKNOWN       550\n",
       "Name: Age_Group, dtype: int64"
      ]
     },
     "execution_count": 17,
     "metadata": {},
     "output_type": "execute_result"
    }
   ],
   "source": [
    "all_cases['Age_Group'].value_counts()"
   ]
  },
  {
   "cell_type": "code",
   "execution_count": 18,
   "id": "70cb310b",
   "metadata": {},
   "outputs": [
    {
     "data": {
      "text/plain": [
       "FEMALE            880310\n",
       "MALE              712464\n",
       "UNSPECIFIED        11264\n",
       "GENDER DIVERSE        10\n",
       "Name: Client_Gender, dtype: int64"
      ]
     },
     "execution_count": 18,
     "metadata": {},
     "output_type": "execute_result"
    }
   ],
   "source": [
    "all_cases['Client_Gender'].value_counts()"
   ]
  },
  {
   "cell_type": "code",
   "execution_count": 19,
   "id": "748233f2",
   "metadata": {},
   "outputs": [
    {
     "data": {
      "text/plain": [
       "Resolved        1581521\n",
       "Fatal             16314\n",
       "Not Resolved       6213\n",
       "Name: Outcome1, dtype: int64"
      ]
     },
     "execution_count": 19,
     "metadata": {},
     "output_type": "execute_result"
    }
   ],
   "source": [
    "all_cases['Outcome1'].value_counts()"
   ]
  },
  {
   "cell_type": "code",
   "execution_count": 20,
   "id": "f94e5dfd",
   "metadata": {},
   "outputs": [
    {
     "data": {
      "text/plain": [
       "Yes    260423\n",
       "Name: Outbreak_Related, dtype: int64"
      ]
     },
     "execution_count": 20,
     "metadata": {},
     "output_type": "execute_result"
    }
   ],
   "source": [
    "all_cases['Outbreak_Related'].value_counts()"
   ]
  },
  {
   "cell_type": "markdown",
   "id": "2a987558",
   "metadata": {
    "heading_collapsed": true
   },
   "source": [
    "## Data Preparation"
   ]
  },
  {
   "cell_type": "code",
   "execution_count": 21,
   "id": "3c9b7f72",
   "metadata": {
    "hidden": true
   },
   "outputs": [
    {
     "data": {
      "text/html": [
       "<div>\n",
       "<style scoped>\n",
       "    .dataframe tbody tr th:only-of-type {\n",
       "        vertical-align: middle;\n",
       "    }\n",
       "\n",
       "    .dataframe tbody tr th {\n",
       "        vertical-align: top;\n",
       "    }\n",
       "\n",
       "    .dataframe thead th {\n",
       "        text-align: right;\n",
       "    }\n",
       "</style>\n",
       "<table border=\"1\" class=\"dataframe\">\n",
       "  <thead>\n",
       "    <tr style=\"text-align: right;\">\n",
       "      <th></th>\n",
       "      <th>Accurate_Episode_Date</th>\n",
       "      <th>Row_ID</th>\n",
       "    </tr>\n",
       "  </thead>\n",
       "  <tbody>\n",
       "    <tr>\n",
       "      <th>1151</th>\n",
       "      <td>2023-03-18</td>\n",
       "      <td>325</td>\n",
       "    </tr>\n",
       "    <tr>\n",
       "      <th>1152</th>\n",
       "      <td>2023-03-19</td>\n",
       "      <td>336</td>\n",
       "    </tr>\n",
       "    <tr>\n",
       "      <th>1153</th>\n",
       "      <td>2023-03-20</td>\n",
       "      <td>518</td>\n",
       "    </tr>\n",
       "    <tr>\n",
       "      <th>1154</th>\n",
       "      <td>2023-03-21</td>\n",
       "      <td>306</td>\n",
       "    </tr>\n",
       "    <tr>\n",
       "      <th>1155</th>\n",
       "      <td>2023-03-22</td>\n",
       "      <td>21</td>\n",
       "    </tr>\n",
       "  </tbody>\n",
       "</table>\n",
       "</div>"
      ],
      "text/plain": [
       "     Accurate_Episode_Date  Row_ID\n",
       "1151            2023-03-18     325\n",
       "1152            2023-03-19     336\n",
       "1153            2023-03-20     518\n",
       "1154            2023-03-21     306\n",
       "1155            2023-03-22      21"
      ]
     },
     "execution_count": 21,
     "metadata": {},
     "output_type": "execute_result"
    }
   ],
   "source": [
    "agg = all_cases.groupby(['Accurate_Episode_Date'])['Row_ID'].count().to_frame().reset_index()\n",
    "agg['Accurate_Episode_Date'] = pd.to_datetime(agg['Accurate_Episode_Date'])\n",
    "agg = agg.loc[agg['Accurate_Episode_Date'] > '2019-06-01']\n",
    "agg.tail()"
   ]
  },
  {
   "cell_type": "markdown",
   "id": "5f7b192e",
   "metadata": {
    "hidden": true
   },
   "source": [
    "Next. Let's visualize the data to make sure our aggregation worked as expected"
   ]
  },
  {
   "cell_type": "code",
   "execution_count": 22,
   "id": "be2c455a",
   "metadata": {
    "hidden": true
   },
   "outputs": [
    {
     "data": {
      "text/plain": [
       "Text(0.5, 1.0, 'Number of cases over time')"
      ]
     },
     "execution_count": 22,
     "metadata": {},
     "output_type": "execute_result"
    },
    {
     "data": {
      "image/png": "[encoded data removed]",
      "text/plain": [
       "<Figure size 640x480 with 1 Axes>"
      ]
     },
     "metadata": {},
     "output_type": "display_data"
    }
   ],
   "source": [
    "import matplotlib.pyplot as plt\n",
    "import matplotlib.dates as mdates\n",
    "import matplotlib.cbook as cbook\n",
    "\n",
    "fig = plt.figure()\n",
    "ax = plt.axes()\n",
    "\n",
    "x = agg['Accurate_Episode_Date']\n",
    "y = agg['Row_ID']\n",
    "ax.plot(x, y)\n",
    "\n",
    "# Major ticks every 6 months.\n",
    "fmt_half_year = mdates.MonthLocator(interval=6)\n",
    "ax.xaxis.set_major_locator(fmt_half_year)\n",
    "\n",
    "# Minor ticks every month.\n",
    "fmt_month = mdates.MonthLocator()\n",
    "ax.xaxis.set_minor_locator(fmt_month)\n",
    "\n",
    "# Text in the x axis will be displayed in 'YYYY-mm' format.\n",
    "ax.xaxis.set_major_formatter(mdates.DateFormatter('%Y-%m'))\n",
    "\n",
    "plt.title(\"Number of cases over time\")"
   ]
  },
  {
   "cell_type": "markdown",
   "id": "9ca9260d",
   "metadata": {
    "hidden": true
   },
   "source": [
    "<div style=\"padding: 10px; border: 2px black solid;\">\n",
    "\n",
    "## <font color='green'>New Tool Alert:</font> Matplotlib\n",
    "\n",
    "<img src=\"https://matplotlib.org/_static/logo2_compressed.svg\" alt=\"Matplotlib\" style=\"height: 200px;\"/>\n",
    "\n",
    "**What is it**: Matplotlib is a python library for plotting and data visualization. \n",
    "\n",
    "**Why use it**: It's free and open source and extremely customizable. \n",
    "\n",
    "**Download**: Install it by using pip ```pip install matplotlib```\n",
    "\n",
    "**Resources**: Cheat sheet [here](https://raw.githubusercontent.com/matplotlib/cheatsheets/master/cheatsheets-1.png)\n",
    "    \n",
    "</div>"
   ]
  },
  {
   "cell_type": "markdown",
   "id": "2c4738dd",
   "metadata": {
    "hidden": true
   },
   "source": [
    "We have a timeseries problem. Let's get the data in shape for it. Let's drop any data in 2019 as the tail is not going to be as relevant for predicting the most recent data. "
   ]
  },
  {
   "cell_type": "code",
   "execution_count": 23,
   "id": "d373a374",
   "metadata": {
    "hidden": true
   },
   "outputs": [
    {
     "data": {
      "text/html": [
       "<div>\n",
       "<style scoped>\n",
       "    .dataframe tbody tr th:only-of-type {\n",
       "        vertical-align: middle;\n",
       "    }\n",
       "\n",
       "    .dataframe tbody tr th {\n",
       "        vertical-align: top;\n",
       "    }\n",
       "\n",
       "    .dataframe thead th {\n",
       "        text-align: right;\n",
       "    }\n",
       "</style>\n",
       "<table border=\"1\" class=\"dataframe\">\n",
       "  <thead>\n",
       "    <tr style=\"text-align: right;\">\n",
       "      <th></th>\n",
       "      <th>Accurate_Episode_Date</th>\n",
       "      <th>Row_ID</th>\n",
       "    </tr>\n",
       "  </thead>\n",
       "  <tbody>\n",
       "    <tr>\n",
       "      <th>8</th>\n",
       "      <td>2019-11-20</td>\n",
       "      <td>1</td>\n",
       "    </tr>\n",
       "    <tr>\n",
       "      <th>9</th>\n",
       "      <td>2019-12-18</td>\n",
       "      <td>1</td>\n",
       "    </tr>\n",
       "    <tr>\n",
       "      <th>10</th>\n",
       "      <td>2020-01-01</td>\n",
       "      <td>2</td>\n",
       "    </tr>\n",
       "    <tr>\n",
       "      <th>11</th>\n",
       "      <td>2020-01-10</td>\n",
       "      <td>1</td>\n",
       "    </tr>\n",
       "    <tr>\n",
       "      <th>12</th>\n",
       "      <td>2020-01-16</td>\n",
       "      <td>1</td>\n",
       "    </tr>\n",
       "  </tbody>\n",
       "</table>\n",
       "</div>"
      ],
      "text/plain": [
       "   Accurate_Episode_Date  Row_ID\n",
       "8             2019-11-20       1\n",
       "9             2019-12-18       1\n",
       "10            2020-01-01       2\n",
       "11            2020-01-10       1\n",
       "12            2020-01-16       1"
      ]
     },
     "execution_count": 23,
     "metadata": {},
     "output_type": "execute_result"
    }
   ],
   "source": [
    "agg.head()"
   ]
  },
  {
   "cell_type": "code",
   "execution_count": 24,
   "id": "87be8c98",
   "metadata": {
    "hidden": true
   },
   "outputs": [
    {
     "data": {
      "text/html": [
       "<div>\n",
       "<style scoped>\n",
       "    .dataframe tbody tr th:only-of-type {\n",
       "        vertical-align: middle;\n",
       "    }\n",
       "\n",
       "    .dataframe tbody tr th {\n",
       "        vertical-align: top;\n",
       "    }\n",
       "\n",
       "    .dataframe thead th {\n",
       "        text-align: right;\n",
       "    }\n",
       "</style>\n",
       "<table border=\"1\" class=\"dataframe\">\n",
       "  <thead>\n",
       "    <tr style=\"text-align: right;\">\n",
       "      <th></th>\n",
       "      <th>Accurate_Episode_Date</th>\n",
       "      <th>Row_ID</th>\n",
       "    </tr>\n",
       "  </thead>\n",
       "  <tbody>\n",
       "    <tr>\n",
       "      <th>1151</th>\n",
       "      <td>2023-03-18</td>\n",
       "      <td>325</td>\n",
       "    </tr>\n",
       "    <tr>\n",
       "      <th>1152</th>\n",
       "      <td>2023-03-19</td>\n",
       "      <td>336</td>\n",
       "    </tr>\n",
       "    <tr>\n",
       "      <th>1153</th>\n",
       "      <td>2023-03-20</td>\n",
       "      <td>518</td>\n",
       "    </tr>\n",
       "    <tr>\n",
       "      <th>1154</th>\n",
       "      <td>2023-03-21</td>\n",
       "      <td>306</td>\n",
       "    </tr>\n",
       "    <tr>\n",
       "      <th>1155</th>\n",
       "      <td>2023-03-22</td>\n",
       "      <td>21</td>\n",
       "    </tr>\n",
       "  </tbody>\n",
       "</table>\n",
       "</div>"
      ],
      "text/plain": [
       "     Accurate_Episode_Date  Row_ID\n",
       "1151            2023-03-18     325\n",
       "1152            2023-03-19     336\n",
       "1153            2023-03-20     518\n",
       "1154            2023-03-21     306\n",
       "1155            2023-03-22      21"
      ]
     },
     "execution_count": 24,
     "metadata": {},
     "output_type": "execute_result"
    }
   ],
   "source": [
    "agg.tail()"
   ]
  },
  {
   "cell_type": "code",
   "execution_count": 25,
   "id": "51ebce5f",
   "metadata": {
    "hidden": true
   },
   "outputs": [],
   "source": [
    "agg = agg.drop(agg.loc[agg.Accurate_Episode_Date < '2020-01-01'].index)"
   ]
  },
  {
   "cell_type": "code",
   "execution_count": 26,
   "id": "f7661762",
   "metadata": {
    "hidden": true
   },
   "outputs": [
    {
     "data": {
      "text/html": [
       "<div>\n",
       "<style scoped>\n",
       "    .dataframe tbody tr th:only-of-type {\n",
       "        vertical-align: middle;\n",
       "    }\n",
       "\n",
       "    .dataframe tbody tr th {\n",
       "        vertical-align: top;\n",
       "    }\n",
       "\n",
       "    .dataframe thead th {\n",
       "        text-align: right;\n",
       "    }\n",
       "</style>\n",
       "<table border=\"1\" class=\"dataframe\">\n",
       "  <thead>\n",
       "    <tr style=\"text-align: right;\">\n",
       "      <th></th>\n",
       "      <th>Accurate_Episode_Date</th>\n",
       "      <th>Row_ID</th>\n",
       "    </tr>\n",
       "  </thead>\n",
       "  <tbody>\n",
       "    <tr>\n",
       "      <th>10</th>\n",
       "      <td>2020-01-01</td>\n",
       "      <td>2</td>\n",
       "    </tr>\n",
       "    <tr>\n",
       "      <th>11</th>\n",
       "      <td>2020-01-10</td>\n",
       "      <td>1</td>\n",
       "    </tr>\n",
       "    <tr>\n",
       "      <th>12</th>\n",
       "      <td>2020-01-16</td>\n",
       "      <td>1</td>\n",
       "    </tr>\n",
       "    <tr>\n",
       "      <th>13</th>\n",
       "      <td>2020-01-21</td>\n",
       "      <td>1</td>\n",
       "    </tr>\n",
       "    <tr>\n",
       "      <th>14</th>\n",
       "      <td>2020-01-22</td>\n",
       "      <td>2</td>\n",
       "    </tr>\n",
       "  </tbody>\n",
       "</table>\n",
       "</div>"
      ],
      "text/plain": [
       "   Accurate_Episode_Date  Row_ID\n",
       "10            2020-01-01       2\n",
       "11            2020-01-10       1\n",
       "12            2020-01-16       1\n",
       "13            2020-01-21       1\n",
       "14            2020-01-22       2"
      ]
     },
     "execution_count": 26,
     "metadata": {},
     "output_type": "execute_result"
    }
   ],
   "source": [
    "agg.head()"
   ]
  },
  {
   "cell_type": "code",
   "execution_count": 27,
   "id": "018bc5d3",
   "metadata": {
    "hidden": true
   },
   "outputs": [],
   "source": [
    "agg['t-1'] = agg['Row_ID'].shift(1)\n",
    "agg['t-2'] = agg['Row_ID'].shift(2)\n",
    "agg['t-3'] = agg['Row_ID'].shift(3)\n",
    "agg['t-4'] = agg['Row_ID'].shift(4)\n",
    "agg['t-5'] = agg['Row_ID'].shift(5)\n",
    "agg['t-6'] = agg['Row_ID'].shift(6)\n",
    "agg['t-7'] = agg['Row_ID'].shift(7)\n",
    "agg['t'] = agg['Row_ID']"
   ]
  },
  {
   "cell_type": "code",
   "execution_count": 28,
   "id": "a9e25e54",
   "metadata": {
    "hidden": true
   },
   "outputs": [
    {
     "data": {
      "text/html": [
       "<div>\n",
       "<style scoped>\n",
       "    .dataframe tbody tr th:only-of-type {\n",
       "        vertical-align: middle;\n",
       "    }\n",
       "\n",
       "    .dataframe tbody tr th {\n",
       "        vertical-align: top;\n",
       "    }\n",
       "\n",
       "    .dataframe thead th {\n",
       "        text-align: right;\n",
       "    }\n",
       "</style>\n",
       "<table border=\"1\" class=\"dataframe\">\n",
       "  <thead>\n",
       "    <tr style=\"text-align: right;\">\n",
       "      <th></th>\n",
       "      <th>Accurate_Episode_Date</th>\n",
       "      <th>Row_ID</th>\n",
       "      <th>t-1</th>\n",
       "      <th>t-2</th>\n",
       "      <th>t-3</th>\n",
       "      <th>t-4</th>\n",
       "      <th>t-5</th>\n",
       "      <th>t-6</th>\n",
       "      <th>t-7</th>\n",
       "      <th>t</th>\n",
       "    </tr>\n",
       "  </thead>\n",
       "  <tbody>\n",
       "    <tr>\n",
       "      <th>10</th>\n",
       "      <td>2020-01-01</td>\n",
       "      <td>2</td>\n",
       "      <td>NaN</td>\n",
       "      <td>NaN</td>\n",
       "      <td>NaN</td>\n",
       "      <td>NaN</td>\n",
       "      <td>NaN</td>\n",
       "      <td>NaN</td>\n",
       "      <td>NaN</td>\n",
       "      <td>2</td>\n",
       "    </tr>\n",
       "    <tr>\n",
       "      <th>11</th>\n",
       "      <td>2020-01-10</td>\n",
       "      <td>1</td>\n",
       "      <td>2.0</td>\n",
       "      <td>NaN</td>\n",
       "      <td>NaN</td>\n",
       "      <td>NaN</td>\n",
       "      <td>NaN</td>\n",
       "      <td>NaN</td>\n",
       "      <td>NaN</td>\n",
       "      <td>1</td>\n",
       "    </tr>\n",
       "    <tr>\n",
       "      <th>12</th>\n",
       "      <td>2020-01-16</td>\n",
       "      <td>1</td>\n",
       "      <td>1.0</td>\n",
       "      <td>2.0</td>\n",
       "      <td>NaN</td>\n",
       "      <td>NaN</td>\n",
       "      <td>NaN</td>\n",
       "      <td>NaN</td>\n",
       "      <td>NaN</td>\n",
       "      <td>1</td>\n",
       "    </tr>\n",
       "    <tr>\n",
       "      <th>13</th>\n",
       "      <td>2020-01-21</td>\n",
       "      <td>1</td>\n",
       "      <td>1.0</td>\n",
       "      <td>1.0</td>\n",
       "      <td>2.0</td>\n",
       "      <td>NaN</td>\n",
       "      <td>NaN</td>\n",
       "      <td>NaN</td>\n",
       "      <td>NaN</td>\n",
       "      <td>1</td>\n",
       "    </tr>\n",
       "    <tr>\n",
       "      <th>14</th>\n",
       "      <td>2020-01-22</td>\n",
       "      <td>2</td>\n",
       "      <td>1.0</td>\n",
       "      <td>1.0</td>\n",
       "      <td>1.0</td>\n",
       "      <td>2.0</td>\n",
       "      <td>NaN</td>\n",
       "      <td>NaN</td>\n",
       "      <td>NaN</td>\n",
       "      <td>2</td>\n",
       "    </tr>\n",
       "    <tr>\n",
       "      <th>15</th>\n",
       "      <td>2020-01-24</td>\n",
       "      <td>1</td>\n",
       "      <td>2.0</td>\n",
       "      <td>1.0</td>\n",
       "      <td>1.0</td>\n",
       "      <td>1.0</td>\n",
       "      <td>2.0</td>\n",
       "      <td>NaN</td>\n",
       "      <td>NaN</td>\n",
       "      <td>1</td>\n",
       "    </tr>\n",
       "    <tr>\n",
       "      <th>16</th>\n",
       "      <td>2020-01-25</td>\n",
       "      <td>1</td>\n",
       "      <td>1.0</td>\n",
       "      <td>2.0</td>\n",
       "      <td>1.0</td>\n",
       "      <td>1.0</td>\n",
       "      <td>1.0</td>\n",
       "      <td>2.0</td>\n",
       "      <td>NaN</td>\n",
       "      <td>1</td>\n",
       "    </tr>\n",
       "    <tr>\n",
       "      <th>17</th>\n",
       "      <td>2020-01-27</td>\n",
       "      <td>1</td>\n",
       "      <td>1.0</td>\n",
       "      <td>1.0</td>\n",
       "      <td>2.0</td>\n",
       "      <td>1.0</td>\n",
       "      <td>1.0</td>\n",
       "      <td>1.0</td>\n",
       "      <td>2.0</td>\n",
       "      <td>1</td>\n",
       "    </tr>\n",
       "    <tr>\n",
       "      <th>18</th>\n",
       "      <td>2020-01-29</td>\n",
       "      <td>1</td>\n",
       "      <td>1.0</td>\n",
       "      <td>1.0</td>\n",
       "      <td>1.0</td>\n",
       "      <td>2.0</td>\n",
       "      <td>1.0</td>\n",
       "      <td>1.0</td>\n",
       "      <td>1.0</td>\n",
       "      <td>1</td>\n",
       "    </tr>\n",
       "    <tr>\n",
       "      <th>19</th>\n",
       "      <td>2020-01-31</td>\n",
       "      <td>1</td>\n",
       "      <td>1.0</td>\n",
       "      <td>1.0</td>\n",
       "      <td>1.0</td>\n",
       "      <td>1.0</td>\n",
       "      <td>2.0</td>\n",
       "      <td>1.0</td>\n",
       "      <td>1.0</td>\n",
       "      <td>1</td>\n",
       "    </tr>\n",
       "    <tr>\n",
       "      <th>20</th>\n",
       "      <td>2020-02-01</td>\n",
       "      <td>1</td>\n",
       "      <td>1.0</td>\n",
       "      <td>1.0</td>\n",
       "      <td>1.0</td>\n",
       "      <td>1.0</td>\n",
       "      <td>1.0</td>\n",
       "      <td>2.0</td>\n",
       "      <td>1.0</td>\n",
       "      <td>1</td>\n",
       "    </tr>\n",
       "    <tr>\n",
       "      <th>21</th>\n",
       "      <td>2020-02-02</td>\n",
       "      <td>1</td>\n",
       "      <td>1.0</td>\n",
       "      <td>1.0</td>\n",
       "      <td>1.0</td>\n",
       "      <td>1.0</td>\n",
       "      <td>1.0</td>\n",
       "      <td>1.0</td>\n",
       "      <td>2.0</td>\n",
       "      <td>1</td>\n",
       "    </tr>\n",
       "    <tr>\n",
       "      <th>22</th>\n",
       "      <td>2020-02-05</td>\n",
       "      <td>2</td>\n",
       "      <td>1.0</td>\n",
       "      <td>1.0</td>\n",
       "      <td>1.0</td>\n",
       "      <td>1.0</td>\n",
       "      <td>1.0</td>\n",
       "      <td>1.0</td>\n",
       "      <td>1.0</td>\n",
       "      <td>2</td>\n",
       "    </tr>\n",
       "    <tr>\n",
       "      <th>23</th>\n",
       "      <td>2020-02-10</td>\n",
       "      <td>2</td>\n",
       "      <td>2.0</td>\n",
       "      <td>1.0</td>\n",
       "      <td>1.0</td>\n",
       "      <td>1.0</td>\n",
       "      <td>1.0</td>\n",
       "      <td>1.0</td>\n",
       "      <td>1.0</td>\n",
       "      <td>2</td>\n",
       "    </tr>\n",
       "  </tbody>\n",
       "</table>\n",
       "</div>"
      ],
      "text/plain": [
       "   Accurate_Episode_Date  Row_ID  t-1  t-2  t-3  t-4  t-5  t-6  t-7  t\n",
       "10            2020-01-01       2  NaN  NaN  NaN  NaN  NaN  NaN  NaN  2\n",
       "11            2020-01-10       1  2.0  NaN  NaN  NaN  NaN  NaN  NaN  1\n",
       "12            2020-01-16       1  1.0  2.0  NaN  NaN  NaN  NaN  NaN  1\n",
       "13            2020-01-21       1  1.0  1.0  2.0  NaN  NaN  NaN  NaN  1\n",
       "14            2020-01-22       2  1.0  1.0  1.0  2.0  NaN  NaN  NaN  2\n",
       "15            2020-01-24       1  2.0  1.0  1.0  1.0  2.0  NaN  NaN  1\n",
       "16            2020-01-25       1  1.0  2.0  1.0  1.0  1.0  2.0  NaN  1\n",
       "17            2020-01-27       1  1.0  1.0  2.0  1.0  1.0  1.0  2.0  1\n",
       "18            2020-01-29       1  1.0  1.0  1.0  2.0  1.0  1.0  1.0  1\n",
       "19            2020-01-31       1  1.0  1.0  1.0  1.0  2.0  1.0  1.0  1\n",
       "20            2020-02-01       1  1.0  1.0  1.0  1.0  1.0  2.0  1.0  1\n",
       "21            2020-02-02       1  1.0  1.0  1.0  1.0  1.0  1.0  2.0  1\n",
       "22            2020-02-05       2  1.0  1.0  1.0  1.0  1.0  1.0  1.0  2\n",
       "23            2020-02-10       2  2.0  1.0  1.0  1.0  1.0  1.0  1.0  2"
      ]
     },
     "execution_count": 28,
     "metadata": {},
     "output_type": "execute_result"
    }
   ],
   "source": [
    "agg.head(14)"
   ]
  },
  {
   "cell_type": "code",
   "execution_count": 29,
   "id": "24ddc7c8",
   "metadata": {
    "hidden": true
   },
   "outputs": [],
   "source": [
    "agg.dropna(how='any',inplace=True)"
   ]
  },
  {
   "cell_type": "code",
   "execution_count": 30,
   "id": "fa915e8e",
   "metadata": {
    "hidden": true
   },
   "outputs": [
    {
     "data": {
      "text/html": [
       "<div>\n",
       "<style scoped>\n",
       "    .dataframe tbody tr th:only-of-type {\n",
       "        vertical-align: middle;\n",
       "    }\n",
       "\n",
       "    .dataframe tbody tr th {\n",
       "        vertical-align: top;\n",
       "    }\n",
       "\n",
       "    .dataframe thead th {\n",
       "        text-align: right;\n",
       "    }\n",
       "</style>\n",
       "<table border=\"1\" class=\"dataframe\">\n",
       "  <thead>\n",
       "    <tr style=\"text-align: right;\">\n",
       "      <th></th>\n",
       "      <th>Accurate_Episode_Date</th>\n",
       "      <th>Row_ID</th>\n",
       "      <th>t-1</th>\n",
       "      <th>t-2</th>\n",
       "      <th>t-3</th>\n",
       "      <th>t-4</th>\n",
       "      <th>t-5</th>\n",
       "      <th>t-6</th>\n",
       "      <th>t-7</th>\n",
       "      <th>t</th>\n",
       "    </tr>\n",
       "  </thead>\n",
       "  <tbody>\n",
       "    <tr>\n",
       "      <th>17</th>\n",
       "      <td>2020-01-27</td>\n",
       "      <td>1</td>\n",
       "      <td>1.0</td>\n",
       "      <td>1.0</td>\n",
       "      <td>2.0</td>\n",
       "      <td>1.0</td>\n",
       "      <td>1.0</td>\n",
       "      <td>1.0</td>\n",
       "      <td>2.0</td>\n",
       "      <td>1</td>\n",
       "    </tr>\n",
       "    <tr>\n",
       "      <th>18</th>\n",
       "      <td>2020-01-29</td>\n",
       "      <td>1</td>\n",
       "      <td>1.0</td>\n",
       "      <td>1.0</td>\n",
       "      <td>1.0</td>\n",
       "      <td>2.0</td>\n",
       "      <td>1.0</td>\n",
       "      <td>1.0</td>\n",
       "      <td>1.0</td>\n",
       "      <td>1</td>\n",
       "    </tr>\n",
       "    <tr>\n",
       "      <th>19</th>\n",
       "      <td>2020-01-31</td>\n",
       "      <td>1</td>\n",
       "      <td>1.0</td>\n",
       "      <td>1.0</td>\n",
       "      <td>1.0</td>\n",
       "      <td>1.0</td>\n",
       "      <td>2.0</td>\n",
       "      <td>1.0</td>\n",
       "      <td>1.0</td>\n",
       "      <td>1</td>\n",
       "    </tr>\n",
       "    <tr>\n",
       "      <th>20</th>\n",
       "      <td>2020-02-01</td>\n",
       "      <td>1</td>\n",
       "      <td>1.0</td>\n",
       "      <td>1.0</td>\n",
       "      <td>1.0</td>\n",
       "      <td>1.0</td>\n",
       "      <td>1.0</td>\n",
       "      <td>2.0</td>\n",
       "      <td>1.0</td>\n",
       "      <td>1</td>\n",
       "    </tr>\n",
       "    <tr>\n",
       "      <th>21</th>\n",
       "      <td>2020-02-02</td>\n",
       "      <td>1</td>\n",
       "      <td>1.0</td>\n",
       "      <td>1.0</td>\n",
       "      <td>1.0</td>\n",
       "      <td>1.0</td>\n",
       "      <td>1.0</td>\n",
       "      <td>1.0</td>\n",
       "      <td>2.0</td>\n",
       "      <td>1</td>\n",
       "    </tr>\n",
       "  </tbody>\n",
       "</table>\n",
       "</div>"
      ],
      "text/plain": [
       "   Accurate_Episode_Date  Row_ID  t-1  t-2  t-3  t-4  t-5  t-6  t-7  t\n",
       "17            2020-01-27       1  1.0  1.0  2.0  1.0  1.0  1.0  2.0  1\n",
       "18            2020-01-29       1  1.0  1.0  1.0  2.0  1.0  1.0  1.0  1\n",
       "19            2020-01-31       1  1.0  1.0  1.0  1.0  2.0  1.0  1.0  1\n",
       "20            2020-02-01       1  1.0  1.0  1.0  1.0  1.0  2.0  1.0  1\n",
       "21            2020-02-02       1  1.0  1.0  1.0  1.0  1.0  1.0  2.0  1"
      ]
     },
     "execution_count": 30,
     "metadata": {},
     "output_type": "execute_result"
    }
   ],
   "source": [
    "agg.head()"
   ]
  },
  {
   "cell_type": "code",
   "execution_count": 31,
   "id": "6a14caf2",
   "metadata": {
    "hidden": true
   },
   "outputs": [
    {
     "data": {
      "text/html": [
       "<div>\n",
       "<style scoped>\n",
       "    .dataframe tbody tr th:only-of-type {\n",
       "        vertical-align: middle;\n",
       "    }\n",
       "\n",
       "    .dataframe tbody tr th {\n",
       "        vertical-align: top;\n",
       "    }\n",
       "\n",
       "    .dataframe thead th {\n",
       "        text-align: right;\n",
       "    }\n",
       "</style>\n",
       "<table border=\"1\" class=\"dataframe\">\n",
       "  <thead>\n",
       "    <tr style=\"text-align: right;\">\n",
       "      <th></th>\n",
       "      <th>Accurate_Episode_Date</th>\n",
       "      <th>Row_ID</th>\n",
       "      <th>t-1</th>\n",
       "      <th>t-2</th>\n",
       "      <th>t-3</th>\n",
       "      <th>t-4</th>\n",
       "      <th>t-5</th>\n",
       "      <th>t-6</th>\n",
       "      <th>t-7</th>\n",
       "      <th>t</th>\n",
       "    </tr>\n",
       "  </thead>\n",
       "  <tbody>\n",
       "    <tr>\n",
       "      <th>1151</th>\n",
       "      <td>2023-03-18</td>\n",
       "      <td>325</td>\n",
       "      <td>411.0</td>\n",
       "      <td>491.0</td>\n",
       "      <td>512.0</td>\n",
       "      <td>538.0</td>\n",
       "      <td>648.0</td>\n",
       "      <td>308.0</td>\n",
       "      <td>408.0</td>\n",
       "      <td>325</td>\n",
       "    </tr>\n",
       "    <tr>\n",
       "      <th>1152</th>\n",
       "      <td>2023-03-19</td>\n",
       "      <td>336</td>\n",
       "      <td>325.0</td>\n",
       "      <td>411.0</td>\n",
       "      <td>491.0</td>\n",
       "      <td>512.0</td>\n",
       "      <td>538.0</td>\n",
       "      <td>648.0</td>\n",
       "      <td>308.0</td>\n",
       "      <td>336</td>\n",
       "    </tr>\n",
       "    <tr>\n",
       "      <th>1153</th>\n",
       "      <td>2023-03-20</td>\n",
       "      <td>518</td>\n",
       "      <td>336.0</td>\n",
       "      <td>325.0</td>\n",
       "      <td>411.0</td>\n",
       "      <td>491.0</td>\n",
       "      <td>512.0</td>\n",
       "      <td>538.0</td>\n",
       "      <td>648.0</td>\n",
       "      <td>518</td>\n",
       "    </tr>\n",
       "    <tr>\n",
       "      <th>1154</th>\n",
       "      <td>2023-03-21</td>\n",
       "      <td>306</td>\n",
       "      <td>518.0</td>\n",
       "      <td>336.0</td>\n",
       "      <td>325.0</td>\n",
       "      <td>411.0</td>\n",
       "      <td>491.0</td>\n",
       "      <td>512.0</td>\n",
       "      <td>538.0</td>\n",
       "      <td>306</td>\n",
       "    </tr>\n",
       "    <tr>\n",
       "      <th>1155</th>\n",
       "      <td>2023-03-22</td>\n",
       "      <td>21</td>\n",
       "      <td>306.0</td>\n",
       "      <td>518.0</td>\n",
       "      <td>336.0</td>\n",
       "      <td>325.0</td>\n",
       "      <td>411.0</td>\n",
       "      <td>491.0</td>\n",
       "      <td>512.0</td>\n",
       "      <td>21</td>\n",
       "    </tr>\n",
       "  </tbody>\n",
       "</table>\n",
       "</div>"
      ],
      "text/plain": [
       "     Accurate_Episode_Date  Row_ID    t-1    t-2    t-3    t-4    t-5    t-6  \\\n",
       "1151            2023-03-18     325  411.0  491.0  512.0  538.0  648.0  308.0   \n",
       "1152            2023-03-19     336  325.0  411.0  491.0  512.0  538.0  648.0   \n",
       "1153            2023-03-20     518  336.0  325.0  411.0  491.0  512.0  538.0   \n",
       "1154            2023-03-21     306  518.0  336.0  325.0  411.0  491.0  512.0   \n",
       "1155            2023-03-22      21  306.0  518.0  336.0  325.0  411.0  491.0   \n",
       "\n",
       "        t-7    t  \n",
       "1151  408.0  325  \n",
       "1152  308.0  336  \n",
       "1153  648.0  518  \n",
       "1154  538.0  306  \n",
       "1155  512.0   21  "
      ]
     },
     "execution_count": 31,
     "metadata": {},
     "output_type": "execute_result"
    }
   ],
   "source": [
    "agg.tail()"
   ]
  },
  {
   "cell_type": "code",
   "execution_count": 32,
   "id": "7b81cbd1",
   "metadata": {
    "hidden": true
   },
   "outputs": [],
   "source": [
    "x = agg[['t-1','t-2','t-3','t-4','t-5','t-6','t-7']]\n",
    "y = agg['t']\n",
    "\n",
    "test_size = 0.3\n",
    "dataset_size = len(agg)\n",
    "test_index = int(test_size * dataset_size)\n",
    "\n",
    "\n",
    "x_train, x_test, y_train, y_test = x[:test_index], x[test_index:], y[:test_index], y[test_index:]"
   ]
  },
  {
   "cell_type": "code",
   "execution_count": 33,
   "id": "b44e6582",
   "metadata": {
    "hidden": true
   },
   "outputs": [
    {
     "data": {
      "text/plain": [
       "(1139, 7)"
      ]
     },
     "execution_count": 33,
     "metadata": {},
     "output_type": "execute_result"
    }
   ],
   "source": [
    "x.shape"
   ]
  },
  {
   "cell_type": "code",
   "execution_count": 34,
   "id": "937069d7",
   "metadata": {
    "hidden": true
   },
   "outputs": [
    {
     "data": {
      "text/plain": [
       "(1139,)"
      ]
     },
     "execution_count": 34,
     "metadata": {},
     "output_type": "execute_result"
    }
   ],
   "source": [
    "y.shape"
   ]
  },
  {
   "cell_type": "code",
   "execution_count": 35,
   "id": "43c772e6",
   "metadata": {
    "hidden": true
   },
   "outputs": [
    {
     "data": {
      "text/html": [
       "<div>\n",
       "<style scoped>\n",
       "    .dataframe tbody tr th:only-of-type {\n",
       "        vertical-align: middle;\n",
       "    }\n",
       "\n",
       "    .dataframe tbody tr th {\n",
       "        vertical-align: top;\n",
       "    }\n",
       "\n",
       "    .dataframe thead th {\n",
       "        text-align: right;\n",
       "    }\n",
       "</style>\n",
       "<table border=\"1\" class=\"dataframe\">\n",
       "  <thead>\n",
       "    <tr style=\"text-align: right;\">\n",
       "      <th></th>\n",
       "      <th>t-1</th>\n",
       "      <th>t-2</th>\n",
       "      <th>t-3</th>\n",
       "      <th>t-4</th>\n",
       "      <th>t-5</th>\n",
       "      <th>t-6</th>\n",
       "      <th>t-7</th>\n",
       "    </tr>\n",
       "  </thead>\n",
       "  <tbody>\n",
       "    <tr>\n",
       "      <th>17</th>\n",
       "      <td>1.0</td>\n",
       "      <td>1.0</td>\n",
       "      <td>2.0</td>\n",
       "      <td>1.0</td>\n",
       "      <td>1.0</td>\n",
       "      <td>1.0</td>\n",
       "      <td>2.0</td>\n",
       "    </tr>\n",
       "    <tr>\n",
       "      <th>18</th>\n",
       "      <td>1.0</td>\n",
       "      <td>1.0</td>\n",
       "      <td>1.0</td>\n",
       "      <td>2.0</td>\n",
       "      <td>1.0</td>\n",
       "      <td>1.0</td>\n",
       "      <td>1.0</td>\n",
       "    </tr>\n",
       "    <tr>\n",
       "      <th>19</th>\n",
       "      <td>1.0</td>\n",
       "      <td>1.0</td>\n",
       "      <td>1.0</td>\n",
       "      <td>1.0</td>\n",
       "      <td>2.0</td>\n",
       "      <td>1.0</td>\n",
       "      <td>1.0</td>\n",
       "    </tr>\n",
       "    <tr>\n",
       "      <th>20</th>\n",
       "      <td>1.0</td>\n",
       "      <td>1.0</td>\n",
       "      <td>1.0</td>\n",
       "      <td>1.0</td>\n",
       "      <td>1.0</td>\n",
       "      <td>2.0</td>\n",
       "      <td>1.0</td>\n",
       "    </tr>\n",
       "    <tr>\n",
       "      <th>21</th>\n",
       "      <td>1.0</td>\n",
       "      <td>1.0</td>\n",
       "      <td>1.0</td>\n",
       "      <td>1.0</td>\n",
       "      <td>1.0</td>\n",
       "      <td>1.0</td>\n",
       "      <td>2.0</td>\n",
       "    </tr>\n",
       "  </tbody>\n",
       "</table>\n",
       "</div>"
      ],
      "text/plain": [
       "    t-1  t-2  t-3  t-4  t-5  t-6  t-7\n",
       "17  1.0  1.0  2.0  1.0  1.0  1.0  2.0\n",
       "18  1.0  1.0  1.0  2.0  1.0  1.0  1.0\n",
       "19  1.0  1.0  1.0  1.0  2.0  1.0  1.0\n",
       "20  1.0  1.0  1.0  1.0  1.0  2.0  1.0\n",
       "21  1.0  1.0  1.0  1.0  1.0  1.0  2.0"
      ]
     },
     "execution_count": 35,
     "metadata": {},
     "output_type": "execute_result"
    }
   ],
   "source": [
    "x_train.head()"
   ]
  },
  {
   "cell_type": "code",
   "execution_count": 36,
   "id": "7c794d2e",
   "metadata": {
    "hidden": true
   },
   "outputs": [
    {
     "data": {
      "text/plain": [
       "17    1\n",
       "18    1\n",
       "19    1\n",
       "20    1\n",
       "21    1\n",
       "Name: t, dtype: int64"
      ]
     },
     "execution_count": 36,
     "metadata": {},
     "output_type": "execute_result"
    }
   ],
   "source": [
    "y_train.head()"
   ]
  },
  {
   "cell_type": "markdown",
   "id": "042e874e",
   "metadata": {
    "heading_collapsed": true
   },
   "source": [
    "## Modelling and Evaluation"
   ]
  },
  {
   "cell_type": "markdown",
   "id": "3eb13c52",
   "metadata": {
    "hidden": true
   },
   "source": [
    "<div style=\"padding: 10px; border: 2px black solid;\">\n",
    "\n",
    "## <font color='green'>New Tool Alert:</font> Scikit-Learn\n",
    "\n",
    "<img src=\"https://upload.wikimedia.org/wikipedia/commons/thumb/0/05/Scikit_learn_logo_small.svg/1200px-Scikit_learn_logo_small.svg.png\" alt=\"Sklearn\" style=\"height: 200px;\"/>\n",
    "\n",
    "**What is it**: Scikit-Learn is a python library for machine learning. \n",
    "\n",
    "**Why use it**:  It has various classification, regression and clustering algorithms and is designed to run efficiently. \n",
    "\n",
    "**Download**: Install it by using pip ```pip install sklearn```\n",
    "\n",
    "**Resources**: Library cheat sheet [here](https://d1jnx9ba8s6j9r.cloudfront.net/blog/wp-content/uploads/2018/09/Python-Cheat-Sheet-for-Scikit-learn-Edureka.pdf?utm_source=blog&utm_medium=cheat-sheet&utm_campaign=Scikit-Cheat-Sheet-28-09-2018-AH). Model selection cheat sheet [here](https://scikit-learn.org/stable/_static/ml_map.png)\n",
    "    \n",
    "</div>"
   ]
  },
  {
   "cell_type": "markdown",
   "id": "ded1a674",
   "metadata": {},
   "source": [
    "Which model to choose [cheat sheet](https://scikit-learn.org/stable/_static/ml_map.png)\n",
    "<img src=\"https://scikit-learn.org/stable/_static/ml_map.png\" />"
   ]
  },
  {
   "cell_type": "code",
   "execution_count": 44,
   "id": "1528cf3b",
   "metadata": {
    "hidden": true
   },
   "outputs": [
    {
     "data": {
      "text/plain": [
       "533.6581453634085"
      ]
     },
     "execution_count": 44,
     "metadata": {},
     "output_type": "execute_result"
    }
   ],
   "source": [
    "from sklearn.ensemble import RandomForestRegressor\n",
    "from sklearn.metrics import mean_absolute_error\n",
    "\n",
    "\n",
    "regr = RandomForestRegressor()\n",
    "regr.fit(x_train,y_train)\n",
    "y_pred = regr.predict(x_test)\n",
    "mean_absolute_error(y_test,y_pred)"
   ]
  },
  {
   "cell_type": "code",
   "execution_count": 45,
   "id": "b8782128",
   "metadata": {
    "hidden": true
   },
   "outputs": [
    {
     "data": {
      "text/plain": [
       "286.8510875055125"
      ]
     },
     "execution_count": 45,
     "metadata": {},
     "output_type": "execute_result"
    }
   ],
   "source": [
    "from sklearn.linear_model import LinearRegression\n",
    "\n",
    "regr = LinearRegression()\n",
    "regr.fit(x_train,y_train)\n",
    "y_pred = regr.predict(x_test)\n",
    "mean_absolute_error(y_test,y_pred)"
   ]
  },
  {
   "cell_type": "code",
   "execution_count": 46,
   "id": "7698d237",
   "metadata": {
    "hidden": true
   },
   "outputs": [
    {
     "data": {
      "text/plain": [
       "286.84327586124664"
      ]
     },
     "execution_count": 46,
     "metadata": {},
     "output_type": "execute_result"
    }
   ],
   "source": [
    "from sklearn.linear_model import Lasso\n",
    "\n",
    "regr = Lasso()\n",
    "regr.fit(x_train,y_train)\n",
    "y_pred = regr.predict(x_test)\n",
    "mean_absolute_error(y_test,y_pred)"
   ]
  },
  {
   "cell_type": "code",
   "execution_count": 47,
   "id": "1f0a8144",
   "metadata": {
    "hidden": true
   },
   "outputs": [
    {
     "data": {
      "text/plain": [
       "286.85108437524536"
      ]
     },
     "execution_count": 47,
     "metadata": {},
     "output_type": "execute_result"
    }
   ],
   "source": [
    "from sklearn.linear_model import Ridge\n",
    "\n",
    "regr = Ridge()\n",
    "regr.fit(x_train,y_train)\n",
    "y_pred = regr.predict(x_test)\n",
    "mean_absolute_error(y_test,y_pred)"
   ]
  },
  {
   "cell_type": "code",
   "execution_count": 48,
   "id": "99b26423",
   "metadata": {
    "hidden": true
   },
   "outputs": [
    {
     "data": {
      "text/plain": [
       "1312.2976568229467"
      ]
     },
     "execution_count": 48,
     "metadata": {},
     "output_type": "execute_result"
    }
   ],
   "source": [
    "from sklearn.svm import SVR\n",
    "\n",
    "regr = SVR(kernel='rbf')\n",
    "regr.fit(x_train,y_train)\n",
    "y_pred = regr.predict(x_test)\n",
    "mean_absolute_error(y_test,y_pred)"
   ]
  },
  {
   "cell_type": "markdown",
   "id": "bc936b6c",
   "metadata": {
    "heading_collapsed": true
   },
   "source": [
    "## Deployment"
   ]
  },
  {
   "cell_type": "markdown",
   "id": "2a079547",
   "metadata": {
    "hidden": true
   },
   "source": [
    "<div style=\"padding: 10px; border: 2px black solid;\">\n",
    "\n",
    "## <font color='green'>New Tool Alert:</font> Docker\n",
    "\n",
    "<img src=\"https://logos-world.net/wp-content/uploads/2021/02/Docker-Symbol.png\" alt=\"Sklearn\" style=\"height: 200px;\"/>\n",
    "\n",
    "**What is it**: Containerization tool mainly used for shipping and running applications quickly across different platforms\n",
    "\n",
    "**Why use it**:  Four main advantages:\n",
    "* Isolation: It helps us create an environment agnostic system. Your application runs smoothly on different platforms. This is essentially achieved using containers. \n",
    "* Portability: Since all of your dependencies are in the same container, it’s easy to carry from one place to another giving Docker its portability.\n",
    "* Lightweight: Runs as another application on your system instead of consuming whole lot resources of your system.\n",
    "* Robustness: Less demanding in terms of hardware and needs very little memory as compared to VMs, hence providing efficient isolation levels which help save not only the cost but also time.\n",
    "\n",
    "**Download**: Download it from [here](https://docs.docker.com/get-docker/)\n",
    "\n",
    "**Resources**: Cheat sheet [here](https://www.docker.com/sites/default/files/d8/2019-09/docker-cheat-sheet.pdf)\n",
    "    \n",
    "</div>"
   ]
  },
  {
   "cell_type": "markdown",
   "id": "ba05f64a",
   "metadata": {
    "hidden": true
   },
   "source": [
    "Now that you have a model you have to figure out how you want to present the results and deploy it into production. This could be in the form of a visualization in tableau or powerbi, it could be in the form of an email to your boss that gets sent every day, the numbers itself could be displayed live on a site or so much more. "
   ]
  },
  {
   "cell_type": "markdown",
   "id": "0f91ea58",
   "metadata": {
    "hidden": true
   },
   "source": [
    "Depending on the use case, it may make sense to deploy the model into the cloud and let it run there automatically. Below I will introduce a few more tools for you to be aware of"
   ]
  },
  {
   "cell_type": "markdown",
   "id": "5256e711",
   "metadata": {
    "hidden": true
   },
   "source": [
    "You can see that there in the deploy folder, key aspects of the code have been moved over to a ```deploy.py``` foldere. Furthermore there is a new file called a ```Dockerfile``` that specifies the instructions for running the deploy file. If you have docker installed locally, you can try to build the image using the ```docker build -t dstools:1.0 .``` command and then run it using ```docker run dstools:1.0``` "
   ]
  },
  {
   "cell_type": "markdown",
   "id": "a943fd6e",
   "metadata": {
    "hidden": true
   },
   "source": [
    "This docker folder can now be run on the cloud, someone else's computer or anywhere that has docker installed. If you want to deploy your own model, you can use a cloud infrastructure provider such as AWS, GCP, or Azure or use a platform as a service provider such as Heroku."
   ]
  }
 ],
 "metadata": {
  "kernelspec": {
   "display_name": "Python 3 (ipykernel)",
   "language": "python",
   "name": "python3"
  },
  "language_info": {
   "codemirror_mode": {
    "name": "ipython",
    "version": 3
   },
   "file_extension": ".py",
   "mimetype": "text/x-python",
   "name": "python",
   "nbconvert_exporter": "python",
   "pygments_lexer": "ipython3",
   "version": "3.11.0"
  },
  "varInspector": {
   "cols": {
    "lenName": 16,
    "lenType": 16,
    "lenVar": 40
   },
   "kernels_config": {
    "python": {
     "delete_cmd_postfix": "",
     "delete_cmd_prefix": "del ",
     "library": "var_list.py",
     "varRefreshCmd": "print(var_dic_list())"
    },
    "r": {
     "delete_cmd_postfix": ") ",
     "delete_cmd_prefix": "rm(",
     "library": "var_list.r",
     "varRefreshCmd": "cat(var_dic_list()) "
    }
   },
   "types_to_exclude": [
    "module",
    "function",
    "builtin_function_or_method",
    "instance",
    "_Feature"
   ],
   "window_display": false
  }
 },
 "nbformat": 4,
 "nbformat_minor": 5
}
