{
 "cells": [
  {
   "cell_type": "markdown",
   "id": "664d165a",
   "metadata": {},
   "source": [
    "# AI in Production: Data Science Tools"
   ]
  },
  {
   "cell_type": "markdown",
   "id": "130a8c83",
   "metadata": {},
   "source": [
    "This notebook is meant to accompany [these slides](https://docs.google.com/presentation/d/1nVuLd79JPxDpQ4wKsGPNIZJcw6Ocm-gAjJaxtNWAcpk/edit#slide=id.p). Originally prepared for Artificial Intelligence for Public Health (AI4PH) Summer Institute. Intended audience graduate public health students. "
   ]
  },
  {
   "cell_type": "markdown",
   "id": "5f6e8f4a",
   "metadata": {},
   "source": [
    "<img src=\"https://miro.medium.com/max/1838/1*YPsZO50dIiEKpW9RqzqsTw.jpeg\" alt=\"Data Science\" style=\"height: 300px;\"/>"
   ]
  },
  {
   "cell_type": "markdown",
   "id": "b568ecaa",
   "metadata": {},
   "source": [
    "## Environment Set Up"
   ]
  },
  {
   "cell_type": "markdown",
   "id": "82c5226f",
   "metadata": {},
   "source": [
    "<div style=\"padding: 10px; border: 2px black solid;\">\n",
    "\n",
    "## <font color='green'>New Tool Alert:</font> Anaconda\n",
    "    \n",
    "<img src=\"https://upload.wikimedia.org/wikipedia/en/thumb/c/cd/Anaconda_Logo.png/440px-Anaconda_Logo.png\" alt=\"Anaconda Logo\" style=\"height: 100px;\"/>\n",
    "\n",
    "**What is it**: Anaconda is a distribution of the Python and R programming languages for scientific computing, that aims to simplify package management and deployment. The distribution includes data-science packages suitable for Windows, Linux, and macOS.\n",
    "\n",
    "**Why use it**: Anaconda lets you easily create and manage various environment with isolated dependencies.\n",
    " \n",
    "**Download**: Download from [here](https://www.anaconda.com/products/individual)\n",
    "    \n",
    "**Resources**: Conda cheat sheet [here](https://docs.conda.io/projects/conda/en/4.6.0/_downloads/52a95608c49671267e40c689e0bc00ca/conda-cheatsheet.pdf)\n",
    "    \n",
    "</div>"
   ]
  },
  {
   "cell_type": "markdown",
   "id": "222a0da9",
   "metadata": {},
   "source": [
    "### Setting Up Anaconda Environment and Installing Jupyter Notebooks"
   ]
  },
  {
   "cell_type": "markdown",
   "id": "df9184cb",
   "metadata": {},
   "source": [
    "After installing anaconda, open up your command prompt or terminal window"
   ]
  },
  {
   "cell_type": "markdown",
   "id": "c1fd2785",
   "metadata": {},
   "source": [
    "Create a new environment\n",
    "```\n",
    "conda create --name dstools\n",
    "\n",
    "```"
   ]
  },
  {
   "cell_type": "markdown",
   "id": "3ed8fc25",
   "metadata": {},
   "source": [
    "To see if the command worked and list all your environments run\n",
    "```\n",
    "conda env list\n",
    "```"
   ]
  },
  {
   "cell_type": "markdown",
   "id": "d43116b3",
   "metadata": {},
   "source": [
    "<img src=\"./list.png\" alt=\"Image Info\" style=\"height: 300px;\"/>"
   ]
  },
  {
   "cell_type": "markdown",
   "id": "faf18ac3",
   "metadata": {},
   "source": [
    "Now activate the environment by running\n",
    "```\n",
    "conda activate dstools\n",
    "```"
   ]
  },
  {
   "cell_type": "markdown",
   "id": "6b5f6e29",
   "metadata": {},
   "source": [
    "Finally install jupyter notebooks\n",
    "```\n",
    "conda install jupyter notebook\n",
    "```"
   ]
  },
  {
   "cell_type": "markdown",
   "id": "361aeaf5",
   "metadata": {},
   "source": [
    "Now lunch jupyter notebook by typing\n",
    "```\n",
    "jupyter notebook\n",
    "```"
   ]
  },
  {
   "cell_type": "markdown",
   "id": "dd33e43e",
   "metadata": {},
   "source": [
    "<div style=\"padding: 10px; border: 2px black solid;\">\n",
    "\n",
    "## <font color='green'>New Tool Alert:</font> Jupyter Notebook\n",
    "    \n",
    "<img src=\"https://www.dataquest.io/wp-content/uploads/2019/01/1-LPnY8nOLg4S6_TG0DEXwsg-1.png\" alt=\"Jupyter Logo\" style=\"height: 300px;\"/>\n",
    "\n",
    "**What is it**: A Jupyter notebook is a document that supports mixing executable code, equations, visualizations, and narrative text. Specifically, Jupyter notebooks allow the user to bring together data, code, and prose, to tell an interactive, computational story. Jupyter notebook is free and open source and supports over 100 programming languages including Python, Java, R, Julia, Matlab, Octave, Scheme, Processing, Scala, and many more\n",
    "\n",
    "**Why use it**: Jupyter is an interactive environment that can be shared with anyone. They can run through the code, collaborate and understand the story by mixing formatted text with the code.\n",
    "\n",
    "**Download**: Install from [here](https://jupyter.org/install)\n",
    "\n",
    "**Resources**: Cheat sheet [here](https://www.edureka.co/blog/wp-content/uploads/2018/10/Jupyter_Notebook_CheatSheet_Edureka.pdf)\n",
    "\n",
    "</div>"
   ]
  },
  {
   "cell_type": "markdown",
   "id": "ffb3487b",
   "metadata": {},
   "source": [
    "This will open a new tab in your default web browser that should look something like the following screenshot."
   ]
  },
  {
   "cell_type": "markdown",
   "id": "3e7b396f",
   "metadata": {},
   "source": [
    "![Jupyter](Jupyter.png)"
   ]
  },
  {
   "cell_type": "markdown",
   "id": "69d9ac00",
   "metadata": {},
   "source": [
    "This is the Notebook Dashboard, specifically designed for managing your Jupyter Notebooks. Think of it as the launchpad for exploring, editing and creating your notebooks."
   ]
  },
  {
   "cell_type": "markdown",
   "id": "b3750e67",
   "metadata": {},
   "source": [
    "You can create a new notebook by clicking New in the top right hand corner"
   ]
  },
  {
   "cell_type": "markdown",
   "id": "a129c826",
   "metadata": {},
   "source": [
    "![Markdown](New.png)"
   ]
  },
  {
   "cell_type": "markdown",
   "id": "08c7c3f9",
   "metadata": {},
   "source": [
    "This lets you create a new notebook. Currently the only option is Python. However if you have other kernels installed (such as R) you would see them here."
   ]
  },
  {
   "cell_type": "markdown",
   "id": "f90e0f97",
   "metadata": {},
   "source": [
    "![Notebook](https://www.dataquest.io/wp-content/uploads/2019/01/new-notebook.jpg)"
   ]
  },
  {
   "cell_type": "markdown",
   "id": "9f5be2de",
   "metadata": {},
   "source": [
    "Once you have opened the notebook, the interface shouldn't be too hard to figure out. There are two new terms you have to learn\n",
    "\n",
    "* Kernels: the engine that executes the code. Could be python, R, or other.\n",
    "* Cells: container for text to be displayed in the notebook or code to be executed by the notebook’s kernel.\n",
    "\n",
    "In each cell, you can either write code to execute or write markdown (text formatting system similiar to HTML). \n",
    "\n",
    "To execute code, you can use the run button in the toolbar, or use the shortcut of `shift + enter` Go ahead and execute the following code block which should print out `Hello AI4PH` by using either the run button or the shortcut keys"
   ]
  },
  {
   "cell_type": "code",
   "execution_count": 1,
   "id": "2481d345",
   "metadata": {},
   "outputs": [
    {
     "name": "stdout",
     "output_type": "stream",
     "text": [
      "Hello AI4PH Two\n"
     ]
    }
   ],
   "source": [
    "print(\"Hello AI4PH Two\")"
   ]
  },
  {
   "cell_type": "markdown",
   "id": "6a0325da",
   "metadata": {},
   "source": [
    "When we run the cell, its output is displayed below and the label to its left will have changed from In [ ] to In [1]. Representing the first code cell being run"
   ]
  },
  {
   "cell_type": "markdown",
   "id": "b8212877",
   "metadata": {},
   "source": [
    "Run the cell again and the label will change to In [2] because now the cell was the second to be run on the kernel. This numbering system makes it clear the order in which your code was run. While it's good practice to clean up your code and make sure it should be run from the top of the page to the bottom, this requirements is not enforced. Which is why this number system is so cruicial. "
   ]
  },
  {
   "cell_type": "code",
   "execution_count": 2,
   "id": "34700ec4",
   "metadata": {
    "scrolled": true
   },
   "outputs": [
    {
     "name": "stdout",
     "output_type": "stream",
     "text": [
      "Requirement already satisfied: bs4 in /Users/farbodabolhassani/opt/anaconda3/envs/dstools/lib/python3.9/site-packages (0.0.1)\n",
      "Requirement already satisfied: beautifulsoup4 in /Users/farbodabolhassani/opt/anaconda3/envs/dstools/lib/python3.9/site-packages (from bs4) (4.9.3)\n",
      "Requirement already satisfied: soupsieve>1.2 in /Users/farbodabolhassani/opt/anaconda3/envs/dstools/lib/python3.9/site-packages (from beautifulsoup4->bs4) (2.2.1)\n",
      "Requirement already satisfied: selenium in /Users/farbodabolhassani/opt/anaconda3/envs/dstools/lib/python3.9/site-packages (3.141.0)\n",
      "Requirement already satisfied: urllib3 in /Users/farbodabolhassani/opt/anaconda3/envs/dstools/lib/python3.9/site-packages (from selenium) (1.26.6)\n",
      "Requirement already satisfied: pandas in /Users/farbodabolhassani/opt/anaconda3/envs/dstools/lib/python3.9/site-packages (1.3.0)\n",
      "Requirement already satisfied: numpy>=1.17.3 in /Users/farbodabolhassani/opt/anaconda3/envs/dstools/lib/python3.9/site-packages (from pandas) (1.21.1)\n",
      "Requirement already satisfied: pytz>=2017.3 in /Users/farbodabolhassani/opt/anaconda3/envs/dstools/lib/python3.9/site-packages (from pandas) (2021.1)\n",
      "Requirement already satisfied: python-dateutil>=2.7.3 in /Users/farbodabolhassani/opt/anaconda3/envs/dstools/lib/python3.9/site-packages (from pandas) (2.8.2)\n",
      "Requirement already satisfied: six>=1.5 in /Users/farbodabolhassani/opt/anaconda3/envs/dstools/lib/python3.9/site-packages (from python-dateutil>=2.7.3->pandas) (1.16.0)\n",
      "Requirement already satisfied: html5lib in /Users/farbodabolhassani/opt/anaconda3/envs/dstools/lib/python3.9/site-packages (1.1)\n",
      "Requirement already satisfied: six>=1.9 in /Users/farbodabolhassani/opt/anaconda3/envs/dstools/lib/python3.9/site-packages (from html5lib) (1.16.0)\n",
      "Requirement already satisfied: webencodings in /Users/farbodabolhassani/opt/anaconda3/envs/dstools/lib/python3.9/site-packages (from html5lib) (0.5.1)\n",
      "Requirement already satisfied: matplotlib in /Users/farbodabolhassani/opt/anaconda3/envs/dstools/lib/python3.9/site-packages (3.4.2)\n",
      "Requirement already satisfied: numpy>=1.16 in /Users/farbodabolhassani/opt/anaconda3/envs/dstools/lib/python3.9/site-packages (from matplotlib) (1.21.1)\n",
      "Requirement already satisfied: kiwisolver>=1.0.1 in /Users/farbodabolhassani/opt/anaconda3/envs/dstools/lib/python3.9/site-packages (from matplotlib) (1.3.1)\n",
      "Requirement already satisfied: pillow>=6.2.0 in /Users/farbodabolhassani/opt/anaconda3/envs/dstools/lib/python3.9/site-packages (from matplotlib) (8.3.1)\n",
      "Requirement already satisfied: cycler>=0.10 in /Users/farbodabolhassani/opt/anaconda3/envs/dstools/lib/python3.9/site-packages (from matplotlib) (0.10.0)\n",
      "Requirement already satisfied: pyparsing>=2.2.1 in /Users/farbodabolhassani/opt/anaconda3/envs/dstools/lib/python3.9/site-packages (from matplotlib) (2.4.7)\n",
      "Requirement already satisfied: python-dateutil>=2.7 in /Users/farbodabolhassani/opt/anaconda3/envs/dstools/lib/python3.9/site-packages (from matplotlib) (2.8.2)\n",
      "Requirement already satisfied: six in /Users/farbodabolhassani/opt/anaconda3/envs/dstools/lib/python3.9/site-packages (from cycler>=0.10->matplotlib) (1.16.0)\n",
      "Requirement already satisfied: sklearn in /Users/farbodabolhassani/opt/anaconda3/envs/dstools/lib/python3.9/site-packages (0.0)\n",
      "Requirement already satisfied: scikit-learn in /Users/farbodabolhassani/opt/anaconda3/envs/dstools/lib/python3.9/site-packages (from sklearn) (0.24.2)\n",
      "Requirement already satisfied: scipy>=0.19.1 in /Users/farbodabolhassani/opt/anaconda3/envs/dstools/lib/python3.9/site-packages (from scikit-learn->sklearn) (1.7.0)\n",
      "Requirement already satisfied: threadpoolctl>=2.0.0 in /Users/farbodabolhassani/opt/anaconda3/envs/dstools/lib/python3.9/site-packages (from scikit-learn->sklearn) (2.2.0)\n",
      "Requirement already satisfied: numpy>=1.13.3 in /Users/farbodabolhassani/opt/anaconda3/envs/dstools/lib/python3.9/site-packages (from scikit-learn->sklearn) (1.21.1)\n",
      "Requirement already satisfied: joblib>=0.11 in /Users/farbodabolhassani/opt/anaconda3/envs/dstools/lib/python3.9/site-packages (from scikit-learn->sklearn) (1.0.1)\n"
     ]
    }
   ],
   "source": [
    "!pip3 install bs4\n",
    "!pip3 install selenium\n",
    "!pip3 install pandas\n",
    "!pip3 install html5lib\n",
    "!pip3 install matplotlib\n",
    "!pip3 install sklearn"
   ]
  },
  {
   "cell_type": "code",
   "execution_count": 3,
   "id": "d0943b99",
   "metadata": {},
   "outputs": [],
   "source": [
    "import pandas as pd"
   ]
  },
  {
   "cell_type": "markdown",
   "id": "19c78b76",
   "metadata": {},
   "source": [
    "If you have git installed on your local computer, you can get the code by cloning from github by running ```git clone https://github.com/farbodab/ds-tools-ai4ph.git```"
   ]
  },
  {
   "cell_type": "markdown",
   "id": "4bbd8601",
   "metadata": {},
   "source": [
    "<div style=\"padding: 10px; border: 2px black solid;\">\n",
    "\n",
    "## <font color='green'>New Tool Alert:</font> Git\n",
    "    \n",
    "<img src=\"https://miro.medium.com/max/910/1*Wjxx83j-qyiNvFBy1yOA1w.jpeg\" alt=\"Git Logo\" style=\"height: 300px;\"/>\n",
    "\n",
    "**What is it**: Git is a software that helps you keep track of changes to files in a folder on your PC. After making some changes to files in this folder, you can “commit” the changes to Git for safe-keeping. These changes could be creating, renaming, deleting a file or subfolder; or editing the content of a file.\n",
    "\n",
    "**Why use it**: Git lets you keep track of changes over time and revert back when needed.\n",
    "\n",
    "**Download**: Install from [here](https://git-scm.com/downloads)\n",
    "\n",
    "**Resources**: Cheat sheet [here](https://i.redd.it/8341g68g1v7y.png)\n",
    "\n",
    "</div>"
   ]
  },
  {
   "cell_type": "markdown",
   "id": "ae58c7fd",
   "metadata": {},
   "source": [
    "<div style=\"padding: 10px; border: 2px black solid;\">\n",
    "\n",
    "## <font color='green'>New Tool Alert:</font> Github\n",
    "    \n",
    "<img src=\"https://github.githubassets.com/images/modules/logos_page/GitHub-Mark.png\" alt=\"Github Logo\" style=\"height: 300px;\"/>\n",
    "\n",
    "**What is it**: Github lets you keep a copy of your local git repositories in the cloud\n",
    "\n",
    "**Why use it**: It lets you share and collaborate with others via Git's version control.\n",
    "\n",
    "**Download**: Create an account [here](https://github.com/)\n",
    "\n",
    "</div>"
   ]
  },
  {
   "cell_type": "markdown",
   "id": "aa4c1f58",
   "metadata": {},
   "source": [
    "## Business Understanding"
   ]
  },
  {
   "cell_type": "markdown",
   "id": "a5221c71",
   "metadata": {},
   "source": [
    "After a number of back and forths meetings with our bosses, we have a fairly good understanding of what they are trying to do.\n",
    "\n",
    "**Problem**: \n",
    "\n",
    "**Business Requirement**: \n",
    "* The health system is looking to use data to plan for capacity and for response planning\n",
    "* Stakeholders are looking for a weekly email to be delivered to them which has the 7 day prediction of COVID-19 cases."
   ]
  },
  {
   "cell_type": "markdown",
   "id": "e2413843",
   "metadata": {},
   "source": [
    "## Analytics Approach"
   ]
  },
  {
   "cell_type": "markdown",
   "id": "f0490264",
   "metadata": {},
   "source": [
    "The nature of the problem is a predictive one. Since the goal is to predict number of cases, then the task at hand is to building, testing and implementing a regression model."
   ]
  },
  {
   "cell_type": "markdown",
   "id": "64aefd22",
   "metadata": {},
   "source": [
    "## Data Requirements"
   ]
  },
  {
   "cell_type": "markdown",
   "id": "1353a4f7",
   "metadata": {},
   "source": [
    "As a starting point, we need data on daily covid cases. We already have a number of different data elements that may improve the predictive power of the proposed model (location of cases, socioeconomic factors tied to geography, age of cases, etc). The process is entirely iterative. "
   ]
  },
  {
   "cell_type": "markdown",
   "id": "66175fe0",
   "metadata": {},
   "source": [
    "## Data Collection"
   ]
  },
  {
   "cell_type": "markdown",
   "id": "7c0f28f4",
   "metadata": {},
   "source": [
    "### Web Scraping"
   ]
  },
  {
   "cell_type": "markdown",
   "id": "e09c2ead",
   "metadata": {},
   "source": [
    "In the beggining of the pandemic, availability of COVID-19 data was sparse. The only source of such data could be found on Ontario Government's website below.\n",
    "![status](./status.png)"
   ]
  },
  {
   "cell_type": "markdown",
   "id": "a11f591e",
   "metadata": {},
   "source": [
    "To extract data from the website we need to scrape the webpage and extract it from the underlying code that renders the website. While data sources have matured over time, web scrapping is a fairly unique and extremely useful skilset to have in your toolbelt when doing public health on the go. "
   ]
  },
  {
   "cell_type": "code",
   "execution_count": 4,
   "id": "22ff830b",
   "metadata": {},
   "outputs": [
    {
     "ename": "SessionNotCreatedException",
     "evalue": "Message: session not created: This version of ChromeDriver only supports Chrome version 91\nCurrent browser version is 99.0.4844.83 with binary path /Applications/Google Chrome.app/Contents/MacOS/Google Chrome\n",
     "output_type": "error",
     "traceback": [
      "\u001b[0;31m---------------------------------------------------------------------------\u001b[0m",
      "\u001b[0;31mSessionNotCreatedException\u001b[0m                Traceback (most recent call last)",
      "\u001b[0;32m<ipython-input-4-08e6f34e91cf>\u001b[0m in \u001b[0;36m<module>\u001b[0;34m\u001b[0m\n\u001b[1;32m      2\u001b[0m \u001b[0;32mfrom\u001b[0m \u001b[0mselenium\u001b[0m\u001b[0;34m.\u001b[0m\u001b[0mwebdriver\u001b[0m\u001b[0;34m.\u001b[0m\u001b[0mcommon\u001b[0m\u001b[0;34m.\u001b[0m\u001b[0mkeys\u001b[0m \u001b[0;32mimport\u001b[0m \u001b[0mKeys\u001b[0m\u001b[0;34m\u001b[0m\u001b[0;34m\u001b[0m\u001b[0m\n\u001b[1;32m      3\u001b[0m \u001b[0;34m\u001b[0m\u001b[0m\n\u001b[0;32m----> 4\u001b[0;31m \u001b[0mdriver\u001b[0m \u001b[0;34m=\u001b[0m \u001b[0mwebdriver\u001b[0m\u001b[0;34m.\u001b[0m\u001b[0mChrome\u001b[0m\u001b[0;34m(\u001b[0m\u001b[0mexecutable_path\u001b[0m\u001b[0;34m=\u001b[0m\u001b[0;34m'./chromedriver'\u001b[0m\u001b[0;34m)\u001b[0m\u001b[0;34m\u001b[0m\u001b[0;34m\u001b[0m\u001b[0m\n\u001b[0m\u001b[1;32m      5\u001b[0m \u001b[0mdriver\u001b[0m\u001b[0;34m.\u001b[0m\u001b[0mget\u001b[0m\u001b[0;34m(\u001b[0m\u001b[0;34m\"http://www.python.org\"\u001b[0m\u001b[0;34m)\u001b[0m\u001b[0;34m\u001b[0m\u001b[0;34m\u001b[0m\u001b[0m\n\u001b[1;32m      6\u001b[0m \u001b[0melem\u001b[0m \u001b[0;34m=\u001b[0m \u001b[0mdriver\u001b[0m\u001b[0;34m.\u001b[0m\u001b[0mfind_element_by_name\u001b[0m\u001b[0;34m(\u001b[0m\u001b[0;34m\"q\"\u001b[0m\u001b[0;34m)\u001b[0m\u001b[0;34m\u001b[0m\u001b[0;34m\u001b[0m\u001b[0m\n",
      "\u001b[0;32m~/opt/anaconda3/envs/dstools/lib/python3.9/site-packages/selenium/webdriver/chrome/webdriver.py\u001b[0m in \u001b[0;36m__init__\u001b[0;34m(self, executable_path, port, options, service_args, desired_capabilities, service_log_path, chrome_options, keep_alive)\u001b[0m\n\u001b[1;32m     74\u001b[0m \u001b[0;34m\u001b[0m\u001b[0m\n\u001b[1;32m     75\u001b[0m         \u001b[0;32mtry\u001b[0m\u001b[0;34m:\u001b[0m\u001b[0;34m\u001b[0m\u001b[0;34m\u001b[0m\u001b[0m\n\u001b[0;32m---> 76\u001b[0;31m             RemoteWebDriver.__init__(\n\u001b[0m\u001b[1;32m     77\u001b[0m                 \u001b[0mself\u001b[0m\u001b[0;34m,\u001b[0m\u001b[0;34m\u001b[0m\u001b[0;34m\u001b[0m\u001b[0m\n\u001b[1;32m     78\u001b[0m                 command_executor=ChromeRemoteConnection(\n",
      "\u001b[0;32m~/opt/anaconda3/envs/dstools/lib/python3.9/site-packages/selenium/webdriver/remote/webdriver.py\u001b[0m in \u001b[0;36m__init__\u001b[0;34m(self, command_executor, desired_capabilities, browser_profile, proxy, keep_alive, file_detector, options)\u001b[0m\n\u001b[1;32m    155\u001b[0m             warnings.warn(\"Please use FirefoxOptions to set browser profile\",\n\u001b[1;32m    156\u001b[0m                           DeprecationWarning, stacklevel=2)\n\u001b[0;32m--> 157\u001b[0;31m         \u001b[0mself\u001b[0m\u001b[0;34m.\u001b[0m\u001b[0mstart_session\u001b[0m\u001b[0;34m(\u001b[0m\u001b[0mcapabilities\u001b[0m\u001b[0;34m,\u001b[0m \u001b[0mbrowser_profile\u001b[0m\u001b[0;34m)\u001b[0m\u001b[0;34m\u001b[0m\u001b[0;34m\u001b[0m\u001b[0m\n\u001b[0m\u001b[1;32m    158\u001b[0m         \u001b[0mself\u001b[0m\u001b[0;34m.\u001b[0m\u001b[0m_switch_to\u001b[0m \u001b[0;34m=\u001b[0m \u001b[0mSwitchTo\u001b[0m\u001b[0;34m(\u001b[0m\u001b[0mself\u001b[0m\u001b[0;34m)\u001b[0m\u001b[0;34m\u001b[0m\u001b[0;34m\u001b[0m\u001b[0m\n\u001b[1;32m    159\u001b[0m         \u001b[0mself\u001b[0m\u001b[0;34m.\u001b[0m\u001b[0m_mobile\u001b[0m \u001b[0;34m=\u001b[0m \u001b[0mMobile\u001b[0m\u001b[0;34m(\u001b[0m\u001b[0mself\u001b[0m\u001b[0;34m)\u001b[0m\u001b[0;34m\u001b[0m\u001b[0;34m\u001b[0m\u001b[0m\n",
      "\u001b[0;32m~/opt/anaconda3/envs/dstools/lib/python3.9/site-packages/selenium/webdriver/remote/webdriver.py\u001b[0m in \u001b[0;36mstart_session\u001b[0;34m(self, capabilities, browser_profile)\u001b[0m\n\u001b[1;32m    250\u001b[0m         parameters = {\"capabilities\": w3c_caps,\n\u001b[1;32m    251\u001b[0m                       \"desiredCapabilities\": capabilities}\n\u001b[0;32m--> 252\u001b[0;31m         \u001b[0mresponse\u001b[0m \u001b[0;34m=\u001b[0m \u001b[0mself\u001b[0m\u001b[0;34m.\u001b[0m\u001b[0mexecute\u001b[0m\u001b[0;34m(\u001b[0m\u001b[0mCommand\u001b[0m\u001b[0;34m.\u001b[0m\u001b[0mNEW_SESSION\u001b[0m\u001b[0;34m,\u001b[0m \u001b[0mparameters\u001b[0m\u001b[0;34m)\u001b[0m\u001b[0;34m\u001b[0m\u001b[0;34m\u001b[0m\u001b[0m\n\u001b[0m\u001b[1;32m    253\u001b[0m         \u001b[0;32mif\u001b[0m \u001b[0;34m'sessionId'\u001b[0m \u001b[0;32mnot\u001b[0m \u001b[0;32min\u001b[0m \u001b[0mresponse\u001b[0m\u001b[0;34m:\u001b[0m\u001b[0;34m\u001b[0m\u001b[0;34m\u001b[0m\u001b[0m\n\u001b[1;32m    254\u001b[0m             \u001b[0mresponse\u001b[0m \u001b[0;34m=\u001b[0m \u001b[0mresponse\u001b[0m\u001b[0;34m[\u001b[0m\u001b[0;34m'value'\u001b[0m\u001b[0;34m]\u001b[0m\u001b[0;34m\u001b[0m\u001b[0;34m\u001b[0m\u001b[0m\n",
      "\u001b[0;32m~/opt/anaconda3/envs/dstools/lib/python3.9/site-packages/selenium/webdriver/remote/webdriver.py\u001b[0m in \u001b[0;36mexecute\u001b[0;34m(self, driver_command, params)\u001b[0m\n\u001b[1;32m    319\u001b[0m         \u001b[0mresponse\u001b[0m \u001b[0;34m=\u001b[0m \u001b[0mself\u001b[0m\u001b[0;34m.\u001b[0m\u001b[0mcommand_executor\u001b[0m\u001b[0;34m.\u001b[0m\u001b[0mexecute\u001b[0m\u001b[0;34m(\u001b[0m\u001b[0mdriver_command\u001b[0m\u001b[0;34m,\u001b[0m \u001b[0mparams\u001b[0m\u001b[0;34m)\u001b[0m\u001b[0;34m\u001b[0m\u001b[0;34m\u001b[0m\u001b[0m\n\u001b[1;32m    320\u001b[0m         \u001b[0;32mif\u001b[0m \u001b[0mresponse\u001b[0m\u001b[0;34m:\u001b[0m\u001b[0;34m\u001b[0m\u001b[0;34m\u001b[0m\u001b[0m\n\u001b[0;32m--> 321\u001b[0;31m             \u001b[0mself\u001b[0m\u001b[0;34m.\u001b[0m\u001b[0merror_handler\u001b[0m\u001b[0;34m.\u001b[0m\u001b[0mcheck_response\u001b[0m\u001b[0;34m(\u001b[0m\u001b[0mresponse\u001b[0m\u001b[0;34m)\u001b[0m\u001b[0;34m\u001b[0m\u001b[0;34m\u001b[0m\u001b[0m\n\u001b[0m\u001b[1;32m    322\u001b[0m             response['value'] = self._unwrap_value(\n\u001b[1;32m    323\u001b[0m                 response.get('value', None))\n",
      "\u001b[0;32m~/opt/anaconda3/envs/dstools/lib/python3.9/site-packages/selenium/webdriver/remote/errorhandler.py\u001b[0m in \u001b[0;36mcheck_response\u001b[0;34m(self, response)\u001b[0m\n\u001b[1;32m    240\u001b[0m                 \u001b[0malert_text\u001b[0m \u001b[0;34m=\u001b[0m \u001b[0mvalue\u001b[0m\u001b[0;34m[\u001b[0m\u001b[0;34m'alert'\u001b[0m\u001b[0;34m]\u001b[0m\u001b[0;34m.\u001b[0m\u001b[0mget\u001b[0m\u001b[0;34m(\u001b[0m\u001b[0;34m'text'\u001b[0m\u001b[0;34m)\u001b[0m\u001b[0;34m\u001b[0m\u001b[0;34m\u001b[0m\u001b[0m\n\u001b[1;32m    241\u001b[0m             \u001b[0;32mraise\u001b[0m \u001b[0mexception_class\u001b[0m\u001b[0;34m(\u001b[0m\u001b[0mmessage\u001b[0m\u001b[0;34m,\u001b[0m \u001b[0mscreen\u001b[0m\u001b[0;34m,\u001b[0m \u001b[0mstacktrace\u001b[0m\u001b[0;34m,\u001b[0m \u001b[0malert_text\u001b[0m\u001b[0;34m)\u001b[0m\u001b[0;34m\u001b[0m\u001b[0;34m\u001b[0m\u001b[0m\n\u001b[0;32m--> 242\u001b[0;31m         \u001b[0;32mraise\u001b[0m \u001b[0mexception_class\u001b[0m\u001b[0;34m(\u001b[0m\u001b[0mmessage\u001b[0m\u001b[0;34m,\u001b[0m \u001b[0mscreen\u001b[0m\u001b[0;34m,\u001b[0m \u001b[0mstacktrace\u001b[0m\u001b[0;34m)\u001b[0m\u001b[0;34m\u001b[0m\u001b[0;34m\u001b[0m\u001b[0m\n\u001b[0m\u001b[1;32m    243\u001b[0m \u001b[0;34m\u001b[0m\u001b[0m\n\u001b[1;32m    244\u001b[0m     \u001b[0;32mdef\u001b[0m \u001b[0m_value_or_default\u001b[0m\u001b[0;34m(\u001b[0m\u001b[0mself\u001b[0m\u001b[0;34m,\u001b[0m \u001b[0mobj\u001b[0m\u001b[0;34m,\u001b[0m \u001b[0mkey\u001b[0m\u001b[0;34m,\u001b[0m \u001b[0mdefault\u001b[0m\u001b[0;34m)\u001b[0m\u001b[0;34m:\u001b[0m\u001b[0;34m\u001b[0m\u001b[0;34m\u001b[0m\u001b[0m\n",
      "\u001b[0;31mSessionNotCreatedException\u001b[0m: Message: session not created: This version of ChromeDriver only supports Chrome version 91\nCurrent browser version is 99.0.4844.83 with binary path /Applications/Google Chrome.app/Contents/MacOS/Google Chrome\n"
     ]
    }
   ],
   "source": [
    "from selenium import webdriver\n",
    "from selenium.webdriver.common.keys import Keys\n",
    "\n",
    "driver = webdriver.Chrome(executable_path='./chromedriver')\n",
    "driver.get(\"http://www.python.org\")\n",
    "elem = driver.find_element_by_name(\"q\")\n",
    "elem.clear()\n",
    "elem.send_keys(\"pycon\")\n",
    "elem.send_keys(Keys.RETURN)\n",
    "driver.close()"
   ]
  },
  {
   "cell_type": "markdown",
   "id": "94b0d678",
   "metadata": {},
   "source": [
    "<div style=\"padding: 10px; border: 2px black solid;\">\n",
    "\n",
    "## <font color='green'>New Tool Alert:</font> Selenium\n",
    "<img src=\"https://camo.githubusercontent.com/74ed64243ba05754329bc527cd4240ebd1c087a1/68747470733a2f2f73656c656e69756d2e6465762f696d616765732f73656c656e69756d5f6c6f676f5f7371756172655f677265656e2e706e67\" alt=\"Selenium\" style=\"width: 200px;\"/> \n",
    "    \n",
    "**What is it**: It's a tool used to scrape data from the web which lets you automate the operations of your browser\n",
    "\n",
    "**Why use it**: A lot of information remains locked in websites and is only updated there without being available in a easy to use format. Selenium lets us get access to that info and turn it into usable data.\n",
    "\n",
    "**Download**: Follow instructions [here](https://selenium-python.readthedocs.io/) to set it up.\n",
    "\n",
    "**Resources**: Cheat sheet [here](https://ivantay2003.medium.com/selenium-cheat-sheet-in-python-87221ee06c83)\n",
    "    \n",
    "**Notes**: Users on MacOS will need to do to an additional step to be able to use the driver downloaded from above, which is to mark the file as safe by using the command ```xattr -d com.apple.quarantine name-of-file ```\n",
    "    \n",
    "</div>"
   ]
  },
  {
   "cell_type": "markdown",
   "id": "554a4a40",
   "metadata": {},
   "source": [
    "If selenium is set up, this should launch your browser to python's website, and search for the words pycon."
   ]
  },
  {
   "cell_type": "markdown",
   "id": "1eddce9d",
   "metadata": {},
   "source": [
    "Now that we know things are working, let's go to our real example."
   ]
  },
  {
   "cell_type": "code",
   "execution_count": null,
   "id": "bbc8a8d0",
   "metadata": {},
   "outputs": [],
   "source": [
    "url = \"https://www.ontario.ca/page/how-ontario-is-responding-covid-19\"\n",
    "driver = webdriver.Chrome(executable_path='./chromedriver')\n",
    "driver.get(url)"
   ]
  },
  {
   "cell_type": "markdown",
   "id": "1ebb099a",
   "metadata": {},
   "source": [
    "This should open a new chromium page and navigate it to our data source. Now we use the xpath of the table of interest to get the specific element on the page and we save its html content to a variable"
   ]
  },
  {
   "cell_type": "code",
   "execution_count": null,
   "id": "53078d3f",
   "metadata": {},
   "outputs": [],
   "source": [
    "element = driver.find_element_by_xpath('//*[@id=\"pagebody\"]/table[1]')\n",
    "element_html = element.get_attribute('outerHTML')\n",
    "driver.close()"
   ]
  },
  {
   "cell_type": "markdown",
   "id": "f10b9def",
   "metadata": {},
   "source": [
    "The next library we will be using today is called pandas. Pandas is the go to data manipulation and wrangling library for python"
   ]
  },
  {
   "cell_type": "code",
   "execution_count": null,
   "id": "22bcada4",
   "metadata": {},
   "outputs": [],
   "source": [
    "import pandas as pd\n",
    "\n",
    "df = pd.read_html(element_html)[0]\n",
    "df.head()"
   ]
  },
  {
   "cell_type": "markdown",
   "id": "433eca89",
   "metadata": {},
   "source": [
    "<div style=\"padding: 10px; border: 2px black solid;\">\n",
    "\n",
    "## <font color='green'>New Tool Alert:</font> Pandas\n",
    "\n",
    "<img src=\"https://upload.wikimedia.org/wikipedia/commons/thumb/e/ed/Pandas_logo.svg/1200px-Pandas_logo.svg.png\" alt=\"Selenium\" style=\"height: 200px;\"/>\n",
    "\n",
    "**What is it**: Pandas is a python library for data manipulation and analysis. It is the de facto library for data manipulation in python.\n",
    "\n",
    "**Why use it**: It's extremely powerful. It lets you read in a variety of dataformats and data sources, aggregate, transform, and combine data. \n",
    "\n",
    "**Download**: Install it by using pip ```pip install pandas```\n",
    "\n",
    "**Resources**: Cheat sheet [here](https://ainfographics.files.wordpress.com/2017/10/python-pandas-cheat-sheet.png)\n",
    "    \n",
    "</div>"
   ]
  },
  {
   "cell_type": "markdown",
   "id": "250b98a2",
   "metadata": {},
   "source": [
    "Now that we have our table of interest we can just save it to file, so we can start to keep track of cases daily. "
   ]
  },
  {
   "cell_type": "code",
   "execution_count": null,
   "id": "af8dd16c",
   "metadata": {},
   "outputs": [],
   "source": [
    "df.to_csv('cases-july-17-2021.csv',index=False)"
   ]
  },
  {
   "cell_type": "markdown",
   "id": "492c12b9",
   "metadata": {},
   "source": [
    "### Official Data Source"
   ]
  },
  {
   "cell_type": "markdown",
   "id": "02d62a1a",
   "metadata": {},
   "source": [
    "The main dataset we will be using is from [here](https://data.ontario.ca/en/dataset/confirmed-positive-cases-of-covid-19-in-ontario)."
   ]
  },
  {
   "cell_type": "code",
   "execution_count": null,
   "id": "42ee5e1e",
   "metadata": {},
   "outputs": [],
   "source": [
    "url = \"https://data.ontario.ca/dataset/f4112442-bdc8-45d2-be3c-12efae72fb27/resource/455fd63b-603d-4608-8216-7d8647f43350/download/conposcovidloc.csv\"\n",
    "all_cases = pd.read_csv(url)"
   ]
  },
  {
   "cell_type": "code",
   "execution_count": null,
   "id": "ae286b49",
   "metadata": {},
   "outputs": [],
   "source": [
    "all_cases.head()"
   ]
  },
  {
   "cell_type": "markdown",
   "id": "9a24aa4b",
   "metadata": {},
   "source": [
    "## Data Understanding"
   ]
  },
  {
   "cell_type": "code",
   "execution_count": null,
   "id": "8217979e",
   "metadata": {},
   "outputs": [],
   "source": [
    "all_cases.head()"
   ]
  },
  {
   "cell_type": "code",
   "execution_count": null,
   "id": "71a35575",
   "metadata": {},
   "outputs": [],
   "source": [
    "all_cases.info()"
   ]
  },
  {
   "cell_type": "code",
   "execution_count": null,
   "id": "f521b625",
   "metadata": {},
   "outputs": [],
   "source": [
    "all_cases['Age_Group'].value_counts()"
   ]
  },
  {
   "cell_type": "code",
   "execution_count": null,
   "id": "70cb310b",
   "metadata": {},
   "outputs": [],
   "source": [
    "all_cases['Client_Gender'].value_counts()"
   ]
  },
  {
   "cell_type": "code",
   "execution_count": null,
   "id": "748233f2",
   "metadata": {},
   "outputs": [],
   "source": [
    "all_cases['Outcome1'].value_counts()"
   ]
  },
  {
   "cell_type": "code",
   "execution_count": null,
   "id": "f94e5dfd",
   "metadata": {},
   "outputs": [],
   "source": [
    "all_cases['Outbreak_Related'].value_counts()"
   ]
  },
  {
   "cell_type": "markdown",
   "id": "2a987558",
   "metadata": {},
   "source": [
    "## Data Preparation"
   ]
  },
  {
   "cell_type": "code",
   "execution_count": null,
   "id": "3c9b7f72",
   "metadata": {},
   "outputs": [],
   "source": [
    "agg = all_cases.groupby(['Accurate_Episode_Date'])['Row_ID'].count().to_frame().reset_index()\n",
    "agg['Accurate_Episode_Date'] = pd.to_datetime(agg['Accurate_Episode_Date'])\n",
    "agg.tail()"
   ]
  },
  {
   "cell_type": "markdown",
   "id": "5f7b192e",
   "metadata": {},
   "source": [
    "Next. Let's visualize the data to make sure our aggregation worked as expected"
   ]
  },
  {
   "cell_type": "code",
   "execution_count": null,
   "id": "be2c455a",
   "metadata": {},
   "outputs": [],
   "source": [
    "import matplotlib.pyplot as plt\n",
    "import matplotlib.dates as mdates\n",
    "import matplotlib.cbook as cbook\n",
    "\n",
    "fig = plt.figure()\n",
    "ax = plt.axes()\n",
    "\n",
    "x = agg['Accurate_Episode_Date']\n",
    "y = agg['Row_ID']\n",
    "ax.plot(x, y)\n",
    "\n",
    "# Major ticks every 6 months.\n",
    "fmt_half_year = mdates.MonthLocator(interval=6)\n",
    "ax.xaxis.set_major_locator(fmt_half_year)\n",
    "\n",
    "# Minor ticks every month.\n",
    "fmt_month = mdates.MonthLocator()\n",
    "ax.xaxis.set_minor_locator(fmt_month)\n",
    "\n",
    "# Text in the x axis will be displayed in 'YYYY-mm' format.\n",
    "ax.xaxis.set_major_formatter(mdates.DateFormatter('%Y-%m'))\n",
    "\n",
    "plt.title(\"Number of cases over time\")"
   ]
  },
  {
   "cell_type": "markdown",
   "id": "9ca9260d",
   "metadata": {},
   "source": [
    "<div style=\"padding: 10px; border: 2px black solid;\">\n",
    "\n",
    "## <font color='green'>New Tool Alert:</font> Matplotlib\n",
    "\n",
    "<img src=\"https://matplotlib.org/_static/logo2_compressed.svg\" alt=\"Matplotlib\" style=\"height: 200px;\"/>\n",
    "\n",
    "**What is it**: Matplotlib is a python library for plotting and data visualization. \n",
    "\n",
    "**Why use it**: It's free and open source and extremely customizable. \n",
    "\n",
    "**Download**: Install it by using pip ```pip install matplotlib```\n",
    "\n",
    "**Resources**: Cheat sheet [here](https://raw.githubusercontent.com/matplotlib/cheatsheets/master/cheatsheets-1.png)\n",
    "    \n",
    "</div>"
   ]
  },
  {
   "cell_type": "markdown",
   "id": "2c4738dd",
   "metadata": {},
   "source": [
    "We have a timeseries problem. Let's get the data in shape for it. Let's drop any data in 2019 as the tail is not going to be as relevant for predicting the most recent data. "
   ]
  },
  {
   "cell_type": "code",
   "execution_count": null,
   "id": "d373a374",
   "metadata": {},
   "outputs": [],
   "source": [
    "agg.head()"
   ]
  },
  {
   "cell_type": "code",
   "execution_count": null,
   "id": "87be8c98",
   "metadata": {},
   "outputs": [],
   "source": [
    "agg.tail()"
   ]
  },
  {
   "cell_type": "code",
   "execution_count": null,
   "id": "51ebce5f",
   "metadata": {},
   "outputs": [],
   "source": [
    "agg = agg.drop(agg.loc[agg.Accurate_Episode_Date < '2020-01-01'].index)"
   ]
  },
  {
   "cell_type": "code",
   "execution_count": null,
   "id": "f7661762",
   "metadata": {},
   "outputs": [],
   "source": [
    "agg.head()"
   ]
  },
  {
   "cell_type": "code",
   "execution_count": null,
   "id": "018bc5d3",
   "metadata": {},
   "outputs": [],
   "source": [
    "agg['t-1'] = agg['Row_ID'].shift(1)\n",
    "agg['t-2'] = agg['Row_ID'].shift(2)\n",
    "agg['t-3'] = agg['Row_ID'].shift(3)\n",
    "agg['t-4'] = agg['Row_ID'].shift(4)\n",
    "agg['t-5'] = agg['Row_ID'].shift(5)\n",
    "agg['t-6'] = agg['Row_ID'].shift(6)\n",
    "agg['t-7'] = agg['Row_ID'].shift(7)\n",
    "agg['t'] = agg['Row_ID']"
   ]
  },
  {
   "cell_type": "code",
   "execution_count": null,
   "id": "a9e25e54",
   "metadata": {},
   "outputs": [],
   "source": [
    "agg.head(14)"
   ]
  },
  {
   "cell_type": "code",
   "execution_count": null,
   "id": "24ddc7c8",
   "metadata": {},
   "outputs": [],
   "source": [
    "agg.dropna(how='any',inplace=True)"
   ]
  },
  {
   "cell_type": "code",
   "execution_count": null,
   "id": "fa915e8e",
   "metadata": {},
   "outputs": [],
   "source": [
    "agg.head()"
   ]
  },
  {
   "cell_type": "code",
   "execution_count": null,
   "id": "6a14caf2",
   "metadata": {},
   "outputs": [],
   "source": [
    "agg.tail()"
   ]
  },
  {
   "cell_type": "code",
   "execution_count": null,
   "id": "7b81cbd1",
   "metadata": {},
   "outputs": [],
   "source": [
    "x = agg[['t-1','t-2','t-3','t-4','t-5','t-6','t-7']]\n",
    "y = agg['t']\n",
    "\n",
    "test_size = 0.3\n",
    "dataset_size = len(agg)\n",
    "test_index = int(test_size * dataset_size)\n",
    "\n",
    "\n",
    "x_train, x_test, y_train, y_test = x[:test_index], x[test_index:], y[:test_index], y[test_index:]"
   ]
  },
  {
   "cell_type": "code",
   "execution_count": null,
   "id": "b44e6582",
   "metadata": {},
   "outputs": [],
   "source": [
    "x.shape"
   ]
  },
  {
   "cell_type": "code",
   "execution_count": null,
   "id": "937069d7",
   "metadata": {},
   "outputs": [],
   "source": [
    "y.shape"
   ]
  },
  {
   "cell_type": "code",
   "execution_count": null,
   "id": "43c772e6",
   "metadata": {},
   "outputs": [],
   "source": [
    "x_train.head()"
   ]
  },
  {
   "cell_type": "code",
   "execution_count": null,
   "id": "7c794d2e",
   "metadata": {},
   "outputs": [],
   "source": [
    "y_train.head()"
   ]
  },
  {
   "cell_type": "markdown",
   "id": "042e874e",
   "metadata": {},
   "source": [
    "## Modelling and Evaluation"
   ]
  },
  {
   "cell_type": "code",
   "execution_count": null,
   "id": "1528cf3b",
   "metadata": {},
   "outputs": [],
   "source": [
    "from sklearn.ensemble import RandomForestRegressor\n",
    "from sklearn.metrics import mean_absolute_error\n",
    "\n",
    "\n",
    "regr = RandomForestRegressor()\n",
    "regr.fit(x_train,y_train)\n",
    "y_pred = regr.predict(x_test)\n",
    "mean_absolute_error(y_test,y_pred)"
   ]
  },
  {
   "cell_type": "code",
   "execution_count": null,
   "id": "b8782128",
   "metadata": {},
   "outputs": [],
   "source": [
    "from sklearn.linear_model import LinearRegression\n",
    "\n",
    "regr = LinearRegression()\n",
    "regr.fit(x_train,y_train)\n",
    "y_pred = regr.predict(x_test)\n",
    "mean_absolute_error(y_test,y_pred)"
   ]
  },
  {
   "cell_type": "code",
   "execution_count": null,
   "id": "7698d237",
   "metadata": {},
   "outputs": [],
   "source": [
    "from sklearn.linear_model import Lasso\n",
    "\n",
    "regr = Lasso()\n",
    "regr.fit(x_train,y_train)\n",
    "y_pred = regr.predict(x_test)\n",
    "mean_absolute_error(y_test,y_pred)"
   ]
  },
  {
   "cell_type": "code",
   "execution_count": null,
   "id": "1f0a8144",
   "metadata": {},
   "outputs": [],
   "source": [
    "from sklearn.linear_model import Ridge\n",
    "\n",
    "regr = Ridge()\n",
    "regr.fit(x_train,y_train)\n",
    "y_pred = regr.predict(x_test)\n",
    "mean_absolute_error(y_test,y_pred)"
   ]
  },
  {
   "cell_type": "code",
   "execution_count": null,
   "id": "99b26423",
   "metadata": {},
   "outputs": [],
   "source": [
    "from sklearn.svm import SVR\n",
    "\n",
    "regr = SVR(kernel='rbf')\n",
    "regr.fit(x_train,y_train)\n",
    "y_pred = regr.predict(x_test)\n",
    "mean_absolute_error(y_test,y_pred)"
   ]
  },
  {
   "cell_type": "markdown",
   "id": "3eb13c52",
   "metadata": {},
   "source": [
    "<div style=\"padding: 10px; border: 2px black solid;\">\n",
    "\n",
    "## <font color='green'>New Tool Alert:</font> Scikit-Learn\n",
    "\n",
    "<img src=\"https://upload.wikimedia.org/wikipedia/commons/thumb/0/05/Scikit_learn_logo_small.svg/1200px-Scikit_learn_logo_small.svg.png\" alt=\"Sklearn\" style=\"height: 200px;\"/>\n",
    "\n",
    "**What is it**: Scikit-Learn is a python library for machine learning. \n",
    "\n",
    "**Why use it**:  It has various classification, regression and clustering algorithms and is designed to run efficiently. \n",
    "\n",
    "**Download**: Install it by using pip ```pip install sklearn```\n",
    "\n",
    "**Resources**: Library cheat sheet [here](https://d1jnx9ba8s6j9r.cloudfront.net/blog/wp-content/uploads/2018/09/Python-Cheat-Sheet-for-Scikit-learn-Edureka.pdf?utm_source=blog&utm_medium=cheat-sheet&utm_campaign=Scikit-Cheat-Sheet-28-09-2018-AH). Model selection cheat sheet [here](https://scikit-learn.org/stable/_static/ml_map.png)\n",
    "    \n",
    "</div>"
   ]
  },
  {
   "cell_type": "markdown",
   "id": "bc936b6c",
   "metadata": {},
   "source": [
    "## Deployment"
   ]
  },
  {
   "cell_type": "markdown",
   "id": "ba05f64a",
   "metadata": {},
   "source": [
    "Now that you have a model you have to figure out how you want to present the results and deploy it into production. This could be in the form of a visualization in tableau or powerbi, it could be in the form of an email to your boss that gets sent every day, the numbers itself could be displayed live on a site or so much more. "
   ]
  },
  {
   "cell_type": "markdown",
   "id": "0f91ea58",
   "metadata": {},
   "source": [
    "Depending on the use case, it may make sense to deploy the model into the cloud and let it run there automatically. Below I will introduce a few more tools for you to be aware of"
   ]
  },
  {
   "cell_type": "markdown",
   "id": "2a079547",
   "metadata": {},
   "source": [
    "<div style=\"padding: 10px; border: 2px black solid;\">\n",
    "\n",
    "## <font color='green'>New Tool Alert:</font> Docker\n",
    "\n",
    "<img src=\"https://logos-world.net/wp-content/uploads/2021/02/Docker-Symbol.png\" alt=\"Sklearn\" style=\"height: 200px;\"/>\n",
    "\n",
    "**What is it**: Containerization tool mainly used for shipping and running applications quickly across different platforms\n",
    "\n",
    "**Why use it**:  Four main advantages:\n",
    "* Isolation: It helps us create an environment agnostic system. Your application runs smoothly on different platforms. This is essentially achieved using containers. \n",
    "* Portability: Since all of your dependencies are in the same container, it’s easy to carry from one place to another giving Docker its portability.\n",
    "* Lightweight: Runs as another application on your system instead of consuming whole lot resources of your system.\n",
    "* Robustness: Less demanding in terms of hardware and needs very little memory as compared to VMs, hence providing efficient isolation levels which help save not only the cost but also time.\n",
    "\n",
    "**Download**: Download it from [here](https://docs.docker.com/get-docker/)\n",
    "\n",
    "**Resources**: Cheat sheet [here](https://www.docker.com/sites/default/files/d8/2019-09/docker-cheat-sheet.pdf)\n",
    "    \n",
    "</div>"
   ]
  },
  {
   "cell_type": "markdown",
   "id": "5256e711",
   "metadata": {},
   "source": [
    "You can see that there in the deploy folder, key aspects of the code have been moved over to a ```deploy.py``` foldere. Furthermore there is a new file called a ```Dockerfile``` that specifies the instructions for running the deploy file. If you have docker installed locally, you can try to build the image using the ```docker build -t dstools:1.0 .``` command and then run it using ```docker container run --name myimage``` "
   ]
  },
  {
   "cell_type": "markdown",
   "id": "a943fd6e",
   "metadata": {},
   "source": [
    "This docker folder can now be run on the cloud, someone else's computer or anywhere that has docker installed. If you want to deploy your own model, you can use a cloud infrastructure provider such as AWS, GCP, or Azure or use a platform as a service provider such as Heroku."
   ]
  }
 ],
 "metadata": {
  "kernelspec": {
   "display_name": "Python 3",
   "language": "python",
   "name": "python3"
  },
  "language_info": {
   "codemirror_mode": {
    "name": "ipython",
    "version": 3
   },
   "file_extension": ".py",
   "mimetype": "text/x-python",
   "name": "python",
   "nbconvert_exporter": "python",
   "pygments_lexer": "ipython3",
   "version": "3.9.5"
  }
 },
 "nbformat": 4,
 "nbformat_minor": 5
}
